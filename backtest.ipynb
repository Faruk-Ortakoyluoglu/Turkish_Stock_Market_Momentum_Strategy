{
 "cells": [
  {
   "cell_type": "code",
   "execution_count": 1,
   "id": "899b309c",
   "metadata": {},
   "outputs": [],
   "source": [
    "import pandas as pd\n",
    "import plotly.graph_objects as go\n",
    "from plotly.subplots import make_subplots\n",
    "import plotly.io as pio"
   ]
  },
  {
   "cell_type": "code",
   "execution_count": 2,
   "id": "1769dc4b",
   "metadata": {},
   "outputs": [],
   "source": [
    "bist500 = [\n",
    "\"BINHO.IS\",\n",
    "\"AVOD.IS\",\"A1CAP.IS\",\"ACSEL.IS\",\"ADEL.IS\",\"ADESE.IS\",\"ADGYO.IS\",\"AFYON.IS\",\"AGHOL.IS\",\"AGESA.IS\",\"AGROT.IS\",\"AHSGY.IS\",\"AHGAZ.IS\",\"AKBNK.IS\",\n",
    "\"AKCNS.IS\",\"AKENR.IS\",\"AKFGY.IS\",\"AKFIS.IS\",\"AKFYE.IS\",\"AKSGY.IS\",\"AKSA.IS\",\"AKSEN.IS\",\"AKGRT.IS\",\"ALCAR.IS\",\"ALGYO.IS\",\"ALARK.IS\",\"ALBRK.IS\",\n",
    "\"ALCTL.IS\",\"ALFAS.IS\",\"ALKIM.IS\",\"ALKA.IS\",\"ALTNY.IS\",\"ALKLC.IS\",\"AYCES.IS\",\"ALVES.IS\",\"ANSGR.IS\",\"AEFES.IS\",\"ANHYT.IS\",\"ASUZU.IS\",\"ANGEN.IS\",\n",
    "\"ANELE.IS\",\"ARCLK.IS\",\"ARDYZ.IS\",\"ARENA.IS\",\"ARMGD.IS\",\"ARSAN.IS\",\"ARTMS.IS\",\"ARZUM.IS\",\"ASGYO.IS\",\"ASELS.IS\",\"ASTOR.IS\",\"ATAKP.IS\",\"ATATP.IS\",\n",
    "\"AVPGY.IS\",\"AVHOL.IS\",\"AYDEM.IS\",\"AYEN.IS\",\"AYGAZ.IS\",\"AZTEK.IS\",\"BAGFS.IS\",\"BAHKM.IS\",\"BAKAB.IS\",\"BALSU.IS\",\"BNTAS.IS\",\"BANVT.IS\",\"BARMA.IS\",\n",
    "\"BASGZ.IS\",\"BTCIM.IS\",\"BEGYO.IS\",\"BSOKE.IS\",\"BYDNR.IS\",\"BAYRK.IS\",\"BERA.IS\",\"BJKAS.IS\",\"BEYAZ.IS\",\"BIENY.IS\",\"BLCYT.IS\",\"BIMAS.IS\",\"BINBN.IS\",\n",
    "\"BIOEN.IS\",\"BRKVY.IS\",\"BIGEN.IS\",\"BRLSM.IS\",\"BIZIM.IS\",\"BMSTL.IS\",\"BMSCH.IS\",\"BOBET.IS\",\"BORLS.IS\",\"BORSK.IS\",\"BRSAN.IS\",\"BRYAT.IS\",\"BFREN.IS\",\n",
    "\"BOSSA.IS\",\"BRISA.IS\",\"BULGS.IS\",\"BURCE.IS\",\"BUCIM.IS\",\"BVSAN.IS\",\"BIGCH.IS\",\"CRFSA.IS\",\"CEMZY.IS\",\"CEOEM.IS\",\"CCOLA.IS\",\"CONSE.IS\",\"CVKMD.IS\",\n",
    "\"CWENE.IS\",\"CGCAM.IS\",\"CANTE.IS\",\"CATES.IS\",\"CLEBI.IS\",\"CELHA.IS\",\"CEMAS.IS\",\"CEMTS.IS\",\"CUSAN.IS\",\"DAGI.IS\",\"DAPGM.IS\",\n",
    "\"DARDL.IS\",\"DGATE.IS\",\"DCTTR.IS\",\"DMSAS.IS\",\"DENGE.IS\",\"DZGYO.IS\",\"DERIM.IS\",\"DERHL.IS\",\"DESA.IS\",\"DESPC.IS\",\"DSTKF.IS\",\"DEVA.IS\",\"DNISI.IS\",\n",
    "\"DITAS.IS\",\"DMRGD.IS\",\"DOCO.IS\",\"DOFER.IS\",\"DOBUR.IS\",\"DGNMO.IS\",\"DOHOL.IS\",\"ARASE.IS\",\"DOAS.IS\",\"DOKTA.IS\",\"DURDO.IS\",\"DURKN.IS\",\"DYOBY.IS\",\n",
    "\"EBEBK.IS\",\"ECZYT.IS\",\"EDATA.IS\",\"EDIP.IS\",\"EFORC.IS\",\"EGEEN.IS\",\"EGGUB.IS\",\"EPLAS.IS\",\"EGPRO.IS\",\"EGSER.IS\",\"EGEGY.IS\",\"ECILC.IS\",\"EKOS.IS\",\n",
    "\"EKSUN.IS\",\"ELITE.IS\",\"EMKEL.IS\",\"EKGYO.IS\",\"ENDAE.IS\",\"ENJSA.IS\",\"ENERY.IS\",\"ENKAI.IS\",\"ENSRI.IS\",\"ERBOS.IS\",\"ERCB.IS\",\"EREGL.IS\",\"KIMMR.IS\",\n",
    "\"ESCAR.IS\",\"ESCOM.IS\",\"ESEN.IS\",\"ETILR.IS\",\"TEZOL.IS\",\"EUREN.IS\",\"EUPWR.IS\",\"EYGYO.IS\",\"FADE.IS\",\"FMIZP.IS\",\"FENER.IS\",\"FLAP.IS\",\"FONET.IS\",\n",
    "\"FROTO.IS\",\"FORMT.IS\",\"FORTE.IS\",\"FRIGO.IS\",\"FZLGY.IS\",\"GSRAY.IS\",\"GWIND.IS\",\"GARFA.IS\",\"GEDIK.IS\",\"GEDZA.IS\",\"GLCVY.IS\",\"GENIL.IS\",\"GENTS.IS\",\n",
    "\"GEREL.IS\",\"GZNMI.IS\",\"GIPTA.IS\",\"GMTAS.IS\",\"GESAN.IS\",\"GLYHO.IS\",\"GOODY.IS\",\"GOKNR.IS\",\"GOLTS.IS\",\"GOZDE.IS\",\"GRTHO.IS\",\"GSDDE.IS\",\"GSDHO.IS\",\n",
    "\"GUBRF.IS\",\"GLRMK.IS\",\"GLRYH.IS\",\"GUNDG.IS\",\"GRSEL.IS\",\"SAHOL.IS\",\"HLGYO.IS\",\"HRKET.IS\",\"HATSN.IS\",\"HDFGS.IS\",\"HEDEF.IS\",\"HEKTS.IS\",\"HKTM.IS\",\n",
    "\"HTTBT.IS\",\"HOROZ.IS\",\"HUNER.IS\",\"HURGZ.IS\",\"ICBCT.IS\",\"ENTRA.IS\",\"ICUGS.IS\",\"INGRM.IS\",\"INVEO.IS\",\"INVES.IS\",\"IEYHO.IS\",\"ISKPL.IS\",\"IHEVA.IS\",\n",
    "\"IHLGM.IS\",\"IHGZT.IS\",\"IHAAS.IS\",\"IHLAS.IS\",\"IHYAY.IS\",\"IMASM.IS\",\"INDES.IS\",\"INFO.IS\",\"INTEM.IS\",\"IPEKE.IS\",\"ISDMR.IS\",\"ISSEN.IS\",\"ISFIN.IS\",\n",
    "\"ISGYO.IS\",\"ISGSY.IS\",\"ISMEN.IS\",\"IZENR.IS\",\"IZMDC.IS\",\"IZFAS.IS\",\"JANTS.IS\",\"KFEIN.IS\",\"KLKIM.IS\",\"KLSER.IS\",\"KLYPV.IS\",\"KAPLM.IS\",\"KRDMD.IS\",\n",
    "\"KAREL.IS\",\"KARSN.IS\",\"KRTEK.IS\",\"KARYE.IS\",\"KARTN.IS\",\"KTLEV.IS\",\"KATMR.IS\",\"KAYSE.IS\",\"KERVT.IS\",\"KRVGD.IS\",\"TCKRC.IS\",\"KZBGY.IS\",\"KLGYO.IS\",\n",
    "\"KLRHO.IS\",\"KMPUR.IS\",\"KLMSN.IS\",\"KCAER.IS\",\"KCHOL.IS\",\"KOCMT.IS\",\"KLSYN.IS\",\"KNFRT.IS\",\"KONTR.IS\",\"KONYA.IS\",\"KONKA.IS\",\"KGYO.IS\",\"KORDS.IS\",\n",
    "\"KRPLS.IS\",\"KOTON.IS\",\"KOZAL.IS\",\"KOZAA.IS\",\"KOPOL.IS\",\"KRGYO.IS\",\"KRSTL.IS\",\"KRONT.IS\",\"KUYAS.IS\",\"KBORU.IS\",\"KZGYO.IS\",\"KUTPO.IS\",\"KTSKR.IS\",\n",
    "\"LIDER.IS\",\"LIDFA.IS\",\"LILAK.IS\",\"LMKDC.IS\",\"LINK.IS\",\"LOGO.IS\",\"LKMNH.IS\",\"LRSHO.IS\",\"LUKSK.IS\",\"LYDHO.IS\",\"LYDYE.IS\",\"MACKO.IS\",\"MAKIM.IS\",\n",
    "\"MAKTK.IS\",\"MANAS.IS\",\"MAGEN.IS\",\"MARKA.IS\",\"MAALT.IS\",\"MRSHL.IS\",\"MRGYO.IS\",\"MARTI.IS\",\"MTRKS.IS\",\"MAVI.IS\",\"MEDTR.IS\",\"MEGMT.IS\",\"MEKAG.IS\",\n",
    "\"MNDRS.IS\",\"MERCN.IS\",\"MERIT.IS\",\"MERKO.IS\",\"METUR.IS\",\"METRO.IS\",\"MHRGY.IS\",\"MIATK.IS\",\"MGROS.IS\",\"MSGYO.IS\",\"MPARK.IS\",\"MOBTL.IS\",\"MOGAN.IS\",\n",
    "\"MNDTR.IS\",\"MOPAS.IS\",\"EGEPO.IS\",\"NTGAZ.IS\",\"NATEN.IS\",\"NETAS.IS\",\"NTHOL.IS\",\"NIBAS.IS\",\"NUHCM.IS\",\"NUGYO.IS\",\"OBAMS.IS\",\"OBASE.IS\",\"ODAS.IS\",\n",
    "\"ODINE.IS\",\"OFSYM.IS\",\"ONCSM.IS\",\"ONRYT.IS\",\"ORGE.IS\",\"OSMEN.IS\",\"OSTIM.IS\",\"OTKAR.IS\",\"OYAKC.IS\",\"OYYAT.IS\",\"OZKGY.IS\",\"OZATD.IS\",\"OZGYO.IS\",\n",
    "\"OZSUB.IS\",\"OZYSR.IS\",\"PAMEL.IS\",\"PNLSN.IS\",\"PAGYO.IS\",\"PAPIL.IS\",\"PRDGS.IS\",\"PRKME.IS\",\"PARSN.IS\",\"PASEU.IS\",\"PSGYO.IS\",\"PATEK.IS\",\"PCILT.IS\",\n",
    "\"PGSUS.IS\",\"PEKGY.IS\",\"PENGD.IS\",\"PENTA.IS\",\"PEHOL.IS\",\"PETKM.IS\",\"PKENT.IS\",\"PETUN.IS\",\"PINSU.IS\",\"PNSUT.IS\",\"PKART.IS\",\"PLTUR.IS\",\"POLHO.IS\",\n",
    "\"POLTK.IS\",\"QUAGR.IS\",\"RALYH.IS\",\"RAYSG.IS\",\"REEDR.IS\",\"RYGYO.IS\",\"RYSAS.IS\",\"RGYAS.IS\",\"RTALB.IS\",\"RUBNS.IS\",\"RUZYE.IS\",\"SAFKR.IS\",\"SNICA.IS\",\n",
    "\"SANFM.IS\",\"SANKO.IS\",\"SAMAT.IS\",\"SARKY.IS\",\"SASA.IS\",\"SAYAS.IS\",\"SDTTR.IS\",\"SEGMN.IS\",\"SELEC.IS\",\"SERNT.IS\",\"SRVGY.IS\",\"SEYKM.IS\",\"SNGYO.IS\",\n",
    "\"SKYLP.IS\",\"SMRTG.IS\",\"SMART.IS\",\"SOKE.IS\",\"SKTAS.IS\",\"SUNTK.IS\",\"SURGY.IS\",\"SUWEN.IS\",\"SMRVA.IS\",\"SKBNK.IS\",\"SEGYO.IS\",\"SKYMD.IS\",\"SOKM.IS\",\n",
    "\"TABGD.IS\",\"TNZTP.IS\",\"TATGD.IS\",\"TATEN.IS\",\"TAVHL.IS\",\"TEKTU.IS\",\"TKFEN.IS\",\"TKNSA.IS\",\"TMPOL.IS\",\"TERA.IS\",\"TOASO.IS\",\"TRGYO.IS\",\n",
    "\"TLMAN.IS\",\"TSPOR.IS\",\"TSGYO.IS\",\"TUCLK.IS\",\"TUKAS.IS\",\"TRCAS.IS\",\"TUREX.IS\",\"MARBL.IS\",\"TCELL.IS\",\"TRILC.IS\",\"TMSN.IS\",\"TUPRS.IS\",\"TURGG.IS\",\n",
    "\"THYAO.IS\",\"GARAN.IS\",\"HALKB.IS\",\"ISCTR.IS\",\"TSKB.IS\",\"TURSG.IS\",\"SISE.IS\",\"VAKBN.IS\",\"PRKAB.IS\",\"TTKOM.IS\",\"TTRAK.IS\",\"TBORG.IS\",\"UFUK.IS\",\n",
    "\"ULUFA.IS\",\"ULUSE.IS\",\"ULUUN.IS\",\"USAK.IS\",\"ULKER.IS\",\"UNLU.IS\",\"VAKFN.IS\",\"VKGYO.IS\",\"VAKKO.IS\",\"VBTYZ.IS\",\"VRGYO.IS\",\"VERUS.IS\",\"VERTU.IS\",\n",
    "\"VESBE.IS\",\"VESTL.IS\",\"VSNMD.IS\",\"YKBNK.IS\",\"YAPRK.IS\",\"YATAS.IS\",\"YYLGD.IS\",\"YAYLA.IS\",\"YGGYO.IS\",\"YEOTK.IS\",\"YYAPI.IS\",\"YESIL.IS\",\"YIGIT.IS\",\n",
    "\"YKSLN.IS\",\"ZEDUR.IS\",\"ZRGYO.IS\",\"ZOREN.IS\",\n",
    "]"
   ]
  },
  {
   "cell_type": "code",
   "execution_count": 3,
   "id": "376f4f40",
   "metadata": {},
   "outputs": [],
   "source": [
    "def calculate_rsi(df, period=14):\n",
    "    delta = df['Close'].diff()\n",
    "\n",
    "    gain = delta.clip(lower=0)\n",
    "    loss = -delta.clip(upper=0)\n",
    "\n",
    "    avg_gain = gain.ewm(alpha=1/period, adjust=False, min_periods=period).mean()\n",
    "    avg_loss = loss.ewm(alpha=1/period, adjust=False, min_periods=period).mean()\n",
    "    \n",
    "    rs = avg_gain / avg_loss\n",
    "    rsi = 100 - (100 / (1 + rs))\n",
    "    return rsi"
   ]
  },
  {
   "cell_type": "code",
   "execution_count": 4,
   "id": "6952aea8",
   "metadata": {},
   "outputs": [],
   "source": [
    "def calculate_macd(df, fast=12, slow=26, signal=9):\n",
    "    ema_fast   = df['Close'].ewm(span=fast,  adjust=False, min_periods=fast).mean()\n",
    "    ema_slow   = df['Close'].ewm(span=slow,  adjust=False, min_periods=slow).mean()\n",
    "    macd_line  = ema_fast - ema_slow\n",
    "    signal_line= macd_line.ewm(span=signal, adjust=False, min_periods=signal).mean()\n",
    "    histogram  = macd_line - signal_line\n",
    "    return macd_line, signal_line, histogram"
   ]
  },
  {
   "cell_type": "code",
   "execution_count": 5,
   "id": "72ea1fc1",
   "metadata": {},
   "outputs": [],
   "source": [
    "def calculate_stochastic(high, low, close,k_period=14, k_smooth=3, d_smooth=3):\n",
    "    low_min  = low.rolling(window=k_period).min()\n",
    "    high_max = high.rolling(window=k_period).max()\n",
    "    raw_k    = (close - low_min) / (high_max - low_min) * 100\n",
    "    smooth_k = raw_k.rolling(window=k_smooth).mean()\n",
    "    smooth_d = smooth_k.rolling(window=d_smooth).mean()\n",
    "    return smooth_k, smooth_d"
   ]
  },
  {
   "cell_type": "code",
   "execution_count": 6,
   "id": "a19ea510",
   "metadata": {},
   "outputs": [],
   "source": [
    "def calculate_ema(df,period=34):\n",
    "    ema = df['Close'].ewm(span=period, adjust=False).mean()\n",
    "    return ema"
   ]
  },
  {
   "cell_type": "code",
   "execution_count": 7,
   "id": "02dd9284",
   "metadata": {},
   "outputs": [],
   "source": [
    "def ath_max(df):\n",
    "    if len(df)>60:\n",
    "        df = df.iloc[-61:]\n",
    "    series = df['Close'].iloc[:-1]\n",
    "    maximum = series.max()\n",
    "    return maximum"
   ]
  },
  {
   "cell_type": "code",
   "execution_count": 8,
   "id": "da6ae029",
   "metadata": {},
   "outputs": [],
   "source": [
    "def ath_min(df):\n",
    "    if len(df)>60:\n",
    "        df = df.iloc[-61:]\n",
    "    series = df['Close'].iloc[:-1]\n",
    "    minimum = series.min()\n",
    "    return minimum"
   ]
  },
  {
   "cell_type": "code",
   "execution_count": 9,
   "id": "aafe6341",
   "metadata": {},
   "outputs": [],
   "source": [
    "def get_missing_dates(df):\n",
    "    expected = pd.bdate_range(start=df.index.min().normalize(),end=df.index.max().normalize())\n",
    "    present = df.index.normalize().unique()\n",
    "    missing_business_days = expected.difference(present)\n",
    "    skip_dates = [d.strftime(\"%Y-%m-%d\") for d in missing_business_days]\n",
    "    return skip_dates"
   ]
  },
  {
   "cell_type": "code",
   "execution_count": 10,
   "id": "26520b6e",
   "metadata": {},
   "outputs": [],
   "source": [
    "def upperlimit(df):\n",
    "    # Buying date is -2\n",
    "    # Selling date is -1\n",
    "    close = df['Close'].iloc[-2]\n",
    "    high = df['High'].iloc[-2]\n",
    "    prev_close = df['Close'].iloc[-3]\n",
    "\n",
    "    if round(high,2) != round(close,2):\n",
    "        return False\n",
    "    \n",
    "    change = (close - prev_close)*100/prev_close \n",
    "    \n",
    "    if change > 9.6:\n",
    "        return True\n",
    "    else:False"
   ]
  },
  {
   "cell_type": "code",
   "execution_count": null,
   "id": "34e41424",
   "metadata": {},
   "outputs": [],
   "source": [
    "\n",
    "def draw(df,sym):\n",
    "    fig = make_subplots(rows=5, cols=1, shared_xaxes=True, row_heights=[0.5,0.2,0.1,0.1,0.1],vertical_spacing=0.05)\n",
    "    fig.update_layout(title_text=sym,title_x=0.5,title_y=0.93,title_font_size=20)\n",
    "    fig.add_trace(go.Candlestick(x=df.index, open = df['Open'], close = df['Close'], high= df['High'], low= df['Low'],name='Candlestick'),row=1,col=1)\n",
    "    \n",
    "\n",
    "    #Adding 60 day max and 60 day low\n",
    "    a_max = ath_max(df)\n",
    "    a_min = ath_min(df)\n",
    "    fig.add_hline(y=a_max,row=1, col=1,line=dict(color=\"green\", dash=\"dash\", width=2),annotation_text=f\"ATH_max: {a_max:.2f}\",annotation_position=\"top left\")\n",
    "    fig.add_hline(y=a_min,row=1, col=1,line=dict(color=\"red\", dash=\"dash\", width=2),annotation_text=f\"ATH_min: {a_min:.2f}\",annotation_position=\"bottom left\")\n",
    "    fig.add_trace(go.Scatter(x=[df.index[-2]], y=[df['Low'].iloc[-2]],mode=\"markers\",marker=dict(symbol=\"triangle-up\", color=\"green\", size=14),name=\"Alım\"), row=1, col=1)\n",
    "    fig.add_trace(go.Scatter(x=[df.index[-1]], y=[df['High'].iloc[-1]],mode=\"markers\",marker=dict(symbol=\"triangle-down\", color=\"red\", size=14),name=\"Satım\"), row=1, col=1)\n",
    "\n",
    "\n",
    "    #Adding MACD\n",
    "    fig.add_trace(go.Scatter(x = df.index, y= df['MACD'],mode='lines',name='MACD',line=dict(color='#EE553B')),row=2,col=1)\n",
    "    fig.add_trace(go.Scatter(x = df.index, y= df['Signal'],mode='lines',name='Signal',line=dict(color='#00CC96')),row=2,col=1)\n",
    "    fig.add_trace(go.Bar(x = df.index, y= df['Hist'],name='Histogram',marker=dict(color='#AB62FA')),row=2,col=1)\n",
    "    fig.add_annotation(text='MACD',x=0.5, y=0.57,xref='paper', yref='paper',showarrow=False,font=dict(size=20))\n",
    "\n",
    "    #Adding RSI\n",
    "    fig.add_trace(go.Scatter(x= df.index, y =df['Rsi'], name ='RSI', mode='lines',line=dict(color='orange')),row=3,col=1)\n",
    "    fig.add_annotation(text='RSI',x=0.5, y=0.36,xref='paper', yref='paper',showarrow=False,font=dict(size=20))\n",
    "    fig.add_hline(y=30,row=3, col=1,line=dict(color=\"green\", dash=\"dash\", width=2))\n",
    "    fig.add_hline(y=70,row=3, col=1,line=dict(color=\"red\", dash=\"dash\", width=2))\n",
    "\n",
    "    #Adding Stochastic\n",
    "    fig.add_trace(go.Scatter(x = df.index, y = df['%D'], name ='%D', mode = 'lines',line = dict(color='#1BD3F3')),row= 4, col=1)\n",
    "    fig.add_trace(go.Scatter(x = df.index, y = df['%K'], name ='%K', mode = 'lines',line = dict(color='#FF6692')),row= 4, col=1)\n",
    "    fig.add_annotation(text='Stochastic',x=0.5, y=0.21,xref='paper', yref='paper',showarrow=False,font=dict(size=20))\n",
    "    fig.add_hline(y=20,row=4, col=1,line=dict(color=\"green\", dash=\"dash\", width=2))\n",
    "    fig.add_hline(y=80,row=4, col=1,line=dict(color=\"red\", dash=\"dash\", width=2))\n",
    "\n",
    "    # Add Volume\n",
    "    fig.add_trace(go.Bar(x = df.index, y = df['Volume'],name = 'Volume',marker = dict(color='#B6E880')),row = 5, col=1)\n",
    "    fig.add_annotation(text='Volume',x=0.5, y=0.078,xref='paper', yref='paper',showarrow=False,font=dict(size=20))\n",
    "\n",
    "    # Final fixes\n",
    "    fig.update_layout(xaxis_rangeslider_visible = False,width = 1000, height = 1000)\n",
    "    skip_dates = get_missing_dates(df)\n",
    "    fig.update_xaxes(rangebreaks=[dict(bounds=[\"sat\", \"mon\"], pattern=\"day of week\"),dict(values=skip_dates)])\n",
    "    #pio.renderers.default = \"browser\"\n",
    "    fig.show()"
   ]
  },
  {
   "cell_type": "code",
   "execution_count": 12,
   "id": "c35235ba",
   "metadata": {},
   "outputs": [],
   "source": [
    "# LETS initialize dataframes then its content\n",
    "data = {ticker : None for ticker in bist500}\n",
    "\n",
    "for ticker in bist500:\n",
    "    df = pd.read_csv(f'./data/{ticker}.csv',index_col=0, parse_dates=True)\n",
    "    for col in ['Open', 'High', 'Low', 'Close']:\n",
    "        df[col] = pd.to_numeric(df[col], errors='coerce')\n",
    "    df['Pct_Change'] = round(df['Close'].pct_change()*100,2)\n",
    "    df['Rsi'] = calculate_rsi(df)\n",
    "    df[\"MACD\"], df['Signal'], df['Hist'] = calculate_macd(df)\n",
    "    df['%K'], df['%D'] = calculate_stochastic(df['High'], df['Low'], df['Close'])\n",
    "    df['Ema_5'] = calculate_ema(df,period=5)\n",
    "    df['Ema_8'] = calculate_ema(df,period=8)\n",
    "    df['Ema_13'] = calculate_ema(df,period=13)\n",
    "    df['Ema_34'] = calculate_ema(df,period=34)\n",
    "    data[ticker] = df\n",
    "\n",
    "# For storing high low and close values for the signal received stocks\n",
    "trades = pd.DataFrame(columns=[\"Ticker\", \"Date\", 'Open', \"High\", \"Low\",'Close', \"Return\"])"
   ]
  },
  {
   "cell_type": "code",
   "execution_count": 13,
   "id": "80e5e742",
   "metadata": {},
   "outputs": [
    {
     "name": "stdout",
     "output_type": "stream",
     "text": [
      "1 Symbol processing:  BINHO.IS\n",
      "2 Symbol processing:  AVOD.IS\n"
     ]
    },
    {
     "data": {
      "application/vnd.plotly.v1+json": {
       "config": {
        "plotlyServerURL": "https://plot.ly"
       },
       "data": [
        {
         "close": {
          "bdata": "AAAAIH6F8z8AAACgyjDzPwAAAECgs/E/AAAAoCbz8T8AAACgYofyPwAAAKCOnPI/AAAAYHAG8z8AAADA617xPwAAACDQYPA/AAAAAEaJ8T8AAACgYofyPwAAAGDNyPE/AAAAoCbz8T8AAADAUwjyPwAAAKCDtfA/AQAAwAyb7j8BAADADJvuPwAAAKAFTOs/AAAAoGz16z8AAABgzE/pPwAAAAA7Kec/AAAAICyq5j8AAACgd1XmPwAAAGCG1OY/AAAAgL3Q6D8AAADgX3brPwAAAAC4oOs/AAAAICFK7D8AAABAqyHrPwAAAAC4oOs/AAAAYHt07D8AAACgbPXrPwAAAEASy+s/AAAAoGz16z8AAAAgiPPsPwAAACAhSuw/AAAAICFK7D8AAAAAMMnsPwAAACCI8+w/AAAA4HVE7z8AAADgdUTvP////9/c7e8/AAAAwEgh8D/////f3O3vPwAAAOB1NvA/AAAAwLDK8D8AAADAsMrwPwAAAIC+SfE/AAAAIBbc8j8AAAAA9K30PwAAAEBZv/Y/AQAAoBCs9T8AAAAgLar2PwAAAIDjlvU/AAAAYBNE9D8AAABge+30PwAAAIBAWfQ/AAAAALkZ9D////8/5i70PwAAACAhw/Q/AAAAYHvt9D8AAACA45b1PwAAAMClavY/AAAAYGWm+D////8f2875PwAAAEBOX/w/////v0gv/z8AAAAA9DT8PwAAAOBqXf0/AAAAoLIWAEAAAACgGxr/Pw==",
          "dtype": "f8"
         },
         "high": {
          "bdata": "AAAA4MeY9D8AAAAAuRn0PwAAAOAjW/M/////H9tH8j8BAAAA6cbyPwAAAMD2RfM/AAAAgJ0b8z8AAAAgfoXzPwAAAODd3/A/AQAAIHOe8T8AAAAAUXDzPwAAAKBih/I/AAAAQAhd8j8AAABACF3yPwAAAOCAHfI/AAAAQKCz8T8BAADADJvuPwAAAIBWoPA/AAAAYOId7T8AAACgBUzrPwAAAKCNI+o/AAAAYO195z8AAAAAOynnPwAAAGDtfec/AAAAwBf76D8AAADgX3brPwEAAACXcu0/AAAAADDJ7D8AAABge3TsPwAAAEASy+s/AAAAADDJ7D////+fPEjtPwAAAGB7dOw/AAAAIIjz7D8AAABg4h3tPwAAAMCl8e0/AAAAADDJ7D8AAAAgiPPsP////588SO0/AQAAoILD7z8AAAAg0GDwPwAAAACjS/A/AQAAQDgK8T8BAABA/XXwPwEAAED9dfA/AAAAYGUf8T8AAABgkTTxPwAAAGDNyPE/AAAAIBbc8j8AAAAA9K30PwAAAEBZv/Y/AQAAQDiR+D8AAAAg0Of3PwAAACBoPvc/AAAAwD3B9T8AAADgatb1PwAAAIDjlvU/AAAAQE7Y9D8AAACAqAL1PwAAAAAwQvU/AAAAQLaB9T8AAAAgxAD2PwAAAODSf/Y/AAAAYGWm+D8AAAAAUff6PwAAAEBOX/w/////v0gv/z8AAADg3d8AQAAAACAAHP4/AAAAoLIWAEAAAADgR9UAQA==",
          "dtype": "f8"
         },
         "low": {
          "bdata": "AAAAoMow8z8AAABAQ/HyPwAAAOAYdPE/AAAAAAv18D8BAABAOArxP////x/bR/I/////H9tH8j8AAABgkTTxPwAAAODGH+w/AAAA4N3f8D8AAABgzcjxPwAAAECgs/E/AAAAQKCz8T8AAABgZR/xPwEAAKCCw+8/AAAAwKXx7T8BAADADJvuPwAAAECrIes/AAAAoI0j6j8AAABgzE/pPwAAAGCG1OY/AAAAAMMA5j8AAACgEKzlPwAAAODRf+Y/AAAAoBCs5T8AAAAgciXpPwAAAABR9+o/AAAAAFH36j8AAACAnKLqPwAAAIA1+ek/AAAAQBLL6z8AAACgBUzrPwAAAKAFTOs/AAAA4F926z8AAAAgIUrsPwAAAKBs9es/AAAA4F926z8AAACgbPXrPwAAAGB7dOw/AAAAoNWe7D8AAACgGxrvPwAAAGB7dOw/AAAAgCqZ7z8AAAAg0G7vPwEAAKCCw+8/////39zt7z8AAACgg7XwPwAAAKCDtfA/AAAAwOte8T8AAADAu7HyPwEAAKDVF/U/AAAAAPSt9D8AAABATtj0P////78CLfU/AAAAYBNE9D8AAACAnRvzP////z/mLvQ/AAAAwF7v8z8AAADAMtrzPwAAAGATRPQ/AAAAYBNE9D8AAACAqAL1PwAAAOBq1vU/AAAAYB4r9j8BAABA/fz3PwAAAGDNT/k/AQAAoBAz/T8AAADgxx/8PwAAACAhSvw/AAAAIMWH/T8AAAAAO7D+Pw==",
          "dtype": "f8"
         },
         "name": "Candlestick",
         "open": {
          "bdata": "AAAAALkZ9D8AAACABcXzPwAAAMD2RfM/AAAA4Bh08T8AAABAoLPxPwAAACAW3PI/AAAAQAhd8j8AAAAgFtzyPwAAACAhSuw/AQAAQDgK8T8AAACgJvPxP////381cvI/AAAAoCbz8T8AAACgJvPxPwAAAIC+SfE/AAAA4Bh08T8BAADADJvuPwAAAKAbGu8/AAAA4F926z8AAABAQnjqPwAAAKAmeuk/AAAA4NF/5j8AAABAHSvmPwAAAECVU+c/AAAAoHdV5j8AAACgjSPqPwAAAEASy+s/AAAAALig6z8AAABge3TsPwAAAABR9+o/AAAAoGz16z8AAAAAuKDrPwAAACAhSuw/AAAAALig6z8AAACg1Z7sP////588SO0/AAAAYHt07D8AAABge3TsPwAAACCI8+w/AAAAIIjz7D8BAACggsPvPwAAACDQbu8/AAAAwEgh8D8AAAAg0GDwPwAAAKAbDPA/AAAAwEgh8D8AAAAAC/XwPwAAAKCDtfA/AAAAwOte8T8AAAAAUXDzPwAAAEDxFfY/AAAAoIM8+D8AAAAAMEL1PwAAAMDg/vY/AAAAgOOW9T/////fiwT0P////78CLfU/AAAAoG1u9D/////fiwT0PwAAAGATRPQ/AAAAAPSt9D8BAACg1Rf1PwAAAACY6/U/AAAAYIbU9j8AAABAoDr5PwAAAGAI5Pk/AAAAwD1I/T8BAABA/XUAQAAAACAhSvw/AAAAIMWH/T8AAABgk4AAQA==",
          "dtype": "f8"
         },
         "type": "candlestick",
         "x": [
          "2020-02-18T00:00:00.000000000",
          "2020-02-19T00:00:00.000000000",
          "2020-02-20T00:00:00.000000000",
          "2020-02-21T00:00:00.000000000",
          "2020-02-24T00:00:00.000000000",
          "2020-02-25T00:00:00.000000000",
          "2020-02-26T00:00:00.000000000",
          "2020-02-27T00:00:00.000000000",
          "2020-02-28T00:00:00.000000000",
          "2020-03-02T00:00:00.000000000",
          "2020-03-03T00:00:00.000000000",
          "2020-03-04T00:00:00.000000000",
          "2020-03-05T00:00:00.000000000",
          "2020-03-06T00:00:00.000000000",
          "2020-03-09T00:00:00.000000000",
          "2020-03-10T00:00:00.000000000",
          "2020-03-11T00:00:00.000000000",
          "2020-03-12T00:00:00.000000000",
          "2020-03-13T00:00:00.000000000",
          "2020-03-16T00:00:00.000000000",
          "2020-03-17T00:00:00.000000000",
          "2020-03-18T00:00:00.000000000",
          "2020-03-19T00:00:00.000000000",
          "2020-03-20T00:00:00.000000000",
          "2020-03-23T00:00:00.000000000",
          "2020-03-24T00:00:00.000000000",
          "2020-03-25T00:00:00.000000000",
          "2020-03-26T00:00:00.000000000",
          "2020-03-27T00:00:00.000000000",
          "2020-03-30T00:00:00.000000000",
          "2020-03-31T00:00:00.000000000",
          "2020-04-01T00:00:00.000000000",
          "2020-04-02T00:00:00.000000000",
          "2020-04-03T00:00:00.000000000",
          "2020-04-06T00:00:00.000000000",
          "2020-04-07T00:00:00.000000000",
          "2020-04-08T00:00:00.000000000",
          "2020-04-09T00:00:00.000000000",
          "2020-04-10T00:00:00.000000000",
          "2020-04-13T00:00:00.000000000",
          "2020-04-14T00:00:00.000000000",
          "2020-04-15T00:00:00.000000000",
          "2020-04-16T00:00:00.000000000",
          "2020-04-17T00:00:00.000000000",
          "2020-04-20T00:00:00.000000000",
          "2020-04-21T00:00:00.000000000",
          "2020-04-22T00:00:00.000000000",
          "2020-04-24T00:00:00.000000000",
          "2020-04-27T00:00:00.000000000",
          "2020-04-28T00:00:00.000000000",
          "2020-04-29T00:00:00.000000000",
          "2020-04-30T00:00:00.000000000",
          "2020-05-04T00:00:00.000000000",
          "2020-05-05T00:00:00.000000000",
          "2020-05-06T00:00:00.000000000",
          "2020-05-07T00:00:00.000000000",
          "2020-05-08T00:00:00.000000000",
          "2020-05-11T00:00:00.000000000",
          "2020-05-12T00:00:00.000000000",
          "2020-05-13T00:00:00.000000000",
          "2020-05-14T00:00:00.000000000",
          "2020-05-15T00:00:00.000000000",
          "2020-05-18T00:00:00.000000000",
          "2020-05-20T00:00:00.000000000",
          "2020-05-21T00:00:00.000000000",
          "2020-05-22T00:00:00.000000000",
          "2020-05-27T00:00:00.000000000",
          "2020-05-28T00:00:00.000000000",
          "2020-05-29T00:00:00.000000000",
          "2020-06-01T00:00:00.000000000",
          "2020-06-02T00:00:00.000000000"
         ],
         "xaxis": "x",
         "yaxis": "y"
        },
        {
         "marker": {
          "color": "green",
          "size": 14,
          "symbol": "triangle-up"
         },
         "mode": "markers",
         "name": "Alım",
         "type": "scatter",
         "x": [
          "2020-06-01T00:00:00"
         ],
         "xaxis": "x",
         "y": [
          1.8456469774246216
         ],
         "yaxis": "y"
        },
        {
         "marker": {
          "color": "red",
          "size": 14,
          "symbol": "triangle-down"
         },
         "mode": "markers",
         "name": "Satım",
         "type": "scatter",
         "x": [
          "2020-06-02T00:00:00"
         ],
         "xaxis": "x",
         "y": [
          2.1041409969329834
         ],
         "yaxis": "y"
        },
        {
         "line": {
          "color": "#EE553B"
         },
         "mode": "lines",
         "name": "MACD",
         "type": "scatter",
         "x": [
          "2020-02-18T00:00:00.000000000",
          "2020-02-19T00:00:00.000000000",
          "2020-02-20T00:00:00.000000000",
          "2020-02-21T00:00:00.000000000",
          "2020-02-24T00:00:00.000000000",
          "2020-02-25T00:00:00.000000000",
          "2020-02-26T00:00:00.000000000",
          "2020-02-27T00:00:00.000000000",
          "2020-02-28T00:00:00.000000000",
          "2020-03-02T00:00:00.000000000",
          "2020-03-03T00:00:00.000000000",
          "2020-03-04T00:00:00.000000000",
          "2020-03-05T00:00:00.000000000",
          "2020-03-06T00:00:00.000000000",
          "2020-03-09T00:00:00.000000000",
          "2020-03-10T00:00:00.000000000",
          "2020-03-11T00:00:00.000000000",
          "2020-03-12T00:00:00.000000000",
          "2020-03-13T00:00:00.000000000",
          "2020-03-16T00:00:00.000000000",
          "2020-03-17T00:00:00.000000000",
          "2020-03-18T00:00:00.000000000",
          "2020-03-19T00:00:00.000000000",
          "2020-03-20T00:00:00.000000000",
          "2020-03-23T00:00:00.000000000",
          "2020-03-24T00:00:00.000000000",
          "2020-03-25T00:00:00.000000000",
          "2020-03-26T00:00:00.000000000",
          "2020-03-27T00:00:00.000000000",
          "2020-03-30T00:00:00.000000000",
          "2020-03-31T00:00:00.000000000",
          "2020-04-01T00:00:00.000000000",
          "2020-04-02T00:00:00.000000000",
          "2020-04-03T00:00:00.000000000",
          "2020-04-06T00:00:00.000000000",
          "2020-04-07T00:00:00.000000000",
          "2020-04-08T00:00:00.000000000",
          "2020-04-09T00:00:00.000000000",
          "2020-04-10T00:00:00.000000000",
          "2020-04-13T00:00:00.000000000",
          "2020-04-14T00:00:00.000000000",
          "2020-04-15T00:00:00.000000000",
          "2020-04-16T00:00:00.000000000",
          "2020-04-17T00:00:00.000000000",
          "2020-04-20T00:00:00.000000000",
          "2020-04-21T00:00:00.000000000",
          "2020-04-22T00:00:00.000000000",
          "2020-04-24T00:00:00.000000000",
          "2020-04-27T00:00:00.000000000",
          "2020-04-28T00:00:00.000000000",
          "2020-04-29T00:00:00.000000000",
          "2020-04-30T00:00:00.000000000",
          "2020-05-04T00:00:00.000000000",
          "2020-05-05T00:00:00.000000000",
          "2020-05-06T00:00:00.000000000",
          "2020-05-07T00:00:00.000000000",
          "2020-05-08T00:00:00.000000000",
          "2020-05-11T00:00:00.000000000",
          "2020-05-12T00:00:00.000000000",
          "2020-05-13T00:00:00.000000000",
          "2020-05-14T00:00:00.000000000",
          "2020-05-15T00:00:00.000000000",
          "2020-05-18T00:00:00.000000000",
          "2020-05-20T00:00:00.000000000",
          "2020-05-21T00:00:00.000000000",
          "2020-05-22T00:00:00.000000000",
          "2020-05-27T00:00:00.000000000",
          "2020-05-28T00:00:00.000000000",
          "2020-05-29T00:00:00.000000000",
          "2020-06-01T00:00:00.000000000",
          "2020-06-02T00:00:00.000000000"
         ],
         "xaxis": "x2",
         "y": {
          "bdata": "IDwT3bRTpD+gfXRy3MeiP0A0iATdG5s/AAD3dqDgkz8AyQIWCfGQP4CVLkGyvY0/AAy9Lkthjj8AkXbOvEh7PwDZVhFvhnO/ALmtWeQpgL8A57l30Ld1vwA1tf6TXHy/ALH/v4Pdfb8AH7MzhQN9vwCaTh2ahYu/ACSv+MHhmb+gZAHEq4qhv6BACKJfK6m/oMA6bp8Drr9QgcDmU2yyv3g2vzMaQ7a/0HKSjzhVub/QCWLnRqm7v4g4iyl92ry/ABXqfxsxvL/ozUlbtKm5v+irTqeWSLe/QPNw6lG7tL/4YVo3Njyzv6goE/TbhrG/0Btb3Nvrrr/QUbw+A/erv+AtL+mDiqm/QCkD2Mwjp79Qk4rkWLqjvyCIrnKurKG/4LEvG4u6n7+gp3wAf0Obv2D8V75QCJe/AB/s3M0Vi7+Ave7eBtB3vwBeHPobAFw/gKTpLU84gT9APtfvaRWKP8CZ1C7loZE/4PQeNPb7lz+gj49w+a+cP5B/6B8hSqE/gFXLZZpppz/Q076fTEuwPwAemT2mV7Y/cChuJzR0uT+wGxujXN68P1DW3qGo170/gJUfVniTvD/w1+vFVBq8PwAbjME9rLo/UPMdo4TuuD9wBwY/mWO3P9Cmi9glp7Y/MC4qingHtj+AsDq8UiK2P5DOkh4RBbc/cNRdi09Nuj8A0/uzRg2+P7CZ65fJ9cE/qBLsMV/ZxT/Yh1vkJL/GPyh2FkkA7sc/gCc2hPFgyj+omsGxf0/LPw==",
          "dtype": "f8"
         },
         "yaxis": "y2"
        },
        {
         "line": {
          "color": "#00CC96"
         },
         "mode": "lines",
         "name": "Signal",
         "type": "scatter",
         "x": [
          "2020-02-18T00:00:00.000000000",
          "2020-02-19T00:00:00.000000000",
          "2020-02-20T00:00:00.000000000",
          "2020-02-21T00:00:00.000000000",
          "2020-02-24T00:00:00.000000000",
          "2020-02-25T00:00:00.000000000",
          "2020-02-26T00:00:00.000000000",
          "2020-02-27T00:00:00.000000000",
          "2020-02-28T00:00:00.000000000",
          "2020-03-02T00:00:00.000000000",
          "2020-03-03T00:00:00.000000000",
          "2020-03-04T00:00:00.000000000",
          "2020-03-05T00:00:00.000000000",
          "2020-03-06T00:00:00.000000000",
          "2020-03-09T00:00:00.000000000",
          "2020-03-10T00:00:00.000000000",
          "2020-03-11T00:00:00.000000000",
          "2020-03-12T00:00:00.000000000",
          "2020-03-13T00:00:00.000000000",
          "2020-03-16T00:00:00.000000000",
          "2020-03-17T00:00:00.000000000",
          "2020-03-18T00:00:00.000000000",
          "2020-03-19T00:00:00.000000000",
          "2020-03-20T00:00:00.000000000",
          "2020-03-23T00:00:00.000000000",
          "2020-03-24T00:00:00.000000000",
          "2020-03-25T00:00:00.000000000",
          "2020-03-26T00:00:00.000000000",
          "2020-03-27T00:00:00.000000000",
          "2020-03-30T00:00:00.000000000",
          "2020-03-31T00:00:00.000000000",
          "2020-04-01T00:00:00.000000000",
          "2020-04-02T00:00:00.000000000",
          "2020-04-03T00:00:00.000000000",
          "2020-04-06T00:00:00.000000000",
          "2020-04-07T00:00:00.000000000",
          "2020-04-08T00:00:00.000000000",
          "2020-04-09T00:00:00.000000000",
          "2020-04-10T00:00:00.000000000",
          "2020-04-13T00:00:00.000000000",
          "2020-04-14T00:00:00.000000000",
          "2020-04-15T00:00:00.000000000",
          "2020-04-16T00:00:00.000000000",
          "2020-04-17T00:00:00.000000000",
          "2020-04-20T00:00:00.000000000",
          "2020-04-21T00:00:00.000000000",
          "2020-04-22T00:00:00.000000000",
          "2020-04-24T00:00:00.000000000",
          "2020-04-27T00:00:00.000000000",
          "2020-04-28T00:00:00.000000000",
          "2020-04-29T00:00:00.000000000",
          "2020-04-30T00:00:00.000000000",
          "2020-05-04T00:00:00.000000000",
          "2020-05-05T00:00:00.000000000",
          "2020-05-06T00:00:00.000000000",
          "2020-05-07T00:00:00.000000000",
          "2020-05-08T00:00:00.000000000",
          "2020-05-11T00:00:00.000000000",
          "2020-05-12T00:00:00.000000000",
          "2020-05-13T00:00:00.000000000",
          "2020-05-14T00:00:00.000000000",
          "2020-05-15T00:00:00.000000000",
          "2020-05-18T00:00:00.000000000",
          "2020-05-20T00:00:00.000000000",
          "2020-05-21T00:00:00.000000000",
          "2020-05-22T00:00:00.000000000",
          "2020-05-27T00:00:00.000000000",
          "2020-05-28T00:00:00.000000000",
          "2020-05-29T00:00:00.000000000",
          "2020-06-01T00:00:00.000000000",
          "2020-06-02T00:00:00.000000000"
         ],
         "xaxis": "x2",
         "y": {
          "bdata": "k8nLBNKjpT+W7VO0bRGlP0vDUKq6kKM/PBwmlNijoT+UiD2+wpyfPwRJHAWUQ5w/nbtcIjGmmT/xtmm/MOKVP7Q6EKXUh5A/7Tj3wlk3hz8+Y2b2smaAPzCUf4rNkXQ/gNllKhT3ZD9nhlqbnqpEP4WT+ZFb4mG/z1dWAfPbe79tQL0DUS2Jvwaa6Nt5I5S/32GeddQdnL/gWoy+qZ2iv31eVuArzKe/hHlMU9Mrrb9f//61YjOxv5vX55kBiLO/r7BOLm1Dtb/uHLSdriS2v7psOTkQX7a/CO6qXB0Ltr/SnmeIVXu1vzCHI9HWsLS/IiK/ow6ls79K8N6iJYOyvzir0EwrXbG/TUCn7IM0sL9YhFqosd+tv+dRa2oXb6u/gwZBProeqb9gfEAYiNKmv1eWbyaoj6S/Bq3+nJ3Nob9QnlaG/Kydv0eKvt78Y5e/+aqaLY/9kL+Ca8zlz/eFv9H9nLD7CnW/9/lyFhDTQj8Zv+T1FdV4P32ySOK8w4c/mGlutu/ekj+Hl4reySGcPwOvdD6TMKQ/Y8/vdFdVqj8Y8v7om06wP4rsXnSeA7M/iEFSbjDttD83+XAZnly2P2BmdqFXObc/kIIxCMeQtz8knfXfvYe3P0fSRqvSWrc/drHa1/MWtz/fSlTSBua2PwMyxxQ87LY/5rhL+T+Ztz8fvju4p+O4P/k7wWlwGLs/cTcsAoBqvj/yyvCUOrfAPzDtkVKVKMI/p8Wyj3TNwz90Ixww3U3FPw==",
          "dtype": "f8"
         },
         "yaxis": "y2"
        },
        {
         "marker": {
          "color": "#AB62FA"
         },
         "name": "Histogram",
         "type": "bar",
         "x": [
          "2020-02-18T00:00:00.000000000",
          "2020-02-19T00:00:00.000000000",
          "2020-02-20T00:00:00.000000000",
          "2020-02-21T00:00:00.000000000",
          "2020-02-24T00:00:00.000000000",
          "2020-02-25T00:00:00.000000000",
          "2020-02-26T00:00:00.000000000",
          "2020-02-27T00:00:00.000000000",
          "2020-02-28T00:00:00.000000000",
          "2020-03-02T00:00:00.000000000",
          "2020-03-03T00:00:00.000000000",
          "2020-03-04T00:00:00.000000000",
          "2020-03-05T00:00:00.000000000",
          "2020-03-06T00:00:00.000000000",
          "2020-03-09T00:00:00.000000000",
          "2020-03-10T00:00:00.000000000",
          "2020-03-11T00:00:00.000000000",
          "2020-03-12T00:00:00.000000000",
          "2020-03-13T00:00:00.000000000",
          "2020-03-16T00:00:00.000000000",
          "2020-03-17T00:00:00.000000000",
          "2020-03-18T00:00:00.000000000",
          "2020-03-19T00:00:00.000000000",
          "2020-03-20T00:00:00.000000000",
          "2020-03-23T00:00:00.000000000",
          "2020-03-24T00:00:00.000000000",
          "2020-03-25T00:00:00.000000000",
          "2020-03-26T00:00:00.000000000",
          "2020-03-27T00:00:00.000000000",
          "2020-03-30T00:00:00.000000000",
          "2020-03-31T00:00:00.000000000",
          "2020-04-01T00:00:00.000000000",
          "2020-04-02T00:00:00.000000000",
          "2020-04-03T00:00:00.000000000",
          "2020-04-06T00:00:00.000000000",
          "2020-04-07T00:00:00.000000000",
          "2020-04-08T00:00:00.000000000",
          "2020-04-09T00:00:00.000000000",
          "2020-04-10T00:00:00.000000000",
          "2020-04-13T00:00:00.000000000",
          "2020-04-14T00:00:00.000000000",
          "2020-04-15T00:00:00.000000000",
          "2020-04-16T00:00:00.000000000",
          "2020-04-17T00:00:00.000000000",
          "2020-04-20T00:00:00.000000000",
          "2020-04-21T00:00:00.000000000",
          "2020-04-22T00:00:00.000000000",
          "2020-04-24T00:00:00.000000000",
          "2020-04-27T00:00:00.000000000",
          "2020-04-28T00:00:00.000000000",
          "2020-04-29T00:00:00.000000000",
          "2020-04-30T00:00:00.000000000",
          "2020-05-04T00:00:00.000000000",
          "2020-05-05T00:00:00.000000000",
          "2020-05-06T00:00:00.000000000",
          "2020-05-07T00:00:00.000000000",
          "2020-05-08T00:00:00.000000000",
          "2020-05-11T00:00:00.000000000",
          "2020-05-12T00:00:00.000000000",
          "2020-05-13T00:00:00.000000000",
          "2020-05-14T00:00:00.000000000",
          "2020-05-15T00:00:00.000000000",
          "2020-05-18T00:00:00.000000000",
          "2020-05-20T00:00:00.000000000",
          "2020-05-21T00:00:00.000000000",
          "2020-05-22T00:00:00.000000000",
          "2020-05-27T00:00:00.000000000",
          "2020-05-28T00:00:00.000000000",
          "2020-05-29T00:00:00.000000000",
          "2020-06-01T00:00:00.000000000",
          "2020-06-02T00:00:00.000000000"
         ],
         "xaxis": "x2",
         "y": {
          "bdata": "MNeIe9IBZb+wf/sOikxyv6ykMqAwC4i/8HCqYiHOjr8of3VQc1eNv4j8Ccl1yYq/Omv8FRfrhL9iJZgXAyCOv/TwZWlwaZW/9nhSDp+wk7++VkMym0KLv5hkmsQwd4i/4E6Z6oYshL/Nbx4H2Zh/vx810DgDDYe/DI5ZOMXqkr8KKSQGr36WvzrnJ2hFM56/YR/XZmrpn7/Ap/QO/jqiv3MOKIcIuqS/HGzYy51+pb/iFMZiyOukv9rBRh/3pKK/RJFtRrm2m7/Qh63sLSiMv8Dlp8LNMG2/gKyfI7f8dD/Q5mmI+viBP0D0gujWT4k/6FBG1oK8kD+IHQMOkB6SPyBR5GClX5I/tK6WAnaKkj8Q4p+HsUqUP46Tee/RhJM/JltSYemCkj8gUQQwkWGSP04wh47/FpI/jEqHS1QQlj/w7prO+riXPydQYJ7+I5k/OX2PxLaZmT/h1NHqnAaYPzTZ+xqk5JY/EF1rs11llz/aXxbzs3qWP+KlrM5jspY/aEEoFUX0mz/cWzhQtIWiP/2MvTy5fqg/fYHs2RCTqD8wUzh0gR+pP4zT/1oUqKU/4E81nx+Znj/keuux2vaWPwClrQAxl4s/AAzHrtnbdT8A2sp3UBJCv+BuZVeadWa/YDQI27T3cL/gSzPDgnZovwCNnMsJ1Tg/UNyQkHyghT+EUwDve6aUP87uK4xFpqE/vttXw3yQqj+Y86o9qR+oP+AjEtqrFac/ZIcN0vNNqj/Q3JUGigaoPw==",
          "dtype": "f8"
         },
         "yaxis": "y2"
        },
        {
         "line": {
          "color": "orange"
         },
         "mode": "lines",
         "name": "RSI",
         "type": "scatter",
         "x": [
          "2020-02-18T00:00:00.000000000",
          "2020-02-19T00:00:00.000000000",
          "2020-02-20T00:00:00.000000000",
          "2020-02-21T00:00:00.000000000",
          "2020-02-24T00:00:00.000000000",
          "2020-02-25T00:00:00.000000000",
          "2020-02-26T00:00:00.000000000",
          "2020-02-27T00:00:00.000000000",
          "2020-02-28T00:00:00.000000000",
          "2020-03-02T00:00:00.000000000",
          "2020-03-03T00:00:00.000000000",
          "2020-03-04T00:00:00.000000000",
          "2020-03-05T00:00:00.000000000",
          "2020-03-06T00:00:00.000000000",
          "2020-03-09T00:00:00.000000000",
          "2020-03-10T00:00:00.000000000",
          "2020-03-11T00:00:00.000000000",
          "2020-03-12T00:00:00.000000000",
          "2020-03-13T00:00:00.000000000",
          "2020-03-16T00:00:00.000000000",
          "2020-03-17T00:00:00.000000000",
          "2020-03-18T00:00:00.000000000",
          "2020-03-19T00:00:00.000000000",
          "2020-03-20T00:00:00.000000000",
          "2020-03-23T00:00:00.000000000",
          "2020-03-24T00:00:00.000000000",
          "2020-03-25T00:00:00.000000000",
          "2020-03-26T00:00:00.000000000",
          "2020-03-27T00:00:00.000000000",
          "2020-03-30T00:00:00.000000000",
          "2020-03-31T00:00:00.000000000",
          "2020-04-01T00:00:00.000000000",
          "2020-04-02T00:00:00.000000000",
          "2020-04-03T00:00:00.000000000",
          "2020-04-06T00:00:00.000000000",
          "2020-04-07T00:00:00.000000000",
          "2020-04-08T00:00:00.000000000",
          "2020-04-09T00:00:00.000000000",
          "2020-04-10T00:00:00.000000000",
          "2020-04-13T00:00:00.000000000",
          "2020-04-14T00:00:00.000000000",
          "2020-04-15T00:00:00.000000000",
          "2020-04-16T00:00:00.000000000",
          "2020-04-17T00:00:00.000000000",
          "2020-04-20T00:00:00.000000000",
          "2020-04-21T00:00:00.000000000",
          "2020-04-22T00:00:00.000000000",
          "2020-04-24T00:00:00.000000000",
          "2020-04-27T00:00:00.000000000",
          "2020-04-28T00:00:00.000000000",
          "2020-04-29T00:00:00.000000000",
          "2020-04-30T00:00:00.000000000",
          "2020-05-04T00:00:00.000000000",
          "2020-05-05T00:00:00.000000000",
          "2020-05-06T00:00:00.000000000",
          "2020-05-07T00:00:00.000000000",
          "2020-05-08T00:00:00.000000000",
          "2020-05-11T00:00:00.000000000",
          "2020-05-12T00:00:00.000000000",
          "2020-05-13T00:00:00.000000000",
          "2020-05-14T00:00:00.000000000",
          "2020-05-15T00:00:00.000000000",
          "2020-05-18T00:00:00.000000000",
          "2020-05-20T00:00:00.000000000",
          "2020-05-21T00:00:00.000000000",
          "2020-05-22T00:00:00.000000000",
          "2020-05-27T00:00:00.000000000",
          "2020-05-28T00:00:00.000000000",
          "2020-05-29T00:00:00.000000000",
          "2020-06-01T00:00:00.000000000",
          "2020-06-02T00:00:00.000000000"
         ],
         "xaxis": "x3",
         "y": {
          "bdata": "l19L7JPiSEDcPB2yGLpHQA9k3s9AXENAN33wMw1XREA2MPuZxotGQI9RgrNE20ZAQurn6T9qSEBHTfMH5JJDQJDer2HKWUFAHJ9wgoZtRUDV+jvRhmFIQJXnkNyggEZAOtIANBEAR0CiduIqzUJHQHftEAl38UNAxIWjSyUlQUDEhaNLJSVBQAxWbWTWxzxAnLRpUq4pP0CUIFcE8jw7QFjj/nDNiDhAkEqbF5fxN0BQ8oUZcYk3QKibGOJalDlApKlxaDahQEBcSpoEvO9EQPopAwfML0VAyaUMEqY3RkB5xhlqctBEQMtome0NpEVAkp6yPUYDR0BOXsPjslBGQM9UmMw0E0ZAWluneCBlRkBorqP4TExIQE0UAj/1JkdATRQCP/UmR0CqkiMXyzVIQCdQ+EXdkUhAFmkceQf9TEAWaRx5B/1MQJqG9yHbIU5At7cSprWyTkCA2NFo2chNQL+WBk82tk5AnlV1gT1aUECeVXWBPVpQQD0TIg94KFFAE/mS33sMU0C5rIo0pGxUQHj8RSTtblVAmftSoN4TU0BhWFJRNKlTQGubaC1volFAfc0qSKsHT0CUvlUjbhdQQLDMrIWFcE5A6FWBAW2yTUDKlYb6i99NQL6L4coCHE9A9LlUAbZ1T0CS28ltcGpQQKvDVDR9MVFAcbOhDB3SUkBwu5+sDndTQAyo+WI3kVRAlCrvaUxpVUAsu8G5eJdRQN45ULNQG1JAcHuTUc0qU0A2GqO1ewZSQA==",
          "dtype": "f8"
         },
         "yaxis": "y3"
        },
        {
         "line": {
          "color": "#1BD3F3"
         },
         "mode": "lines",
         "name": "%D",
         "type": "scatter",
         "x": [
          "2020-02-18T00:00:00.000000000",
          "2020-02-19T00:00:00.000000000",
          "2020-02-20T00:00:00.000000000",
          "2020-02-21T00:00:00.000000000",
          "2020-02-24T00:00:00.000000000",
          "2020-02-25T00:00:00.000000000",
          "2020-02-26T00:00:00.000000000",
          "2020-02-27T00:00:00.000000000",
          "2020-02-28T00:00:00.000000000",
          "2020-03-02T00:00:00.000000000",
          "2020-03-03T00:00:00.000000000",
          "2020-03-04T00:00:00.000000000",
          "2020-03-05T00:00:00.000000000",
          "2020-03-06T00:00:00.000000000",
          "2020-03-09T00:00:00.000000000",
          "2020-03-10T00:00:00.000000000",
          "2020-03-11T00:00:00.000000000",
          "2020-03-12T00:00:00.000000000",
          "2020-03-13T00:00:00.000000000",
          "2020-03-16T00:00:00.000000000",
          "2020-03-17T00:00:00.000000000",
          "2020-03-18T00:00:00.000000000",
          "2020-03-19T00:00:00.000000000",
          "2020-03-20T00:00:00.000000000",
          "2020-03-23T00:00:00.000000000",
          "2020-03-24T00:00:00.000000000",
          "2020-03-25T00:00:00.000000000",
          "2020-03-26T00:00:00.000000000",
          "2020-03-27T00:00:00.000000000",
          "2020-03-30T00:00:00.000000000",
          "2020-03-31T00:00:00.000000000",
          "2020-04-01T00:00:00.000000000",
          "2020-04-02T00:00:00.000000000",
          "2020-04-03T00:00:00.000000000",
          "2020-04-06T00:00:00.000000000",
          "2020-04-07T00:00:00.000000000",
          "2020-04-08T00:00:00.000000000",
          "2020-04-09T00:00:00.000000000",
          "2020-04-10T00:00:00.000000000",
          "2020-04-13T00:00:00.000000000",
          "2020-04-14T00:00:00.000000000",
          "2020-04-15T00:00:00.000000000",
          "2020-04-16T00:00:00.000000000",
          "2020-04-17T00:00:00.000000000",
          "2020-04-20T00:00:00.000000000",
          "2020-04-21T00:00:00.000000000",
          "2020-04-22T00:00:00.000000000",
          "2020-04-24T00:00:00.000000000",
          "2020-04-27T00:00:00.000000000",
          "2020-04-28T00:00:00.000000000",
          "2020-04-29T00:00:00.000000000",
          "2020-04-30T00:00:00.000000000",
          "2020-05-04T00:00:00.000000000",
          "2020-05-05T00:00:00.000000000",
          "2020-05-06T00:00:00.000000000",
          "2020-05-07T00:00:00.000000000",
          "2020-05-08T00:00:00.000000000",
          "2020-05-11T00:00:00.000000000",
          "2020-05-12T00:00:00.000000000",
          "2020-05-13T00:00:00.000000000",
          "2020-05-14T00:00:00.000000000",
          "2020-05-15T00:00:00.000000000",
          "2020-05-18T00:00:00.000000000",
          "2020-05-20T00:00:00.000000000",
          "2020-05-21T00:00:00.000000000",
          "2020-05-22T00:00:00.000000000",
          "2020-05-27T00:00:00.000000000",
          "2020-05-28T00:00:00.000000000",
          "2020-05-29T00:00:00.000000000",
          "2020-06-01T00:00:00.000000000",
          "2020-06-02T00:00:00.000000000"
         ],
         "xaxis": "x4",
         "y": {
          "bdata": "p/wP5de9UUDh5asLLR9SQAHDaRYxDVBACAy7foauSUAOeUDZIKhCQMmKLNMAB0FA0NQd/jZcQ0D7DNW0UNVEQK90y1ecJkRAKPe/Fb2fQUAIIP0O7wdEQMVb2q2OMEhACLRn7ifnTEBdYftaMgdOQM8U96KAOk1A+1EZsOUISkDPU+LfaCZFQIP0YNXYRT1AGP6pvllfM0CkCiqmY1gmQK/Bl2jRCx9AUzK16cW1EEBDB1EhWl4MQL1DavUC6ApAzDCb/XqVGEBzYTIn67EoQLHIB2n3rDVAUJyyLjfzP0BFAlL530JDQHMP2zoGYkVAEzasENLXRkCHLkFwlYNKQDB4d4S/Ck9A18PqthwKUkCMBnaFa8VTQM/aqri1x1RAvJNu+oMlVUCPj5fKYPJUQPEX3W9BsVRAyWRLM3XHVECJKRvpR9tUQMx3B8JqMFVAKMoUsJfRVECOntyx7mVUQBCqVGslZ1NAzUCQpfUmU0BltfEF+bhTQNVCXDgS+FRAsPzEE/weVkA5el5luw1XQAP5i9kw/VdAzTAoyc/hV0DFmlHg7u5WQBnR4F0t2FRA8F0nTNInU0D8ljf6u1hRQOhZ4QadoE9Ac9QebmXFTEAEpQVLYqFKQDGLgxrhfklAUM+t1t8wSUC4D0epGPdJQBvfzTfvb0tAjSiaW8UyT0BFiBQdH/RRQFy6Ed9X/1RAN0ulQzXBVkBBwn9nOyFXQBNOKgTrp1VAX0AZZC7eU0Dj3mwtjj5TQA==",
          "dtype": "f8"
         },
         "yaxis": "y4"
        },
        {
         "line": {
          "color": "#FF6692"
         },
         "mode": "lines",
         "name": "%K",
         "type": "scatter",
         "x": [
          "2020-02-18T00:00:00.000000000",
          "2020-02-19T00:00:00.000000000",
          "2020-02-20T00:00:00.000000000",
          "2020-02-21T00:00:00.000000000",
          "2020-02-24T00:00:00.000000000",
          "2020-02-25T00:00:00.000000000",
          "2020-02-26T00:00:00.000000000",
          "2020-02-27T00:00:00.000000000",
          "2020-02-28T00:00:00.000000000",
          "2020-03-02T00:00:00.000000000",
          "2020-03-03T00:00:00.000000000",
          "2020-03-04T00:00:00.000000000",
          "2020-03-05T00:00:00.000000000",
          "2020-03-06T00:00:00.000000000",
          "2020-03-09T00:00:00.000000000",
          "2020-03-10T00:00:00.000000000",
          "2020-03-11T00:00:00.000000000",
          "2020-03-12T00:00:00.000000000",
          "2020-03-13T00:00:00.000000000",
          "2020-03-16T00:00:00.000000000",
          "2020-03-17T00:00:00.000000000",
          "2020-03-18T00:00:00.000000000",
          "2020-03-19T00:00:00.000000000",
          "2020-03-20T00:00:00.000000000",
          "2020-03-23T00:00:00.000000000",
          "2020-03-24T00:00:00.000000000",
          "2020-03-25T00:00:00.000000000",
          "2020-03-26T00:00:00.000000000",
          "2020-03-27T00:00:00.000000000",
          "2020-03-30T00:00:00.000000000",
          "2020-03-31T00:00:00.000000000",
          "2020-04-01T00:00:00.000000000",
          "2020-04-02T00:00:00.000000000",
          "2020-04-03T00:00:00.000000000",
          "2020-04-06T00:00:00.000000000",
          "2020-04-07T00:00:00.000000000",
          "2020-04-08T00:00:00.000000000",
          "2020-04-09T00:00:00.000000000",
          "2020-04-10T00:00:00.000000000",
          "2020-04-13T00:00:00.000000000",
          "2020-04-14T00:00:00.000000000",
          "2020-04-15T00:00:00.000000000",
          "2020-04-16T00:00:00.000000000",
          "2020-04-17T00:00:00.000000000",
          "2020-04-20T00:00:00.000000000",
          "2020-04-21T00:00:00.000000000",
          "2020-04-22T00:00:00.000000000",
          "2020-04-24T00:00:00.000000000",
          "2020-04-27T00:00:00.000000000",
          "2020-04-28T00:00:00.000000000",
          "2020-04-29T00:00:00.000000000",
          "2020-04-30T00:00:00.000000000",
          "2020-05-04T00:00:00.000000000",
          "2020-05-05T00:00:00.000000000",
          "2020-05-06T00:00:00.000000000",
          "2020-05-07T00:00:00.000000000",
          "2020-05-08T00:00:00.000000000",
          "2020-05-11T00:00:00.000000000",
          "2020-05-12T00:00:00.000000000",
          "2020-05-13T00:00:00.000000000",
          "2020-05-14T00:00:00.000000000",
          "2020-05-15T00:00:00.000000000",
          "2020-05-18T00:00:00.000000000",
          "2020-05-20T00:00:00.000000000",
          "2020-05-21T00:00:00.000000000",
          "2020-05-22T00:00:00.000000000",
          "2020-05-27T00:00:00.000000000",
          "2020-05-28T00:00:00.000000000",
          "2020-05-29T00:00:00.000000000",
          "2020-06-01T00:00:00.000000000",
          "2020-06-02T00:00:00.000000000"
         ],
         "xaxis": "x4",
         "y": {
          "bdata": "w8kBi/5AUkD1H08cLcxRQJG+2DfPNEhAnSW6C2o+QUD4DV2QUgo9QMPznCVvUUNArwOOjAw+SEB/L1RsdvBCQN8qgA5SRUFAGotrxm6pQEAgqgtYDClKQBneF+swv01A3JMTiDrNTkAgssadK4lNQG/4CsMbWUtAYUt6r2k4RUA8b0NaasM9QBSv1Y2ZOi9AA2efNax6KUCrExJeyqcUQFtjdnBRhhVAyH9cutfM/z8sD9il/ycKQBQ+nK7OVBNAXaakO9GrJEB5L1JxxN81QLZr+ZWcaEBABWdp91OUREAWNJNer8tEQD+TlFoPxkZA4NrceLf1SEB1HVJ9+c5PQBy4m8vGLVJArIR7mhIJVEDc1koqaRlVQOM0OmWlNFVAda/GX30iVUBVysWa/39UQAnOClVHcVRA+5URqhhlVUCYGDW8d7tUQNC4z9+vcFVAEY05dJ9IVEDJlYzBfHhTQFPbNwxUdFJATFHsIhCIU0CP87Dihi5VQKWDd6OfMVZA3X4mtc38VkApbH3XxPpXQAAAAAAAAFlAPCb7g6qqVkATqvkcIiJVQPqirXi7u1JAwczOTpmZUUBwqlROvmlPQMPJsSjmRExAIwlW04uhSkAlHAnltP1IQEt8K5di3UhAfdXUB4i3SUBf3dRcX1BLQHDqv0LmR01A7NicOQWAUkCpykD8ZLhUQH2LV2edxVdAfYtXZ53FV0DJL9Bnd9hVQO8uVz2sWVNAYWIkh2doUkBZC8vDlvlTQA==",
          "dtype": "f8"
         },
         "yaxis": "y4"
        },
        {
         "marker": {
          "color": "#B6E880"
         },
         "name": "Volume",
         "type": "bar",
         "x": [
          "2020-02-18T00:00:00.000000000",
          "2020-02-19T00:00:00.000000000",
          "2020-02-20T00:00:00.000000000",
          "2020-02-21T00:00:00.000000000",
          "2020-02-24T00:00:00.000000000",
          "2020-02-25T00:00:00.000000000",
          "2020-02-26T00:00:00.000000000",
          "2020-02-27T00:00:00.000000000",
          "2020-02-28T00:00:00.000000000",
          "2020-03-02T00:00:00.000000000",
          "2020-03-03T00:00:00.000000000",
          "2020-03-04T00:00:00.000000000",
          "2020-03-05T00:00:00.000000000",
          "2020-03-06T00:00:00.000000000",
          "2020-03-09T00:00:00.000000000",
          "2020-03-10T00:00:00.000000000",
          "2020-03-11T00:00:00.000000000",
          "2020-03-12T00:00:00.000000000",
          "2020-03-13T00:00:00.000000000",
          "2020-03-16T00:00:00.000000000",
          "2020-03-17T00:00:00.000000000",
          "2020-03-18T00:00:00.000000000",
          "2020-03-19T00:00:00.000000000",
          "2020-03-20T00:00:00.000000000",
          "2020-03-23T00:00:00.000000000",
          "2020-03-24T00:00:00.000000000",
          "2020-03-25T00:00:00.000000000",
          "2020-03-26T00:00:00.000000000",
          "2020-03-27T00:00:00.000000000",
          "2020-03-30T00:00:00.000000000",
          "2020-03-31T00:00:00.000000000",
          "2020-04-01T00:00:00.000000000",
          "2020-04-02T00:00:00.000000000",
          "2020-04-03T00:00:00.000000000",
          "2020-04-06T00:00:00.000000000",
          "2020-04-07T00:00:00.000000000",
          "2020-04-08T00:00:00.000000000",
          "2020-04-09T00:00:00.000000000",
          "2020-04-10T00:00:00.000000000",
          "2020-04-13T00:00:00.000000000",
          "2020-04-14T00:00:00.000000000",
          "2020-04-15T00:00:00.000000000",
          "2020-04-16T00:00:00.000000000",
          "2020-04-17T00:00:00.000000000",
          "2020-04-20T00:00:00.000000000",
          "2020-04-21T00:00:00.000000000",
          "2020-04-22T00:00:00.000000000",
          "2020-04-24T00:00:00.000000000",
          "2020-04-27T00:00:00.000000000",
          "2020-04-28T00:00:00.000000000",
          "2020-04-29T00:00:00.000000000",
          "2020-04-30T00:00:00.000000000",
          "2020-05-04T00:00:00.000000000",
          "2020-05-05T00:00:00.000000000",
          "2020-05-06T00:00:00.000000000",
          "2020-05-07T00:00:00.000000000",
          "2020-05-08T00:00:00.000000000",
          "2020-05-11T00:00:00.000000000",
          "2020-05-12T00:00:00.000000000",
          "2020-05-13T00:00:00.000000000",
          "2020-05-14T00:00:00.000000000",
          "2020-05-15T00:00:00.000000000",
          "2020-05-18T00:00:00.000000000",
          "2020-05-20T00:00:00.000000000",
          "2020-05-21T00:00:00.000000000",
          "2020-05-22T00:00:00.000000000",
          "2020-05-27T00:00:00.000000000",
          "2020-05-28T00:00:00.000000000",
          "2020-05-29T00:00:00.000000000",
          "2020-06-01T00:00:00.000000000",
          "2020-06-02T00:00:00.000000000"
         ],
         "xaxis": "x5",
         "y": {
          "bdata": "NJA6BKnFcwLebvcBl/urAiD2ywKoeiUChLFzAf52jASLZwABLZruAFpwsgbJs8IBlqrCAGLqCQKHJ5kB9pQNAgAAAACI4BAEtNQrAtnNTgGYA2gCPgf5AYJdJgIihsUBwEGsA8X3+wG/BRAEMjn3A15N4QEJStQC2qgNA/prGQPZSosBKssrA7peDQKlCeIDRppjARma3QFRhFUCgiZzCSmKYwNF/GAF/XdFBcE9YAE078IBzq6UBQ2bXgJsEVcFruwnBV+BcQmtQA4HyaKTCkBUuQwZR94DXJzQAtvmGAfhKwMClWGwASEpawIff1YC4/CKBIXRAAQsVU4DA/XJBfPemw+DB1US2kGvBa0/thCrFv0GeFrkBjZ4Agg=",
          "dtype": "i4"
         },
         "yaxis": "y5"
        }
       ],
       "layout": {
        "annotations": [
         {
          "showarrow": false,
          "text": "ATH_max: 2.01",
          "x": 0,
          "xanchor": "left",
          "xref": "x domain",
          "y": 2.011082887649536,
          "yanchor": "bottom",
          "yref": "y"
         },
         {
          "showarrow": false,
          "text": "ATH_min: 0.70",
          "x": 0,
          "xanchor": "left",
          "xref": "x domain",
          "y": 0.69793301820755,
          "yanchor": "top",
          "yref": "y"
         },
         {
          "font": {
           "size": 20
          },
          "showarrow": false,
          "text": "MACD",
          "x": 0.5,
          "xref": "paper",
          "y": 0.57,
          "yref": "paper"
         },
         {
          "font": {
           "size": 20
          },
          "showarrow": false,
          "text": "RSI",
          "x": 0.5,
          "xref": "paper",
          "y": 0.36,
          "yref": "paper"
         },
         {
          "font": {
           "size": 20
          },
          "showarrow": false,
          "text": "Stochastic",
          "x": 0.5,
          "xref": "paper",
          "y": 0.21,
          "yref": "paper"
         },
         {
          "font": {
           "size": 20
          },
          "showarrow": false,
          "text": "Volume",
          "x": 0.5,
          "xref": "paper",
          "y": 0.078,
          "yref": "paper"
         }
        ],
        "height": 1000,
        "shapes": [
         {
          "line": {
           "color": "green",
           "dash": "dash",
           "width": 2
          },
          "type": "line",
          "x0": 0,
          "x1": 1,
          "xref": "x domain",
          "y0": 2.011082887649536,
          "y1": 2.011082887649536,
          "yref": "y"
         },
         {
          "line": {
           "color": "red",
           "dash": "dash",
           "width": 2
          },
          "type": "line",
          "x0": 0,
          "x1": 1,
          "xref": "x domain",
          "y0": 0.69793301820755,
          "y1": 0.69793301820755,
          "yref": "y"
         },
         {
          "line": {
           "color": "green",
           "dash": "dash",
           "width": 2
          },
          "type": "line",
          "x0": 0,
          "x1": 1,
          "xref": "x3 domain",
          "y0": 30,
          "y1": 30,
          "yref": "y3"
         },
         {
          "line": {
           "color": "red",
           "dash": "dash",
           "width": 2
          },
          "type": "line",
          "x0": 0,
          "x1": 1,
          "xref": "x3 domain",
          "y0": 70,
          "y1": 70,
          "yref": "y3"
         },
         {
          "line": {
           "color": "green",
           "dash": "dash",
           "width": 2
          },
          "type": "line",
          "x0": 0,
          "x1": 1,
          "xref": "x4 domain",
          "y0": 20,
          "y1": 20,
          "yref": "y4"
         },
         {
          "line": {
           "color": "red",
           "dash": "dash",
           "width": 2
          },
          "type": "line",
          "x0": 0,
          "x1": 1,
          "xref": "x4 domain",
          "y0": 80,
          "y1": 80,
          "yref": "y4"
         }
        ],
        "template": {
         "data": {
          "bar": [
           {
            "error_x": {
             "color": "#2a3f5f"
            },
            "error_y": {
             "color": "#2a3f5f"
            },
            "marker": {
             "line": {
              "color": "#E5ECF6",
              "width": 0.5
             },
             "pattern": {
              "fillmode": "overlay",
              "size": 10,
              "solidity": 0.2
             }
            },
            "type": "bar"
           }
          ],
          "barpolar": [
           {
            "marker": {
             "line": {
              "color": "#E5ECF6",
              "width": 0.5
             },
             "pattern": {
              "fillmode": "overlay",
              "size": 10,
              "solidity": 0.2
             }
            },
            "type": "barpolar"
           }
          ],
          "carpet": [
           {
            "aaxis": {
             "endlinecolor": "#2a3f5f",
             "gridcolor": "white",
             "linecolor": "white",
             "minorgridcolor": "white",
             "startlinecolor": "#2a3f5f"
            },
            "baxis": {
             "endlinecolor": "#2a3f5f",
             "gridcolor": "white",
             "linecolor": "white",
             "minorgridcolor": "white",
             "startlinecolor": "#2a3f5f"
            },
            "type": "carpet"
           }
          ],
          "choropleth": [
           {
            "colorbar": {
             "outlinewidth": 0,
             "ticks": ""
            },
            "type": "choropleth"
           }
          ],
          "contour": [
           {
            "colorbar": {
             "outlinewidth": 0,
             "ticks": ""
            },
            "colorscale": [
             [
              0,
              "#0d0887"
             ],
             [
              0.1111111111111111,
              "#46039f"
             ],
             [
              0.2222222222222222,
              "#7201a8"
             ],
             [
              0.3333333333333333,
              "#9c179e"
             ],
             [
              0.4444444444444444,
              "#bd3786"
             ],
             [
              0.5555555555555556,
              "#d8576b"
             ],
             [
              0.6666666666666666,
              "#ed7953"
             ],
             [
              0.7777777777777778,
              "#fb9f3a"
             ],
             [
              0.8888888888888888,
              "#fdca26"
             ],
             [
              1,
              "#f0f921"
             ]
            ],
            "type": "contour"
           }
          ],
          "contourcarpet": [
           {
            "colorbar": {
             "outlinewidth": 0,
             "ticks": ""
            },
            "type": "contourcarpet"
           }
          ],
          "heatmap": [
           {
            "colorbar": {
             "outlinewidth": 0,
             "ticks": ""
            },
            "colorscale": [
             [
              0,
              "#0d0887"
             ],
             [
              0.1111111111111111,
              "#46039f"
             ],
             [
              0.2222222222222222,
              "#7201a8"
             ],
             [
              0.3333333333333333,
              "#9c179e"
             ],
             [
              0.4444444444444444,
              "#bd3786"
             ],
             [
              0.5555555555555556,
              "#d8576b"
             ],
             [
              0.6666666666666666,
              "#ed7953"
             ],
             [
              0.7777777777777778,
              "#fb9f3a"
             ],
             [
              0.8888888888888888,
              "#fdca26"
             ],
             [
              1,
              "#f0f921"
             ]
            ],
            "type": "heatmap"
           }
          ],
          "histogram": [
           {
            "marker": {
             "pattern": {
              "fillmode": "overlay",
              "size": 10,
              "solidity": 0.2
             }
            },
            "type": "histogram"
           }
          ],
          "histogram2d": [
           {
            "colorbar": {
             "outlinewidth": 0,
             "ticks": ""
            },
            "colorscale": [
             [
              0,
              "#0d0887"
             ],
             [
              0.1111111111111111,
              "#46039f"
             ],
             [
              0.2222222222222222,
              "#7201a8"
             ],
             [
              0.3333333333333333,
              "#9c179e"
             ],
             [
              0.4444444444444444,
              "#bd3786"
             ],
             [
              0.5555555555555556,
              "#d8576b"
             ],
             [
              0.6666666666666666,
              "#ed7953"
             ],
             [
              0.7777777777777778,
              "#fb9f3a"
             ],
             [
              0.8888888888888888,
              "#fdca26"
             ],
             [
              1,
              "#f0f921"
             ]
            ],
            "type": "histogram2d"
           }
          ],
          "histogram2dcontour": [
           {
            "colorbar": {
             "outlinewidth": 0,
             "ticks": ""
            },
            "colorscale": [
             [
              0,
              "#0d0887"
             ],
             [
              0.1111111111111111,
              "#46039f"
             ],
             [
              0.2222222222222222,
              "#7201a8"
             ],
             [
              0.3333333333333333,
              "#9c179e"
             ],
             [
              0.4444444444444444,
              "#bd3786"
             ],
             [
              0.5555555555555556,
              "#d8576b"
             ],
             [
              0.6666666666666666,
              "#ed7953"
             ],
             [
              0.7777777777777778,
              "#fb9f3a"
             ],
             [
              0.8888888888888888,
              "#fdca26"
             ],
             [
              1,
              "#f0f921"
             ]
            ],
            "type": "histogram2dcontour"
           }
          ],
          "mesh3d": [
           {
            "colorbar": {
             "outlinewidth": 0,
             "ticks": ""
            },
            "type": "mesh3d"
           }
          ],
          "parcoords": [
           {
            "line": {
             "colorbar": {
              "outlinewidth": 0,
              "ticks": ""
             }
            },
            "type": "parcoords"
           }
          ],
          "pie": [
           {
            "automargin": true,
            "type": "pie"
           }
          ],
          "scatter": [
           {
            "fillpattern": {
             "fillmode": "overlay",
             "size": 10,
             "solidity": 0.2
            },
            "type": "scatter"
           }
          ],
          "scatter3d": [
           {
            "line": {
             "colorbar": {
              "outlinewidth": 0,
              "ticks": ""
             }
            },
            "marker": {
             "colorbar": {
              "outlinewidth": 0,
              "ticks": ""
             }
            },
            "type": "scatter3d"
           }
          ],
          "scattercarpet": [
           {
            "marker": {
             "colorbar": {
              "outlinewidth": 0,
              "ticks": ""
             }
            },
            "type": "scattercarpet"
           }
          ],
          "scattergeo": [
           {
            "marker": {
             "colorbar": {
              "outlinewidth": 0,
              "ticks": ""
             }
            },
            "type": "scattergeo"
           }
          ],
          "scattergl": [
           {
            "marker": {
             "colorbar": {
              "outlinewidth": 0,
              "ticks": ""
             }
            },
            "type": "scattergl"
           }
          ],
          "scattermap": [
           {
            "marker": {
             "colorbar": {
              "outlinewidth": 0,
              "ticks": ""
             }
            },
            "type": "scattermap"
           }
          ],
          "scattermapbox": [
           {
            "marker": {
             "colorbar": {
              "outlinewidth": 0,
              "ticks": ""
             }
            },
            "type": "scattermapbox"
           }
          ],
          "scatterpolar": [
           {
            "marker": {
             "colorbar": {
              "outlinewidth": 0,
              "ticks": ""
             }
            },
            "type": "scatterpolar"
           }
          ],
          "scatterpolargl": [
           {
            "marker": {
             "colorbar": {
              "outlinewidth": 0,
              "ticks": ""
             }
            },
            "type": "scatterpolargl"
           }
          ],
          "scatterternary": [
           {
            "marker": {
             "colorbar": {
              "outlinewidth": 0,
              "ticks": ""
             }
            },
            "type": "scatterternary"
           }
          ],
          "surface": [
           {
            "colorbar": {
             "outlinewidth": 0,
             "ticks": ""
            },
            "colorscale": [
             [
              0,
              "#0d0887"
             ],
             [
              0.1111111111111111,
              "#46039f"
             ],
             [
              0.2222222222222222,
              "#7201a8"
             ],
             [
              0.3333333333333333,
              "#9c179e"
             ],
             [
              0.4444444444444444,
              "#bd3786"
             ],
             [
              0.5555555555555556,
              "#d8576b"
             ],
             [
              0.6666666666666666,
              "#ed7953"
             ],
             [
              0.7777777777777778,
              "#fb9f3a"
             ],
             [
              0.8888888888888888,
              "#fdca26"
             ],
             [
              1,
              "#f0f921"
             ]
            ],
            "type": "surface"
           }
          ],
          "table": [
           {
            "cells": {
             "fill": {
              "color": "#EBF0F8"
             },
             "line": {
              "color": "white"
             }
            },
            "header": {
             "fill": {
              "color": "#C8D4E3"
             },
             "line": {
              "color": "white"
             }
            },
            "type": "table"
           }
          ]
         },
         "layout": {
          "annotationdefaults": {
           "arrowcolor": "#2a3f5f",
           "arrowhead": 0,
           "arrowwidth": 1
          },
          "autotypenumbers": "strict",
          "coloraxis": {
           "colorbar": {
            "outlinewidth": 0,
            "ticks": ""
           }
          },
          "colorscale": {
           "diverging": [
            [
             0,
             "#8e0152"
            ],
            [
             0.1,
             "#c51b7d"
            ],
            [
             0.2,
             "#de77ae"
            ],
            [
             0.3,
             "#f1b6da"
            ],
            [
             0.4,
             "#fde0ef"
            ],
            [
             0.5,
             "#f7f7f7"
            ],
            [
             0.6,
             "#e6f5d0"
            ],
            [
             0.7,
             "#b8e186"
            ],
            [
             0.8,
             "#7fbc41"
            ],
            [
             0.9,
             "#4d9221"
            ],
            [
             1,
             "#276419"
            ]
           ],
           "sequential": [
            [
             0,
             "#0d0887"
            ],
            [
             0.1111111111111111,
             "#46039f"
            ],
            [
             0.2222222222222222,
             "#7201a8"
            ],
            [
             0.3333333333333333,
             "#9c179e"
            ],
            [
             0.4444444444444444,
             "#bd3786"
            ],
            [
             0.5555555555555556,
             "#d8576b"
            ],
            [
             0.6666666666666666,
             "#ed7953"
            ],
            [
             0.7777777777777778,
             "#fb9f3a"
            ],
            [
             0.8888888888888888,
             "#fdca26"
            ],
            [
             1,
             "#f0f921"
            ]
           ],
           "sequentialminus": [
            [
             0,
             "#0d0887"
            ],
            [
             0.1111111111111111,
             "#46039f"
            ],
            [
             0.2222222222222222,
             "#7201a8"
            ],
            [
             0.3333333333333333,
             "#9c179e"
            ],
            [
             0.4444444444444444,
             "#bd3786"
            ],
            [
             0.5555555555555556,
             "#d8576b"
            ],
            [
             0.6666666666666666,
             "#ed7953"
            ],
            [
             0.7777777777777778,
             "#fb9f3a"
            ],
            [
             0.8888888888888888,
             "#fdca26"
            ],
            [
             1,
             "#f0f921"
            ]
           ]
          },
          "colorway": [
           "#636efa",
           "#EF553B",
           "#00cc96",
           "#ab63fa",
           "#FFA15A",
           "#19d3f3",
           "#FF6692",
           "#B6E880",
           "#FF97FF",
           "#FECB52"
          ],
          "font": {
           "color": "#2a3f5f"
          },
          "geo": {
           "bgcolor": "white",
           "lakecolor": "white",
           "landcolor": "#E5ECF6",
           "showlakes": true,
           "showland": true,
           "subunitcolor": "white"
          },
          "hoverlabel": {
           "align": "left"
          },
          "hovermode": "closest",
          "mapbox": {
           "style": "light"
          },
          "paper_bgcolor": "white",
          "plot_bgcolor": "#E5ECF6",
          "polar": {
           "angularaxis": {
            "gridcolor": "white",
            "linecolor": "white",
            "ticks": ""
           },
           "bgcolor": "#E5ECF6",
           "radialaxis": {
            "gridcolor": "white",
            "linecolor": "white",
            "ticks": ""
           }
          },
          "scene": {
           "xaxis": {
            "backgroundcolor": "#E5ECF6",
            "gridcolor": "white",
            "gridwidth": 2,
            "linecolor": "white",
            "showbackground": true,
            "ticks": "",
            "zerolinecolor": "white"
           },
           "yaxis": {
            "backgroundcolor": "#E5ECF6",
            "gridcolor": "white",
            "gridwidth": 2,
            "linecolor": "white",
            "showbackground": true,
            "ticks": "",
            "zerolinecolor": "white"
           },
           "zaxis": {
            "backgroundcolor": "#E5ECF6",
            "gridcolor": "white",
            "gridwidth": 2,
            "linecolor": "white",
            "showbackground": true,
            "ticks": "",
            "zerolinecolor": "white"
           }
          },
          "shapedefaults": {
           "line": {
            "color": "#2a3f5f"
           }
          },
          "ternary": {
           "aaxis": {
            "gridcolor": "white",
            "linecolor": "white",
            "ticks": ""
           },
           "baxis": {
            "gridcolor": "white",
            "linecolor": "white",
            "ticks": ""
           },
           "bgcolor": "#E5ECF6",
           "caxis": {
            "gridcolor": "white",
            "linecolor": "white",
            "ticks": ""
           }
          },
          "title": {
           "x": 0.05
          },
          "xaxis": {
           "automargin": true,
           "gridcolor": "white",
           "linecolor": "white",
           "ticks": "",
           "title": {
            "standoff": 15
           },
           "zerolinecolor": "white",
           "zerolinewidth": 2
          },
          "yaxis": {
           "automargin": true,
           "gridcolor": "white",
           "linecolor": "white",
           "ticks": "",
           "title": {
            "standoff": 15
           },
           "zerolinecolor": "white",
           "zerolinewidth": 2
          }
         }
        },
        "title": {
         "font": {
          "size": 20
         },
         "text": "AVOD.IS",
         "x": 0.5,
         "y": 0.93
        },
        "width": 1000,
        "xaxis": {
         "anchor": "y",
         "domain": [
          0,
          1
         ],
         "matches": "x5",
         "rangebreaks": [
          {
           "bounds": [
            "sat",
            "mon"
           ],
           "pattern": "day of week"
          },
          {
           "values": [
            "2020-04-23",
            "2020-05-01",
            "2020-05-19",
            "2020-05-25",
            "2020-05-26"
           ]
          }
         ],
         "rangeslider": {
          "visible": false
         },
         "showticklabels": false
        },
        "xaxis2": {
         "anchor": "y2",
         "domain": [
          0,
          1
         ],
         "matches": "x5",
         "rangebreaks": [
          {
           "bounds": [
            "sat",
            "mon"
           ],
           "pattern": "day of week"
          },
          {
           "values": [
            "2020-04-23",
            "2020-05-01",
            "2020-05-19",
            "2020-05-25",
            "2020-05-26"
           ]
          }
         ],
         "showticklabels": false
        },
        "xaxis3": {
         "anchor": "y3",
         "domain": [
          0,
          1
         ],
         "matches": "x5",
         "rangebreaks": [
          {
           "bounds": [
            "sat",
            "mon"
           ],
           "pattern": "day of week"
          },
          {
           "values": [
            "2020-04-23",
            "2020-05-01",
            "2020-05-19",
            "2020-05-25",
            "2020-05-26"
           ]
          }
         ],
         "showticklabels": false
        },
        "xaxis4": {
         "anchor": "y4",
         "domain": [
          0,
          1
         ],
         "matches": "x5",
         "rangebreaks": [
          {
           "bounds": [
            "sat",
            "mon"
           ],
           "pattern": "day of week"
          },
          {
           "values": [
            "2020-04-23",
            "2020-05-01",
            "2020-05-19",
            "2020-05-25",
            "2020-05-26"
           ]
          }
         ],
         "showticklabels": false
        },
        "xaxis5": {
         "anchor": "y5",
         "domain": [
          0,
          1
         ],
         "rangebreaks": [
          {
           "bounds": [
            "sat",
            "mon"
           ],
           "pattern": "day of week"
          },
          {
           "values": [
            "2020-04-23",
            "2020-05-01",
            "2020-05-19",
            "2020-05-25",
            "2020-05-26"
           ]
          }
         ]
        },
        "yaxis": {
         "anchor": "x",
         "domain": [
          0.6000000000000001,
          1
         ]
        },
        "yaxis2": {
         "anchor": "x2",
         "domain": [
          0.39000000000000007,
          0.55
         ]
        },
        "yaxis3": {
         "anchor": "x3",
         "domain": [
          0.26,
          0.34
         ]
        },
        "yaxis4": {
         "anchor": "x4",
         "domain": [
          0.13,
          0.21000000000000002
         ]
        },
        "yaxis5": {
         "anchor": "x5",
         "domain": [
          0,
          0.08000000000000002
         ]
        }
       }
      }
     },
     "metadata": {},
     "output_type": "display_data"
    },
    {
     "data": {
      "application/vnd.plotly.v1+json": {
       "config": {
        "plotlyServerURL": "https://plot.ly"
       },
       "data": [
        {
         "close": {
          "bdata": "AAAAoIO18D8BAADADJvuPwEAAMAMm+4/AAAAoAVM6z8AAACgbPXrPwAAAGDMT+k/AAAAADsp5z8AAAAgLKrmPwAAAKB3VeY/AAAAYIbU5j8AAACAvdDoPwAAAOBfdus/AAAAALig6z8AAAAgIUrsPwAAAECrIes/AAAAALig6z8AAABge3TsPwAAAKBs9es/AAAAQBLL6z8AAACgbPXrPwAAACCI8+w/AAAAICFK7D8AAAAgIUrsPwAAAAAwyew/AAAAIIjz7D8AAADgdUTvPwAAAOB1RO8/////39zt7z8AAADASCHwP////9/c7e8/AAAA4HU28D8AAADAsMrwPwAAAMCwyvA/AAAAgL5J8T8AAAAgFtzyPwAAAAD0rfQ/AAAAQFm/9j8BAACgEKz1PwAAACAtqvY/AAAAgOOW9T8AAABgE0T0PwAAAGB77fQ/AAAAgEBZ9D8AAAAAuRn0P////z/mLvQ/AAAAICHD9D8AAABge+30PwAAAIDjlvU/AAAAwKVq9j8AAABgZab4P////x/bzvk/AAAAQE5f/D////+/SC//PwAAAAD0NPw/AAAA4Gpd/T8AAACgshYAQAAAAKAbGv8/AAAAgO4E/z8BAACAS8f9PwAAAICoifw/AAAAoAVM+z8AAABge3T8P////z/mtfs/AAAAQKsh+z8AAACAnaL6PwAAAODHH/w/AAAA4AK0/D8AAACgbfX7PwAAAKBt9fs/////P+a1+z8AAABgE8v7PwAAAAAwyfw/AAAAQPGc/T//////l3L9PwAAAGDB7/4/AAAAgCqZ/z////+/SC//PwAAAOB1RP8/AQAAQP11AEAAAABgk4AAQA==",
          "dtype": "f8"
         },
         "high": {
          "bdata": "AAAA4IAd8j8AAABAoLPxPwEAAMAMm+4/AAAAgFag8D8AAABg4h3tPwAAAKAFTOs/AAAAoI0j6j8AAABg7X3nPwAAAAA7Kec/AAAAYO195z8AAADAF/voPwAAAOBfdus/AQAAAJdy7T8AAAAAMMnsPwAAAGB7dOw/AAAAQBLL6z8AAAAAMMnsP////588SO0/AAAAYHt07D8AAAAgiPPsPwAAAGDiHe0/AAAAwKXx7T8AAAAAMMnsPwAAACCI8+w/////nzxI7T8BAACggsPvPwAAACDQYPA/AAAAAKNL8D8BAABAOArxPwEAAED9dfA/AQAAQP118D8AAABgZR/xPwAAAGCRNPE/AAAAYM3I8T8AAAAgFtzyPwAAAAD0rfQ/AAAAQFm/9j8BAABAOJH4PwAAACDQ5/c/AAAAIGg+9z8AAADAPcH1PwAAAOBq1vU/AAAAgOOW9T8AAABATtj0PwAAAICoAvU/AAAAADBC9T8AAABAtoH1PwAAACDEAPY/AAAA4NJ/9j8AAABgZab4PwAAAABR9/o/AAAAQE5f/D////+/SC//PwAAAODd3wBAAAAAIAAc/j8AAACgshYAQAAAAOBH1QBAAAAAINBgAEAAAADgdUT/PwAAAEDxnP0/AAAA4AK0/D8AAACAqIn8PwAAAAD0NPw/AAAA4Mcf/D8AAAAAUff6PwAAACAhSvw/AAAAQPGc/T8BAACg1Z78PwAAAAAwyfw/AAAA4Mcf/D8BAADAmgr8PwAAAIDjHf0/////39IG/j8AAADApfH9PwAAACDQbv8/AQAAAN7t/z8AAAAgHAwAQAAAAKCDw/8/AAAA4CmLAEAAAACAdOoAQA==",
          "dtype": "f8"
         },
         "low": {
          "bdata": "AQAAoILD7z8AAADApfHtPwEAAMAMm+4/AAAAQKsh6z8AAACgjSPqPwAAAGDMT+k/AAAAYIbU5j8AAAAAwwDmPwAAAKAQrOU/AAAA4NF/5j8AAACgEKzlPwAAACByJek/AAAAAFH36j8AAAAAUffqPwAAAICcouo/AAAAgDX56T8AAABAEsvrPwAAAKAFTOs/AAAAoAVM6z8AAADgX3brPwAAACAhSuw/AAAAoGz16z8AAADgX3brPwAAAKBs9es/AAAAYHt07D8AAACg1Z7sPwAAAKAbGu8/AAAAYHt07D8AAACAKpnvPwAAACDQbu8/AQAAoILD7z/////f3O3vPwAAAKCDtfA/AAAAoIO18D8AAADA617xPwAAAMC7sfI/AQAAoNUX9T8AAAAA9K30PwAAAEBO2PQ/////vwIt9T8AAABgE0T0PwAAAICdG/M/////P+Yu9D8AAADAXu/zPwAAAMAy2vM/AAAAYBNE9D8AAABgE0T0PwAAAICoAvU/AAAA4GrW9T8AAABgHiv2PwEAAED9/Pc/AAAAYM1P+T8BAACgEDP9PwAAAODHH/w/AAAAICFK/D8AAAAgxYf9PwAAAAA7sP4/////39IG/j8AAABATl/8PwAAACAhSvw/AAAAIH4M+z8AAAAARhD5PwAAAMAyYfs/AAAA4CPi+j8AAADggKT5PwAAAKBiDvo/AAAAYBPL+z8AAABgE8v7PwAAAMAyYfs/AAAAwDJh+z8AAACgBUz7P////9+Li/s/AAAAgEDg+z8AAACAqIn8P/////+Xcv0/AAAAADuw/j8BAAAgaMX+PwEAAEAtMf4/AAAAYMHv/j8AAADgsNj/Pw==",
          "dtype": "f8"
         },
         "name": "Candlestick",
         "open": {
          "bdata": "AAAAgL5J8T8AAADgGHTxPwEAAMAMm+4/AAAAoBsa7z8AAADgX3brPwAAAEBCeOo/AAAAoCZ66T8AAADg0X/mPwAAAEAdK+Y/AAAAQJVT5z8AAACgd1XmPwAAAKCNI+o/AAAAQBLL6z8AAAAAuKDrPwAAAGB7dOw/AAAAAFH36j8AAACgbPXrPwAAAAC4oOs/AAAAICFK7D8AAAAAuKDrPwAAAKDVnuw/////nzxI7T8AAABge3TsPwAAAGB7dOw/AAAAIIjz7D8AAAAgiPPsPwEAAKCCw+8/AAAAINBu7z8AAADASCHwPwAAACDQYPA/AAAAoBsM8D8AAADASCHwPwAAAAAL9fA/AAAAoIO18D8AAADA617xPwAAAABRcPM/AAAAQPEV9j8AAACggzz4PwAAAAAwQvU/AAAAwOD+9j8AAACA45b1P////9+LBPQ/////vwIt9T8AAACgbW70P////9+LBPQ/AAAAYBNE9D8AAAAA9K30PwEAAKDVF/U/AAAAAJjr9T8AAABghtT2PwAAAECgOvk/AAAAYAjk+T8AAADAPUj9PwEAAED9dQBAAAAAICFK/D8AAAAgxYf9PwAAAGCTgABAAAAAINBu/z8AAABATl/8P////1+2CP0/AAAAYHt0/D8AAACgBUz7PwAAAKBt9fs/////34uL+z8AAADggKT5PwEAAADpTfo/AAAAICFK/D8AAACAqIn8PwAAAGATy/s/AAAAgEDg+z////8/5rX7PwAAAGATy/s/////H13e/D8AAABA8Zz9P/////+Xcv0/AAAAgO4E/z8AAACAVq7/P////79IL/8/AQAAAKNZ/z8AAAAg0GAAQA==",
          "dtype": "f8"
         },
         "type": "candlestick",
         "x": [
          "2020-03-09T00:00:00.000000000",
          "2020-03-10T00:00:00.000000000",
          "2020-03-11T00:00:00.000000000",
          "2020-03-12T00:00:00.000000000",
          "2020-03-13T00:00:00.000000000",
          "2020-03-16T00:00:00.000000000",
          "2020-03-17T00:00:00.000000000",
          "2020-03-18T00:00:00.000000000",
          "2020-03-19T00:00:00.000000000",
          "2020-03-20T00:00:00.000000000",
          "2020-03-23T00:00:00.000000000",
          "2020-03-24T00:00:00.000000000",
          "2020-03-25T00:00:00.000000000",
          "2020-03-26T00:00:00.000000000",
          "2020-03-27T00:00:00.000000000",
          "2020-03-30T00:00:00.000000000",
          "2020-03-31T00:00:00.000000000",
          "2020-04-01T00:00:00.000000000",
          "2020-04-02T00:00:00.000000000",
          "2020-04-03T00:00:00.000000000",
          "2020-04-06T00:00:00.000000000",
          "2020-04-07T00:00:00.000000000",
          "2020-04-08T00:00:00.000000000",
          "2020-04-09T00:00:00.000000000",
          "2020-04-10T00:00:00.000000000",
          "2020-04-13T00:00:00.000000000",
          "2020-04-14T00:00:00.000000000",
          "2020-04-15T00:00:00.000000000",
          "2020-04-16T00:00:00.000000000",
          "2020-04-17T00:00:00.000000000",
          "2020-04-20T00:00:00.000000000",
          "2020-04-21T00:00:00.000000000",
          "2020-04-22T00:00:00.000000000",
          "2020-04-24T00:00:00.000000000",
          "2020-04-27T00:00:00.000000000",
          "2020-04-28T00:00:00.000000000",
          "2020-04-29T00:00:00.000000000",
          "2020-04-30T00:00:00.000000000",
          "2020-05-04T00:00:00.000000000",
          "2020-05-05T00:00:00.000000000",
          "2020-05-06T00:00:00.000000000",
          "2020-05-07T00:00:00.000000000",
          "2020-05-08T00:00:00.000000000",
          "2020-05-11T00:00:00.000000000",
          "2020-05-12T00:00:00.000000000",
          "2020-05-13T00:00:00.000000000",
          "2020-05-14T00:00:00.000000000",
          "2020-05-15T00:00:00.000000000",
          "2020-05-18T00:00:00.000000000",
          "2020-05-20T00:00:00.000000000",
          "2020-05-21T00:00:00.000000000",
          "2020-05-22T00:00:00.000000000",
          "2020-05-27T00:00:00.000000000",
          "2020-05-28T00:00:00.000000000",
          "2020-05-29T00:00:00.000000000",
          "2020-06-01T00:00:00.000000000",
          "2020-06-02T00:00:00.000000000",
          "2020-06-03T00:00:00.000000000",
          "2020-06-04T00:00:00.000000000",
          "2020-06-05T00:00:00.000000000",
          "2020-06-08T00:00:00.000000000",
          "2020-06-09T00:00:00.000000000",
          "2020-06-10T00:00:00.000000000",
          "2020-06-11T00:00:00.000000000",
          "2020-06-12T00:00:00.000000000",
          "2020-06-15T00:00:00.000000000",
          "2020-06-16T00:00:00.000000000",
          "2020-06-17T00:00:00.000000000",
          "2020-06-18T00:00:00.000000000",
          "2020-06-19T00:00:00.000000000",
          "2020-06-22T00:00:00.000000000",
          "2020-06-23T00:00:00.000000000",
          "2020-06-24T00:00:00.000000000",
          "2020-06-25T00:00:00.000000000",
          "2020-06-26T00:00:00.000000000",
          "2020-06-29T00:00:00.000000000",
          "2020-06-30T00:00:00.000000000",
          "2020-07-01T00:00:00.000000000",
          "2020-07-02T00:00:00.000000000",
          "2020-07-03T00:00:00.000000000"
         ],
         "xaxis": "x",
         "yaxis": "y"
        },
        {
         "marker": {
          "color": "green",
          "size": 14,
          "symbol": "triangle-up"
         },
         "mode": "markers",
         "name": "Alım",
         "type": "scatter",
         "x": [
          "2020-07-02T00:00:00"
         ],
         "xaxis": "x",
         "y": [
          1.933534026145935
         ],
         "yaxis": "y"
        },
        {
         "marker": {
          "color": "red",
          "size": 14,
          "symbol": "triangle-down"
         },
         "mode": "markers",
         "name": "Satım",
         "type": "scatter",
         "x": [
          "2020-07-03T00:00:00"
         ],
         "xaxis": "x",
         "y": [
          2.1144800186157227
         ],
         "yaxis": "y"
        },
        {
         "line": {
          "color": "#EE553B"
         },
         "mode": "lines",
         "name": "MACD",
         "type": "scatter",
         "x": [
          "2020-03-09T00:00:00.000000000",
          "2020-03-10T00:00:00.000000000",
          "2020-03-11T00:00:00.000000000",
          "2020-03-12T00:00:00.000000000",
          "2020-03-13T00:00:00.000000000",
          "2020-03-16T00:00:00.000000000",
          "2020-03-17T00:00:00.000000000",
          "2020-03-18T00:00:00.000000000",
          "2020-03-19T00:00:00.000000000",
          "2020-03-20T00:00:00.000000000",
          "2020-03-23T00:00:00.000000000",
          "2020-03-24T00:00:00.000000000",
          "2020-03-25T00:00:00.000000000",
          "2020-03-26T00:00:00.000000000",
          "2020-03-27T00:00:00.000000000",
          "2020-03-30T00:00:00.000000000",
          "2020-03-31T00:00:00.000000000",
          "2020-04-01T00:00:00.000000000",
          "2020-04-02T00:00:00.000000000",
          "2020-04-03T00:00:00.000000000",
          "2020-04-06T00:00:00.000000000",
          "2020-04-07T00:00:00.000000000",
          "2020-04-08T00:00:00.000000000",
          "2020-04-09T00:00:00.000000000",
          "2020-04-10T00:00:00.000000000",
          "2020-04-13T00:00:00.000000000",
          "2020-04-14T00:00:00.000000000",
          "2020-04-15T00:00:00.000000000",
          "2020-04-16T00:00:00.000000000",
          "2020-04-17T00:00:00.000000000",
          "2020-04-20T00:00:00.000000000",
          "2020-04-21T00:00:00.000000000",
          "2020-04-22T00:00:00.000000000",
          "2020-04-24T00:00:00.000000000",
          "2020-04-27T00:00:00.000000000",
          "2020-04-28T00:00:00.000000000",
          "2020-04-29T00:00:00.000000000",
          "2020-04-30T00:00:00.000000000",
          "2020-05-04T00:00:00.000000000",
          "2020-05-05T00:00:00.000000000",
          "2020-05-06T00:00:00.000000000",
          "2020-05-07T00:00:00.000000000",
          "2020-05-08T00:00:00.000000000",
          "2020-05-11T00:00:00.000000000",
          "2020-05-12T00:00:00.000000000",
          "2020-05-13T00:00:00.000000000",
          "2020-05-14T00:00:00.000000000",
          "2020-05-15T00:00:00.000000000",
          "2020-05-18T00:00:00.000000000",
          "2020-05-20T00:00:00.000000000",
          "2020-05-21T00:00:00.000000000",
          "2020-05-22T00:00:00.000000000",
          "2020-05-27T00:00:00.000000000",
          "2020-05-28T00:00:00.000000000",
          "2020-05-29T00:00:00.000000000",
          "2020-06-01T00:00:00.000000000",
          "2020-06-02T00:00:00.000000000",
          "2020-06-03T00:00:00.000000000",
          "2020-06-04T00:00:00.000000000",
          "2020-06-05T00:00:00.000000000",
          "2020-06-08T00:00:00.000000000",
          "2020-06-09T00:00:00.000000000",
          "2020-06-10T00:00:00.000000000",
          "2020-06-11T00:00:00.000000000",
          "2020-06-12T00:00:00.000000000",
          "2020-06-15T00:00:00.000000000",
          "2020-06-16T00:00:00.000000000",
          "2020-06-17T00:00:00.000000000",
          "2020-06-18T00:00:00.000000000",
          "2020-06-19T00:00:00.000000000",
          "2020-06-22T00:00:00.000000000",
          "2020-06-23T00:00:00.000000000",
          "2020-06-24T00:00:00.000000000",
          "2020-06-25T00:00:00.000000000",
          "2020-06-26T00:00:00.000000000",
          "2020-06-29T00:00:00.000000000",
          "2020-06-30T00:00:00.000000000",
          "2020-07-01T00:00:00.000000000",
          "2020-07-02T00:00:00.000000000",
          "2020-07-03T00:00:00.000000000"
         ],
         "xaxis": "x2",
         "y": {
          "bdata": "AJpOHZqFi78AJK/4weGZv6BkAcSriqG/oEAIol8rqb+gwDpunwOuv1CBwOZTbLK/eDa/MxpDtr/QcpKPOFW5v9AJYudGqbu/iDiLKX3avL8AFep/GzG8v+jNSVu0qbm/6KtOp5ZIt79A83DqUbu0v/hhWjc2PLO/qCgT9NuGsb/QG1vc2+uuv9BRvD4D96u/4C0v6YOKqb9AKQPYzCOnv1CTiuRYuqO/IIiucq6sob/gsS8bi7qfv6CnfAB/Q5u/YPxXvlAIl78AH+zczRWLv4C97t4G0He/AF4c+hsAXD+ApOktTziBP0A+1+9pFYo/wJnULuWhkT/g9B409vuXP6CPj3D5r5w/kH/oHyFKoT+AVctlmmmnP9DTvp9MS7A/AB6ZPaZXtj9wKG4nNHS5P7AbG6Nc3rw/UNbeoajXvT+AlR9WeJO8P/DX68VUGrw/ABuMwT2suj9Q8x2jhO64P3AHBj+ZY7c/0KaL2CWntj8wLiqKeAe2P4CwOrxSIrY/kM6SHhEFtz9w1F2LT026PwDT+7NGDb4/sJnrl8n1wT+oEuwxX9nFP9iHW+Qkv8Y/KHYWSQDuxz+AJzaE8WDKP6iawbF/T8s/0MiaNjatyz+QRoafLtvKP5DCcSySHck/CAUeSnesxj/IMYjkwT3FP5hrqiXbZsM/oAOhd7dewT8wDimS4oa+P3BBJ9pPx7w/AD3tvOLRuz+wnxwXMM25P+AZcEUY7bc/QGEmEhHetT9Qvc+7Yhy0P8CFtKS8xbM/cM2FqXBWtD9QupJUbVa0P0BzOc2UAbY/8IOdEEbotz+wz/0yspi4P7AQfaAw9rg/cG7/FS0Tuz+wDEzcD4e8Pw==",
          "dtype": "f8"
         },
         "yaxis": "y2"
        },
        {
         "line": {
          "color": "#00CC96"
         },
         "mode": "lines",
         "name": "Signal",
         "type": "scatter",
         "x": [
          "2020-03-09T00:00:00.000000000",
          "2020-03-10T00:00:00.000000000",
          "2020-03-11T00:00:00.000000000",
          "2020-03-12T00:00:00.000000000",
          "2020-03-13T00:00:00.000000000",
          "2020-03-16T00:00:00.000000000",
          "2020-03-17T00:00:00.000000000",
          "2020-03-18T00:00:00.000000000",
          "2020-03-19T00:00:00.000000000",
          "2020-03-20T00:00:00.000000000",
          "2020-03-23T00:00:00.000000000",
          "2020-03-24T00:00:00.000000000",
          "2020-03-25T00:00:00.000000000",
          "2020-03-26T00:00:00.000000000",
          "2020-03-27T00:00:00.000000000",
          "2020-03-30T00:00:00.000000000",
          "2020-03-31T00:00:00.000000000",
          "2020-04-01T00:00:00.000000000",
          "2020-04-02T00:00:00.000000000",
          "2020-04-03T00:00:00.000000000",
          "2020-04-06T00:00:00.000000000",
          "2020-04-07T00:00:00.000000000",
          "2020-04-08T00:00:00.000000000",
          "2020-04-09T00:00:00.000000000",
          "2020-04-10T00:00:00.000000000",
          "2020-04-13T00:00:00.000000000",
          "2020-04-14T00:00:00.000000000",
          "2020-04-15T00:00:00.000000000",
          "2020-04-16T00:00:00.000000000",
          "2020-04-17T00:00:00.000000000",
          "2020-04-20T00:00:00.000000000",
          "2020-04-21T00:00:00.000000000",
          "2020-04-22T00:00:00.000000000",
          "2020-04-24T00:00:00.000000000",
          "2020-04-27T00:00:00.000000000",
          "2020-04-28T00:00:00.000000000",
          "2020-04-29T00:00:00.000000000",
          "2020-04-30T00:00:00.000000000",
          "2020-05-04T00:00:00.000000000",
          "2020-05-05T00:00:00.000000000",
          "2020-05-06T00:00:00.000000000",
          "2020-05-07T00:00:00.000000000",
          "2020-05-08T00:00:00.000000000",
          "2020-05-11T00:00:00.000000000",
          "2020-05-12T00:00:00.000000000",
          "2020-05-13T00:00:00.000000000",
          "2020-05-14T00:00:00.000000000",
          "2020-05-15T00:00:00.000000000",
          "2020-05-18T00:00:00.000000000",
          "2020-05-20T00:00:00.000000000",
          "2020-05-21T00:00:00.000000000",
          "2020-05-22T00:00:00.000000000",
          "2020-05-27T00:00:00.000000000",
          "2020-05-28T00:00:00.000000000",
          "2020-05-29T00:00:00.000000000",
          "2020-06-01T00:00:00.000000000",
          "2020-06-02T00:00:00.000000000",
          "2020-06-03T00:00:00.000000000",
          "2020-06-04T00:00:00.000000000",
          "2020-06-05T00:00:00.000000000",
          "2020-06-08T00:00:00.000000000",
          "2020-06-09T00:00:00.000000000",
          "2020-06-10T00:00:00.000000000",
          "2020-06-11T00:00:00.000000000",
          "2020-06-12T00:00:00.000000000",
          "2020-06-15T00:00:00.000000000",
          "2020-06-16T00:00:00.000000000",
          "2020-06-17T00:00:00.000000000",
          "2020-06-18T00:00:00.000000000",
          "2020-06-19T00:00:00.000000000",
          "2020-06-22T00:00:00.000000000",
          "2020-06-23T00:00:00.000000000",
          "2020-06-24T00:00:00.000000000",
          "2020-06-25T00:00:00.000000000",
          "2020-06-26T00:00:00.000000000",
          "2020-06-29T00:00:00.000000000",
          "2020-06-30T00:00:00.000000000",
          "2020-07-01T00:00:00.000000000",
          "2020-07-02T00:00:00.000000000",
          "2020-07-03T00:00:00.000000000"
         ],
         "xaxis": "x2",
         "y": {
          "bdata": "hZP5kVviYb/PV1YB89t7v21AvQNRLYm/Bpro23kjlL/fYZ511B2cv+BajL6pnaK/fV5W4CvMp7+EeUxT0yutv1///rViM7G/m9fnmQGIs7+vsE4ubUO1v+4ctJ2uJLa/umw5ORBftr8I7qpcHQu2v9KeZ4hVe7W/MIcj0dawtL8iIr+jDqWzv0rw3qIlg7K/OKvQTCtdsb9NQKfsgzSwv1iEWqix362/51Frahdvq7+DBkE+uh6pv2B8QBiI0qa/V5ZvJqiPpL8Grf6cnc2hv1CeVob8rJ2/R4q+3vxjl7/5qpotj/2Qv4JrzOXP94W/0f2csPsKdb/3+XIWENNCPxm/5PUV1Xg/fbJI4rzDhz+YaW62796SP4eXit7JIZw/A690PpMwpD9jz+90V1WqPxjy/uibTrA/iuxedJ4Dsz+IQVJuMO20Pzf5cBmeXLY/YGZ2oVc5tz+QgjEIx5C3PySd9d+9h7c/R9JGq9Jatz92sdrX8xa3P99KVNIG5rY/AzLHFDzstj/muEv5P5m3Px++O7in47g/+TvBaXAYuz9xNywCgGq+P/LK8JQ6t8A/MO2RUpUowj+nxbKPdM3DP3QjHDDdTcU/7apoMSKUxj9B/dStJG/HP+tX9JM6xcc/8eAvhRONxz8c8af+zxbHPzWj22wFWsY/S4Np1fVaxT/bUCWGDiPEPweU7s3G/MI/hvw8Uc/4wT/KprOpKvXAP6SpArfi6r8/KpvWYlLovT//oTsOvPK7P/M1upIiULo/2e3iMDIeuT++FgY4cSm4P9jCdu8Ru7c/EIN+XBzEtz/K+Je6oO63P1/KxRtXI7g/Yx6eGrW5uD/ZGvTaYHy5Pw==",
          "dtype": "f8"
         },
         "yaxis": "y2"
        },
        {
         "marker": {
          "color": "#AB62FA"
         },
         "name": "Histogram",
         "type": "bar",
         "x": [
          "2020-03-09T00:00:00.000000000",
          "2020-03-10T00:00:00.000000000",
          "2020-03-11T00:00:00.000000000",
          "2020-03-12T00:00:00.000000000",
          "2020-03-13T00:00:00.000000000",
          "2020-03-16T00:00:00.000000000",
          "2020-03-17T00:00:00.000000000",
          "2020-03-18T00:00:00.000000000",
          "2020-03-19T00:00:00.000000000",
          "2020-03-20T00:00:00.000000000",
          "2020-03-23T00:00:00.000000000",
          "2020-03-24T00:00:00.000000000",
          "2020-03-25T00:00:00.000000000",
          "2020-03-26T00:00:00.000000000",
          "2020-03-27T00:00:00.000000000",
          "2020-03-30T00:00:00.000000000",
          "2020-03-31T00:00:00.000000000",
          "2020-04-01T00:00:00.000000000",
          "2020-04-02T00:00:00.000000000",
          "2020-04-03T00:00:00.000000000",
          "2020-04-06T00:00:00.000000000",
          "2020-04-07T00:00:00.000000000",
          "2020-04-08T00:00:00.000000000",
          "2020-04-09T00:00:00.000000000",
          "2020-04-10T00:00:00.000000000",
          "2020-04-13T00:00:00.000000000",
          "2020-04-14T00:00:00.000000000",
          "2020-04-15T00:00:00.000000000",
          "2020-04-16T00:00:00.000000000",
          "2020-04-17T00:00:00.000000000",
          "2020-04-20T00:00:00.000000000",
          "2020-04-21T00:00:00.000000000",
          "2020-04-22T00:00:00.000000000",
          "2020-04-24T00:00:00.000000000",
          "2020-04-27T00:00:00.000000000",
          "2020-04-28T00:00:00.000000000",
          "2020-04-29T00:00:00.000000000",
          "2020-04-30T00:00:00.000000000",
          "2020-05-04T00:00:00.000000000",
          "2020-05-05T00:00:00.000000000",
          "2020-05-06T00:00:00.000000000",
          "2020-05-07T00:00:00.000000000",
          "2020-05-08T00:00:00.000000000",
          "2020-05-11T00:00:00.000000000",
          "2020-05-12T00:00:00.000000000",
          "2020-05-13T00:00:00.000000000",
          "2020-05-14T00:00:00.000000000",
          "2020-05-15T00:00:00.000000000",
          "2020-05-18T00:00:00.000000000",
          "2020-05-20T00:00:00.000000000",
          "2020-05-21T00:00:00.000000000",
          "2020-05-22T00:00:00.000000000",
          "2020-05-27T00:00:00.000000000",
          "2020-05-28T00:00:00.000000000",
          "2020-05-29T00:00:00.000000000",
          "2020-06-01T00:00:00.000000000",
          "2020-06-02T00:00:00.000000000",
          "2020-06-03T00:00:00.000000000",
          "2020-06-04T00:00:00.000000000",
          "2020-06-05T00:00:00.000000000",
          "2020-06-08T00:00:00.000000000",
          "2020-06-09T00:00:00.000000000",
          "2020-06-10T00:00:00.000000000",
          "2020-06-11T00:00:00.000000000",
          "2020-06-12T00:00:00.000000000",
          "2020-06-15T00:00:00.000000000",
          "2020-06-16T00:00:00.000000000",
          "2020-06-17T00:00:00.000000000",
          "2020-06-18T00:00:00.000000000",
          "2020-06-19T00:00:00.000000000",
          "2020-06-22T00:00:00.000000000",
          "2020-06-23T00:00:00.000000000",
          "2020-06-24T00:00:00.000000000",
          "2020-06-25T00:00:00.000000000",
          "2020-06-26T00:00:00.000000000",
          "2020-06-29T00:00:00.000000000",
          "2020-06-30T00:00:00.000000000",
          "2020-07-01T00:00:00.000000000",
          "2020-07-02T00:00:00.000000000",
          "2020-07-03T00:00:00.000000000"
         ],
         "xaxis": "x2",
         "y": {
          "bdata": "HzXQOAMNh78Mjlk4xeqSvwopJAavfpa/OucnaEUznr9hH9dmaumfv8Cn9A7+OqK/cw4ohwi6pL8cbNjLnX6lv+IUxmLI66S/2sFGH/ekor9EkW1Gubabv9CHrewtKIy/wOWnws0wbb+ArJ8jt/x0P9DmaYj6+IE/QPSC6NZPiT/oUEbWgryQP4gdAw6QHpI/IFHkYKVfkj+0rpYCdoqSPxDin4exSpQ/jpN579GEkz8mW1Jh6YKSPyBRBDCRYZI/TjCHjv8Wkj+MSodLVBCWP/Dums76uJc/J1Bgnv4jmT85fY/EtpmZP+HU0eqcBpg/NNn7GqTklj8QXWuzXWWXP9pfFvOzepY/4qWszmOylj9oQSgVRfSbP9xbOFC0haI//Yy9PLl+qD99gezZEJOoPzBTOHSBH6k/jNP/WhSopT/gTzWfH5meP+R667Ha9pY/AKWtADGXiz8ADMeu2dt1PwDayndQEkK/4G5lV5p1Zr9gNAjbtPdwv+BLM8OCdmi/AI2cywnVOD9Q3JCQfKCFP4RTAO97ppQ/zu4rjEWmoT++21fDfJCqP5jzqj2pH6g/4CMS2qsVpz9khw3S802qP9DclQaKBqg/jHfIFFBkpD94SoqNT2CbP1Cq1od5hYU/IH07YocTfL9A9fuh4ZCNv+i8iTlSmZe/WP1D7vLhn78MJ0P0dH6jvzzNa4N7ZKK/GHgZy3c/oL/IW5V4SjqgvxA/SsYp95+/1HNgoYIUoL+8kq9JZVmfv8zAFriXKZq/pIF0HQYfk79w45obH5iOv4D51CPSl3u/AHCAD9oUQj/A3LoML0JlPyDK6JYwW2o/aIAK27/Lgj+4jr8KeFWIPw==",
          "dtype": "f8"
         },
         "yaxis": "y2"
        },
        {
         "line": {
          "color": "orange"
         },
         "mode": "lines",
         "name": "RSI",
         "type": "scatter",
         "x": [
          "2020-03-09T00:00:00.000000000",
          "2020-03-10T00:00:00.000000000",
          "2020-03-11T00:00:00.000000000",
          "2020-03-12T00:00:00.000000000",
          "2020-03-13T00:00:00.000000000",
          "2020-03-16T00:00:00.000000000",
          "2020-03-17T00:00:00.000000000",
          "2020-03-18T00:00:00.000000000",
          "2020-03-19T00:00:00.000000000",
          "2020-03-20T00:00:00.000000000",
          "2020-03-23T00:00:00.000000000",
          "2020-03-24T00:00:00.000000000",
          "2020-03-25T00:00:00.000000000",
          "2020-03-26T00:00:00.000000000",
          "2020-03-27T00:00:00.000000000",
          "2020-03-30T00:00:00.000000000",
          "2020-03-31T00:00:00.000000000",
          "2020-04-01T00:00:00.000000000",
          "2020-04-02T00:00:00.000000000",
          "2020-04-03T00:00:00.000000000",
          "2020-04-06T00:00:00.000000000",
          "2020-04-07T00:00:00.000000000",
          "2020-04-08T00:00:00.000000000",
          "2020-04-09T00:00:00.000000000",
          "2020-04-10T00:00:00.000000000",
          "2020-04-13T00:00:00.000000000",
          "2020-04-14T00:00:00.000000000",
          "2020-04-15T00:00:00.000000000",
          "2020-04-16T00:00:00.000000000",
          "2020-04-17T00:00:00.000000000",
          "2020-04-20T00:00:00.000000000",
          "2020-04-21T00:00:00.000000000",
          "2020-04-22T00:00:00.000000000",
          "2020-04-24T00:00:00.000000000",
          "2020-04-27T00:00:00.000000000",
          "2020-04-28T00:00:00.000000000",
          "2020-04-29T00:00:00.000000000",
          "2020-04-30T00:00:00.000000000",
          "2020-05-04T00:00:00.000000000",
          "2020-05-05T00:00:00.000000000",
          "2020-05-06T00:00:00.000000000",
          "2020-05-07T00:00:00.000000000",
          "2020-05-08T00:00:00.000000000",
          "2020-05-11T00:00:00.000000000",
          "2020-05-12T00:00:00.000000000",
          "2020-05-13T00:00:00.000000000",
          "2020-05-14T00:00:00.000000000",
          "2020-05-15T00:00:00.000000000",
          "2020-05-18T00:00:00.000000000",
          "2020-05-20T00:00:00.000000000",
          "2020-05-21T00:00:00.000000000",
          "2020-05-22T00:00:00.000000000",
          "2020-05-27T00:00:00.000000000",
          "2020-05-28T00:00:00.000000000",
          "2020-05-29T00:00:00.000000000",
          "2020-06-01T00:00:00.000000000",
          "2020-06-02T00:00:00.000000000",
          "2020-06-03T00:00:00.000000000",
          "2020-06-04T00:00:00.000000000",
          "2020-06-05T00:00:00.000000000",
          "2020-06-08T00:00:00.000000000",
          "2020-06-09T00:00:00.000000000",
          "2020-06-10T00:00:00.000000000",
          "2020-06-11T00:00:00.000000000",
          "2020-06-12T00:00:00.000000000",
          "2020-06-15T00:00:00.000000000",
          "2020-06-16T00:00:00.000000000",
          "2020-06-17T00:00:00.000000000",
          "2020-06-18T00:00:00.000000000",
          "2020-06-19T00:00:00.000000000",
          "2020-06-22T00:00:00.000000000",
          "2020-06-23T00:00:00.000000000",
          "2020-06-24T00:00:00.000000000",
          "2020-06-25T00:00:00.000000000",
          "2020-06-26T00:00:00.000000000",
          "2020-06-29T00:00:00.000000000",
          "2020-06-30T00:00:00.000000000",
          "2020-07-01T00:00:00.000000000",
          "2020-07-02T00:00:00.000000000",
          "2020-07-03T00:00:00.000000000"
         ],
         "xaxis": "x3",
         "y": {
          "bdata": "d+0QCXfxQ0DEhaNLJSVBQMSFo0slJUFADFZtZNbHPECctGlSrik/QJQgVwTyPDtAWOP+cM2IOECQSpsXl/E3QFDyhRlxiTdAqJsY4lqUOUCkqXFoNqFAQFxKmgS870RA+ikDB8wvRUDJpQwSpjdGQHnGGWpy0ERAy2iZ7Q2kRUCSnrI9RgNHQE5ew+OyUEZAz1SYzDQTRkBaW6d4IGVGQGiuo/hMTEhATRQCP/UmR0BNFAI/9SZHQKqSIxfLNUhAJ1D4Rd2RSEAWaRx5B/1MQBZpHHkH/UxAmob3IdshTkC3txKmtbJOQIDY0WjZyE1Av5YGTza2TkCeVXWBPVpQQJ5VdYE9WlBAPRMiD3goUUAT+ZLfewxTQLmsijSkbFRAePxFJO1uVUCZ+1Kg3hNTQGFYUlE0qVNAa5toLW+iUUB9zSpIqwdPQJS+VSNuF1BAsMyshYVwTkDoVYEBbbJNQMqVhvqL301AvovhygIcT0D0uVQBtnVPQJLbyW1walBAq8NUNH0xUUBxs6EMHdJSQHC7n6wOd1NADKj5YjeRVECUKu9pTGlVQCy7wbl4l1FA3jlQs1AbUkBwe5NRzSpTQDYao7V7BlJAFJWYVtLvUUCl9B4qVJ5QQHE38ASTzE5AW1+Ip1+LTEBZLWVl1ANOQGqCB6i/p0xAt2lvzpObS0BHJE/z3rRKQFN+oWjD7UxAliPMpwG9TUDD4cphejxMQMXhymF6PExATIdKiAiyS0BIwejqBdlLQA/56LrdpE1AuPgW6VkGT0CVEXJf/ZNOQAp7V3N3elBAYuCAVEXzUED097cWWVdQQFl+TipfaFBAMVgYspKgUUATjIHq4q5RQA==",
          "dtype": "f8"
         },
         "yaxis": "y3"
        },
        {
         "line": {
          "color": "#1BD3F3"
         },
         "mode": "lines",
         "name": "%D",
         "type": "scatter",
         "x": [
          "2020-03-09T00:00:00.000000000",
          "2020-03-10T00:00:00.000000000",
          "2020-03-11T00:00:00.000000000",
          "2020-03-12T00:00:00.000000000",
          "2020-03-13T00:00:00.000000000",
          "2020-03-16T00:00:00.000000000",
          "2020-03-17T00:00:00.000000000",
          "2020-03-18T00:00:00.000000000",
          "2020-03-19T00:00:00.000000000",
          "2020-03-20T00:00:00.000000000",
          "2020-03-23T00:00:00.000000000",
          "2020-03-24T00:00:00.000000000",
          "2020-03-25T00:00:00.000000000",
          "2020-03-26T00:00:00.000000000",
          "2020-03-27T00:00:00.000000000",
          "2020-03-30T00:00:00.000000000",
          "2020-03-31T00:00:00.000000000",
          "2020-04-01T00:00:00.000000000",
          "2020-04-02T00:00:00.000000000",
          "2020-04-03T00:00:00.000000000",
          "2020-04-06T00:00:00.000000000",
          "2020-04-07T00:00:00.000000000",
          "2020-04-08T00:00:00.000000000",
          "2020-04-09T00:00:00.000000000",
          "2020-04-10T00:00:00.000000000",
          "2020-04-13T00:00:00.000000000",
          "2020-04-14T00:00:00.000000000",
          "2020-04-15T00:00:00.000000000",
          "2020-04-16T00:00:00.000000000",
          "2020-04-17T00:00:00.000000000",
          "2020-04-20T00:00:00.000000000",
          "2020-04-21T00:00:00.000000000",
          "2020-04-22T00:00:00.000000000",
          "2020-04-24T00:00:00.000000000",
          "2020-04-27T00:00:00.000000000",
          "2020-04-28T00:00:00.000000000",
          "2020-04-29T00:00:00.000000000",
          "2020-04-30T00:00:00.000000000",
          "2020-05-04T00:00:00.000000000",
          "2020-05-05T00:00:00.000000000",
          "2020-05-06T00:00:00.000000000",
          "2020-05-07T00:00:00.000000000",
          "2020-05-08T00:00:00.000000000",
          "2020-05-11T00:00:00.000000000",
          "2020-05-12T00:00:00.000000000",
          "2020-05-13T00:00:00.000000000",
          "2020-05-14T00:00:00.000000000",
          "2020-05-15T00:00:00.000000000",
          "2020-05-18T00:00:00.000000000",
          "2020-05-20T00:00:00.000000000",
          "2020-05-21T00:00:00.000000000",
          "2020-05-22T00:00:00.000000000",
          "2020-05-27T00:00:00.000000000",
          "2020-05-28T00:00:00.000000000",
          "2020-05-29T00:00:00.000000000",
          "2020-06-01T00:00:00.000000000",
          "2020-06-02T00:00:00.000000000",
          "2020-06-03T00:00:00.000000000",
          "2020-06-04T00:00:00.000000000",
          "2020-06-05T00:00:00.000000000",
          "2020-06-08T00:00:00.000000000",
          "2020-06-09T00:00:00.000000000",
          "2020-06-10T00:00:00.000000000",
          "2020-06-11T00:00:00.000000000",
          "2020-06-12T00:00:00.000000000",
          "2020-06-15T00:00:00.000000000",
          "2020-06-16T00:00:00.000000000",
          "2020-06-17T00:00:00.000000000",
          "2020-06-18T00:00:00.000000000",
          "2020-06-19T00:00:00.000000000",
          "2020-06-22T00:00:00.000000000",
          "2020-06-23T00:00:00.000000000",
          "2020-06-24T00:00:00.000000000",
          "2020-06-25T00:00:00.000000000",
          "2020-06-26T00:00:00.000000000",
          "2020-06-29T00:00:00.000000000",
          "2020-06-30T00:00:00.000000000",
          "2020-07-01T00:00:00.000000000",
          "2020-07-02T00:00:00.000000000",
          "2020-07-03T00:00:00.000000000"
         ],
         "xaxis": "x4",
         "y": {
          "bdata": "zxT3ooA6TUD7URmw5QhKQM9T4t9oJkVAg/Rg1dhFPUAY/qm+WV8zQKQKKqZjWCZAr8GXaNELH0BTMrXpxbUQQEMHUSFaXgxAvUNq9QLoCkDMMJv9epUYQHNhMifrsShAscgHafesNUBQnLIuN/M/QEUCUvnfQkNAcw/bOgZiRUATNqwQ0tdGQIcuQXCVg0pAMHh3hL8KT0DXw+q2HApSQIwGdoVrxVNAz9qquLXHVEC8k276gyVVQI+Pl8pg8lRA8Rfdb0GxVEDJZEszdcdUQIkpG+lH21RAzHcHwmowVUAoyhSwl9FUQI6e3LHuZVRAEKpUayVnU0DNQJCl9SZTQGW18QX5uFNA1UJcOBL4VECw/MQT/B5WQDl6XmW7DVdAA/mL2TD9V0DNMCjJz+FXQMWaUeDu7lZAGdHgXS3YVEDwXSdM0idTQPyWN/q7WFFA6FnhBp2gT0Bz1B5uZcVMQASlBUtioUpAMYuDGuF+SUBQz63W3zBJQLgPR6kY90lAG9/NN+9vS0CNKJpbxTJPQEWIFB0f9FFAXLoR31f/VEA3S6VDNcFWQEHCf2c7IVdAE04qBOunVUBfQBlkLt5TQOPebC2OPlNAuVwSABy9U0DHx0gmGgtUQA701VP4R1NAnCdcYRlfUUBoJt60IxlPQEg+u+H6yktAK/eIbu1BSUCQQgpWZHlFQECIit1HvUFAye/cFQr+PkC0//HMzTJAQFlBQWGGg0FAs0ZXHeWrQUCH7nS9AxFBQOCP7qBeA0JAexbmqDH2RkCFybArob5OQKvH2Ww2bVNAm2LSuOXfVUDUQ5CucMlWQIVUrhkyqlZA7X0r0c+JVkBbuJeWBYVWQA==",
          "dtype": "f8"
         },
         "yaxis": "y4"
        },
        {
         "line": {
          "color": "#FF6692"
         },
         "mode": "lines",
         "name": "%K",
         "type": "scatter",
         "x": [
          "2020-03-09T00:00:00.000000000",
          "2020-03-10T00:00:00.000000000",
          "2020-03-11T00:00:00.000000000",
          "2020-03-12T00:00:00.000000000",
          "2020-03-13T00:00:00.000000000",
          "2020-03-16T00:00:00.000000000",
          "2020-03-17T00:00:00.000000000",
          "2020-03-18T00:00:00.000000000",
          "2020-03-19T00:00:00.000000000",
          "2020-03-20T00:00:00.000000000",
          "2020-03-23T00:00:00.000000000",
          "2020-03-24T00:00:00.000000000",
          "2020-03-25T00:00:00.000000000",
          "2020-03-26T00:00:00.000000000",
          "2020-03-27T00:00:00.000000000",
          "2020-03-30T00:00:00.000000000",
          "2020-03-31T00:00:00.000000000",
          "2020-04-01T00:00:00.000000000",
          "2020-04-02T00:00:00.000000000",
          "2020-04-03T00:00:00.000000000",
          "2020-04-06T00:00:00.000000000",
          "2020-04-07T00:00:00.000000000",
          "2020-04-08T00:00:00.000000000",
          "2020-04-09T00:00:00.000000000",
          "2020-04-10T00:00:00.000000000",
          "2020-04-13T00:00:00.000000000",
          "2020-04-14T00:00:00.000000000",
          "2020-04-15T00:00:00.000000000",
          "2020-04-16T00:00:00.000000000",
          "2020-04-17T00:00:00.000000000",
          "2020-04-20T00:00:00.000000000",
          "2020-04-21T00:00:00.000000000",
          "2020-04-22T00:00:00.000000000",
          "2020-04-24T00:00:00.000000000",
          "2020-04-27T00:00:00.000000000",
          "2020-04-28T00:00:00.000000000",
          "2020-04-29T00:00:00.000000000",
          "2020-04-30T00:00:00.000000000",
          "2020-05-04T00:00:00.000000000",
          "2020-05-05T00:00:00.000000000",
          "2020-05-06T00:00:00.000000000",
          "2020-05-07T00:00:00.000000000",
          "2020-05-08T00:00:00.000000000",
          "2020-05-11T00:00:00.000000000",
          "2020-05-12T00:00:00.000000000",
          "2020-05-13T00:00:00.000000000",
          "2020-05-14T00:00:00.000000000",
          "2020-05-15T00:00:00.000000000",
          "2020-05-18T00:00:00.000000000",
          "2020-05-20T00:00:00.000000000",
          "2020-05-21T00:00:00.000000000",
          "2020-05-22T00:00:00.000000000",
          "2020-05-27T00:00:00.000000000",
          "2020-05-28T00:00:00.000000000",
          "2020-05-29T00:00:00.000000000",
          "2020-06-01T00:00:00.000000000",
          "2020-06-02T00:00:00.000000000",
          "2020-06-03T00:00:00.000000000",
          "2020-06-04T00:00:00.000000000",
          "2020-06-05T00:00:00.000000000",
          "2020-06-08T00:00:00.000000000",
          "2020-06-09T00:00:00.000000000",
          "2020-06-10T00:00:00.000000000",
          "2020-06-11T00:00:00.000000000",
          "2020-06-12T00:00:00.000000000",
          "2020-06-15T00:00:00.000000000",
          "2020-06-16T00:00:00.000000000",
          "2020-06-17T00:00:00.000000000",
          "2020-06-18T00:00:00.000000000",
          "2020-06-19T00:00:00.000000000",
          "2020-06-22T00:00:00.000000000",
          "2020-06-23T00:00:00.000000000",
          "2020-06-24T00:00:00.000000000",
          "2020-06-25T00:00:00.000000000",
          "2020-06-26T00:00:00.000000000",
          "2020-06-29T00:00:00.000000000",
          "2020-06-30T00:00:00.000000000",
          "2020-07-01T00:00:00.000000000",
          "2020-07-02T00:00:00.000000000",
          "2020-07-03T00:00:00.000000000"
         ],
         "xaxis": "x4",
         "y": {
          "bdata": "b/gKwxtZS0BhS3qvaThFQDxvQ1pqwz1AFK/VjZk6L0ADZ581rHopQKsTEl7KpxRAW2N2cFGGFUDIf1y618z/PywP2KX/JwpAFD6crs5UE0BdpqQ70askQHkvUnHE3zVAtmv5lZxoQEAFZ2n3U5REQBY0k16vy0RAP5OUWg/GRkDg2tx4t/VIQHUdUn35zk9AHLiby8YtUkCshHuaEglUQNzWSippGVVA4zQ6ZaU0VUB1r8ZffSJVQFXKxZr/f1RACc4KVUdxVED7lRGqGGVVQJgYNbx3u1RA0LjP369wVUARjTl0n0hUQMmVjMF8eFNAU9s3DFR0UkBMUewiEIhTQI/zsOKGLlVApYN3o58xVkDdfia1zfxWQClsfdfE+ldAAAAAAAAAWUA8JvuDqqpWQBOq+RwiIlVA+qKteLu7UkDBzM5OmZlRQHCqVE6+aU9Aw8mxKOZETEAjCVbTi6FKQCUcCeW0/UhAS3wrl2LdSEB91dQHiLdJQF/d1FxfUEtAcOq/QuZHTUDs2Jw5BYBSQKnKQPxkuFRAfYtXZ53FV0B9i1dnncVXQMkv0Gd32FVA7y5XPaxZU0BhYiSHZ2hSQFkLy8OW+VNAb6hHtVXVVECMo8f5YVJTQC2QckwxsFFAM4a0u3E1TkCpzADKlrVLQPtnfB/odUlA3bAdYkmaRkDVroSA+1tAQBly+mslgzxAlf+S1AG/P0BDRo/GVXdCQPz96nK8M0JA14+LHp1YQEDBPeimsaZAQAfiVx3NCkVApyNyNhYxT0BwK6QXAABUQL0ZsBMYr1ZApeIi/5jwVkAbz934oLxWQM1LClVcUVZA4F6aJXKPVkBhfiJJQq5WQA==",
          "dtype": "f8"
         },
         "yaxis": "y4"
        },
        {
         "marker": {
          "color": "#B6E880"
         },
         "name": "Volume",
         "type": "bar",
         "x": [
          "2020-03-09T00:00:00.000000000",
          "2020-03-10T00:00:00.000000000",
          "2020-03-11T00:00:00.000000000",
          "2020-03-12T00:00:00.000000000",
          "2020-03-13T00:00:00.000000000",
          "2020-03-16T00:00:00.000000000",
          "2020-03-17T00:00:00.000000000",
          "2020-03-18T00:00:00.000000000",
          "2020-03-19T00:00:00.000000000",
          "2020-03-20T00:00:00.000000000",
          "2020-03-23T00:00:00.000000000",
          "2020-03-24T00:00:00.000000000",
          "2020-03-25T00:00:00.000000000",
          "2020-03-26T00:00:00.000000000",
          "2020-03-27T00:00:00.000000000",
          "2020-03-30T00:00:00.000000000",
          "2020-03-31T00:00:00.000000000",
          "2020-04-01T00:00:00.000000000",
          "2020-04-02T00:00:00.000000000",
          "2020-04-03T00:00:00.000000000",
          "2020-04-06T00:00:00.000000000",
          "2020-04-07T00:00:00.000000000",
          "2020-04-08T00:00:00.000000000",
          "2020-04-09T00:00:00.000000000",
          "2020-04-10T00:00:00.000000000",
          "2020-04-13T00:00:00.000000000",
          "2020-04-14T00:00:00.000000000",
          "2020-04-15T00:00:00.000000000",
          "2020-04-16T00:00:00.000000000",
          "2020-04-17T00:00:00.000000000",
          "2020-04-20T00:00:00.000000000",
          "2020-04-21T00:00:00.000000000",
          "2020-04-22T00:00:00.000000000",
          "2020-04-24T00:00:00.000000000",
          "2020-04-27T00:00:00.000000000",
          "2020-04-28T00:00:00.000000000",
          "2020-04-29T00:00:00.000000000",
          "2020-04-30T00:00:00.000000000",
          "2020-05-04T00:00:00.000000000",
          "2020-05-05T00:00:00.000000000",
          "2020-05-06T00:00:00.000000000",
          "2020-05-07T00:00:00.000000000",
          "2020-05-08T00:00:00.000000000",
          "2020-05-11T00:00:00.000000000",
          "2020-05-12T00:00:00.000000000",
          "2020-05-13T00:00:00.000000000",
          "2020-05-14T00:00:00.000000000",
          "2020-05-15T00:00:00.000000000",
          "2020-05-18T00:00:00.000000000",
          "2020-05-20T00:00:00.000000000",
          "2020-05-21T00:00:00.000000000",
          "2020-05-22T00:00:00.000000000",
          "2020-05-27T00:00:00.000000000",
          "2020-05-28T00:00:00.000000000",
          "2020-05-29T00:00:00.000000000",
          "2020-06-01T00:00:00.000000000",
          "2020-06-02T00:00:00.000000000",
          "2020-06-03T00:00:00.000000000",
          "2020-06-04T00:00:00.000000000",
          "2020-06-05T00:00:00.000000000",
          "2020-06-08T00:00:00.000000000",
          "2020-06-09T00:00:00.000000000",
          "2020-06-10T00:00:00.000000000",
          "2020-06-11T00:00:00.000000000",
          "2020-06-12T00:00:00.000000000",
          "2020-06-15T00:00:00.000000000",
          "2020-06-16T00:00:00.000000000",
          "2020-06-17T00:00:00.000000000",
          "2020-06-18T00:00:00.000000000",
          "2020-06-19T00:00:00.000000000",
          "2020-06-22T00:00:00.000000000",
          "2020-06-23T00:00:00.000000000",
          "2020-06-24T00:00:00.000000000",
          "2020-06-25T00:00:00.000000000",
          "2020-06-26T00:00:00.000000000",
          "2020-06-29T00:00:00.000000000",
          "2020-06-30T00:00:00.000000000",
          "2020-07-01T00:00:00.000000000",
          "2020-07-02T00:00:00.000000000",
          "2020-07-03T00:00:00.000000000"
         ],
         "xaxis": "x5",
         "y": {
          "bdata": "hyeZAfaUDQIAAAAAiOAQBLTUKwLZzU4BmANoAj4H+QGCXSYCIobFAcBBrAPF9/sBvwUQBDI59wNeTeEBCUrUAtqoDQP6axkD2UqLASrLKwO6Xg0CpQniA0aaYwEZmt0BUYRVAoImcwkpimMDRfxgBf13RQXBPWABNO/CAc6ulAUNm14CbBFXBa7sJwVfgXEJrUAOB8mikwpAVLkMGUfeA1yc0ALb5hgH4SsDApVhsAEhKWsCH39WAuPwigSF0QAELFVOAwP1yQXz3psPgwdVEtpBrwWtP7YQqxb9Bnha5AY2eAIIDmqcCcr5/wAS3JYAV5erAJwiAgGqMW8AXTZlAGudWwA0xJYAPV2yAIIXcQC8F2cALolFAL0/QQDMK6QA+b+0ADATXQArtOEA2TiYAH3LhgA1eHEA/Q0uAdUk0wA=",
          "dtype": "i4"
         },
         "yaxis": "y5"
        }
       ],
       "layout": {
        "annotations": [
         {
          "showarrow": false,
          "text": "ATH_max: 2.06",
          "x": 0,
          "xanchor": "left",
          "xref": "x domain",
          "y": 2.05761194229126,
          "yanchor": "bottom",
          "yref": "y"
         },
         {
          "showarrow": false,
          "text": "ATH_min: 0.87",
          "x": 0,
          "xanchor": "left",
          "xref": "x domain",
          "y": 0.8737090229988098,
          "yanchor": "top",
          "yref": "y"
         },
         {
          "font": {
           "size": 20
          },
          "showarrow": false,
          "text": "MACD",
          "x": 0.5,
          "xref": "paper",
          "y": 0.57,
          "yref": "paper"
         },
         {
          "font": {
           "size": 20
          },
          "showarrow": false,
          "text": "RSI",
          "x": 0.5,
          "xref": "paper",
          "y": 0.36,
          "yref": "paper"
         },
         {
          "font": {
           "size": 20
          },
          "showarrow": false,
          "text": "Stochastic",
          "x": 0.5,
          "xref": "paper",
          "y": 0.21,
          "yref": "paper"
         },
         {
          "font": {
           "size": 20
          },
          "showarrow": false,
          "text": "Volume",
          "x": 0.5,
          "xref": "paper",
          "y": 0.078,
          "yref": "paper"
         }
        ],
        "height": 1000,
        "shapes": [
         {
          "line": {
           "color": "green",
           "dash": "dash",
           "width": 2
          },
          "type": "line",
          "x0": 0,
          "x1": 1,
          "xref": "x domain",
          "y0": 2.05761194229126,
          "y1": 2.05761194229126,
          "yref": "y"
         },
         {
          "line": {
           "color": "red",
           "dash": "dash",
           "width": 2
          },
          "type": "line",
          "x0": 0,
          "x1": 1,
          "xref": "x domain",
          "y0": 0.8737090229988098,
          "y1": 0.8737090229988098,
          "yref": "y"
         },
         {
          "line": {
           "color": "green",
           "dash": "dash",
           "width": 2
          },
          "type": "line",
          "x0": 0,
          "x1": 1,
          "xref": "x3 domain",
          "y0": 30,
          "y1": 30,
          "yref": "y3"
         },
         {
          "line": {
           "color": "red",
           "dash": "dash",
           "width": 2
          },
          "type": "line",
          "x0": 0,
          "x1": 1,
          "xref": "x3 domain",
          "y0": 70,
          "y1": 70,
          "yref": "y3"
         },
         {
          "line": {
           "color": "green",
           "dash": "dash",
           "width": 2
          },
          "type": "line",
          "x0": 0,
          "x1": 1,
          "xref": "x4 domain",
          "y0": 20,
          "y1": 20,
          "yref": "y4"
         },
         {
          "line": {
           "color": "red",
           "dash": "dash",
           "width": 2
          },
          "type": "line",
          "x0": 0,
          "x1": 1,
          "xref": "x4 domain",
          "y0": 80,
          "y1": 80,
          "yref": "y4"
         }
        ],
        "template": {
         "data": {
          "bar": [
           {
            "error_x": {
             "color": "#2a3f5f"
            },
            "error_y": {
             "color": "#2a3f5f"
            },
            "marker": {
             "line": {
              "color": "#E5ECF6",
              "width": 0.5
             },
             "pattern": {
              "fillmode": "overlay",
              "size": 10,
              "solidity": 0.2
             }
            },
            "type": "bar"
           }
          ],
          "barpolar": [
           {
            "marker": {
             "line": {
              "color": "#E5ECF6",
              "width": 0.5
             },
             "pattern": {
              "fillmode": "overlay",
              "size": 10,
              "solidity": 0.2
             }
            },
            "type": "barpolar"
           }
          ],
          "carpet": [
           {
            "aaxis": {
             "endlinecolor": "#2a3f5f",
             "gridcolor": "white",
             "linecolor": "white",
             "minorgridcolor": "white",
             "startlinecolor": "#2a3f5f"
            },
            "baxis": {
             "endlinecolor": "#2a3f5f",
             "gridcolor": "white",
             "linecolor": "white",
             "minorgridcolor": "white",
             "startlinecolor": "#2a3f5f"
            },
            "type": "carpet"
           }
          ],
          "choropleth": [
           {
            "colorbar": {
             "outlinewidth": 0,
             "ticks": ""
            },
            "type": "choropleth"
           }
          ],
          "contour": [
           {
            "colorbar": {
             "outlinewidth": 0,
             "ticks": ""
            },
            "colorscale": [
             [
              0,
              "#0d0887"
             ],
             [
              0.1111111111111111,
              "#46039f"
             ],
             [
              0.2222222222222222,
              "#7201a8"
             ],
             [
              0.3333333333333333,
              "#9c179e"
             ],
             [
              0.4444444444444444,
              "#bd3786"
             ],
             [
              0.5555555555555556,
              "#d8576b"
             ],
             [
              0.6666666666666666,
              "#ed7953"
             ],
             [
              0.7777777777777778,
              "#fb9f3a"
             ],
             [
              0.8888888888888888,
              "#fdca26"
             ],
             [
              1,
              "#f0f921"
             ]
            ],
            "type": "contour"
           }
          ],
          "contourcarpet": [
           {
            "colorbar": {
             "outlinewidth": 0,
             "ticks": ""
            },
            "type": "contourcarpet"
           }
          ],
          "heatmap": [
           {
            "colorbar": {
             "outlinewidth": 0,
             "ticks": ""
            },
            "colorscale": [
             [
              0,
              "#0d0887"
             ],
             [
              0.1111111111111111,
              "#46039f"
             ],
             [
              0.2222222222222222,
              "#7201a8"
             ],
             [
              0.3333333333333333,
              "#9c179e"
             ],
             [
              0.4444444444444444,
              "#bd3786"
             ],
             [
              0.5555555555555556,
              "#d8576b"
             ],
             [
              0.6666666666666666,
              "#ed7953"
             ],
             [
              0.7777777777777778,
              "#fb9f3a"
             ],
             [
              0.8888888888888888,
              "#fdca26"
             ],
             [
              1,
              "#f0f921"
             ]
            ],
            "type": "heatmap"
           }
          ],
          "histogram": [
           {
            "marker": {
             "pattern": {
              "fillmode": "overlay",
              "size": 10,
              "solidity": 0.2
             }
            },
            "type": "histogram"
           }
          ],
          "histogram2d": [
           {
            "colorbar": {
             "outlinewidth": 0,
             "ticks": ""
            },
            "colorscale": [
             [
              0,
              "#0d0887"
             ],
             [
              0.1111111111111111,
              "#46039f"
             ],
             [
              0.2222222222222222,
              "#7201a8"
             ],
             [
              0.3333333333333333,
              "#9c179e"
             ],
             [
              0.4444444444444444,
              "#bd3786"
             ],
             [
              0.5555555555555556,
              "#d8576b"
             ],
             [
              0.6666666666666666,
              "#ed7953"
             ],
             [
              0.7777777777777778,
              "#fb9f3a"
             ],
             [
              0.8888888888888888,
              "#fdca26"
             ],
             [
              1,
              "#f0f921"
             ]
            ],
            "type": "histogram2d"
           }
          ],
          "histogram2dcontour": [
           {
            "colorbar": {
             "outlinewidth": 0,
             "ticks": ""
            },
            "colorscale": [
             [
              0,
              "#0d0887"
             ],
             [
              0.1111111111111111,
              "#46039f"
             ],
             [
              0.2222222222222222,
              "#7201a8"
             ],
             [
              0.3333333333333333,
              "#9c179e"
             ],
             [
              0.4444444444444444,
              "#bd3786"
             ],
             [
              0.5555555555555556,
              "#d8576b"
             ],
             [
              0.6666666666666666,
              "#ed7953"
             ],
             [
              0.7777777777777778,
              "#fb9f3a"
             ],
             [
              0.8888888888888888,
              "#fdca26"
             ],
             [
              1,
              "#f0f921"
             ]
            ],
            "type": "histogram2dcontour"
           }
          ],
          "mesh3d": [
           {
            "colorbar": {
             "outlinewidth": 0,
             "ticks": ""
            },
            "type": "mesh3d"
           }
          ],
          "parcoords": [
           {
            "line": {
             "colorbar": {
              "outlinewidth": 0,
              "ticks": ""
             }
            },
            "type": "parcoords"
           }
          ],
          "pie": [
           {
            "automargin": true,
            "type": "pie"
           }
          ],
          "scatter": [
           {
            "fillpattern": {
             "fillmode": "overlay",
             "size": 10,
             "solidity": 0.2
            },
            "type": "scatter"
           }
          ],
          "scatter3d": [
           {
            "line": {
             "colorbar": {
              "outlinewidth": 0,
              "ticks": ""
             }
            },
            "marker": {
             "colorbar": {
              "outlinewidth": 0,
              "ticks": ""
             }
            },
            "type": "scatter3d"
           }
          ],
          "scattercarpet": [
           {
            "marker": {
             "colorbar": {
              "outlinewidth": 0,
              "ticks": ""
             }
            },
            "type": "scattercarpet"
           }
          ],
          "scattergeo": [
           {
            "marker": {
             "colorbar": {
              "outlinewidth": 0,
              "ticks": ""
             }
            },
            "type": "scattergeo"
           }
          ],
          "scattergl": [
           {
            "marker": {
             "colorbar": {
              "outlinewidth": 0,
              "ticks": ""
             }
            },
            "type": "scattergl"
           }
          ],
          "scattermap": [
           {
            "marker": {
             "colorbar": {
              "outlinewidth": 0,
              "ticks": ""
             }
            },
            "type": "scattermap"
           }
          ],
          "scattermapbox": [
           {
            "marker": {
             "colorbar": {
              "outlinewidth": 0,
              "ticks": ""
             }
            },
            "type": "scattermapbox"
           }
          ],
          "scatterpolar": [
           {
            "marker": {
             "colorbar": {
              "outlinewidth": 0,
              "ticks": ""
             }
            },
            "type": "scatterpolar"
           }
          ],
          "scatterpolargl": [
           {
            "marker": {
             "colorbar": {
              "outlinewidth": 0,
              "ticks": ""
             }
            },
            "type": "scatterpolargl"
           }
          ],
          "scatterternary": [
           {
            "marker": {
             "colorbar": {
              "outlinewidth": 0,
              "ticks": ""
             }
            },
            "type": "scatterternary"
           }
          ],
          "surface": [
           {
            "colorbar": {
             "outlinewidth": 0,
             "ticks": ""
            },
            "colorscale": [
             [
              0,
              "#0d0887"
             ],
             [
              0.1111111111111111,
              "#46039f"
             ],
             [
              0.2222222222222222,
              "#7201a8"
             ],
             [
              0.3333333333333333,
              "#9c179e"
             ],
             [
              0.4444444444444444,
              "#bd3786"
             ],
             [
              0.5555555555555556,
              "#d8576b"
             ],
             [
              0.6666666666666666,
              "#ed7953"
             ],
             [
              0.7777777777777778,
              "#fb9f3a"
             ],
             [
              0.8888888888888888,
              "#fdca26"
             ],
             [
              1,
              "#f0f921"
             ]
            ],
            "type": "surface"
           }
          ],
          "table": [
           {
            "cells": {
             "fill": {
              "color": "#EBF0F8"
             },
             "line": {
              "color": "white"
             }
            },
            "header": {
             "fill": {
              "color": "#C8D4E3"
             },
             "line": {
              "color": "white"
             }
            },
            "type": "table"
           }
          ]
         },
         "layout": {
          "annotationdefaults": {
           "arrowcolor": "#2a3f5f",
           "arrowhead": 0,
           "arrowwidth": 1
          },
          "autotypenumbers": "strict",
          "coloraxis": {
           "colorbar": {
            "outlinewidth": 0,
            "ticks": ""
           }
          },
          "colorscale": {
           "diverging": [
            [
             0,
             "#8e0152"
            ],
            [
             0.1,
             "#c51b7d"
            ],
            [
             0.2,
             "#de77ae"
            ],
            [
             0.3,
             "#f1b6da"
            ],
            [
             0.4,
             "#fde0ef"
            ],
            [
             0.5,
             "#f7f7f7"
            ],
            [
             0.6,
             "#e6f5d0"
            ],
            [
             0.7,
             "#b8e186"
            ],
            [
             0.8,
             "#7fbc41"
            ],
            [
             0.9,
             "#4d9221"
            ],
            [
             1,
             "#276419"
            ]
           ],
           "sequential": [
            [
             0,
             "#0d0887"
            ],
            [
             0.1111111111111111,
             "#46039f"
            ],
            [
             0.2222222222222222,
             "#7201a8"
            ],
            [
             0.3333333333333333,
             "#9c179e"
            ],
            [
             0.4444444444444444,
             "#bd3786"
            ],
            [
             0.5555555555555556,
             "#d8576b"
            ],
            [
             0.6666666666666666,
             "#ed7953"
            ],
            [
             0.7777777777777778,
             "#fb9f3a"
            ],
            [
             0.8888888888888888,
             "#fdca26"
            ],
            [
             1,
             "#f0f921"
            ]
           ],
           "sequentialminus": [
            [
             0,
             "#0d0887"
            ],
            [
             0.1111111111111111,
             "#46039f"
            ],
            [
             0.2222222222222222,
             "#7201a8"
            ],
            [
             0.3333333333333333,
             "#9c179e"
            ],
            [
             0.4444444444444444,
             "#bd3786"
            ],
            [
             0.5555555555555556,
             "#d8576b"
            ],
            [
             0.6666666666666666,
             "#ed7953"
            ],
            [
             0.7777777777777778,
             "#fb9f3a"
            ],
            [
             0.8888888888888888,
             "#fdca26"
            ],
            [
             1,
             "#f0f921"
            ]
           ]
          },
          "colorway": [
           "#636efa",
           "#EF553B",
           "#00cc96",
           "#ab63fa",
           "#FFA15A",
           "#19d3f3",
           "#FF6692",
           "#B6E880",
           "#FF97FF",
           "#FECB52"
          ],
          "font": {
           "color": "#2a3f5f"
          },
          "geo": {
           "bgcolor": "white",
           "lakecolor": "white",
           "landcolor": "#E5ECF6",
           "showlakes": true,
           "showland": true,
           "subunitcolor": "white"
          },
          "hoverlabel": {
           "align": "left"
          },
          "hovermode": "closest",
          "mapbox": {
           "style": "light"
          },
          "paper_bgcolor": "white",
          "plot_bgcolor": "#E5ECF6",
          "polar": {
           "angularaxis": {
            "gridcolor": "white",
            "linecolor": "white",
            "ticks": ""
           },
           "bgcolor": "#E5ECF6",
           "radialaxis": {
            "gridcolor": "white",
            "linecolor": "white",
            "ticks": ""
           }
          },
          "scene": {
           "xaxis": {
            "backgroundcolor": "#E5ECF6",
            "gridcolor": "white",
            "gridwidth": 2,
            "linecolor": "white",
            "showbackground": true,
            "ticks": "",
            "zerolinecolor": "white"
           },
           "yaxis": {
            "backgroundcolor": "#E5ECF6",
            "gridcolor": "white",
            "gridwidth": 2,
            "linecolor": "white",
            "showbackground": true,
            "ticks": "",
            "zerolinecolor": "white"
           },
           "zaxis": {
            "backgroundcolor": "#E5ECF6",
            "gridcolor": "white",
            "gridwidth": 2,
            "linecolor": "white",
            "showbackground": true,
            "ticks": "",
            "zerolinecolor": "white"
           }
          },
          "shapedefaults": {
           "line": {
            "color": "#2a3f5f"
           }
          },
          "ternary": {
           "aaxis": {
            "gridcolor": "white",
            "linecolor": "white",
            "ticks": ""
           },
           "baxis": {
            "gridcolor": "white",
            "linecolor": "white",
            "ticks": ""
           },
           "bgcolor": "#E5ECF6",
           "caxis": {
            "gridcolor": "white",
            "linecolor": "white",
            "ticks": ""
           }
          },
          "title": {
           "x": 0.05
          },
          "xaxis": {
           "automargin": true,
           "gridcolor": "white",
           "linecolor": "white",
           "ticks": "",
           "title": {
            "standoff": 15
           },
           "zerolinecolor": "white",
           "zerolinewidth": 2
          },
          "yaxis": {
           "automargin": true,
           "gridcolor": "white",
           "linecolor": "white",
           "ticks": "",
           "title": {
            "standoff": 15
           },
           "zerolinecolor": "white",
           "zerolinewidth": 2
          }
         }
        },
        "title": {
         "font": {
          "size": 20
         },
         "text": "AVOD.IS",
         "x": 0.5,
         "y": 0.93
        },
        "width": 1000,
        "xaxis": {
         "anchor": "y",
         "domain": [
          0,
          1
         ],
         "matches": "x5",
         "rangebreaks": [
          {
           "bounds": [
            "sat",
            "mon"
           ],
           "pattern": "day of week"
          },
          {
           "values": [
            "2020-04-23",
            "2020-05-01",
            "2020-05-19",
            "2020-05-25",
            "2020-05-26"
           ]
          }
         ],
         "rangeslider": {
          "visible": false
         },
         "showticklabels": false
        },
        "xaxis2": {
         "anchor": "y2",
         "domain": [
          0,
          1
         ],
         "matches": "x5",
         "rangebreaks": [
          {
           "bounds": [
            "sat",
            "mon"
           ],
           "pattern": "day of week"
          },
          {
           "values": [
            "2020-04-23",
            "2020-05-01",
            "2020-05-19",
            "2020-05-25",
            "2020-05-26"
           ]
          }
         ],
         "showticklabels": false
        },
        "xaxis3": {
         "anchor": "y3",
         "domain": [
          0,
          1
         ],
         "matches": "x5",
         "rangebreaks": [
          {
           "bounds": [
            "sat",
            "mon"
           ],
           "pattern": "day of week"
          },
          {
           "values": [
            "2020-04-23",
            "2020-05-01",
            "2020-05-19",
            "2020-05-25",
            "2020-05-26"
           ]
          }
         ],
         "showticklabels": false
        },
        "xaxis4": {
         "anchor": "y4",
         "domain": [
          0,
          1
         ],
         "matches": "x5",
         "rangebreaks": [
          {
           "bounds": [
            "sat",
            "mon"
           ],
           "pattern": "day of week"
          },
          {
           "values": [
            "2020-04-23",
            "2020-05-01",
            "2020-05-19",
            "2020-05-25",
            "2020-05-26"
           ]
          }
         ],
         "showticklabels": false
        },
        "xaxis5": {
         "anchor": "y5",
         "domain": [
          0,
          1
         ],
         "rangebreaks": [
          {
           "bounds": [
            "sat",
            "mon"
           ],
           "pattern": "day of week"
          },
          {
           "values": [
            "2020-04-23",
            "2020-05-01",
            "2020-05-19",
            "2020-05-25",
            "2020-05-26"
           ]
          }
         ]
        },
        "yaxis": {
         "anchor": "x",
         "domain": [
          0.6000000000000001,
          1
         ]
        },
        "yaxis2": {
         "anchor": "x2",
         "domain": [
          0.39000000000000007,
          0.55
         ]
        },
        "yaxis3": {
         "anchor": "x3",
         "domain": [
          0.26,
          0.34
         ]
        },
        "yaxis4": {
         "anchor": "x4",
         "domain": [
          0.13,
          0.21000000000000002
         ]
        },
        "yaxis5": {
         "anchor": "x5",
         "domain": [
          0,
          0.08000000000000002
         ]
        }
       }
      }
     },
     "metadata": {},
     "output_type": "display_data"
    },
    {
     "data": {
      "application/vnd.plotly.v1+json": {
       "config": {
        "plotlyServerURL": "https://plot.ly"
       },
       "data": [
        {
         "close": {
          "bdata": "AAAAoAhdEkAAAADgFTYTQAAAAODVFxVAAAAA4BNEFEAAAADgqvQTQAAAAKAkWxNAAAAAQFIWE0AAAABgy9YSQAAAAOD4kRJAAAAAIDYYEkAAAADAJk0SQAAAACDc7RFAAAAAAGTTEUAAAACgCk8RQAAAAKCTgBBAAAAAAIdbDkAAAADgOLAQQAAAAEC9VxJAAAAAAL79EUAAAADgktoQQAAAAED7gxFAAAAA4EYvEUAAAABAOAoRQAAAAODtqhBAAAAAgHWQEEAAAADAwJUQQAAAAMBmaxBAAAAAgIUBEEAAAADg3zkPQAAAAIDuUBBAAQAAwBrOD0AAAAAgV64PQAAAACBXrg9AAAAAINBuD0AAAABg/YMPQAAAAKA5ZA9AAAAAIFeuD0AAAACADE8PQAAAAIDe7Q9AAAAAIFeuD0ABAAAAo1kPQAEAAMAazg9AAAAAYGcREEAAAADg3oUQQAAAAGBnERBAAAAA4CvlDkAAAADgk44PQAAAAIDRug5AAAAA4CvlDkAAAABAhMMPQAAAAMAawBBAAAAAQFegEEAAAAAgKosQQAAAAAD+GxBAAAAA4EfjD0AAAACgk4AQQAAAAGDBOxBAAAAAAFhGEEAAAAAghLUQQAAAAGDBOxBA////f3T4D0AAAADgR+MPQAAAACDQbg9AAAAA4MHvDkAAAAAATMcNQAAAACARMw1AAAAAYDEVDEAAAADgxx8MQAAAAMD+zw5AAAAAoDlkD0AAAADgR9UQQAAAACB0RBFAAAAAQOxeEUAAAAAg3O0RQAAAAEBxrBJAAAAAQGMtEkAAAACgnw0SQAAAAEAXghJAAAAAQGE7E0AAAADgUrwSQA==",
          "dtype": "f8"
         },
         "high": {
          "bdata": "AAAA4BU2E0AAAAAgjlATQAAAAODVFxVAAAAAAJjrFUAAAABAEvgUQAAAAID1UxRAAAAAYI2qE0AAAAAgQqUTQAAAAADa+xJAAAAA4Ae3EkAAAADAjvYSQAAAAOD4kRJAAAAAwCZNEkAAAACA+t0RQAAAAMDckxFAAAAAQP11EEAAAADgOLAQQAAAAEC9VxJAAAAAgG4UFEAAAABAYy0SQAAAAKD5NxJAAAAAYM3IEUAAAABAoLMRQAAAAOD7KRFAAAAAIM5uEUAAAABgv0kRQAAAAIDPuhBAAAAA4N6FEEAAAABgsdgPQAAAAECxyhBAAAAAwMCVEEAAAABAo0sQQAAAAODQBhBAAAAAQKNLEEAAAABgZxEQQAEAAMAazg9AAAAAwBrAEEAAAABAo0sQQAAAAKCyFhBAAAAAIHY2EEAAAACA3u0PQAAAAECjSxBAAAAAAFhGEEAAAABAOAoRQAAAAKCipRBAAAAAgCnlEEAAAACAKpkPQAAAAGD9gw9AAAAAgCqZD0AAAACgshYQQAAAAOBVVBFAAAAAYM3IEUAAAACAgw8RQAAAAOCS2hBAAAAA4CoxEEAAAADAdOoQQAAAACCEtRBAAAAAINBgEEAAAABAscoQQAAAAOCh/xBAAAAAALJwEEAAAACA7lAQQAAAAICFARBA////f3T4D0AAAABASS8PQP///5+FDw9A////39IGDkAAAADAPUgNQAAAAODB7w5AAAAAoO24D0AAAAAAwO8QQAAAAID63RFAAAAAwNyTEUAAAADg6hISQAAAAEC7ZRNAAAAAgOnGEkAAAADgrYwSQAAAAECewRJAAAAAQLtlE0AAAACgJFsTQA==",
          "dtype": "f8"
         },
         "low": {
          "bdata": "AAAAwCZNEkAAAABAr9gRQAAAAOCeZxJAAAAAIFAkFEAAAACgfoUTQAAAAEAHERNAAAAAACanEkAAAADgrYwSQAAAAEAXghJAAAAAINztEUAAAAAAZNMRQAAAAOCQ6BFAAAAAICiZEUAAAACgsCQRQAAAAKCTgBBAAQAAQC0xDkAAAABgTRMNQAAAAAAaGhFAAAAAYBl0EUAAAADAwJUQQAAAAICDDxFAAAAAwBrAEEAAAABAscoQQAAAAMDAlRBAAAAAgO5QEEAAAADAZmsQQAAAAOCEWxBAAAAAYLHYD0AAAAAA7wQPQAAAAGCkpQ5A////f8CjD0AAAAAg0G4PQAAAAGD9gw9AAAAA4N85D0AAAABgdkQPQAAAAIAMTw9AAAAAwLIkD0AAAADgwe8OQAAAAADvBA9AAAAA4JOOD0AAAADg3zkPQAEAAACjWQ9AAAAAINBuD0AAAADgKjEQQAAAAGCx2A9AAAAAgNG6DkAAAADAPUgNQP///1/wUA5A////3w2bDkAAAAAA7wQPQAAAAGD9gw9AAAAAoJOAEEAAAACgOVYQQAAAAKCyFhBAAAAAQITDD0AAAADgR+MPQAAAAEBJIRBAAAAAQITDD0AAAABASSEQQP///390+A9AAQAAwBrOD0ABAADAGs4PQAAAAEBJLw9AAAAA4CvlDkAAAABAW5INQAEAAADkHQ1AAAAA4F92C0AAAABgCOQJQAAAAICoiQxAAAAAYDz8DUAAAADgR+MPQAAAAODtqhBAAAAAQDgKEUAAAADAdOoQQAAAAOBEPRJAAAAAQAkDEkAAAABACQMSQAAAACA2GBJAAAAAIESXEkAAAADgUrwSQA==",
          "dtype": "f8"
         },
         "name": "Candlestick",
         "open": {
          "bdata": "AAAAQFIWE0AAAACgCF0SQAAAAEBSFhNAAAAA4NUXFUAAAAAA2AkUQAAAAEAjDxRAAAAA4G9gE0AAAABAUhYTQAAAAECewRJAAAAAIESXEkAAAAAgNhgSQAAAAAByUhJAAAAAYCfzEUAAAABAVa4RQAAAAEDsXhFAAAAAALJwEEAAAAAAh1sOQAAAAOD7KRFAAAAAIDQmE0AAAAAAvv0RQAAAAEChWRFAAAAAICiZEUAAAABAkjQRQAAAAMB06hBAAAAA4O2qEEAAAADAwJUQQAAAAAAMmxBAAAAAYBtmEEAAAABg/YMPQAAAAODfOQ9AAAAAQKNLEEAAAADgR+MPQAAAAKDtuA9AAAAAoO24D0AAAADgk44PQP///3/Aow9AAAAAINBuD0AAAAAgV64PQAAAACDQbg9AAAAAIBwMEEABAADAGs4PQP///3/Aow9AAQAAwBrOD0AAAADgKjEQQAAAAKCTgBBAAAAAoLIWEEAAAAAAh1sOQAAAAADvBA9AAAAA4MHvDkAAAADg3zkPQAAAAGCx2A9AAAAAwHTqEEAAAADg7aoQQAAAAMAawBBAAAAAAP4bEEAAAACA3u0PQAAAACAqixBAAAAAYME7EEAAAACA7lAQQAAAAKD8zxBAAAAAwAxBEED///9/dPgPQAAAAIDe7Q9AAAAAoO24D0AAAAAgHBoPQAAAAABMxw1AAAAAAEzHDUAAAABgCOQJQAAAAICoiQxAAAAAwP7PDkAAAADgR+MPQAAAAIAp5RBAAAAAQJI0EUAAAABgGXQRQAAAACBElxJAAAAAwCZNEkAAAAAAclISQAAAAMDMIhJAAAAA4Ae3EkAAAABAYTsTQA==",
          "dtype": "f8"
         },
         "type": "candlestick",
         "x": [
          "2020-11-24T00:00:00.000000000",
          "2020-11-25T00:00:00.000000000",
          "2020-11-26T00:00:00.000000000",
          "2020-11-27T00:00:00.000000000",
          "2020-11-30T00:00:00.000000000",
          "2020-12-01T00:00:00.000000000",
          "2020-12-02T00:00:00.000000000",
          "2020-12-03T00:00:00.000000000",
          "2020-12-04T00:00:00.000000000",
          "2020-12-07T00:00:00.000000000",
          "2020-12-08T00:00:00.000000000",
          "2020-12-09T00:00:00.000000000",
          "2020-12-10T00:00:00.000000000",
          "2020-12-11T00:00:00.000000000",
          "2020-12-14T00:00:00.000000000",
          "2020-12-15T00:00:00.000000000",
          "2020-12-16T00:00:00.000000000",
          "2020-12-17T00:00:00.000000000",
          "2020-12-18T00:00:00.000000000",
          "2020-12-21T00:00:00.000000000",
          "2020-12-22T00:00:00.000000000",
          "2020-12-23T00:00:00.000000000",
          "2020-12-24T00:00:00.000000000",
          "2020-12-25T00:00:00.000000000",
          "2020-12-28T00:00:00.000000000",
          "2020-12-29T00:00:00.000000000",
          "2020-12-30T00:00:00.000000000",
          "2020-12-31T00:00:00.000000000",
          "2021-01-04T00:00:00.000000000",
          "2021-01-05T00:00:00.000000000",
          "2021-01-06T00:00:00.000000000",
          "2021-01-07T00:00:00.000000000",
          "2021-01-08T00:00:00.000000000",
          "2021-01-11T00:00:00.000000000",
          "2021-01-12T00:00:00.000000000",
          "2021-01-13T00:00:00.000000000",
          "2021-01-14T00:00:00.000000000",
          "2021-01-15T00:00:00.000000000",
          "2021-01-18T00:00:00.000000000",
          "2021-01-19T00:00:00.000000000",
          "2021-01-20T00:00:00.000000000",
          "2021-01-21T00:00:00.000000000",
          "2021-01-22T00:00:00.000000000",
          "2021-01-25T00:00:00.000000000",
          "2021-01-26T00:00:00.000000000",
          "2021-01-27T00:00:00.000000000",
          "2021-01-28T00:00:00.000000000",
          "2021-01-29T00:00:00.000000000",
          "2021-02-01T00:00:00.000000000",
          "2021-02-02T00:00:00.000000000",
          "2021-02-03T00:00:00.000000000",
          "2021-02-04T00:00:00.000000000",
          "2021-02-05T00:00:00.000000000",
          "2021-02-08T00:00:00.000000000",
          "2021-02-09T00:00:00.000000000",
          "2021-02-10T00:00:00.000000000",
          "2021-02-11T00:00:00.000000000",
          "2021-02-12T00:00:00.000000000",
          "2021-02-15T00:00:00.000000000",
          "2021-02-16T00:00:00.000000000",
          "2021-02-17T00:00:00.000000000",
          "2021-02-18T00:00:00.000000000",
          "2021-02-19T00:00:00.000000000",
          "2021-02-22T00:00:00.000000000",
          "2021-02-23T00:00:00.000000000",
          "2021-02-24T00:00:00.000000000",
          "2021-02-25T00:00:00.000000000",
          "2021-02-26T00:00:00.000000000",
          "2021-03-01T00:00:00.000000000",
          "2021-03-02T00:00:00.000000000",
          "2021-03-03T00:00:00.000000000",
          "2021-03-04T00:00:00.000000000",
          "2021-03-05T00:00:00.000000000",
          "2021-03-08T00:00:00.000000000",
          "2021-03-09T00:00:00.000000000",
          "2021-03-10T00:00:00.000000000",
          "2021-03-11T00:00:00.000000000",
          "2021-03-12T00:00:00.000000000",
          "2021-03-15T00:00:00.000000000",
          "2021-03-16T00:00:00.000000000"
         ],
         "xaxis": "x",
         "yaxis": "y"
        },
        {
         "marker": {
          "color": "green",
          "size": 14,
          "symbol": "triangle-up"
         },
         "mode": "markers",
         "name": "Alım",
         "type": "scatter",
         "x": [
          "2021-03-15T00:00:00"
         ],
         "xaxis": "x",
         "y": [
          4.647720813751221
         ],
         "yaxis": "y"
        },
        {
         "marker": {
          "color": "red",
          "size": 14,
          "symbol": "triangle-down"
         },
         "mode": "markers",
         "name": "Satım",
         "type": "scatter",
         "x": [
          "2021-03-16T00:00:00"
         ],
         "xaxis": "x",
         "y": [
          4.8390069007873535
         ],
         "yaxis": "y"
        },
        {
         "line": {
          "color": "#EE553B"
         },
         "mode": "lines",
         "name": "MACD",
         "type": "scatter",
         "x": [
          "2020-11-24T00:00:00.000000000",
          "2020-11-25T00:00:00.000000000",
          "2020-11-26T00:00:00.000000000",
          "2020-11-27T00:00:00.000000000",
          "2020-11-30T00:00:00.000000000",
          "2020-12-01T00:00:00.000000000",
          "2020-12-02T00:00:00.000000000",
          "2020-12-03T00:00:00.000000000",
          "2020-12-04T00:00:00.000000000",
          "2020-12-07T00:00:00.000000000",
          "2020-12-08T00:00:00.000000000",
          "2020-12-09T00:00:00.000000000",
          "2020-12-10T00:00:00.000000000",
          "2020-12-11T00:00:00.000000000",
          "2020-12-14T00:00:00.000000000",
          "2020-12-15T00:00:00.000000000",
          "2020-12-16T00:00:00.000000000",
          "2020-12-17T00:00:00.000000000",
          "2020-12-18T00:00:00.000000000",
          "2020-12-21T00:00:00.000000000",
          "2020-12-22T00:00:00.000000000",
          "2020-12-23T00:00:00.000000000",
          "2020-12-24T00:00:00.000000000",
          "2020-12-25T00:00:00.000000000",
          "2020-12-28T00:00:00.000000000",
          "2020-12-29T00:00:00.000000000",
          "2020-12-30T00:00:00.000000000",
          "2020-12-31T00:00:00.000000000",
          "2021-01-04T00:00:00.000000000",
          "2021-01-05T00:00:00.000000000",
          "2021-01-06T00:00:00.000000000",
          "2021-01-07T00:00:00.000000000",
          "2021-01-08T00:00:00.000000000",
          "2021-01-11T00:00:00.000000000",
          "2021-01-12T00:00:00.000000000",
          "2021-01-13T00:00:00.000000000",
          "2021-01-14T00:00:00.000000000",
          "2021-01-15T00:00:00.000000000",
          "2021-01-18T00:00:00.000000000",
          "2021-01-19T00:00:00.000000000",
          "2021-01-20T00:00:00.000000000",
          "2021-01-21T00:00:00.000000000",
          "2021-01-22T00:00:00.000000000",
          "2021-01-25T00:00:00.000000000",
          "2021-01-26T00:00:00.000000000",
          "2021-01-27T00:00:00.000000000",
          "2021-01-28T00:00:00.000000000",
          "2021-01-29T00:00:00.000000000",
          "2021-02-01T00:00:00.000000000",
          "2021-02-02T00:00:00.000000000",
          "2021-02-03T00:00:00.000000000",
          "2021-02-04T00:00:00.000000000",
          "2021-02-05T00:00:00.000000000",
          "2021-02-08T00:00:00.000000000",
          "2021-02-09T00:00:00.000000000",
          "2021-02-10T00:00:00.000000000",
          "2021-02-11T00:00:00.000000000",
          "2021-02-12T00:00:00.000000000",
          "2021-02-15T00:00:00.000000000",
          "2021-02-16T00:00:00.000000000",
          "2021-02-17T00:00:00.000000000",
          "2021-02-18T00:00:00.000000000",
          "2021-02-19T00:00:00.000000000",
          "2021-02-22T00:00:00.000000000",
          "2021-02-23T00:00:00.000000000",
          "2021-02-24T00:00:00.000000000",
          "2021-02-25T00:00:00.000000000",
          "2021-02-26T00:00:00.000000000",
          "2021-03-01T00:00:00.000000000",
          "2021-03-02T00:00:00.000000000",
          "2021-03-03T00:00:00.000000000",
          "2021-03-04T00:00:00.000000000",
          "2021-03-05T00:00:00.000000000",
          "2021-03-08T00:00:00.000000000",
          "2021-03-09T00:00:00.000000000",
          "2021-03-10T00:00:00.000000000",
          "2021-03-11T00:00:00.000000000",
          "2021-03-12T00:00:00.000000000",
          "2021-03-15T00:00:00.000000000",
          "2021-03-16T00:00:00.000000000"
         ],
         "xaxis": "x2",
         "y": {
          "bdata": "AGDYHc9tcD8AQWkd/jaQvwA0anjQ6Xk/ADyE460qfT8A0ALffC1YPwBMfHJkkI6/AHD5T6HgoL+A84GBm3SqvwDrvaScM7K/QPu0gsFRuL+APX0QkMe7v8BVZdeDCcC/YC/v6//Mwb/g8iPUpEzEvwB/htucFci/wHP0MWcnzr/AY9JSRrbOv4B1K2p/k8q/gIgFyizux7+gUCxw9nzIvwA8mKnx9Ma/AP71IQ9Xxr+ACMUZyPjFv+CY9/IQYsa/4DH3LNO2xr9g2Yibc6nGvwBSm7z4yMa/wDADd3mtx7+ATaOxLxzJv+CGYILEJsi/INbK4k4uyL/gtRakNhbIv6BxEsoQvce/oPrNpgyDx78AhE4V+fXGvwD0Dh8Abca/gFebAqphxb9gI5LQdcvEv7ALve1mTsO/4NDIH508wr8w5MHyA53Bv2CbVWfvV8C/wMxqG+d6vb9ADB8vFE+4v0CeQ3OWTba/wHzbnQult7+ggu0Mtry2v8AH/sbo4Le/QO3y0w8UuL8A8I+QT761v0CwydXEdq6/ALTqBzwupb8AQcfobAWdvwCEVKJ6G5u/ABNM7W2tnL8AdXWTsC2SvwBGK76keI6/AOBoscrSh78AAGJ8EmkzvwCAur97YE2/AFBF3unTeb8AJtSMkyKHvwCYtHPNFZS/AFokFe6Yn7+AEa7FbQqqv8CJKUC9XLK/QJ9sPVgwub/ADWe8CSW+v6A1dZpG0rq/QMphoBZvtr8AkUVcO96pvwDfOrVCA4m/gBsVyrd7lD8AEWQe2b+sP0AWGTwKQ7k/wAPQC1D4vj9AJfgCVTrBP4AwUlLyjsM/wMfwF08Cxz+ArrRb8C7IPw==",
          "dtype": "f8"
         },
         "yaxis": "y2"
        },
        {
         "line": {
          "color": "#00CC96"
         },
         "mode": "lines",
         "name": "Signal",
         "type": "scatter",
         "x": [
          "2020-11-24T00:00:00.000000000",
          "2020-11-25T00:00:00.000000000",
          "2020-11-26T00:00:00.000000000",
          "2020-11-27T00:00:00.000000000",
          "2020-11-30T00:00:00.000000000",
          "2020-12-01T00:00:00.000000000",
          "2020-12-02T00:00:00.000000000",
          "2020-12-03T00:00:00.000000000",
          "2020-12-04T00:00:00.000000000",
          "2020-12-07T00:00:00.000000000",
          "2020-12-08T00:00:00.000000000",
          "2020-12-09T00:00:00.000000000",
          "2020-12-10T00:00:00.000000000",
          "2020-12-11T00:00:00.000000000",
          "2020-12-14T00:00:00.000000000",
          "2020-12-15T00:00:00.000000000",
          "2020-12-16T00:00:00.000000000",
          "2020-12-17T00:00:00.000000000",
          "2020-12-18T00:00:00.000000000",
          "2020-12-21T00:00:00.000000000",
          "2020-12-22T00:00:00.000000000",
          "2020-12-23T00:00:00.000000000",
          "2020-12-24T00:00:00.000000000",
          "2020-12-25T00:00:00.000000000",
          "2020-12-28T00:00:00.000000000",
          "2020-12-29T00:00:00.000000000",
          "2020-12-30T00:00:00.000000000",
          "2020-12-31T00:00:00.000000000",
          "2021-01-04T00:00:00.000000000",
          "2021-01-05T00:00:00.000000000",
          "2021-01-06T00:00:00.000000000",
          "2021-01-07T00:00:00.000000000",
          "2021-01-08T00:00:00.000000000",
          "2021-01-11T00:00:00.000000000",
          "2021-01-12T00:00:00.000000000",
          "2021-01-13T00:00:00.000000000",
          "2021-01-14T00:00:00.000000000",
          "2021-01-15T00:00:00.000000000",
          "2021-01-18T00:00:00.000000000",
          "2021-01-19T00:00:00.000000000",
          "2021-01-20T00:00:00.000000000",
          "2021-01-21T00:00:00.000000000",
          "2021-01-22T00:00:00.000000000",
          "2021-01-25T00:00:00.000000000",
          "2021-01-26T00:00:00.000000000",
          "2021-01-27T00:00:00.000000000",
          "2021-01-28T00:00:00.000000000",
          "2021-01-29T00:00:00.000000000",
          "2021-02-01T00:00:00.000000000",
          "2021-02-02T00:00:00.000000000",
          "2021-02-03T00:00:00.000000000",
          "2021-02-04T00:00:00.000000000",
          "2021-02-05T00:00:00.000000000",
          "2021-02-08T00:00:00.000000000",
          "2021-02-09T00:00:00.000000000",
          "2021-02-10T00:00:00.000000000",
          "2021-02-11T00:00:00.000000000",
          "2021-02-12T00:00:00.000000000",
          "2021-02-15T00:00:00.000000000",
          "2021-02-16T00:00:00.000000000",
          "2021-02-17T00:00:00.000000000",
          "2021-02-18T00:00:00.000000000",
          "2021-02-19T00:00:00.000000000",
          "2021-02-22T00:00:00.000000000",
          "2021-02-23T00:00:00.000000000",
          "2021-02-24T00:00:00.000000000",
          "2021-02-25T00:00:00.000000000",
          "2021-02-26T00:00:00.000000000",
          "2021-03-01T00:00:00.000000000",
          "2021-03-02T00:00:00.000000000",
          "2021-03-03T00:00:00.000000000",
          "2021-03-04T00:00:00.000000000",
          "2021-03-05T00:00:00.000000000",
          "2021-03-08T00:00:00.000000000",
          "2021-03-09T00:00:00.000000000",
          "2021-03-10T00:00:00.000000000",
          "2021-03-11T00:00:00.000000000",
          "2021-03-12T00:00:00.000000000",
          "2021-03-15T00:00:00.000000000",
          "2021-03-16T00:00:00.000000000"
         ],
         "xaxis": "x2",
         "y": {
          "bdata": "vlJojFB1xz+SoP0VelzCP5AhF4uvs70/NPVQNUgguD8EYCYoXmCzP20vt21eea0/iw/HRys0pD94tz1ybb6VPwGDy7yeq2Y/Gm98Ij4wkb9xqzDhuPyhvyg0q5MwOKu/asE9ZhMCsr9JYtnZt4a2v26BsJ+ep7u/uRcRfboXwb8hWtGnCdHDv86SFjUhK8W/v5B57Im4xb8ftwM6OUbGvxk47ukqaca/FMbvwYtlxr+QBrQGy0/Gv9QjW5xyU8a/oyZHuVJnxr8vFyGAjHTGv7/vn/Juhca/JmNNQKTAxr8Fkl69WTnHvzH2Xn7VaMe/+yIOLFSQx7/DptwQG6vHv1bPTZyyrse/zKSa0felx7+kBCXfxILHv+qaIB83S8e/O1psGU7pxr/c6HOk73zGv9Tv6H8H2sW/1xx8OfIgxb/pd/DE9WzEvzSyBH/0m8O/Pdb0gaeiwr83xhPT1FbBv//HyRoGGsC/8lgI5Nh9vr8VLjbs0fC8vzjzKkuj7bu/oIvszIUou78aBtrARxO6vxww3OIZ6Le/F9J66U0+tb+50QVgHXKyv5ThiG6qHLC/oDf8rpulrL80uIhnQbyov0S9IinWT6W/naL63Js9or/IhfQJ5z6dv9T7j2eGlJe/Q9op0dAnlL+c5Wk1HHCSvxfWeNtyxJK/efBnTVhVlb/7YDLApXubv0vEJACOVqK/VnbiS/u+qL/F/XfuzNqvv6LWreQsG7K/jzo4CsL4sr9ZvQArocOxvxy63c1erK2/injidrmwpb9D7dt+azSXv98/dam8VFo//xK53q8Xmj/NixD1IzioP4V+J7bVgrE/uE7mNGQ2tz9hHproST68Pw==",
          "dtype": "f8"
         },
         "yaxis": "y2"
        },
        {
         "marker": {
          "color": "#AB62FA"
         },
         "name": "Histogram",
         "type": "bar",
         "x": [
          "2020-11-24T00:00:00.000000000",
          "2020-11-25T00:00:00.000000000",
          "2020-11-26T00:00:00.000000000",
          "2020-11-27T00:00:00.000000000",
          "2020-11-30T00:00:00.000000000",
          "2020-12-01T00:00:00.000000000",
          "2020-12-02T00:00:00.000000000",
          "2020-12-03T00:00:00.000000000",
          "2020-12-04T00:00:00.000000000",
          "2020-12-07T00:00:00.000000000",
          "2020-12-08T00:00:00.000000000",
          "2020-12-09T00:00:00.000000000",
          "2020-12-10T00:00:00.000000000",
          "2020-12-11T00:00:00.000000000",
          "2020-12-14T00:00:00.000000000",
          "2020-12-15T00:00:00.000000000",
          "2020-12-16T00:00:00.000000000",
          "2020-12-17T00:00:00.000000000",
          "2020-12-18T00:00:00.000000000",
          "2020-12-21T00:00:00.000000000",
          "2020-12-22T00:00:00.000000000",
          "2020-12-23T00:00:00.000000000",
          "2020-12-24T00:00:00.000000000",
          "2020-12-25T00:00:00.000000000",
          "2020-12-28T00:00:00.000000000",
          "2020-12-29T00:00:00.000000000",
          "2020-12-30T00:00:00.000000000",
          "2020-12-31T00:00:00.000000000",
          "2021-01-04T00:00:00.000000000",
          "2021-01-05T00:00:00.000000000",
          "2021-01-06T00:00:00.000000000",
          "2021-01-07T00:00:00.000000000",
          "2021-01-08T00:00:00.000000000",
          "2021-01-11T00:00:00.000000000",
          "2021-01-12T00:00:00.000000000",
          "2021-01-13T00:00:00.000000000",
          "2021-01-14T00:00:00.000000000",
          "2021-01-15T00:00:00.000000000",
          "2021-01-18T00:00:00.000000000",
          "2021-01-19T00:00:00.000000000",
          "2021-01-20T00:00:00.000000000",
          "2021-01-21T00:00:00.000000000",
          "2021-01-22T00:00:00.000000000",
          "2021-01-25T00:00:00.000000000",
          "2021-01-26T00:00:00.000000000",
          "2021-01-27T00:00:00.000000000",
          "2021-01-28T00:00:00.000000000",
          "2021-01-29T00:00:00.000000000",
          "2021-02-01T00:00:00.000000000",
          "2021-02-02T00:00:00.000000000",
          "2021-02-03T00:00:00.000000000",
          "2021-02-04T00:00:00.000000000",
          "2021-02-05T00:00:00.000000000",
          "2021-02-08T00:00:00.000000000",
          "2021-02-09T00:00:00.000000000",
          "2021-02-10T00:00:00.000000000",
          "2021-02-11T00:00:00.000000000",
          "2021-02-12T00:00:00.000000000",
          "2021-02-15T00:00:00.000000000",
          "2021-02-16T00:00:00.000000000",
          "2021-02-17T00:00:00.000000000",
          "2021-02-18T00:00:00.000000000",
          "2021-02-19T00:00:00.000000000",
          "2021-02-22T00:00:00.000000000",
          "2021-02-23T00:00:00.000000000",
          "2021-02-24T00:00:00.000000000",
          "2021-02-25T00:00:00.000000000",
          "2021-02-26T00:00:00.000000000",
          "2021-03-01T00:00:00.000000000",
          "2021-03-02T00:00:00.000000000",
          "2021-03-03T00:00:00.000000000",
          "2021-03-04T00:00:00.000000000",
          "2021-03-05T00:00:00.000000000",
          "2021-03-08T00:00:00.000000000",
          "2021-03-09T00:00:00.000000000",
          "2021-03-10T00:00:00.000000000",
          "2021-03-11T00:00:00.000000000",
          "2021-03-12T00:00:00.000000000",
          "2021-03-15T00:00:00.000000000",
          "2021-03-16T00:00:00.000000000"
         ],
         "xaxis": "x2",
         "y": {
          "bdata": "vo95E+Lxxr+yyKrZWWPEv1B+kIMSFby/dLEYV51Ntr/EVKo0qP+yvzYhK8W7jrK/xj/gS2aKsr+eZ1Ad6amyvxhHpJr56LK/et8V+rEFtL/I5+SfM8myv2wR9WTvdrK/Vp2gceyXsb93g27OkRKyv5J8XBebg7S/DrjGaVkfur8+EwJWecq1v8iKU9R4oaW/CL5f7Batkb8IzESx6bWRv+B8QPXXeHG/ACiQ8z/5PD8AhL87u8BlPwAY6jitPD2/QM8C7BzgY7+AGOGzjXNav0CQ2H5y4mC/QLO51qaafb+wt0tEXy2Ov+AVMoDgvXe/oGSW11a/c79Ax4PO5MZqvwCURIlbvDy/ABZVZpV1UT+AFNA6eZlxP0DdNALgxns/sCsQbUF6iD/AVxw+nReLPyAhX5EEXZQ/uF+azagilz/InXSRjn+WP6C2eL0oIJo/6H77oZ8pnz9cABHuKr2kP3zjn4TrzKM/yHCzGDVjmz/UrSJ9b9CYP+CtsxDqMpA/APPMx6+jiD9oWCjB4FORP/iv7u9uWaE/LvAKy19OpT/yAqhLhGGmPyiB54uXq6I/QFyscMmdnD9o+5s70kqfP4jXL/NZY5s/OtVAYdKRmD/I/QLAQvGcP9QnkomCqZY/hgwxs6xliz9wSv+7SXt7P5AevIOpFVW/DtN4jyuHhL8FwinLNZmYvzVPLoDsYqK/Ksj2LrWhqb+7HVaKRm+sv/y9jmszbqG/iH1MsaSyi79k03fzDVKTP1wCjyCOa6c/SgbtW5Xurz/RA+luBy20P0FBc0m32bg/AL8hFGRyuD+aBGgLmFi2P3vifO4Om7U/yED7+jnOtj+fPs/Olh+0Pw==",
          "dtype": "f8"
         },
         "yaxis": "y2"
        },
        {
         "line": {
          "color": "orange"
         },
         "mode": "lines",
         "name": "RSI",
         "type": "scatter",
         "x": [
          "2020-11-24T00:00:00.000000000",
          "2020-11-25T00:00:00.000000000",
          "2020-11-26T00:00:00.000000000",
          "2020-11-27T00:00:00.000000000",
          "2020-11-30T00:00:00.000000000",
          "2020-12-01T00:00:00.000000000",
          "2020-12-02T00:00:00.000000000",
          "2020-12-03T00:00:00.000000000",
          "2020-12-04T00:00:00.000000000",
          "2020-12-07T00:00:00.000000000",
          "2020-12-08T00:00:00.000000000",
          "2020-12-09T00:00:00.000000000",
          "2020-12-10T00:00:00.000000000",
          "2020-12-11T00:00:00.000000000",
          "2020-12-14T00:00:00.000000000",
          "2020-12-15T00:00:00.000000000",
          "2020-12-16T00:00:00.000000000",
          "2020-12-17T00:00:00.000000000",
          "2020-12-18T00:00:00.000000000",
          "2020-12-21T00:00:00.000000000",
          "2020-12-22T00:00:00.000000000",
          "2020-12-23T00:00:00.000000000",
          "2020-12-24T00:00:00.000000000",
          "2020-12-25T00:00:00.000000000",
          "2020-12-28T00:00:00.000000000",
          "2020-12-29T00:00:00.000000000",
          "2020-12-30T00:00:00.000000000",
          "2020-12-31T00:00:00.000000000",
          "2021-01-04T00:00:00.000000000",
          "2021-01-05T00:00:00.000000000",
          "2021-01-06T00:00:00.000000000",
          "2021-01-07T00:00:00.000000000",
          "2021-01-08T00:00:00.000000000",
          "2021-01-11T00:00:00.000000000",
          "2021-01-12T00:00:00.000000000",
          "2021-01-13T00:00:00.000000000",
          "2021-01-14T00:00:00.000000000",
          "2021-01-15T00:00:00.000000000",
          "2021-01-18T00:00:00.000000000",
          "2021-01-19T00:00:00.000000000",
          "2021-01-20T00:00:00.000000000",
          "2021-01-21T00:00:00.000000000",
          "2021-01-22T00:00:00.000000000",
          "2021-01-25T00:00:00.000000000",
          "2021-01-26T00:00:00.000000000",
          "2021-01-27T00:00:00.000000000",
          "2021-01-28T00:00:00.000000000",
          "2021-01-29T00:00:00.000000000",
          "2021-02-01T00:00:00.000000000",
          "2021-02-02T00:00:00.000000000",
          "2021-02-03T00:00:00.000000000",
          "2021-02-04T00:00:00.000000000",
          "2021-02-05T00:00:00.000000000",
          "2021-02-08T00:00:00.000000000",
          "2021-02-09T00:00:00.000000000",
          "2021-02-10T00:00:00.000000000",
          "2021-02-11T00:00:00.000000000",
          "2021-02-12T00:00:00.000000000",
          "2021-02-15T00:00:00.000000000",
          "2021-02-16T00:00:00.000000000",
          "2021-02-17T00:00:00.000000000",
          "2021-02-18T00:00:00.000000000",
          "2021-02-19T00:00:00.000000000",
          "2021-02-22T00:00:00.000000000",
          "2021-02-23T00:00:00.000000000",
          "2021-02-24T00:00:00.000000000",
          "2021-02-25T00:00:00.000000000",
          "2021-02-26T00:00:00.000000000",
          "2021-03-01T00:00:00.000000000",
          "2021-03-02T00:00:00.000000000",
          "2021-03-03T00:00:00.000000000",
          "2021-03-04T00:00:00.000000000",
          "2021-03-05T00:00:00.000000000",
          "2021-03-08T00:00:00.000000000",
          "2021-03-09T00:00:00.000000000",
          "2021-03-10T00:00:00.000000000",
          "2021-03-11T00:00:00.000000000",
          "2021-03-12T00:00:00.000000000",
          "2021-03-15T00:00:00.000000000",
          "2021-03-16T00:00:00.000000000"
         ],
         "xaxis": "x3",
         "y": {
          "bdata": "h/TCEPSNRUCEPvS/OlZHQHknvsZYz0pA0A5c3blASUBtUNFNkaxIQMKVCt3kjEdA2nxNUDELR0AQcT0GrY9GQIE9VZPzBUZA5eX2N+8QRUAwG44Fp6RFQJbfFbNu1kRAXa42sbGbRED2Xj5BZXRDQJC5zgZRyEFASNM+1wLgPkBzuJescEFEQLP+hOE2dUhAdaJgiR+xR0DbFjFdalxFQB+YiDcgBkdAcUcYIm1TRkBeCtep7wJGQIvM7yxtL0VA2g2rPTTzRECGHgaU8gRFQPbJnTiRmERA+IkkFluJQ0AN538LUo9CQDOtLV6fUkVAHlzXssQyREB+syavFwdEQH2zJq8XB0RAJzisnJKkQ0BpODp20NlDQD9EhdYwokNARgwIUEZyREAXyPM6NrdDQNAQJuaKikVA8Qmj+/j+REDZughcfUJEQFlgdzFQukVARB5gfLfHRkCoDdMVmXtJQPHnNlRtBUdAA7Rk0kIpRECA5j2sBSZGQOMzhah8U0RA2opbq8XXRECjUqO0xnRHQDw69GFOwEtAO0Ir3b8TS0A5kDzW8JxKQEDjBLgRQ0hArCcME9VpR0Cg6OZDd2lKQNBaeuXk80hA3VLEVg8uSUBDGmQ8J31LQFyonlxYxUhArSCf4pV3R0BTWA1HXj9HQAz7YifOBkZAA0gNkRq/REDfOz8yVxpCQIr5ewjI8EBAkOY6k//kPUAAlA0c1Tg+QNiSS/5DtUdADh3cdiohSUBqHTWvZ8JNQKTZ30vVMk9AbhIGHAOJT0Cc0rbeZaNQQMz9P7qxolFABvlu3Zw+UEBUNmgYSNBPQC+A9FjFmFBAEAkURUGQUUDPciMaLzBQQA==",
          "dtype": "f8"
         },
         "yaxis": "y3"
        },
        {
         "line": {
          "color": "#1BD3F3"
         },
         "mode": "lines",
         "name": "%D",
         "type": "scatter",
         "x": [
          "2020-11-24T00:00:00.000000000",
          "2020-11-25T00:00:00.000000000",
          "2020-11-26T00:00:00.000000000",
          "2020-11-27T00:00:00.000000000",
          "2020-11-30T00:00:00.000000000",
          "2020-12-01T00:00:00.000000000",
          "2020-12-02T00:00:00.000000000",
          "2020-12-03T00:00:00.000000000",
          "2020-12-04T00:00:00.000000000",
          "2020-12-07T00:00:00.000000000",
          "2020-12-08T00:00:00.000000000",
          "2020-12-09T00:00:00.000000000",
          "2020-12-10T00:00:00.000000000",
          "2020-12-11T00:00:00.000000000",
          "2020-12-14T00:00:00.000000000",
          "2020-12-15T00:00:00.000000000",
          "2020-12-16T00:00:00.000000000",
          "2020-12-17T00:00:00.000000000",
          "2020-12-18T00:00:00.000000000",
          "2020-12-21T00:00:00.000000000",
          "2020-12-22T00:00:00.000000000",
          "2020-12-23T00:00:00.000000000",
          "2020-12-24T00:00:00.000000000",
          "2020-12-25T00:00:00.000000000",
          "2020-12-28T00:00:00.000000000",
          "2020-12-29T00:00:00.000000000",
          "2020-12-30T00:00:00.000000000",
          "2020-12-31T00:00:00.000000000",
          "2021-01-04T00:00:00.000000000",
          "2021-01-05T00:00:00.000000000",
          "2021-01-06T00:00:00.000000000",
          "2021-01-07T00:00:00.000000000",
          "2021-01-08T00:00:00.000000000",
          "2021-01-11T00:00:00.000000000",
          "2021-01-12T00:00:00.000000000",
          "2021-01-13T00:00:00.000000000",
          "2021-01-14T00:00:00.000000000",
          "2021-01-15T00:00:00.000000000",
          "2021-01-18T00:00:00.000000000",
          "2021-01-19T00:00:00.000000000",
          "2021-01-20T00:00:00.000000000",
          "2021-01-21T00:00:00.000000000",
          "2021-01-22T00:00:00.000000000",
          "2021-01-25T00:00:00.000000000",
          "2021-01-26T00:00:00.000000000",
          "2021-01-27T00:00:00.000000000",
          "2021-01-28T00:00:00.000000000",
          "2021-01-29T00:00:00.000000000",
          "2021-02-01T00:00:00.000000000",
          "2021-02-02T00:00:00.000000000",
          "2021-02-03T00:00:00.000000000",
          "2021-02-04T00:00:00.000000000",
          "2021-02-05T00:00:00.000000000",
          "2021-02-08T00:00:00.000000000",
          "2021-02-09T00:00:00.000000000",
          "2021-02-10T00:00:00.000000000",
          "2021-02-11T00:00:00.000000000",
          "2021-02-12T00:00:00.000000000",
          "2021-02-15T00:00:00.000000000",
          "2021-02-16T00:00:00.000000000",
          "2021-02-17T00:00:00.000000000",
          "2021-02-18T00:00:00.000000000",
          "2021-02-19T00:00:00.000000000",
          "2021-02-22T00:00:00.000000000",
          "2021-02-23T00:00:00.000000000",
          "2021-02-24T00:00:00.000000000",
          "2021-02-25T00:00:00.000000000",
          "2021-02-26T00:00:00.000000000",
          "2021-03-01T00:00:00.000000000",
          "2021-03-02T00:00:00.000000000",
          "2021-03-03T00:00:00.000000000",
          "2021-03-04T00:00:00.000000000",
          "2021-03-05T00:00:00.000000000",
          "2021-03-08T00:00:00.000000000",
          "2021-03-09T00:00:00.000000000",
          "2021-03-10T00:00:00.000000000",
          "2021-03-11T00:00:00.000000000",
          "2021-03-12T00:00:00.000000000",
          "2021-03-15T00:00:00.000000000",
          "2021-03-16T00:00:00.000000000"
         ],
         "xaxis": "x4",
         "y": {
          "bdata": "Ta/QbJLkGEAKCCHwuhgUQME9/lFHLSNAcNmmueJGM0DQPmIG9Is/QOuuTd9sU0NAdTBCGm8kREDXYArR2CNCQHMJKQqlxD5AZ+frV9mhN0BgwKNQdl0xQBnCMH1yGCdAOPMZBfywIEDE4rr0Ap4WQDi8nqbagBFAk4VWo/zpBUClgizqQHETQC9BvvUvrCtA1JVD8SLBPUDP81dtEh1GQCsPQDbewklAMcJB56mASUAozswtLbpIQKPCjuJfZ0dAmTn9rVoeRkAVHQWv0jBEQFWQIEcw3UJAQRzfG3mZQUAU4/zfLKI/QBBLHU+zWzxAtPtXv4KcOEDhwDVHbt01QMl7vwSWvjFASHXUdI29LkBBs2bN9WQtQBOF8aSYuC5AaTwE9n8VMUC7sxnlI9YxQEt5Gpt4uDRAMytLWxCUN0DfGKRQT5I7QJUAULwlbz5AI2JHayPqQED7czdVHo1EQNslhmMhvUdAeyfg+OeFR0DnjN3txdBDQKc06z2CeD9AASNm4huVP0CfH8YhNi5BQKEc/w44skVAEN3u/WFCSkDzJ04mbhJPQGjYWWkhcE9AeQk9yfn0TEBjVw8A7OlJQNumjIKT2khA3GlJt7WVSUA14Tu2H8FKQIRRoghmtEtANQzsFbruSkDZptyOOZNHQLtsWVSM6EFA8BaJQYBbN0AvDlXvZrMpQL/2Cd+4ihhAB0T6dQc6DkDMATTjlVgaQBn0OpyTyDBAL+JK1R9BQEB9eqhugJNKQFsVoCCqj1FA/VY/cGnTVEBT9yLX8TlWQJAeduOi5lZAewsSiLO3VkCMXmh/vP9VQPx1L3qpLlVAJaFIVJcQVUAI0yd8z71VQA==",
          "dtype": "f8"
         },
         "yaxis": "y4"
        },
        {
         "line": {
          "color": "#FF6692"
         },
         "mode": "lines",
         "name": "%K",
         "type": "scatter",
         "x": [
          "2020-11-24T00:00:00.000000000",
          "2020-11-25T00:00:00.000000000",
          "2020-11-26T00:00:00.000000000",
          "2020-11-27T00:00:00.000000000",
          "2020-11-30T00:00:00.000000000",
          "2020-12-01T00:00:00.000000000",
          "2020-12-02T00:00:00.000000000",
          "2020-12-03T00:00:00.000000000",
          "2020-12-04T00:00:00.000000000",
          "2020-12-07T00:00:00.000000000",
          "2020-12-08T00:00:00.000000000",
          "2020-12-09T00:00:00.000000000",
          "2020-12-10T00:00:00.000000000",
          "2020-12-11T00:00:00.000000000",
          "2020-12-14T00:00:00.000000000",
          "2020-12-15T00:00:00.000000000",
          "2020-12-16T00:00:00.000000000",
          "2020-12-17T00:00:00.000000000",
          "2020-12-18T00:00:00.000000000",
          "2020-12-21T00:00:00.000000000",
          "2020-12-22T00:00:00.000000000",
          "2020-12-23T00:00:00.000000000",
          "2020-12-24T00:00:00.000000000",
          "2020-12-25T00:00:00.000000000",
          "2020-12-28T00:00:00.000000000",
          "2020-12-29T00:00:00.000000000",
          "2020-12-30T00:00:00.000000000",
          "2020-12-31T00:00:00.000000000",
          "2021-01-04T00:00:00.000000000",
          "2021-01-05T00:00:00.000000000",
          "2021-01-06T00:00:00.000000000",
          "2021-01-07T00:00:00.000000000",
          "2021-01-08T00:00:00.000000000",
          "2021-01-11T00:00:00.000000000",
          "2021-01-12T00:00:00.000000000",
          "2021-01-13T00:00:00.000000000",
          "2021-01-14T00:00:00.000000000",
          "2021-01-15T00:00:00.000000000",
          "2021-01-18T00:00:00.000000000",
          "2021-01-19T00:00:00.000000000",
          "2021-01-20T00:00:00.000000000",
          "2021-01-21T00:00:00.000000000",
          "2021-01-22T00:00:00.000000000",
          "2021-01-25T00:00:00.000000000",
          "2021-01-26T00:00:00.000000000",
          "2021-01-27T00:00:00.000000000",
          "2021-01-28T00:00:00.000000000",
          "2021-01-29T00:00:00.000000000",
          "2021-02-01T00:00:00.000000000",
          "2021-02-02T00:00:00.000000000",
          "2021-02-03T00:00:00.000000000",
          "2021-02-04T00:00:00.000000000",
          "2021-02-05T00:00:00.000000000",
          "2021-02-08T00:00:00.000000000",
          "2021-02-09T00:00:00.000000000",
          "2021-02-10T00:00:00.000000000",
          "2021-02-11T00:00:00.000000000",
          "2021-02-12T00:00:00.000000000",
          "2021-02-15T00:00:00.000000000",
          "2021-02-16T00:00:00.000000000",
          "2021-02-17T00:00:00.000000000",
          "2021-02-18T00:00:00.000000000",
          "2021-02-19T00:00:00.000000000",
          "2021-02-22T00:00:00.000000000",
          "2021-02-23T00:00:00.000000000",
          "2021-02-24T00:00:00.000000000",
          "2021-02-25T00:00:00.000000000",
          "2021-02-26T00:00:00.000000000",
          "2021-03-01T00:00:00.000000000",
          "2021-03-02T00:00:00.000000000",
          "2021-03-03T00:00:00.000000000",
          "2021-03-04T00:00:00.000000000",
          "2021-03-05T00:00:00.000000000",
          "2021-03-08T00:00:00.000000000",
          "2021-03-09T00:00:00.000000000",
          "2021-03-10T00:00:00.000000000",
          "2021-03-11T00:00:00.000000000",
          "2021-03-12T00:00:00.000000000",
          "2021-03-15T00:00:00.000000000",
          "2021-03-16T00:00:00.000000000"
         ],
         "xaxis": "x4",
         "y": {
          "bdata": "VcRDaiUlDEADW6ejVVIXQFINy+SwajNAHdSf77BKQEBvA46n5FFFQC81uwaxXURAvVh9oLe9QkArKc2XQ6A+QKtBs0U8MjhAWEtDKgwTMEAwaOkDNaYnQL2ORD4U+hpAGVSE2GnfGUC7is+OFQEOQDM24Kc2RQdAN5+nZlPv+D95wnVIqTokQJAG+BX+1T1A1ezLDAuoSEBN6z8wLcRKQF1VtGVi3ElA5QXRH27hR0A1D+EDt3BIQMgy+oP640VAy2ocgl4GRECnufgGH6hCQI2MTEwT6UFAjQ5YADk7QEAFc60G7p06QAxR+uW5/jlABS9gUeA4NUCLwkaesGAyQIsDLz1iRCtALdfA5OQyLECAHyIjzVswQP94z8NKPy9AN9kCXQ1FM0B2hWLwuJ0yQC8N6oOjRjhA7e6UndTXO0B7Tm3QdZg+QCridmOTbkBA/5wo9psDQ0DF3AamKzVKQMn3Yo6c/klA46E2tu9dQkALGv4Jiys+QBxAVkMcgjtAbQfvLNaIQkBhN7gWvkBDQBUXVukTTUtAXSTf/KkcUEADDOtHcdhQQHcoebItZkxA7dtnGd3HSEDBAU00uY9IQN8W8TkkOElA8SSet0P5SkDNZyQx9xFMQM1nJDH3EUxAA1V73z+oSEC5N/abdf9BQOVyNQPfIzZA68TyEm3fJ0Cb/0JpE+YRQPBq1Tf07P8/owu/ubp1E0B7z/PwZMwpQNCY49YMS0BA3RnAbDkFSkBj3iqEHbVSQL9UVSdE91RA1dE9pdrNVkBjv9W4tuhWQHjKTkxX/VZAk5gRkwxBVkCYuNie0cBUQMkQpDweilRADRpdIdbmVUBBTnYWeshWQA==",
          "dtype": "f8"
         },
         "yaxis": "y4"
        },
        {
         "marker": {
          "color": "#B6E880"
         },
         "name": "Volume",
         "type": "bar",
         "x": [
          "2020-11-24T00:00:00.000000000",
          "2020-11-25T00:00:00.000000000",
          "2020-11-26T00:00:00.000000000",
          "2020-11-27T00:00:00.000000000",
          "2020-11-30T00:00:00.000000000",
          "2020-12-01T00:00:00.000000000",
          "2020-12-02T00:00:00.000000000",
          "2020-12-03T00:00:00.000000000",
          "2020-12-04T00:00:00.000000000",
          "2020-12-07T00:00:00.000000000",
          "2020-12-08T00:00:00.000000000",
          "2020-12-09T00:00:00.000000000",
          "2020-12-10T00:00:00.000000000",
          "2020-12-11T00:00:00.000000000",
          "2020-12-14T00:00:00.000000000",
          "2020-12-15T00:00:00.000000000",
          "2020-12-16T00:00:00.000000000",
          "2020-12-17T00:00:00.000000000",
          "2020-12-18T00:00:00.000000000",
          "2020-12-21T00:00:00.000000000",
          "2020-12-22T00:00:00.000000000",
          "2020-12-23T00:00:00.000000000",
          "2020-12-24T00:00:00.000000000",
          "2020-12-25T00:00:00.000000000",
          "2020-12-28T00:00:00.000000000",
          "2020-12-29T00:00:00.000000000",
          "2020-12-30T00:00:00.000000000",
          "2020-12-31T00:00:00.000000000",
          "2021-01-04T00:00:00.000000000",
          "2021-01-05T00:00:00.000000000",
          "2021-01-06T00:00:00.000000000",
          "2021-01-07T00:00:00.000000000",
          "2021-01-08T00:00:00.000000000",
          "2021-01-11T00:00:00.000000000",
          "2021-01-12T00:00:00.000000000",
          "2021-01-13T00:00:00.000000000",
          "2021-01-14T00:00:00.000000000",
          "2021-01-15T00:00:00.000000000",
          "2021-01-18T00:00:00.000000000",
          "2021-01-19T00:00:00.000000000",
          "2021-01-20T00:00:00.000000000",
          "2021-01-21T00:00:00.000000000",
          "2021-01-22T00:00:00.000000000",
          "2021-01-25T00:00:00.000000000",
          "2021-01-26T00:00:00.000000000",
          "2021-01-27T00:00:00.000000000",
          "2021-01-28T00:00:00.000000000",
          "2021-01-29T00:00:00.000000000",
          "2021-02-01T00:00:00.000000000",
          "2021-02-02T00:00:00.000000000",
          "2021-02-03T00:00:00.000000000",
          "2021-02-04T00:00:00.000000000",
          "2021-02-05T00:00:00.000000000",
          "2021-02-08T00:00:00.000000000",
          "2021-02-09T00:00:00.000000000",
          "2021-02-10T00:00:00.000000000",
          "2021-02-11T00:00:00.000000000",
          "2021-02-12T00:00:00.000000000",
          "2021-02-15T00:00:00.000000000",
          "2021-02-16T00:00:00.000000000",
          "2021-02-17T00:00:00.000000000",
          "2021-02-18T00:00:00.000000000",
          "2021-02-19T00:00:00.000000000",
          "2021-02-22T00:00:00.000000000",
          "2021-02-23T00:00:00.000000000",
          "2021-02-24T00:00:00.000000000",
          "2021-02-25T00:00:00.000000000",
          "2021-02-26T00:00:00.000000000",
          "2021-03-01T00:00:00.000000000",
          "2021-03-02T00:00:00.000000000",
          "2021-03-03T00:00:00.000000000",
          "2021-03-04T00:00:00.000000000",
          "2021-03-05T00:00:00.000000000",
          "2021-03-08T00:00:00.000000000",
          "2021-03-09T00:00:00.000000000",
          "2021-03-10T00:00:00.000000000",
          "2021-03-11T00:00:00.000000000",
          "2021-03-12T00:00:00.000000000",
          "2021-03-15T00:00:00.000000000",
          "2021-03-16T00:00:00.000000000"
         ],
         "xaxis": "x5",
         "y": {
          "bdata": "s89pAMGQZQBpUOwA2K+wAF7xHwHLY+MAqAcLAQq4PAGPpJYA4QeFAPRYzAAoc3UAmnevADqRjgAqW9wAwp6fASw/4AH5k8ABo489BcqkXQHgA9ABEbLxAF06BQHBghkBWrWPAbD4dAF8wHcARVCMAJBYdQCDc4YCeW+yAH5soQBTUXQAjHPdAPF2iABykV4AiTJcAtSTlwC3PtcAg6LqAJ0zrAD7G0oBOnNgAc7YLQJLiikBaGzHAYrFswDAzJ8AhGKoAF77YgH9BPsDBe4RAhmRFAGGVK4AX0J0AGIzZQFUDGMA5EuKABk1WwHz0/kAen+uADFTrwCFunUALtd8AM9PiwDgomoAwgJxAKe1pADHabEAHw68AGfIZwKiM8ICHw9QATz1aAEnhywEZwWOAVdC8AAu56MBkb2bAe709gA=",
          "dtype": "i4"
         },
         "yaxis": "y5"
        }
       ],
       "layout": {
        "annotations": [
         {
          "showarrow": false,
          "text": "ATH_max: 4.81",
          "x": 0,
          "xanchor": "left",
          "xref": "x domain",
          "y": 4.807988166809082,
          "yanchor": "bottom",
          "yref": "y"
         },
         {
          "showarrow": false,
          "text": "ATH_min: 3.51",
          "x": 0,
          "xanchor": "left",
          "xref": "x domain",
          "y": 3.510348081588745,
          "yanchor": "top",
          "yref": "y"
         },
         {
          "font": {
           "size": 20
          },
          "showarrow": false,
          "text": "MACD",
          "x": 0.5,
          "xref": "paper",
          "y": 0.57,
          "yref": "paper"
         },
         {
          "font": {
           "size": 20
          },
          "showarrow": false,
          "text": "RSI",
          "x": 0.5,
          "xref": "paper",
          "y": 0.36,
          "yref": "paper"
         },
         {
          "font": {
           "size": 20
          },
          "showarrow": false,
          "text": "Stochastic",
          "x": 0.5,
          "xref": "paper",
          "y": 0.21,
          "yref": "paper"
         },
         {
          "font": {
           "size": 20
          },
          "showarrow": false,
          "text": "Volume",
          "x": 0.5,
          "xref": "paper",
          "y": 0.078,
          "yref": "paper"
         }
        ],
        "height": 1000,
        "shapes": [
         {
          "line": {
           "color": "green",
           "dash": "dash",
           "width": 2
          },
          "type": "line",
          "x0": 0,
          "x1": 1,
          "xref": "x domain",
          "y0": 4.807988166809082,
          "y1": 4.807988166809082,
          "yref": "y"
         },
         {
          "line": {
           "color": "red",
           "dash": "dash",
           "width": 2
          },
          "type": "line",
          "x0": 0,
          "x1": 1,
          "xref": "x domain",
          "y0": 3.510348081588745,
          "y1": 3.510348081588745,
          "yref": "y"
         },
         {
          "line": {
           "color": "green",
           "dash": "dash",
           "width": 2
          },
          "type": "line",
          "x0": 0,
          "x1": 1,
          "xref": "x3 domain",
          "y0": 30,
          "y1": 30,
          "yref": "y3"
         },
         {
          "line": {
           "color": "red",
           "dash": "dash",
           "width": 2
          },
          "type": "line",
          "x0": 0,
          "x1": 1,
          "xref": "x3 domain",
          "y0": 70,
          "y1": 70,
          "yref": "y3"
         },
         {
          "line": {
           "color": "green",
           "dash": "dash",
           "width": 2
          },
          "type": "line",
          "x0": 0,
          "x1": 1,
          "xref": "x4 domain",
          "y0": 20,
          "y1": 20,
          "yref": "y4"
         },
         {
          "line": {
           "color": "red",
           "dash": "dash",
           "width": 2
          },
          "type": "line",
          "x0": 0,
          "x1": 1,
          "xref": "x4 domain",
          "y0": 80,
          "y1": 80,
          "yref": "y4"
         }
        ],
        "template": {
         "data": {
          "bar": [
           {
            "error_x": {
             "color": "#2a3f5f"
            },
            "error_y": {
             "color": "#2a3f5f"
            },
            "marker": {
             "line": {
              "color": "#E5ECF6",
              "width": 0.5
             },
             "pattern": {
              "fillmode": "overlay",
              "size": 10,
              "solidity": 0.2
             }
            },
            "type": "bar"
           }
          ],
          "barpolar": [
           {
            "marker": {
             "line": {
              "color": "#E5ECF6",
              "width": 0.5
             },
             "pattern": {
              "fillmode": "overlay",
              "size": 10,
              "solidity": 0.2
             }
            },
            "type": "barpolar"
           }
          ],
          "carpet": [
           {
            "aaxis": {
             "endlinecolor": "#2a3f5f",
             "gridcolor": "white",
             "linecolor": "white",
             "minorgridcolor": "white",
             "startlinecolor": "#2a3f5f"
            },
            "baxis": {
             "endlinecolor": "#2a3f5f",
             "gridcolor": "white",
             "linecolor": "white",
             "minorgridcolor": "white",
             "startlinecolor": "#2a3f5f"
            },
            "type": "carpet"
           }
          ],
          "choropleth": [
           {
            "colorbar": {
             "outlinewidth": 0,
             "ticks": ""
            },
            "type": "choropleth"
           }
          ],
          "contour": [
           {
            "colorbar": {
             "outlinewidth": 0,
             "ticks": ""
            },
            "colorscale": [
             [
              0,
              "#0d0887"
             ],
             [
              0.1111111111111111,
              "#46039f"
             ],
             [
              0.2222222222222222,
              "#7201a8"
             ],
             [
              0.3333333333333333,
              "#9c179e"
             ],
             [
              0.4444444444444444,
              "#bd3786"
             ],
             [
              0.5555555555555556,
              "#d8576b"
             ],
             [
              0.6666666666666666,
              "#ed7953"
             ],
             [
              0.7777777777777778,
              "#fb9f3a"
             ],
             [
              0.8888888888888888,
              "#fdca26"
             ],
             [
              1,
              "#f0f921"
             ]
            ],
            "type": "contour"
           }
          ],
          "contourcarpet": [
           {
            "colorbar": {
             "outlinewidth": 0,
             "ticks": ""
            },
            "type": "contourcarpet"
           }
          ],
          "heatmap": [
           {
            "colorbar": {
             "outlinewidth": 0,
             "ticks": ""
            },
            "colorscale": [
             [
              0,
              "#0d0887"
             ],
             [
              0.1111111111111111,
              "#46039f"
             ],
             [
              0.2222222222222222,
              "#7201a8"
             ],
             [
              0.3333333333333333,
              "#9c179e"
             ],
             [
              0.4444444444444444,
              "#bd3786"
             ],
             [
              0.5555555555555556,
              "#d8576b"
             ],
             [
              0.6666666666666666,
              "#ed7953"
             ],
             [
              0.7777777777777778,
              "#fb9f3a"
             ],
             [
              0.8888888888888888,
              "#fdca26"
             ],
             [
              1,
              "#f0f921"
             ]
            ],
            "type": "heatmap"
           }
          ],
          "histogram": [
           {
            "marker": {
             "pattern": {
              "fillmode": "overlay",
              "size": 10,
              "solidity": 0.2
             }
            },
            "type": "histogram"
           }
          ],
          "histogram2d": [
           {
            "colorbar": {
             "outlinewidth": 0,
             "ticks": ""
            },
            "colorscale": [
             [
              0,
              "#0d0887"
             ],
             [
              0.1111111111111111,
              "#46039f"
             ],
             [
              0.2222222222222222,
              "#7201a8"
             ],
             [
              0.3333333333333333,
              "#9c179e"
             ],
             [
              0.4444444444444444,
              "#bd3786"
             ],
             [
              0.5555555555555556,
              "#d8576b"
             ],
             [
              0.6666666666666666,
              "#ed7953"
             ],
             [
              0.7777777777777778,
              "#fb9f3a"
             ],
             [
              0.8888888888888888,
              "#fdca26"
             ],
             [
              1,
              "#f0f921"
             ]
            ],
            "type": "histogram2d"
           }
          ],
          "histogram2dcontour": [
           {
            "colorbar": {
             "outlinewidth": 0,
             "ticks": ""
            },
            "colorscale": [
             [
              0,
              "#0d0887"
             ],
             [
              0.1111111111111111,
              "#46039f"
             ],
             [
              0.2222222222222222,
              "#7201a8"
             ],
             [
              0.3333333333333333,
              "#9c179e"
             ],
             [
              0.4444444444444444,
              "#bd3786"
             ],
             [
              0.5555555555555556,
              "#d8576b"
             ],
             [
              0.6666666666666666,
              "#ed7953"
             ],
             [
              0.7777777777777778,
              "#fb9f3a"
             ],
             [
              0.8888888888888888,
              "#fdca26"
             ],
             [
              1,
              "#f0f921"
             ]
            ],
            "type": "histogram2dcontour"
           }
          ],
          "mesh3d": [
           {
            "colorbar": {
             "outlinewidth": 0,
             "ticks": ""
            },
            "type": "mesh3d"
           }
          ],
          "parcoords": [
           {
            "line": {
             "colorbar": {
              "outlinewidth": 0,
              "ticks": ""
             }
            },
            "type": "parcoords"
           }
          ],
          "pie": [
           {
            "automargin": true,
            "type": "pie"
           }
          ],
          "scatter": [
           {
            "fillpattern": {
             "fillmode": "overlay",
             "size": 10,
             "solidity": 0.2
            },
            "type": "scatter"
           }
          ],
          "scatter3d": [
           {
            "line": {
             "colorbar": {
              "outlinewidth": 0,
              "ticks": ""
             }
            },
            "marker": {
             "colorbar": {
              "outlinewidth": 0,
              "ticks": ""
             }
            },
            "type": "scatter3d"
           }
          ],
          "scattercarpet": [
           {
            "marker": {
             "colorbar": {
              "outlinewidth": 0,
              "ticks": ""
             }
            },
            "type": "scattercarpet"
           }
          ],
          "scattergeo": [
           {
            "marker": {
             "colorbar": {
              "outlinewidth": 0,
              "ticks": ""
             }
            },
            "type": "scattergeo"
           }
          ],
          "scattergl": [
           {
            "marker": {
             "colorbar": {
              "outlinewidth": 0,
              "ticks": ""
             }
            },
            "type": "scattergl"
           }
          ],
          "scattermap": [
           {
            "marker": {
             "colorbar": {
              "outlinewidth": 0,
              "ticks": ""
             }
            },
            "type": "scattermap"
           }
          ],
          "scattermapbox": [
           {
            "marker": {
             "colorbar": {
              "outlinewidth": 0,
              "ticks": ""
             }
            },
            "type": "scattermapbox"
           }
          ],
          "scatterpolar": [
           {
            "marker": {
             "colorbar": {
              "outlinewidth": 0,
              "ticks": ""
             }
            },
            "type": "scatterpolar"
           }
          ],
          "scatterpolargl": [
           {
            "marker": {
             "colorbar": {
              "outlinewidth": 0,
              "ticks": ""
             }
            },
            "type": "scatterpolargl"
           }
          ],
          "scatterternary": [
           {
            "marker": {
             "colorbar": {
              "outlinewidth": 0,
              "ticks": ""
             }
            },
            "type": "scatterternary"
           }
          ],
          "surface": [
           {
            "colorbar": {
             "outlinewidth": 0,
             "ticks": ""
            },
            "colorscale": [
             [
              0,
              "#0d0887"
             ],
             [
              0.1111111111111111,
              "#46039f"
             ],
             [
              0.2222222222222222,
              "#7201a8"
             ],
             [
              0.3333333333333333,
              "#9c179e"
             ],
             [
              0.4444444444444444,
              "#bd3786"
             ],
             [
              0.5555555555555556,
              "#d8576b"
             ],
             [
              0.6666666666666666,
              "#ed7953"
             ],
             [
              0.7777777777777778,
              "#fb9f3a"
             ],
             [
              0.8888888888888888,
              "#fdca26"
             ],
             [
              1,
              "#f0f921"
             ]
            ],
            "type": "surface"
           }
          ],
          "table": [
           {
            "cells": {
             "fill": {
              "color": "#EBF0F8"
             },
             "line": {
              "color": "white"
             }
            },
            "header": {
             "fill": {
              "color": "#C8D4E3"
             },
             "line": {
              "color": "white"
             }
            },
            "type": "table"
           }
          ]
         },
         "layout": {
          "annotationdefaults": {
           "arrowcolor": "#2a3f5f",
           "arrowhead": 0,
           "arrowwidth": 1
          },
          "autotypenumbers": "strict",
          "coloraxis": {
           "colorbar": {
            "outlinewidth": 0,
            "ticks": ""
           }
          },
          "colorscale": {
           "diverging": [
            [
             0,
             "#8e0152"
            ],
            [
             0.1,
             "#c51b7d"
            ],
            [
             0.2,
             "#de77ae"
            ],
            [
             0.3,
             "#f1b6da"
            ],
            [
             0.4,
             "#fde0ef"
            ],
            [
             0.5,
             "#f7f7f7"
            ],
            [
             0.6,
             "#e6f5d0"
            ],
            [
             0.7,
             "#b8e186"
            ],
            [
             0.8,
             "#7fbc41"
            ],
            [
             0.9,
             "#4d9221"
            ],
            [
             1,
             "#276419"
            ]
           ],
           "sequential": [
            [
             0,
             "#0d0887"
            ],
            [
             0.1111111111111111,
             "#46039f"
            ],
            [
             0.2222222222222222,
             "#7201a8"
            ],
            [
             0.3333333333333333,
             "#9c179e"
            ],
            [
             0.4444444444444444,
             "#bd3786"
            ],
            [
             0.5555555555555556,
             "#d8576b"
            ],
            [
             0.6666666666666666,
             "#ed7953"
            ],
            [
             0.7777777777777778,
             "#fb9f3a"
            ],
            [
             0.8888888888888888,
             "#fdca26"
            ],
            [
             1,
             "#f0f921"
            ]
           ],
           "sequentialminus": [
            [
             0,
             "#0d0887"
            ],
            [
             0.1111111111111111,
             "#46039f"
            ],
            [
             0.2222222222222222,
             "#7201a8"
            ],
            [
             0.3333333333333333,
             "#9c179e"
            ],
            [
             0.4444444444444444,
             "#bd3786"
            ],
            [
             0.5555555555555556,
             "#d8576b"
            ],
            [
             0.6666666666666666,
             "#ed7953"
            ],
            [
             0.7777777777777778,
             "#fb9f3a"
            ],
            [
             0.8888888888888888,
             "#fdca26"
            ],
            [
             1,
             "#f0f921"
            ]
           ]
          },
          "colorway": [
           "#636efa",
           "#EF553B",
           "#00cc96",
           "#ab63fa",
           "#FFA15A",
           "#19d3f3",
           "#FF6692",
           "#B6E880",
           "#FF97FF",
           "#FECB52"
          ],
          "font": {
           "color": "#2a3f5f"
          },
          "geo": {
           "bgcolor": "white",
           "lakecolor": "white",
           "landcolor": "#E5ECF6",
           "showlakes": true,
           "showland": true,
           "subunitcolor": "white"
          },
          "hoverlabel": {
           "align": "left"
          },
          "hovermode": "closest",
          "mapbox": {
           "style": "light"
          },
          "paper_bgcolor": "white",
          "plot_bgcolor": "#E5ECF6",
          "polar": {
           "angularaxis": {
            "gridcolor": "white",
            "linecolor": "white",
            "ticks": ""
           },
           "bgcolor": "#E5ECF6",
           "radialaxis": {
            "gridcolor": "white",
            "linecolor": "white",
            "ticks": ""
           }
          },
          "scene": {
           "xaxis": {
            "backgroundcolor": "#E5ECF6",
            "gridcolor": "white",
            "gridwidth": 2,
            "linecolor": "white",
            "showbackground": true,
            "ticks": "",
            "zerolinecolor": "white"
           },
           "yaxis": {
            "backgroundcolor": "#E5ECF6",
            "gridcolor": "white",
            "gridwidth": 2,
            "linecolor": "white",
            "showbackground": true,
            "ticks": "",
            "zerolinecolor": "white"
           },
           "zaxis": {
            "backgroundcolor": "#E5ECF6",
            "gridcolor": "white",
            "gridwidth": 2,
            "linecolor": "white",
            "showbackground": true,
            "ticks": "",
            "zerolinecolor": "white"
           }
          },
          "shapedefaults": {
           "line": {
            "color": "#2a3f5f"
           }
          },
          "ternary": {
           "aaxis": {
            "gridcolor": "white",
            "linecolor": "white",
            "ticks": ""
           },
           "baxis": {
            "gridcolor": "white",
            "linecolor": "white",
            "ticks": ""
           },
           "bgcolor": "#E5ECF6",
           "caxis": {
            "gridcolor": "white",
            "linecolor": "white",
            "ticks": ""
           }
          },
          "title": {
           "x": 0.05
          },
          "xaxis": {
           "automargin": true,
           "gridcolor": "white",
           "linecolor": "white",
           "ticks": "",
           "title": {
            "standoff": 15
           },
           "zerolinecolor": "white",
           "zerolinewidth": 2
          },
          "yaxis": {
           "automargin": true,
           "gridcolor": "white",
           "linecolor": "white",
           "ticks": "",
           "title": {
            "standoff": 15
           },
           "zerolinecolor": "white",
           "zerolinewidth": 2
          }
         }
        },
        "title": {
         "font": {
          "size": 20
         },
         "text": "AVOD.IS",
         "x": 0.5,
         "y": 0.93
        },
        "width": 1000,
        "xaxis": {
         "anchor": "y",
         "domain": [
          0,
          1
         ],
         "matches": "x5",
         "rangebreaks": [
          {
           "bounds": [
            "sat",
            "mon"
           ],
           "pattern": "day of week"
          },
          {
           "values": [
            "2021-01-01"
           ]
          }
         ],
         "rangeslider": {
          "visible": false
         },
         "showticklabels": false
        },
        "xaxis2": {
         "anchor": "y2",
         "domain": [
          0,
          1
         ],
         "matches": "x5",
         "rangebreaks": [
          {
           "bounds": [
            "sat",
            "mon"
           ],
           "pattern": "day of week"
          },
          {
           "values": [
            "2021-01-01"
           ]
          }
         ],
         "showticklabels": false
        },
        "xaxis3": {
         "anchor": "y3",
         "domain": [
          0,
          1
         ],
         "matches": "x5",
         "rangebreaks": [
          {
           "bounds": [
            "sat",
            "mon"
           ],
           "pattern": "day of week"
          },
          {
           "values": [
            "2021-01-01"
           ]
          }
         ],
         "showticklabels": false
        },
        "xaxis4": {
         "anchor": "y4",
         "domain": [
          0,
          1
         ],
         "matches": "x5",
         "rangebreaks": [
          {
           "bounds": [
            "sat",
            "mon"
           ],
           "pattern": "day of week"
          },
          {
           "values": [
            "2021-01-01"
           ]
          }
         ],
         "showticklabels": false
        },
        "xaxis5": {
         "anchor": "y5",
         "domain": [
          0,
          1
         ],
         "rangebreaks": [
          {
           "bounds": [
            "sat",
            "mon"
           ],
           "pattern": "day of week"
          },
          {
           "values": [
            "2021-01-01"
           ]
          }
         ]
        },
        "yaxis": {
         "anchor": "x",
         "domain": [
          0.6000000000000001,
          1
         ]
        },
        "yaxis2": {
         "anchor": "x2",
         "domain": [
          0.39000000000000007,
          0.55
         ]
        },
        "yaxis3": {
         "anchor": "x3",
         "domain": [
          0.26,
          0.34
         ]
        },
        "yaxis4": {
         "anchor": "x4",
         "domain": [
          0.13,
          0.21000000000000002
         ]
        },
        "yaxis5": {
         "anchor": "x5",
         "domain": [
          0,
          0.08000000000000002
         ]
        }
       }
      }
     },
     "metadata": {},
     "output_type": "display_data"
    },
    {
     "data": {
      "application/vnd.plotly.v1+json": {
       "config": {
        "plotlyServerURL": "https://plot.ly"
       },
       "data": [
        {
         "close": {
          "bdata": "AQAAoEfh/j8AAABgZmb+PwAAAOB6FP4/AAAAIFyP/j8BAACgR+H+PwEAAOBRuP4/AAAA4HoU/j8AAABgZmb+PwAAAKBwPf4/////H65H/T//////1qP8PwAAAOCjcP0/////X7ge/T8AAACgmZn9PwAAAKCZmf0/AAAAYGZm/j8AAAAghev9PwAAAGBmZv4/AAAAYGZm/j////8frkf9PwAAAIDrUfw//////9aj/D8AAABA4Xr8PwAAAIDrUfw/AAAAYI/C/T8AAACAwvX8PwAAAEDhevw//////9aj/D////8frkf9PwAAAIDC9fw//////9aj/D////9fuB79PwAAAOCjcP0/AAAAYI/C/T8AAACgcD3+PwEAAKBH4f4/AAAAIFyPAEAAAAAA16MAQAAAAAAAAABAAAAAYGZmAEAAAACgcD0AQAAAAKBwPQBAAAAAwPUoAEAAAAAAAAAAQAEAAEAzM/8/AAAA4HoUAEAAAADA9SgAQAAAAOB6FABAAAAAQArX/z8AAABACtf/PwAAAIAUrv8/AAAAgD0K/z8AAABACtf/PwAAACBcj/4/AAAA4HoU/j8AAACgcD3+PwAAAKBwPf4/////H65H/T8AAADgo3D9PwAAAOB6FP4/AAAAoHA9/j8AAABgZmb+PwAAACBcj/4/AQAAQDMz/z8AAACAPQr/PwAAAKBwPQBAAAAAQOF6AEAAAADgehQAQAAAAKBwPQBAAAAAwPUoAEAAAABAMzMBQAAAAIDC9QBAAAAAgML1AEAAAABAMzMBQAAAAOBRuABAAAAAwMzMAEAAAACAwvUAQAAAAGC4HgFAAAAAgBSuAUAAAAAghesBQA==",
          "dtype": "f8"
         },
         "high": {
          "bdata": "AAAAgBSu/z8BAACgR+H+PwEAAKBH4f4/AAAAgD0K/z8BAABAMzP/PwEAAAApXP8/AQAAoEfh/j8BAADgUbj+PwEAAKBH4f4/AAAAYGZm/j////8frkf9PwAAAIA9Cv8/AAAAYGZm/j8AAACgcD3+PwAAAKBwPf4/AQAAoEfh/j8AAABgZmb+PwEAAKBH4f4/AQAA4FG4/j8AAAAgXI/+P////1+4Hv0/AAAAgML1/D////9fuB79PwAAAIDC9fw/AAAAoHA9/j8AAAAghev9PwAAAOCjcP0/AAAAwMzM/D8AAABgj8L9PwAAAKCZmf0/AAAA4KNw/T8AAADgo3D9PwAAACBcj/4/AAAA4HoU/j8BAADgUbj+PwEAAAApXP8/AAAAwMzMAEAAAACgmZkBQAAAAIA9CgFAAAAAwMzMAEAAAAAA16MAQAAAAIDC9QBAAAAAQOF6AEAAAACA61EAQAAAAIDrUQBAAAAA4HoUAEAAAABgZmYAQAAAAIDrUQBAAAAAoHA9AEAAAADgehQAQAAAAOB6FABAAAAAgD0K/z8AAABA4XoAQAAAAOB6FABAAQAA4FG4/j8AAAAgXI/+PwEAAAApXP8/AAAAYGZm/j8AAABgj8L9PwAAAKBwPf4/AAAAYGZm/j8BAADgUbj+PwAAAIA9Cv8/AAAAgBSu/z8AAACAFK7/PwAAAIDrUQBAAAAAwMzMAEAAAADAzMwAQAAAAEDhegBAAAAAIFyPAEAAAADAHoUBQAAAAMAehQFAAAAAQDMzAUAAAAAAKVwBQAAAAOCjcAFAAAAAgD0KAUAAAAAgrkcBQAAAAEAzMwFAAAAAQArXAUAAAACgcD0CQA==",
          "dtype": "f8"
         },
         "low": {
          "bdata": "AAAAoHA9/j8AAACgmZn9PwAAAGCPwv0/AAAAYI/C/T8AAACgcD3+PwAAACBcj/4/AAAAIIXr/T8AAACgmZn9PwAAAKBwPf4/AAAAgML1/D8AAADA9Sj8PwAAAMDMzPw/AAAAwMzM/D////8frkf9PwAAAOCjcP0/AAAAYI/C/T8AAADgo3D9PwAAAGCPwv0/AAAAoHA9/j//////1qP8PwAAAIAUrvs/AAAAwPUo/D8AAACA61H8PwAAAMD1KPw/AAAAwPUo/D8AAADAzMz8PwAAAMD1KPw/AAAAwPUo/D8AAABA4Xr8PwAAAIDC9fw/AAAAQOF6/D8AAADAzMz8P////1+4Hv0/////H65H/T8AAABgj8L9PwAAAKBwPf4/AAAAgD0K/z8AAAAAAAAAQAEAAAApXP8/AAAAgBSu/z8AAADgehQAQAAAAKBwPQBAAAAAAAAAAEABAAAAKVz/PwAAAIA9Cv8/AQAAQDMz/z8AAAAAAAAAQAAAAEAK1/8/AAAAgBSu/z8AAADAHoX/PwAAAMAehf8/AAAAgD0K/z8AAADAHoX/PwAAACBcj/4/AAAAoJmZ/T8AAADgehT+PwAAAKBwPf4/AAAAgML1/D////9fuB79PwAAAOCjcP0/AAAAYI/C/T8AAAAghev9PwAAAGBmZv4/AQAA4FG4/j8BAACgR+H+PwAAAIA9Cv8/AAAA4HoUAEAAAABACtf/PwAAAAAAAABAAAAAwPUoAEAAAADA9SgAQAAAAOBRuABAAAAAANejAEAAAACAwvUAQAAAAADXowBAAAAA4FG4AEAAAACgR+EAQAAAACBcjwBAAAAAYLgeAUAAAADAHoUBQA==",
          "dtype": "f8"
         },
         "name": "Candlestick",
         "open": {
          "bdata": "AAAAgD0K/z8BAADgUbj+PwAAAGBmZv4/AAAAoHA9/j8AAAAgXI/+PwAAAIA9Cv8/AQAA4FG4/j8AAADgehT+PwAAACBcj/4/AAAAYGZm/j////9fuB79PwAAAMDMzPw/AAAAoJmZ/T////8frkf9PwAAAGCPwv0/AAAAIIXr/T8AAADgehT+PwAAACCF6/0/AAAAIFyP/j8AAABgZmb+P////1+4Hv0/AAAAQOF6/D//////1qP8P//////Wo/w/AAAAgOtR/D8AAABgj8L9P////1+4Hv0/AAAAQOF6/D//////1qP8PwAAAOCjcP0/////X7ge/T8AAADAzMz8P////x+uR/0/AAAA4KNw/T8AAABgj8L9PwAAAKBwPf4/AQAAQDMz/z8AAADgUbgAQAAAAKBH4QBAAAAAAAAAAEAAAABgZmYAQAAAAIDrUQBAAAAAYGZmAEAAAACgcD0AQAAAAOB6FABAAQAAAClc/z8AAADgehQAQAAAAMD1KABAAAAA4HoUAEAAAABACtf/PwAAAEAK1/8/AAAAgD0K/z8AAABgZmYAQAAAAIAUrv8/AAAAYGZm/j8AAACgcD3+PwAAACBcj/4/AAAAYGZm/j////8frkf9PwAAAKCZmf0/AAAA4HoU/j8AAACgcD3+PwAAAGBmZv4/AQAAoEfh/j8AAACAPQr/PwEAAEAzM/8/AAAAgOtRAEAAAAAgXI8AQAAAAOB6FABAAAAAgOtRAEAAAADA9SgAQAAAAAApXAFAAAAAgD0KAUAAAACAwvUAQAAAAEAzMwFAAAAAwMzMAEAAAACAwvUAQAAAAIA9CgFAAAAAQDMzAUAAAABACtcBQA==",
          "dtype": "f8"
         },
         "type": "candlestick",
         "x": [
          "2022-04-11T00:00:00.000000000",
          "2022-04-12T00:00:00.000000000",
          "2022-04-13T00:00:00.000000000",
          "2022-04-14T00:00:00.000000000",
          "2022-04-15T00:00:00.000000000",
          "2022-04-18T00:00:00.000000000",
          "2022-04-19T00:00:00.000000000",
          "2022-04-20T00:00:00.000000000",
          "2022-04-21T00:00:00.000000000",
          "2022-04-22T00:00:00.000000000",
          "2022-04-25T00:00:00.000000000",
          "2022-04-26T00:00:00.000000000",
          "2022-04-27T00:00:00.000000000",
          "2022-04-28T00:00:00.000000000",
          "2022-04-29T00:00:00.000000000",
          "2022-05-05T00:00:00.000000000",
          "2022-05-06T00:00:00.000000000",
          "2022-05-09T00:00:00.000000000",
          "2022-05-10T00:00:00.000000000",
          "2022-05-11T00:00:00.000000000",
          "2022-05-12T00:00:00.000000000",
          "2022-05-13T00:00:00.000000000",
          "2022-05-16T00:00:00.000000000",
          "2022-05-17T00:00:00.000000000",
          "2022-05-18T00:00:00.000000000",
          "2022-05-20T00:00:00.000000000",
          "2022-05-23T00:00:00.000000000",
          "2022-05-24T00:00:00.000000000",
          "2022-05-25T00:00:00.000000000",
          "2022-05-26T00:00:00.000000000",
          "2022-05-27T00:00:00.000000000",
          "2022-05-30T00:00:00.000000000",
          "2022-05-31T00:00:00.000000000",
          "2022-06-01T00:00:00.000000000",
          "2022-06-02T00:00:00.000000000",
          "2022-06-03T00:00:00.000000000",
          "2022-06-06T00:00:00.000000000",
          "2022-06-07T00:00:00.000000000",
          "2022-06-08T00:00:00.000000000",
          "2022-06-09T00:00:00.000000000",
          "2022-06-10T00:00:00.000000000",
          "2022-06-13T00:00:00.000000000",
          "2022-06-14T00:00:00.000000000",
          "2022-06-15T00:00:00.000000000",
          "2022-06-16T00:00:00.000000000",
          "2022-06-17T00:00:00.000000000",
          "2022-06-20T00:00:00.000000000",
          "2022-06-21T00:00:00.000000000",
          "2022-06-22T00:00:00.000000000",
          "2022-06-23T00:00:00.000000000",
          "2022-06-24T00:00:00.000000000",
          "2022-06-27T00:00:00.000000000",
          "2022-06-28T00:00:00.000000000",
          "2022-06-29T00:00:00.000000000",
          "2022-06-30T00:00:00.000000000",
          "2022-07-01T00:00:00.000000000",
          "2022-07-04T00:00:00.000000000",
          "2022-07-05T00:00:00.000000000",
          "2022-07-06T00:00:00.000000000",
          "2022-07-07T00:00:00.000000000",
          "2022-07-08T00:00:00.000000000",
          "2022-07-13T00:00:00.000000000",
          "2022-07-14T00:00:00.000000000",
          "2022-07-18T00:00:00.000000000",
          "2022-07-19T00:00:00.000000000",
          "2022-07-20T00:00:00.000000000",
          "2022-07-21T00:00:00.000000000",
          "2022-07-22T00:00:00.000000000",
          "2022-07-25T00:00:00.000000000",
          "2022-07-26T00:00:00.000000000",
          "2022-07-27T00:00:00.000000000",
          "2022-07-28T00:00:00.000000000",
          "2022-07-29T00:00:00.000000000",
          "2022-08-01T00:00:00.000000000",
          "2022-08-02T00:00:00.000000000",
          "2022-08-03T00:00:00.000000000",
          "2022-08-04T00:00:00.000000000",
          "2022-08-05T00:00:00.000000000",
          "2022-08-08T00:00:00.000000000",
          "2022-08-09T00:00:00.000000000"
         ],
         "xaxis": "x",
         "yaxis": "y"
        },
        {
         "marker": {
          "color": "green",
          "size": 14,
          "symbol": "triangle-up"
         },
         "mode": "markers",
         "name": "Alım",
         "type": "scatter",
         "x": [
          "2022-08-08T00:00:00"
         ],
         "xaxis": "x",
         "y": [
          2.140000104904175
         ],
         "yaxis": "y"
        },
        {
         "marker": {
          "color": "red",
          "size": 14,
          "symbol": "triangle-down"
         },
         "mode": "markers",
         "name": "Satım",
         "type": "scatter",
         "x": [
          "2022-08-09T00:00:00"
         ],
         "xaxis": "x",
         "y": [
          2.2799999713897705
         ],
         "yaxis": "y"
        },
        {
         "line": {
          "color": "#EE553B"
         },
         "mode": "lines",
         "name": "MACD",
         "type": "scatter",
         "x": [
          "2022-04-11T00:00:00.000000000",
          "2022-04-12T00:00:00.000000000",
          "2022-04-13T00:00:00.000000000",
          "2022-04-14T00:00:00.000000000",
          "2022-04-15T00:00:00.000000000",
          "2022-04-18T00:00:00.000000000",
          "2022-04-19T00:00:00.000000000",
          "2022-04-20T00:00:00.000000000",
          "2022-04-21T00:00:00.000000000",
          "2022-04-22T00:00:00.000000000",
          "2022-04-25T00:00:00.000000000",
          "2022-04-26T00:00:00.000000000",
          "2022-04-27T00:00:00.000000000",
          "2022-04-28T00:00:00.000000000",
          "2022-04-29T00:00:00.000000000",
          "2022-05-05T00:00:00.000000000",
          "2022-05-06T00:00:00.000000000",
          "2022-05-09T00:00:00.000000000",
          "2022-05-10T00:00:00.000000000",
          "2022-05-11T00:00:00.000000000",
          "2022-05-12T00:00:00.000000000",
          "2022-05-13T00:00:00.000000000",
          "2022-05-16T00:00:00.000000000",
          "2022-05-17T00:00:00.000000000",
          "2022-05-18T00:00:00.000000000",
          "2022-05-20T00:00:00.000000000",
          "2022-05-23T00:00:00.000000000",
          "2022-05-24T00:00:00.000000000",
          "2022-05-25T00:00:00.000000000",
          "2022-05-26T00:00:00.000000000",
          "2022-05-27T00:00:00.000000000",
          "2022-05-30T00:00:00.000000000",
          "2022-05-31T00:00:00.000000000",
          "2022-06-01T00:00:00.000000000",
          "2022-06-02T00:00:00.000000000",
          "2022-06-03T00:00:00.000000000",
          "2022-06-06T00:00:00.000000000",
          "2022-06-07T00:00:00.000000000",
          "2022-06-08T00:00:00.000000000",
          "2022-06-09T00:00:00.000000000",
          "2022-06-10T00:00:00.000000000",
          "2022-06-13T00:00:00.000000000",
          "2022-06-14T00:00:00.000000000",
          "2022-06-15T00:00:00.000000000",
          "2022-06-16T00:00:00.000000000",
          "2022-06-17T00:00:00.000000000",
          "2022-06-20T00:00:00.000000000",
          "2022-06-21T00:00:00.000000000",
          "2022-06-22T00:00:00.000000000",
          "2022-06-23T00:00:00.000000000",
          "2022-06-24T00:00:00.000000000",
          "2022-06-27T00:00:00.000000000",
          "2022-06-28T00:00:00.000000000",
          "2022-06-29T00:00:00.000000000",
          "2022-06-30T00:00:00.000000000",
          "2022-07-01T00:00:00.000000000",
          "2022-07-04T00:00:00.000000000",
          "2022-07-05T00:00:00.000000000",
          "2022-07-06T00:00:00.000000000",
          "2022-07-07T00:00:00.000000000",
          "2022-07-08T00:00:00.000000000",
          "2022-07-13T00:00:00.000000000",
          "2022-07-14T00:00:00.000000000",
          "2022-07-18T00:00:00.000000000",
          "2022-07-19T00:00:00.000000000",
          "2022-07-20T00:00:00.000000000",
          "2022-07-21T00:00:00.000000000",
          "2022-07-22T00:00:00.000000000",
          "2022-07-25T00:00:00.000000000",
          "2022-07-26T00:00:00.000000000",
          "2022-07-27T00:00:00.000000000",
          "2022-07-28T00:00:00.000000000",
          "2022-07-29T00:00:00.000000000",
          "2022-08-01T00:00:00.000000000",
          "2022-08-02T00:00:00.000000000",
          "2022-08-03T00:00:00.000000000",
          "2022-08-04T00:00:00.000000000",
          "2022-08-05T00:00:00.000000000",
          "2022-08-08T00:00:00.000000000",
          "2022-08-09T00:00:00.000000000"
         ],
         "xaxis": "x2",
         "y": {
          "bdata": "4KFQvNr0oz9A/QOSLKukPyCFw/GZLKQ/oOn8TEHIpD9gPPufsdalP+BaX0JOAqY/IDiA5wdCpD+A6AX71XijP6CRiaPWOaI/wJnlOcYunT+AX3ZQMeOTP0D/pjdrdpA/ALDjR3Pqhz8AiC2kYnyFP4DdBXtUVoM/ALqo3CKaiT+AABqJSFGJP4D0IpwMtY0/wCANp2lnkD8AtLgTX22HPwBqjhGECGg/AOSYPI3CYb8ApGbhEWt8v4A5jXS1VYe/AMlx/7EHf78A9CnaWmGBv4AwUXF4i4e/AJtiL/Z4ir+AR4SO/u2Fv4BmM+hVY4W/ANbc2sX8h7+AlfS6b9mEvwCgKRN+xX2/AEgQa+Uaa78AKLl0DTliPwAXaQnE6oM/QDif+HxMmz8AD6C58rGkPyBdINNCtqY/QB22aFATqj/gXuskvZirPyDVxXdVeaw/oJ9Gp6ttrD+gfDeIekCrP+Cql0o0+qc/YAoojtaWpz/g4TkrumynPyCDlDrWnqY/oLr3rmrqpD9AVPUgeVejPwDYU3PKeqE/AI5oEy9gnD9AzxU8hfqaPwCHjH2mCpM/gBQYgaZPhD8ALn98WyhvPwCE6xbr4FC/gO95gtukg78A72R6IoaPv0BUc0L/95C/gJAGEmrnkL8AdqOM+q+Pv4C2bFr9B4y/gIryLPFPgr8AGtpG2z54vwBWIJbtRW4/gLaR6YnPiz/AX1Zfn5eRP8DaMzcF6pU/gOrtkM47mD8gZh7fbTKiP4AbM8Iph6U/YIZTSHTkpz9AqL0mqbKqP8Cp838dJKo/wPYIyLrQqT8AMrwPNBWqPwDthZ7gz6o/wFWZkNLvrT+g4b0fc6KwPw==",
          "dtype": "f8"
         },
         "yaxis": "y2"
        },
        {
         "line": {
          "color": "#00CC96"
         },
         "mode": "lines",
         "name": "Signal",
         "type": "scatter",
         "x": [
          "2022-04-11T00:00:00.000000000",
          "2022-04-12T00:00:00.000000000",
          "2022-04-13T00:00:00.000000000",
          "2022-04-14T00:00:00.000000000",
          "2022-04-15T00:00:00.000000000",
          "2022-04-18T00:00:00.000000000",
          "2022-04-19T00:00:00.000000000",
          "2022-04-20T00:00:00.000000000",
          "2022-04-21T00:00:00.000000000",
          "2022-04-22T00:00:00.000000000",
          "2022-04-25T00:00:00.000000000",
          "2022-04-26T00:00:00.000000000",
          "2022-04-27T00:00:00.000000000",
          "2022-04-28T00:00:00.000000000",
          "2022-04-29T00:00:00.000000000",
          "2022-05-05T00:00:00.000000000",
          "2022-05-06T00:00:00.000000000",
          "2022-05-09T00:00:00.000000000",
          "2022-05-10T00:00:00.000000000",
          "2022-05-11T00:00:00.000000000",
          "2022-05-12T00:00:00.000000000",
          "2022-05-13T00:00:00.000000000",
          "2022-05-16T00:00:00.000000000",
          "2022-05-17T00:00:00.000000000",
          "2022-05-18T00:00:00.000000000",
          "2022-05-20T00:00:00.000000000",
          "2022-05-23T00:00:00.000000000",
          "2022-05-24T00:00:00.000000000",
          "2022-05-25T00:00:00.000000000",
          "2022-05-26T00:00:00.000000000",
          "2022-05-27T00:00:00.000000000",
          "2022-05-30T00:00:00.000000000",
          "2022-05-31T00:00:00.000000000",
          "2022-06-01T00:00:00.000000000",
          "2022-06-02T00:00:00.000000000",
          "2022-06-03T00:00:00.000000000",
          "2022-06-06T00:00:00.000000000",
          "2022-06-07T00:00:00.000000000",
          "2022-06-08T00:00:00.000000000",
          "2022-06-09T00:00:00.000000000",
          "2022-06-10T00:00:00.000000000",
          "2022-06-13T00:00:00.000000000",
          "2022-06-14T00:00:00.000000000",
          "2022-06-15T00:00:00.000000000",
          "2022-06-16T00:00:00.000000000",
          "2022-06-17T00:00:00.000000000",
          "2022-06-20T00:00:00.000000000",
          "2022-06-21T00:00:00.000000000",
          "2022-06-22T00:00:00.000000000",
          "2022-06-23T00:00:00.000000000",
          "2022-06-24T00:00:00.000000000",
          "2022-06-27T00:00:00.000000000",
          "2022-06-28T00:00:00.000000000",
          "2022-06-29T00:00:00.000000000",
          "2022-06-30T00:00:00.000000000",
          "2022-07-01T00:00:00.000000000",
          "2022-07-04T00:00:00.000000000",
          "2022-07-05T00:00:00.000000000",
          "2022-07-06T00:00:00.000000000",
          "2022-07-07T00:00:00.000000000",
          "2022-07-08T00:00:00.000000000",
          "2022-07-13T00:00:00.000000000",
          "2022-07-14T00:00:00.000000000",
          "2022-07-18T00:00:00.000000000",
          "2022-07-19T00:00:00.000000000",
          "2022-07-20T00:00:00.000000000",
          "2022-07-21T00:00:00.000000000",
          "2022-07-22T00:00:00.000000000",
          "2022-07-25T00:00:00.000000000",
          "2022-07-26T00:00:00.000000000",
          "2022-07-27T00:00:00.000000000",
          "2022-07-28T00:00:00.000000000",
          "2022-07-29T00:00:00.000000000",
          "2022-08-01T00:00:00.000000000",
          "2022-08-02T00:00:00.000000000",
          "2022-08-03T00:00:00.000000000",
          "2022-08-04T00:00:00.000000000",
          "2022-08-05T00:00:00.000000000",
          "2022-08-08T00:00:00.000000000",
          "2022-08-09T00:00:00.000000000"
         ],
         "xaxis": "x2",
         "y": {
          "bdata": "Whcotm5SjT9xO6vpCv+TP2j+oxsTEZg/LVzoNPaQmz9++7fQ2MmeP5ND9pOZt6A/r6fe1+JsoT+mtBkSrdWhPz9HY2K16aE/LJUZ7qQ/oT+UznPzRJOfP+px5M1/jZw/7x/nK9g7mT+MDVcA6lWWP5c6xj9dzZM/eUF8r+dmkj8IzrIz2kCRP+BWX5/8xZA/DUy1bRKzkD98aq3mlmePP33a0R9MU4o/MXDTPBwshD+1kgoBkJd6PyIj0woi4Wc/oPtT8BzESj9au1RjHxpRv1gLlrU5rWm/vXVjKBPcdL+XR1FZqHV5v3mVVaRC7Hy/MQDo09tdgL90hOrOX0OBv11g2Q2myYC/L27doCCSfb8m1NHBmNV1v3Cn+5RXAGO/dToCfRt6bD+xFxpHYUCGP+5hF6RB/JE/P41b4IfRmD/zltpbuOSeP2jNS9ZaDaI/QMRKM54gpD+6guDdY42lP49XOI2NCaY/H0hojQJZpj+sM5JGJ5CmP10Q+RAXk6Y/OP8ryic+pj86ECF1nqmlP2JrXg5006Q/gsqiwJR/oz8inbe56kuiPzWLujqZiqA/L0cTnlJ/nD+AAPnHqpOXP8AOsa+FppI/gLTPy3bpiT9n9CMVfdl8P3IztOpiAmM/sRVb9YGtV79XALrPF2lxvxMWjf0RJHm/Q3xrdghwe7/Qm4EGmcx6v6cN/kJ8aXK/Xw/uWsjXTL+6L/QfCmFmP34oi9Khe3o/mQfKJ2BJhD/IVyCfccmOP+r6uvMK7ZQ/FZhQRjdMmj+RVowUo7efP5REzyFH6qE/N2h0qcR+oz+TkE8kDtCkP0PWwDw4A6Y/9iLss/CYpz9sqdXPIYipPw==",
          "dtype": "f8"
         },
         "yaxis": "y2"
        },
        {
         "marker": {
          "color": "#AB62FA"
         },
         "name": "Histogram",
         "type": "bar",
         "x": [
          "2022-04-11T00:00:00.000000000",
          "2022-04-12T00:00:00.000000000",
          "2022-04-13T00:00:00.000000000",
          "2022-04-14T00:00:00.000000000",
          "2022-04-15T00:00:00.000000000",
          "2022-04-18T00:00:00.000000000",
          "2022-04-19T00:00:00.000000000",
          "2022-04-20T00:00:00.000000000",
          "2022-04-21T00:00:00.000000000",
          "2022-04-22T00:00:00.000000000",
          "2022-04-25T00:00:00.000000000",
          "2022-04-26T00:00:00.000000000",
          "2022-04-27T00:00:00.000000000",
          "2022-04-28T00:00:00.000000000",
          "2022-04-29T00:00:00.000000000",
          "2022-05-05T00:00:00.000000000",
          "2022-05-06T00:00:00.000000000",
          "2022-05-09T00:00:00.000000000",
          "2022-05-10T00:00:00.000000000",
          "2022-05-11T00:00:00.000000000",
          "2022-05-12T00:00:00.000000000",
          "2022-05-13T00:00:00.000000000",
          "2022-05-16T00:00:00.000000000",
          "2022-05-17T00:00:00.000000000",
          "2022-05-18T00:00:00.000000000",
          "2022-05-20T00:00:00.000000000",
          "2022-05-23T00:00:00.000000000",
          "2022-05-24T00:00:00.000000000",
          "2022-05-25T00:00:00.000000000",
          "2022-05-26T00:00:00.000000000",
          "2022-05-27T00:00:00.000000000",
          "2022-05-30T00:00:00.000000000",
          "2022-05-31T00:00:00.000000000",
          "2022-06-01T00:00:00.000000000",
          "2022-06-02T00:00:00.000000000",
          "2022-06-03T00:00:00.000000000",
          "2022-06-06T00:00:00.000000000",
          "2022-06-07T00:00:00.000000000",
          "2022-06-08T00:00:00.000000000",
          "2022-06-09T00:00:00.000000000",
          "2022-06-10T00:00:00.000000000",
          "2022-06-13T00:00:00.000000000",
          "2022-06-14T00:00:00.000000000",
          "2022-06-15T00:00:00.000000000",
          "2022-06-16T00:00:00.000000000",
          "2022-06-17T00:00:00.000000000",
          "2022-06-20T00:00:00.000000000",
          "2022-06-21T00:00:00.000000000",
          "2022-06-22T00:00:00.000000000",
          "2022-06-23T00:00:00.000000000",
          "2022-06-24T00:00:00.000000000",
          "2022-06-27T00:00:00.000000000",
          "2022-06-28T00:00:00.000000000",
          "2022-06-29T00:00:00.000000000",
          "2022-06-30T00:00:00.000000000",
          "2022-07-01T00:00:00.000000000",
          "2022-07-04T00:00:00.000000000",
          "2022-07-05T00:00:00.000000000",
          "2022-07-06T00:00:00.000000000",
          "2022-07-07T00:00:00.000000000",
          "2022-07-08T00:00:00.000000000",
          "2022-07-13T00:00:00.000000000",
          "2022-07-14T00:00:00.000000000",
          "2022-07-18T00:00:00.000000000",
          "2022-07-19T00:00:00.000000000",
          "2022-07-20T00:00:00.000000000",
          "2022-07-21T00:00:00.000000000",
          "2022-07-22T00:00:00.000000000",
          "2022-07-25T00:00:00.000000000",
          "2022-07-26T00:00:00.000000000",
          "2022-07-27T00:00:00.000000000",
          "2022-07-28T00:00:00.000000000",
          "2022-07-29T00:00:00.000000000",
          "2022-08-01T00:00:00.000000000",
          "2022-08-02T00:00:00.000000000",
          "2022-08-03T00:00:00.000000000",
          "2022-08-04T00:00:00.000000000",
          "2022-08-05T00:00:00.000000000",
          "2022-08-08T00:00:00.000000000",
          "2022-08-09T00:00:00.000000000"
         ],
         "xaxis": "x2",
         "y": {
          "bdata": "EziNHX5AmT8Pv1w6TleVP9gL48cgSJA/Ju4iyhj/iz+E+nzeFMeJPzRdpLnSKoU/iIMMfSipdj+gPcOOjjJqP0CYkklQCEQ/YEI2iQ5Cdb8o3vpFJ2CHv1TleiwpLoi/3o/qDz2Nir8Yk4BccS+Hv66XhgRmRIS/5JGfBFlndr8gN5e812ByvwDK3RRlt16/QNMKqjHqMr/w2dJL3+hvv/0/bhsrUYS/Man5i7+ciL9amzjxUIGLv0gCQvf9TY2/OiS+zhowgb8quX7bLXx+v6qt6wMqIIG/IuAwm+wKgL9pR7fDVGZyvw5vIljStGu/PFfTG6h7br9giFBgf7Bcv9AFSURwbk4/L0pV660EcD8maC58H/J+P9wAqO7Zqog/8fD+iDm9lz8oErPPtEOeP1JYKQJEcJs/Qa0Q8RhVmz/NJvztwUyYP3AP9EL115Q/wLb35xqakD+Y51upWsyGPxA19dVrCm8/ECT8C0DdYz+AxvWUXJJbPwCG5TZTfhc/gElEs9E7Zb/Q312hKpFyvxCbVNhMxXq/CA662/Q9hb8I1rJuoDqDv9Qe0e8XFYy/7zyHXX9Xkr/AGmlYn66TvwDHH2GUtJO/ANIkJynHlr+adHuCcPmWv67ayZ9LWJO/Sr5h5SPZjr/UdcakbvuGv+1WTLfo636/ejHzxrNfYr+ADjz97W1EP1QcB4c5xoA/dpdAbwadjT+Ss682/JaNP0EhIoU5lo4/Z80R+jwujD9coKzuIgCVPxY8q5BIIZY/q3RWSrF8lT/v+e44r62VP1jKSLysc5A/JDpSethHiT+0hbKtlxSFP/RaFIehMoM/KMu0codbiT9QZ5i+EfOOPw==",
          "dtype": "f8"
         },
         "yaxis": "y2"
        },
        {
         "line": {
          "color": "orange"
         },
         "mode": "lines",
         "name": "RSI",
         "type": "scatter",
         "x": [
          "2022-04-11T00:00:00.000000000",
          "2022-04-12T00:00:00.000000000",
          "2022-04-13T00:00:00.000000000",
          "2022-04-14T00:00:00.000000000",
          "2022-04-15T00:00:00.000000000",
          "2022-04-18T00:00:00.000000000",
          "2022-04-19T00:00:00.000000000",
          "2022-04-20T00:00:00.000000000",
          "2022-04-21T00:00:00.000000000",
          "2022-04-22T00:00:00.000000000",
          "2022-04-25T00:00:00.000000000",
          "2022-04-26T00:00:00.000000000",
          "2022-04-27T00:00:00.000000000",
          "2022-04-28T00:00:00.000000000",
          "2022-04-29T00:00:00.000000000",
          "2022-05-05T00:00:00.000000000",
          "2022-05-06T00:00:00.000000000",
          "2022-05-09T00:00:00.000000000",
          "2022-05-10T00:00:00.000000000",
          "2022-05-11T00:00:00.000000000",
          "2022-05-12T00:00:00.000000000",
          "2022-05-13T00:00:00.000000000",
          "2022-05-16T00:00:00.000000000",
          "2022-05-17T00:00:00.000000000",
          "2022-05-18T00:00:00.000000000",
          "2022-05-20T00:00:00.000000000",
          "2022-05-23T00:00:00.000000000",
          "2022-05-24T00:00:00.000000000",
          "2022-05-25T00:00:00.000000000",
          "2022-05-26T00:00:00.000000000",
          "2022-05-27T00:00:00.000000000",
          "2022-05-30T00:00:00.000000000",
          "2022-05-31T00:00:00.000000000",
          "2022-06-01T00:00:00.000000000",
          "2022-06-02T00:00:00.000000000",
          "2022-06-03T00:00:00.000000000",
          "2022-06-06T00:00:00.000000000",
          "2022-06-07T00:00:00.000000000",
          "2022-06-08T00:00:00.000000000",
          "2022-06-09T00:00:00.000000000",
          "2022-06-10T00:00:00.000000000",
          "2022-06-13T00:00:00.000000000",
          "2022-06-14T00:00:00.000000000",
          "2022-06-15T00:00:00.000000000",
          "2022-06-16T00:00:00.000000000",
          "2022-06-17T00:00:00.000000000",
          "2022-06-20T00:00:00.000000000",
          "2022-06-21T00:00:00.000000000",
          "2022-06-22T00:00:00.000000000",
          "2022-06-23T00:00:00.000000000",
          "2022-06-24T00:00:00.000000000",
          "2022-06-27T00:00:00.000000000",
          "2022-06-28T00:00:00.000000000",
          "2022-06-29T00:00:00.000000000",
          "2022-06-30T00:00:00.000000000",
          "2022-07-01T00:00:00.000000000",
          "2022-07-04T00:00:00.000000000",
          "2022-07-05T00:00:00.000000000",
          "2022-07-06T00:00:00.000000000",
          "2022-07-07T00:00:00.000000000",
          "2022-07-08T00:00:00.000000000",
          "2022-07-13T00:00:00.000000000",
          "2022-07-14T00:00:00.000000000",
          "2022-07-18T00:00:00.000000000",
          "2022-07-19T00:00:00.000000000",
          "2022-07-20T00:00:00.000000000",
          "2022-07-21T00:00:00.000000000",
          "2022-07-22T00:00:00.000000000",
          "2022-07-25T00:00:00.000000000",
          "2022-07-26T00:00:00.000000000",
          "2022-07-27T00:00:00.000000000",
          "2022-07-28T00:00:00.000000000",
          "2022-07-29T00:00:00.000000000",
          "2022-08-01T00:00:00.000000000",
          "2022-08-02T00:00:00.000000000",
          "2022-08-03T00:00:00.000000000",
          "2022-08-04T00:00:00.000000000",
          "2022-08-05T00:00:00.000000000",
          "2022-08-08T00:00:00.000000000",
          "2022-08-09T00:00:00.000000000"
         ],
         "xaxis": "x3",
         "y": {
          "bdata": "mfkMrGCTTkCkK4kx/f1MQAqcy4bo80tAl4zNV+AoTUANPJmZoPJNQBZ12gCiWU1AWcSrSNwGS0CBjbtwSvdLQGje9TAWXUtAZsZfDkMFSEA6r3VfYhVGQLDaq5010UhAW+ly4Q/QR0AC+ltOfGtJQAL6W058a0lACL7ebMcGTEAG1RJsrTpKQL4UnejIw0tAvhSd6MjDS0B/UI4zJKJHQIt7/Rt8x0RAjwSqZU7+RUBh/sjdF4NFQB/uGV1LBEVARuNENv9NSkCiXSAvR7dHQMP08jtJTEZApDX3PUvhRkC9u0tYiCFJQGzcIUNODkhAgu9enxX/RkBGB56zO8pIQBNZeLL570lAFs0xhM4PS0CC3Lqq7qtMQEWACO/Ln05ADroReSfMUUBp4I021u9RQCwyDepPv05AkdRvT+M3UEApDfRVWEFPQCkN9FVYQU9ADVN2edqbTkDWl8Bdq01NQJZvzc8HSUpAH1iuJysSTUA7qtetzIBNQIKM0buA3ExA9KkF+dKRS0D0qQX50pFLQFk2IgxJ30pADXW9tk87SEDtJeUd9T1LQN4+kAFdrUZAK4d8JGk9RUAP9HY/M+FFQA/0dj8z4UVARIkaNFvyQkD8+AwyIq1DQEYAqoCZdkZAOeKqBNIgR0BAXiO0LM9HQGn3W79RgUhAeRS2h5sfS0AnpEWXyGRKQLobELrDRk9ApAPxTwhJUEBOeTou0vlMQKLj2RwX7k1AiZiznU83TUD3ZFz1sTVRQHkpm42hM1BAeSmbjaEzUECFWdaV6MJQQAVhDTa1e01Azku1c+bqTUCqkRY0GctOQAbqPW+op09Avb+2Cm4nUUBGwReGHKVRQA==",
          "dtype": "f8"
         },
         "yaxis": "y3"
        },
        {
         "line": {
          "color": "#1BD3F3"
         },
         "mode": "lines",
         "name": "%D",
         "type": "scatter",
         "x": [
          "2022-04-11T00:00:00.000000000",
          "2022-04-12T00:00:00.000000000",
          "2022-04-13T00:00:00.000000000",
          "2022-04-14T00:00:00.000000000",
          "2022-04-15T00:00:00.000000000",
          "2022-04-18T00:00:00.000000000",
          "2022-04-19T00:00:00.000000000",
          "2022-04-20T00:00:00.000000000",
          "2022-04-21T00:00:00.000000000",
          "2022-04-22T00:00:00.000000000",
          "2022-04-25T00:00:00.000000000",
          "2022-04-26T00:00:00.000000000",
          "2022-04-27T00:00:00.000000000",
          "2022-04-28T00:00:00.000000000",
          "2022-04-29T00:00:00.000000000",
          "2022-05-05T00:00:00.000000000",
          "2022-05-06T00:00:00.000000000",
          "2022-05-09T00:00:00.000000000",
          "2022-05-10T00:00:00.000000000",
          "2022-05-11T00:00:00.000000000",
          "2022-05-12T00:00:00.000000000",
          "2022-05-13T00:00:00.000000000",
          "2022-05-16T00:00:00.000000000",
          "2022-05-17T00:00:00.000000000",
          "2022-05-18T00:00:00.000000000",
          "2022-05-20T00:00:00.000000000",
          "2022-05-23T00:00:00.000000000",
          "2022-05-24T00:00:00.000000000",
          "2022-05-25T00:00:00.000000000",
          "2022-05-26T00:00:00.000000000",
          "2022-05-27T00:00:00.000000000",
          "2022-05-30T00:00:00.000000000",
          "2022-05-31T00:00:00.000000000",
          "2022-06-01T00:00:00.000000000",
          "2022-06-02T00:00:00.000000000",
          "2022-06-03T00:00:00.000000000",
          "2022-06-06T00:00:00.000000000",
          "2022-06-07T00:00:00.000000000",
          "2022-06-08T00:00:00.000000000",
          "2022-06-09T00:00:00.000000000",
          "2022-06-10T00:00:00.000000000",
          "2022-06-13T00:00:00.000000000",
          "2022-06-14T00:00:00.000000000",
          "2022-06-15T00:00:00.000000000",
          "2022-06-16T00:00:00.000000000",
          "2022-06-17T00:00:00.000000000",
          "2022-06-20T00:00:00.000000000",
          "2022-06-21T00:00:00.000000000",
          "2022-06-22T00:00:00.000000000",
          "2022-06-23T00:00:00.000000000",
          "2022-06-24T00:00:00.000000000",
          "2022-06-27T00:00:00.000000000",
          "2022-06-28T00:00:00.000000000",
          "2022-06-29T00:00:00.000000000",
          "2022-06-30T00:00:00.000000000",
          "2022-07-01T00:00:00.000000000",
          "2022-07-04T00:00:00.000000000",
          "2022-07-05T00:00:00.000000000",
          "2022-07-06T00:00:00.000000000",
          "2022-07-07T00:00:00.000000000",
          "2022-07-08T00:00:00.000000000",
          "2022-07-13T00:00:00.000000000",
          "2022-07-14T00:00:00.000000000",
          "2022-07-18T00:00:00.000000000",
          "2022-07-19T00:00:00.000000000",
          "2022-07-20T00:00:00.000000000",
          "2022-07-21T00:00:00.000000000",
          "2022-07-22T00:00:00.000000000",
          "2022-07-25T00:00:00.000000000",
          "2022-07-26T00:00:00.000000000",
          "2022-07-27T00:00:00.000000000",
          "2022-07-28T00:00:00.000000000",
          "2022-07-29T00:00:00.000000000",
          "2022-08-01T00:00:00.000000000",
          "2022-08-02T00:00:00.000000000",
          "2022-08-03T00:00:00.000000000",
          "2022-08-04T00:00:00.000000000",
          "2022-08-05T00:00:00.000000000",
          "2022-08-08T00:00:00.000000000",
          "2022-08-09T00:00:00.000000000"
         ],
         "xaxis": "x4",
         "y": {
          "bdata": "SzZSFT7QVUD84GcrPJpVQJNfKCNCs1RAg4mGkj1dU0An/2wKJq1SQDvwpBa5x1JAZ4G9fE2VUkCETPLNNNZRQIdQEW6qKlBAyb1MWHzaS0BMXQLVSFRFQADsaNHX+z5Az8pnN3TqOEDdbK9OBJw7QB9cdKOOY0BApf8+yPDBREBgwUo+2WRIQND8Us978ExAGJDjTHEcT0AIiFK53JpPQH32ixUS4UtAkRd1lhLaRUCdS16sfsM/QJuWBBIofDlAt/KaPmGDO0BQO/9jB4JAQDFpHyQGl0NAtsKVJjAMQ0B/TxCCTylCQCtwHC8cx0FABaqqkaoqQ0ABlE+YktpDQGtC6bVk4URAjx/IYLVASECI0rdQUqdNQMGpCTS4mlFA78ZcG1G8U0BBLY5KX7BUQBP9Vnb8IVRAmLGEmCJZUkCQNtQaFXxQQAE9Y1P+NU9ARUczZoFeTkABhPU+4ahNQJuStVM5c0tAO22R4adUSUAsn1ejMqdHQIu9HJEVkUdAO+CthDrkRkAEeQK3MH1EQF30ghpjH0BA2BZboEPmNUDbHJ6IhRIwQIiyoIfvdCdAKZFoVg1oKEBtw9i+SYQlQL2gsYxVRypAc2TZ9EvhK0D4LFb3+totQOAsGAlcli1AXUASJQesMUD///+fAQA4QAEAAOCrqj5AH8dxPKuqQkAEAACgOY5FQAUAABDIcUpA/WY+65ytT0DxYVZ2lntSQH8q5La4dFNAY0jHfPc0U0BfOM94Zw5TQLbI9KtEY1NAk/fKkSlQVEBqaD0X4Z9UQPitRcbLclRAocp+qUzBU0AwdB4i+rhSQECtRhrQXVJA1fSulMP8UkBzfdAkKVRUQA==",
          "dtype": "f8"
         },
         "yaxis": "y4"
        },
        {
         "line": {
          "color": "#FF6692"
         },
         "mode": "lines",
         "name": "%K",
         "type": "scatter",
         "x": [
          "2022-04-11T00:00:00.000000000",
          "2022-04-12T00:00:00.000000000",
          "2022-04-13T00:00:00.000000000",
          "2022-04-14T00:00:00.000000000",
          "2022-04-15T00:00:00.000000000",
          "2022-04-18T00:00:00.000000000",
          "2022-04-19T00:00:00.000000000",
          "2022-04-20T00:00:00.000000000",
          "2022-04-21T00:00:00.000000000",
          "2022-04-22T00:00:00.000000000",
          "2022-04-25T00:00:00.000000000",
          "2022-04-26T00:00:00.000000000",
          "2022-04-27T00:00:00.000000000",
          "2022-04-28T00:00:00.000000000",
          "2022-04-29T00:00:00.000000000",
          "2022-05-05T00:00:00.000000000",
          "2022-05-06T00:00:00.000000000",
          "2022-05-09T00:00:00.000000000",
          "2022-05-10T00:00:00.000000000",
          "2022-05-11T00:00:00.000000000",
          "2022-05-12T00:00:00.000000000",
          "2022-05-13T00:00:00.000000000",
          "2022-05-16T00:00:00.000000000",
          "2022-05-17T00:00:00.000000000",
          "2022-05-18T00:00:00.000000000",
          "2022-05-20T00:00:00.000000000",
          "2022-05-23T00:00:00.000000000",
          "2022-05-24T00:00:00.000000000",
          "2022-05-25T00:00:00.000000000",
          "2022-05-26T00:00:00.000000000",
          "2022-05-27T00:00:00.000000000",
          "2022-05-30T00:00:00.000000000",
          "2022-05-31T00:00:00.000000000",
          "2022-06-01T00:00:00.000000000",
          "2022-06-02T00:00:00.000000000",
          "2022-06-03T00:00:00.000000000",
          "2022-06-06T00:00:00.000000000",
          "2022-06-07T00:00:00.000000000",
          "2022-06-08T00:00:00.000000000",
          "2022-06-09T00:00:00.000000000",
          "2022-06-10T00:00:00.000000000",
          "2022-06-13T00:00:00.000000000",
          "2022-06-14T00:00:00.000000000",
          "2022-06-15T00:00:00.000000000",
          "2022-06-16T00:00:00.000000000",
          "2022-06-17T00:00:00.000000000",
          "2022-06-20T00:00:00.000000000",
          "2022-06-21T00:00:00.000000000",
          "2022-06-22T00:00:00.000000000",
          "2022-06-23T00:00:00.000000000",
          "2022-06-24T00:00:00.000000000",
          "2022-06-27T00:00:00.000000000",
          "2022-06-28T00:00:00.000000000",
          "2022-06-29T00:00:00.000000000",
          "2022-06-30T00:00:00.000000000",
          "2022-07-01T00:00:00.000000000",
          "2022-07-04T00:00:00.000000000",
          "2022-07-05T00:00:00.000000000",
          "2022-07-06T00:00:00.000000000",
          "2022-07-07T00:00:00.000000000",
          "2022-07-08T00:00:00.000000000",
          "2022-07-13T00:00:00.000000000",
          "2022-07-14T00:00:00.000000000",
          "2022-07-18T00:00:00.000000000",
          "2022-07-19T00:00:00.000000000",
          "2022-07-20T00:00:00.000000000",
          "2022-07-21T00:00:00.000000000",
          "2022-07-22T00:00:00.000000000",
          "2022-07-25T00:00:00.000000000",
          "2022-07-26T00:00:00.000000000",
          "2022-07-27T00:00:00.000000000",
          "2022-07-28T00:00:00.000000000",
          "2022-07-29T00:00:00.000000000",
          "2022-08-01T00:00:00.000000000",
          "2022-08-02T00:00:00.000000000",
          "2022-08-03T00:00:00.000000000",
          "2022-08-04T00:00:00.000000000",
          "2022-08-05T00:00:00.000000000",
          "2022-08-08T00:00:00.000000000",
          "2022-08-09T00:00:00.000000000"
         ],
         "xaxis": "x4",
         "y": {
          "bdata": "Z6tUOhxPVkAryGuw/8dUQCaruH6qAlNAOClviA5NUkAVKR8YubdSQGR+YKNjUlNAvdy4usu1UUBtir0Lb3pQQNUUeweJn0xArA/w6Q37RUDI5jcbh8Q6QOC9IoXkODZAw7vcBfHBOUB7Zoewm2xBQP9P57YX3UJAdUhO8R78SUCtq6oSVVVMQCcBALX/P1BAJwEAtf8/UEB4k/dXl9BNQLNNrH6fUkVAEct22QHWPEBgfEsuO883QGB8Sy47zzdAse+cr9Z1QUAOBDvloShEQNJHhteZJkVAg/j/bamqP0Bqqqr3/39BQNOpqt7//0NA06mq3v//Q0BeaJkLuI9DQA+1dzd2FEdAQEFH3/EdTkCmQLRtx+FRQAAcxT5o31NAKficpcNzVUCdc0j78b1UQHKLH8I/NFJAuBUmDDYZUEAPBW4Ek01OQIiGb937IU9AO0q8UPWrTUBDu7SOsixMQFOyrxsEgUhAHNpP+kBQR0AXUQfUUiRHQG0N/+SsPkhAMEID1a9JRUDkNgrWat4/QOz+AB+ISjZAdx0M2K8TJ0DZkaYdYcYsQFFoL6G9hCJAW7ljRAntKUCmKPdWFhskQB8AXYXwZjBAewTbfOy6LkA4gm1eIwgqQPv//x8CADBAAwAAoAEAOEABAACQAABAQAEAAHAAAEJAW1VVtQAARkCwqqq6q6pIQAMAAOBVVVBAI0WIo7/ZUkCw4HrfrUNUQKxZqaG8QFNAz54x9XsaUkChsJLT/c9TQLMKGjtUP1RAZSu0pirhVEAnA+pjJL9UQFzbMkgUuFNAYYFfUK3MUkDV/8jNLKZRQIyGqzCWplJAIViYv4epVECtmS1+XaxVQA==",
          "dtype": "f8"
         },
         "yaxis": "y4"
        },
        {
         "marker": {
          "color": "#B6E880"
         },
         "name": "Volume",
         "type": "bar",
         "x": [
          "2022-04-11T00:00:00.000000000",
          "2022-04-12T00:00:00.000000000",
          "2022-04-13T00:00:00.000000000",
          "2022-04-14T00:00:00.000000000",
          "2022-04-15T00:00:00.000000000",
          "2022-04-18T00:00:00.000000000",
          "2022-04-19T00:00:00.000000000",
          "2022-04-20T00:00:00.000000000",
          "2022-04-21T00:00:00.000000000",
          "2022-04-22T00:00:00.000000000",
          "2022-04-25T00:00:00.000000000",
          "2022-04-26T00:00:00.000000000",
          "2022-04-27T00:00:00.000000000",
          "2022-04-28T00:00:00.000000000",
          "2022-04-29T00:00:00.000000000",
          "2022-05-05T00:00:00.000000000",
          "2022-05-06T00:00:00.000000000",
          "2022-05-09T00:00:00.000000000",
          "2022-05-10T00:00:00.000000000",
          "2022-05-11T00:00:00.000000000",
          "2022-05-12T00:00:00.000000000",
          "2022-05-13T00:00:00.000000000",
          "2022-05-16T00:00:00.000000000",
          "2022-05-17T00:00:00.000000000",
          "2022-05-18T00:00:00.000000000",
          "2022-05-20T00:00:00.000000000",
          "2022-05-23T00:00:00.000000000",
          "2022-05-24T00:00:00.000000000",
          "2022-05-25T00:00:00.000000000",
          "2022-05-26T00:00:00.000000000",
          "2022-05-27T00:00:00.000000000",
          "2022-05-30T00:00:00.000000000",
          "2022-05-31T00:00:00.000000000",
          "2022-06-01T00:00:00.000000000",
          "2022-06-02T00:00:00.000000000",
          "2022-06-03T00:00:00.000000000",
          "2022-06-06T00:00:00.000000000",
          "2022-06-07T00:00:00.000000000",
          "2022-06-08T00:00:00.000000000",
          "2022-06-09T00:00:00.000000000",
          "2022-06-10T00:00:00.000000000",
          "2022-06-13T00:00:00.000000000",
          "2022-06-14T00:00:00.000000000",
          "2022-06-15T00:00:00.000000000",
          "2022-06-16T00:00:00.000000000",
          "2022-06-17T00:00:00.000000000",
          "2022-06-20T00:00:00.000000000",
          "2022-06-21T00:00:00.000000000",
          "2022-06-22T00:00:00.000000000",
          "2022-06-23T00:00:00.000000000",
          "2022-06-24T00:00:00.000000000",
          "2022-06-27T00:00:00.000000000",
          "2022-06-28T00:00:00.000000000",
          "2022-06-29T00:00:00.000000000",
          "2022-06-30T00:00:00.000000000",
          "2022-07-01T00:00:00.000000000",
          "2022-07-04T00:00:00.000000000",
          "2022-07-05T00:00:00.000000000",
          "2022-07-06T00:00:00.000000000",
          "2022-07-07T00:00:00.000000000",
          "2022-07-08T00:00:00.000000000",
          "2022-07-13T00:00:00.000000000",
          "2022-07-14T00:00:00.000000000",
          "2022-07-18T00:00:00.000000000",
          "2022-07-19T00:00:00.000000000",
          "2022-07-20T00:00:00.000000000",
          "2022-07-21T00:00:00.000000000",
          "2022-07-22T00:00:00.000000000",
          "2022-07-25T00:00:00.000000000",
          "2022-07-26T00:00:00.000000000",
          "2022-07-27T00:00:00.000000000",
          "2022-07-28T00:00:00.000000000",
          "2022-07-29T00:00:00.000000000",
          "2022-08-01T00:00:00.000000000",
          "2022-08-02T00:00:00.000000000",
          "2022-08-03T00:00:00.000000000",
          "2022-08-04T00:00:00.000000000",
          "2022-08-05T00:00:00.000000000",
          "2022-08-08T00:00:00.000000000",
          "2022-08-09T00:00:00.000000000"
         ],
         "xaxis": "x5",
         "y": {
          "bdata": "lUIcAfpzlwBQNY0A/379AMKB1gBFzK0AiEGHAPOenQDBqZMAx/93AMr9dABTBQQCeePOAKrfxwCMIZkAMtzxAKLgvAA/vdkAyEIcAITD7wCxQqsALNopAcLMkwBjU2UAUflQATA+igCDAHEAR2SZAKQ06gCS5VEA3ZZjAIEnaAA+iQwBllGfAAa4GwHm3+EAjQBrAhVLbAOPxVABMrO6Ab4z0ADhIW4BI/oQAY5lBAFcs6YAHtm9AF+5hwBqYX8ARL2WAACtiAB98I0AAKgAADEHowDXldUAdUCdAM9VWADuXbkAxRR7AKy4XQACD2sApR5QAD+sYQBID2AAmh/HALJFdQBKpG8BOdoIAWC2yAAvC5EAEfScANtVXQJ27zkBiTmmAIq0lgDH120BBUrgAIvAzQCgVPkAM0CUASd3HgI=",
          "dtype": "i4"
         },
         "yaxis": "y5"
        }
       ],
       "layout": {
        "annotations": [
         {
          "showarrow": false,
          "text": "ATH_max: 2.21",
          "x": 0,
          "xanchor": "left",
          "xref": "x domain",
          "y": 2.2100000381469727,
          "yanchor": "bottom",
          "yref": "y"
         },
         {
          "showarrow": false,
          "text": "ATH_min: 1.77",
          "x": 0,
          "xanchor": "left",
          "xref": "x domain",
          "y": 1.7699999809265137,
          "yanchor": "top",
          "yref": "y"
         },
         {
          "font": {
           "size": 20
          },
          "showarrow": false,
          "text": "MACD",
          "x": 0.5,
          "xref": "paper",
          "y": 0.57,
          "yref": "paper"
         },
         {
          "font": {
           "size": 20
          },
          "showarrow": false,
          "text": "RSI",
          "x": 0.5,
          "xref": "paper",
          "y": 0.36,
          "yref": "paper"
         },
         {
          "font": {
           "size": 20
          },
          "showarrow": false,
          "text": "Stochastic",
          "x": 0.5,
          "xref": "paper",
          "y": 0.21,
          "yref": "paper"
         },
         {
          "font": {
           "size": 20
          },
          "showarrow": false,
          "text": "Volume",
          "x": 0.5,
          "xref": "paper",
          "y": 0.078,
          "yref": "paper"
         }
        ],
        "height": 1000,
        "shapes": [
         {
          "line": {
           "color": "green",
           "dash": "dash",
           "width": 2
          },
          "type": "line",
          "x0": 0,
          "x1": 1,
          "xref": "x domain",
          "y0": 2.2100000381469727,
          "y1": 2.2100000381469727,
          "yref": "y"
         },
         {
          "line": {
           "color": "red",
           "dash": "dash",
           "width": 2
          },
          "type": "line",
          "x0": 0,
          "x1": 1,
          "xref": "x domain",
          "y0": 1.7699999809265137,
          "y1": 1.7699999809265137,
          "yref": "y"
         },
         {
          "line": {
           "color": "green",
           "dash": "dash",
           "width": 2
          },
          "type": "line",
          "x0": 0,
          "x1": 1,
          "xref": "x3 domain",
          "y0": 30,
          "y1": 30,
          "yref": "y3"
         },
         {
          "line": {
           "color": "red",
           "dash": "dash",
           "width": 2
          },
          "type": "line",
          "x0": 0,
          "x1": 1,
          "xref": "x3 domain",
          "y0": 70,
          "y1": 70,
          "yref": "y3"
         },
         {
          "line": {
           "color": "green",
           "dash": "dash",
           "width": 2
          },
          "type": "line",
          "x0": 0,
          "x1": 1,
          "xref": "x4 domain",
          "y0": 20,
          "y1": 20,
          "yref": "y4"
         },
         {
          "line": {
           "color": "red",
           "dash": "dash",
           "width": 2
          },
          "type": "line",
          "x0": 0,
          "x1": 1,
          "xref": "x4 domain",
          "y0": 80,
          "y1": 80,
          "yref": "y4"
         }
        ],
        "template": {
         "data": {
          "bar": [
           {
            "error_x": {
             "color": "#2a3f5f"
            },
            "error_y": {
             "color": "#2a3f5f"
            },
            "marker": {
             "line": {
              "color": "#E5ECF6",
              "width": 0.5
             },
             "pattern": {
              "fillmode": "overlay",
              "size": 10,
              "solidity": 0.2
             }
            },
            "type": "bar"
           }
          ],
          "barpolar": [
           {
            "marker": {
             "line": {
              "color": "#E5ECF6",
              "width": 0.5
             },
             "pattern": {
              "fillmode": "overlay",
              "size": 10,
              "solidity": 0.2
             }
            },
            "type": "barpolar"
           }
          ],
          "carpet": [
           {
            "aaxis": {
             "endlinecolor": "#2a3f5f",
             "gridcolor": "white",
             "linecolor": "white",
             "minorgridcolor": "white",
             "startlinecolor": "#2a3f5f"
            },
            "baxis": {
             "endlinecolor": "#2a3f5f",
             "gridcolor": "white",
             "linecolor": "white",
             "minorgridcolor": "white",
             "startlinecolor": "#2a3f5f"
            },
            "type": "carpet"
           }
          ],
          "choropleth": [
           {
            "colorbar": {
             "outlinewidth": 0,
             "ticks": ""
            },
            "type": "choropleth"
           }
          ],
          "contour": [
           {
            "colorbar": {
             "outlinewidth": 0,
             "ticks": ""
            },
            "colorscale": [
             [
              0,
              "#0d0887"
             ],
             [
              0.1111111111111111,
              "#46039f"
             ],
             [
              0.2222222222222222,
              "#7201a8"
             ],
             [
              0.3333333333333333,
              "#9c179e"
             ],
             [
              0.4444444444444444,
              "#bd3786"
             ],
             [
              0.5555555555555556,
              "#d8576b"
             ],
             [
              0.6666666666666666,
              "#ed7953"
             ],
             [
              0.7777777777777778,
              "#fb9f3a"
             ],
             [
              0.8888888888888888,
              "#fdca26"
             ],
             [
              1,
              "#f0f921"
             ]
            ],
            "type": "contour"
           }
          ],
          "contourcarpet": [
           {
            "colorbar": {
             "outlinewidth": 0,
             "ticks": ""
            },
            "type": "contourcarpet"
           }
          ],
          "heatmap": [
           {
            "colorbar": {
             "outlinewidth": 0,
             "ticks": ""
            },
            "colorscale": [
             [
              0,
              "#0d0887"
             ],
             [
              0.1111111111111111,
              "#46039f"
             ],
             [
              0.2222222222222222,
              "#7201a8"
             ],
             [
              0.3333333333333333,
              "#9c179e"
             ],
             [
              0.4444444444444444,
              "#bd3786"
             ],
             [
              0.5555555555555556,
              "#d8576b"
             ],
             [
              0.6666666666666666,
              "#ed7953"
             ],
             [
              0.7777777777777778,
              "#fb9f3a"
             ],
             [
              0.8888888888888888,
              "#fdca26"
             ],
             [
              1,
              "#f0f921"
             ]
            ],
            "type": "heatmap"
           }
          ],
          "histogram": [
           {
            "marker": {
             "pattern": {
              "fillmode": "overlay",
              "size": 10,
              "solidity": 0.2
             }
            },
            "type": "histogram"
           }
          ],
          "histogram2d": [
           {
            "colorbar": {
             "outlinewidth": 0,
             "ticks": ""
            },
            "colorscale": [
             [
              0,
              "#0d0887"
             ],
             [
              0.1111111111111111,
              "#46039f"
             ],
             [
              0.2222222222222222,
              "#7201a8"
             ],
             [
              0.3333333333333333,
              "#9c179e"
             ],
             [
              0.4444444444444444,
              "#bd3786"
             ],
             [
              0.5555555555555556,
              "#d8576b"
             ],
             [
              0.6666666666666666,
              "#ed7953"
             ],
             [
              0.7777777777777778,
              "#fb9f3a"
             ],
             [
              0.8888888888888888,
              "#fdca26"
             ],
             [
              1,
              "#f0f921"
             ]
            ],
            "type": "histogram2d"
           }
          ],
          "histogram2dcontour": [
           {
            "colorbar": {
             "outlinewidth": 0,
             "ticks": ""
            },
            "colorscale": [
             [
              0,
              "#0d0887"
             ],
             [
              0.1111111111111111,
              "#46039f"
             ],
             [
              0.2222222222222222,
              "#7201a8"
             ],
             [
              0.3333333333333333,
              "#9c179e"
             ],
             [
              0.4444444444444444,
              "#bd3786"
             ],
             [
              0.5555555555555556,
              "#d8576b"
             ],
             [
              0.6666666666666666,
              "#ed7953"
             ],
             [
              0.7777777777777778,
              "#fb9f3a"
             ],
             [
              0.8888888888888888,
              "#fdca26"
             ],
             [
              1,
              "#f0f921"
             ]
            ],
            "type": "histogram2dcontour"
           }
          ],
          "mesh3d": [
           {
            "colorbar": {
             "outlinewidth": 0,
             "ticks": ""
            },
            "type": "mesh3d"
           }
          ],
          "parcoords": [
           {
            "line": {
             "colorbar": {
              "outlinewidth": 0,
              "ticks": ""
             }
            },
            "type": "parcoords"
           }
          ],
          "pie": [
           {
            "automargin": true,
            "type": "pie"
           }
          ],
          "scatter": [
           {
            "fillpattern": {
             "fillmode": "overlay",
             "size": 10,
             "solidity": 0.2
            },
            "type": "scatter"
           }
          ],
          "scatter3d": [
           {
            "line": {
             "colorbar": {
              "outlinewidth": 0,
              "ticks": ""
             }
            },
            "marker": {
             "colorbar": {
              "outlinewidth": 0,
              "ticks": ""
             }
            },
            "type": "scatter3d"
           }
          ],
          "scattercarpet": [
           {
            "marker": {
             "colorbar": {
              "outlinewidth": 0,
              "ticks": ""
             }
            },
            "type": "scattercarpet"
           }
          ],
          "scattergeo": [
           {
            "marker": {
             "colorbar": {
              "outlinewidth": 0,
              "ticks": ""
             }
            },
            "type": "scattergeo"
           }
          ],
          "scattergl": [
           {
            "marker": {
             "colorbar": {
              "outlinewidth": 0,
              "ticks": ""
             }
            },
            "type": "scattergl"
           }
          ],
          "scattermap": [
           {
            "marker": {
             "colorbar": {
              "outlinewidth": 0,
              "ticks": ""
             }
            },
            "type": "scattermap"
           }
          ],
          "scattermapbox": [
           {
            "marker": {
             "colorbar": {
              "outlinewidth": 0,
              "ticks": ""
             }
            },
            "type": "scattermapbox"
           }
          ],
          "scatterpolar": [
           {
            "marker": {
             "colorbar": {
              "outlinewidth": 0,
              "ticks": ""
             }
            },
            "type": "scatterpolar"
           }
          ],
          "scatterpolargl": [
           {
            "marker": {
             "colorbar": {
              "outlinewidth": 0,
              "ticks": ""
             }
            },
            "type": "scatterpolargl"
           }
          ],
          "scatterternary": [
           {
            "marker": {
             "colorbar": {
              "outlinewidth": 0,
              "ticks": ""
             }
            },
            "type": "scatterternary"
           }
          ],
          "surface": [
           {
            "colorbar": {
             "outlinewidth": 0,
             "ticks": ""
            },
            "colorscale": [
             [
              0,
              "#0d0887"
             ],
             [
              0.1111111111111111,
              "#46039f"
             ],
             [
              0.2222222222222222,
              "#7201a8"
             ],
             [
              0.3333333333333333,
              "#9c179e"
             ],
             [
              0.4444444444444444,
              "#bd3786"
             ],
             [
              0.5555555555555556,
              "#d8576b"
             ],
             [
              0.6666666666666666,
              "#ed7953"
             ],
             [
              0.7777777777777778,
              "#fb9f3a"
             ],
             [
              0.8888888888888888,
              "#fdca26"
             ],
             [
              1,
              "#f0f921"
             ]
            ],
            "type": "surface"
           }
          ],
          "table": [
           {
            "cells": {
             "fill": {
              "color": "#EBF0F8"
             },
             "line": {
              "color": "white"
             }
            },
            "header": {
             "fill": {
              "color": "#C8D4E3"
             },
             "line": {
              "color": "white"
             }
            },
            "type": "table"
           }
          ]
         },
         "layout": {
          "annotationdefaults": {
           "arrowcolor": "#2a3f5f",
           "arrowhead": 0,
           "arrowwidth": 1
          },
          "autotypenumbers": "strict",
          "coloraxis": {
           "colorbar": {
            "outlinewidth": 0,
            "ticks": ""
           }
          },
          "colorscale": {
           "diverging": [
            [
             0,
             "#8e0152"
            ],
            [
             0.1,
             "#c51b7d"
            ],
            [
             0.2,
             "#de77ae"
            ],
            [
             0.3,
             "#f1b6da"
            ],
            [
             0.4,
             "#fde0ef"
            ],
            [
             0.5,
             "#f7f7f7"
            ],
            [
             0.6,
             "#e6f5d0"
            ],
            [
             0.7,
             "#b8e186"
            ],
            [
             0.8,
             "#7fbc41"
            ],
            [
             0.9,
             "#4d9221"
            ],
            [
             1,
             "#276419"
            ]
           ],
           "sequential": [
            [
             0,
             "#0d0887"
            ],
            [
             0.1111111111111111,
             "#46039f"
            ],
            [
             0.2222222222222222,
             "#7201a8"
            ],
            [
             0.3333333333333333,
             "#9c179e"
            ],
            [
             0.4444444444444444,
             "#bd3786"
            ],
            [
             0.5555555555555556,
             "#d8576b"
            ],
            [
             0.6666666666666666,
             "#ed7953"
            ],
            [
             0.7777777777777778,
             "#fb9f3a"
            ],
            [
             0.8888888888888888,
             "#fdca26"
            ],
            [
             1,
             "#f0f921"
            ]
           ],
           "sequentialminus": [
            [
             0,
             "#0d0887"
            ],
            [
             0.1111111111111111,
             "#46039f"
            ],
            [
             0.2222222222222222,
             "#7201a8"
            ],
            [
             0.3333333333333333,
             "#9c179e"
            ],
            [
             0.4444444444444444,
             "#bd3786"
            ],
            [
             0.5555555555555556,
             "#d8576b"
            ],
            [
             0.6666666666666666,
             "#ed7953"
            ],
            [
             0.7777777777777778,
             "#fb9f3a"
            ],
            [
             0.8888888888888888,
             "#fdca26"
            ],
            [
             1,
             "#f0f921"
            ]
           ]
          },
          "colorway": [
           "#636efa",
           "#EF553B",
           "#00cc96",
           "#ab63fa",
           "#FFA15A",
           "#19d3f3",
           "#FF6692",
           "#B6E880",
           "#FF97FF",
           "#FECB52"
          ],
          "font": {
           "color": "#2a3f5f"
          },
          "geo": {
           "bgcolor": "white",
           "lakecolor": "white",
           "landcolor": "#E5ECF6",
           "showlakes": true,
           "showland": true,
           "subunitcolor": "white"
          },
          "hoverlabel": {
           "align": "left"
          },
          "hovermode": "closest",
          "mapbox": {
           "style": "light"
          },
          "paper_bgcolor": "white",
          "plot_bgcolor": "#E5ECF6",
          "polar": {
           "angularaxis": {
            "gridcolor": "white",
            "linecolor": "white",
            "ticks": ""
           },
           "bgcolor": "#E5ECF6",
           "radialaxis": {
            "gridcolor": "white",
            "linecolor": "white",
            "ticks": ""
           }
          },
          "scene": {
           "xaxis": {
            "backgroundcolor": "#E5ECF6",
            "gridcolor": "white",
            "gridwidth": 2,
            "linecolor": "white",
            "showbackground": true,
            "ticks": "",
            "zerolinecolor": "white"
           },
           "yaxis": {
            "backgroundcolor": "#E5ECF6",
            "gridcolor": "white",
            "gridwidth": 2,
            "linecolor": "white",
            "showbackground": true,
            "ticks": "",
            "zerolinecolor": "white"
           },
           "zaxis": {
            "backgroundcolor": "#E5ECF6",
            "gridcolor": "white",
            "gridwidth": 2,
            "linecolor": "white",
            "showbackground": true,
            "ticks": "",
            "zerolinecolor": "white"
           }
          },
          "shapedefaults": {
           "line": {
            "color": "#2a3f5f"
           }
          },
          "ternary": {
           "aaxis": {
            "gridcolor": "white",
            "linecolor": "white",
            "ticks": ""
           },
           "baxis": {
            "gridcolor": "white",
            "linecolor": "white",
            "ticks": ""
           },
           "bgcolor": "#E5ECF6",
           "caxis": {
            "gridcolor": "white",
            "linecolor": "white",
            "ticks": ""
           }
          },
          "title": {
           "x": 0.05
          },
          "xaxis": {
           "automargin": true,
           "gridcolor": "white",
           "linecolor": "white",
           "ticks": "",
           "title": {
            "standoff": 15
           },
           "zerolinecolor": "white",
           "zerolinewidth": 2
          },
          "yaxis": {
           "automargin": true,
           "gridcolor": "white",
           "linecolor": "white",
           "ticks": "",
           "title": {
            "standoff": 15
           },
           "zerolinecolor": "white",
           "zerolinewidth": 2
          }
         }
        },
        "title": {
         "font": {
          "size": 20
         },
         "text": "AVOD.IS",
         "x": 0.5,
         "y": 0.93
        },
        "width": 1000,
        "xaxis": {
         "anchor": "y",
         "domain": [
          0,
          1
         ],
         "matches": "x5",
         "rangebreaks": [
          {
           "bounds": [
            "sat",
            "mon"
           ],
           "pattern": "day of week"
          },
          {
           "values": [
            "2022-05-02",
            "2022-05-03",
            "2022-05-04",
            "2022-05-19",
            "2022-07-11",
            "2022-07-12",
            "2022-07-15"
           ]
          }
         ],
         "rangeslider": {
          "visible": false
         },
         "showticklabels": false
        },
        "xaxis2": {
         "anchor": "y2",
         "domain": [
          0,
          1
         ],
         "matches": "x5",
         "rangebreaks": [
          {
           "bounds": [
            "sat",
            "mon"
           ],
           "pattern": "day of week"
          },
          {
           "values": [
            "2022-05-02",
            "2022-05-03",
            "2022-05-04",
            "2022-05-19",
            "2022-07-11",
            "2022-07-12",
            "2022-07-15"
           ]
          }
         ],
         "showticklabels": false
        },
        "xaxis3": {
         "anchor": "y3",
         "domain": [
          0,
          1
         ],
         "matches": "x5",
         "rangebreaks": [
          {
           "bounds": [
            "sat",
            "mon"
           ],
           "pattern": "day of week"
          },
          {
           "values": [
            "2022-05-02",
            "2022-05-03",
            "2022-05-04",
            "2022-05-19",
            "2022-07-11",
            "2022-07-12",
            "2022-07-15"
           ]
          }
         ],
         "showticklabels": false
        },
        "xaxis4": {
         "anchor": "y4",
         "domain": [
          0,
          1
         ],
         "matches": "x5",
         "rangebreaks": [
          {
           "bounds": [
            "sat",
            "mon"
           ],
           "pattern": "day of week"
          },
          {
           "values": [
            "2022-05-02",
            "2022-05-03",
            "2022-05-04",
            "2022-05-19",
            "2022-07-11",
            "2022-07-12",
            "2022-07-15"
           ]
          }
         ],
         "showticklabels": false
        },
        "xaxis5": {
         "anchor": "y5",
         "domain": [
          0,
          1
         ],
         "rangebreaks": [
          {
           "bounds": [
            "sat",
            "mon"
           ],
           "pattern": "day of week"
          },
          {
           "values": [
            "2022-05-02",
            "2022-05-03",
            "2022-05-04",
            "2022-05-19",
            "2022-07-11",
            "2022-07-12",
            "2022-07-15"
           ]
          }
         ]
        },
        "yaxis": {
         "anchor": "x",
         "domain": [
          0.6000000000000001,
          1
         ]
        },
        "yaxis2": {
         "anchor": "x2",
         "domain": [
          0.39000000000000007,
          0.55
         ]
        },
        "yaxis3": {
         "anchor": "x3",
         "domain": [
          0.26,
          0.34
         ]
        },
        "yaxis4": {
         "anchor": "x4",
         "domain": [
          0.13,
          0.21000000000000002
         ]
        },
        "yaxis5": {
         "anchor": "x5",
         "domain": [
          0,
          0.08000000000000002
         ]
        }
       }
      }
     },
     "metadata": {},
     "output_type": "display_data"
    },
    {
     "data": {
      "application/vnd.plotly.v1+json": {
       "config": {
        "plotlyServerURL": "https://plot.ly"
       },
       "data": [
        {
         "close": {
          "bdata": "AAAAQOF6/D//////1qP8P////x+uR/0/AAAAgML1/D//////1qP8P////1+4Hv0/AAAA4KNw/T8AAABgj8L9PwAAAKBwPf4/AQAAoEfh/j8AAAAgXI8AQAAAAADXowBAAAAAAAAAAEAAAABgZmYAQAAAAKBwPQBAAAAAoHA9AEAAAADA9SgAQAAAAAAAAABAAQAAQDMz/z8AAADgehQAQAAAAMD1KABAAAAA4HoUAEAAAABACtf/PwAAAEAK1/8/AAAAgBSu/z8AAACAPQr/PwAAAEAK1/8/AAAAIFyP/j8AAADgehT+PwAAAKBwPf4/AAAAoHA9/j////8frkf9PwAAAOCjcP0/AAAA4HoU/j8AAACgcD3+PwAAAGBmZv4/AAAAIFyP/j8BAABAMzP/PwAAAIA9Cv8/AAAAoHA9AEAAAABA4XoAQAAAAOB6FABAAAAAoHA9AEAAAADA9SgAQAAAAEAzMwFAAAAAgML1AEAAAACAwvUAQAAAAEAzMwFAAAAA4FG4AEAAAADAzMwAQAAAAIDC9QBAAAAAYLgeAUAAAACAFK4BQAAAACCF6wFAAAAAIIXrAUAAAACgmZkBQAAAAMAehQFAAAAAQArXAUAAAACgmZkDQAAAAIAUrgNAAAAAgML1AkAAAABguB4DQAAAAKBH4QJAAAAAQArXA0AAAAAAKVwDQAAAAAAAAARAAAAAANejBEAAAACgR+ECQAAAAKBH4QJAAAAAwMzMAkAAAADAzMwCQAAAAIA9CgNAAAAAAAAABEAAAACAPQoFQAAAAIAUrgVAAAAA4HoUBkAAAACAwvUGQAAAAEAK1wVAAAAAgD0KB0AAAACgR+EIQA==",
          "dtype": "f8"
         },
         "high": {
          "bdata": "AAAA4KNw/T8AAADAzMz8PwAAAGCPwv0/AAAAoJmZ/T8AAADgo3D9PwAAAOCjcP0/AAAAIFyP/j8AAADgehT+PwEAAOBRuP4/AQAAAClc/z8AAADAzMwAQAAAAKCZmQFAAAAAgD0KAUAAAADAzMwAQAAAAADXowBAAAAAgML1AEAAAABA4XoAQAAAAIDrUQBAAAAAgOtRAEAAAADgehQAQAAAAGBmZgBAAAAAgOtRAEAAAACgcD0AQAAAAOB6FABAAAAA4HoUAEAAAACAPQr/PwAAAEDhegBAAAAA4HoUAEABAADgUbj+PwAAACBcj/4/AQAAAClc/z8AAABgZmb+PwAAAGCPwv0/AAAAoHA9/j8AAABgZmb+PwEAAOBRuP4/AAAAgD0K/z8AAACAFK7/PwAAAIAUrv8/AAAAgOtRAEAAAADAzMwAQAAAAMDMzABAAAAAQOF6AEAAAAAgXI8AQAAAAMAehQFAAAAAwB6FAUAAAABAMzMBQAAAAAApXAFAAAAA4KNwAUAAAACAPQoBQAAAACCuRwFAAAAAQDMzAUAAAABACtcBQAAAAKBwPQJAAAAAwPUoAkAAAADgehQCQAAAAGCPwgFAAAAA4HoUAkAAAACgmZkDQAAAAOBRuARAAAAAwPUoBEAAAACgmZkDQAAAACCuRwNAAAAAoHA9BEAAAADgehQEQAAAACBcjwRAAAAAAClcBUAAAAAghesDQAAAACCuRwNAAAAAQDMzA0AAAABguB4DQAAAAOCjcANAAAAAwPUoBEAAAAAAAAAGQAAAAEDhegZAAAAAoHA9BkAAAABguB4HQAAAAEAzMwdAAAAAQDMzB0AAAABAMzMJQA==",
          "dtype": "f8"
         },
         "low": {
          "bdata": "AAAAwPUo/D8AAADA9Sj8PwAAAEDhevw/AAAAgML1/D8AAABA4Xr8PwAAAMDMzPw/////X7ge/T////8frkf9PwAAAGCPwv0/AAAAoHA9/j8AAACAPQr/PwAAAAAAAABAAQAAAClc/z8AAACAFK7/PwAAAOB6FABAAAAAoHA9AEAAAAAAAAAAQAEAAAApXP8/AAAAgD0K/z8BAABAMzP/PwAAAAAAAABAAAAAQArX/z8AAACAFK7/PwAAAMAehf8/AAAAwB6F/z8AAACAPQr/PwAAAMAehf8/AAAAIFyP/j8AAACgmZn9PwAAAOB6FP4/AAAAoHA9/j8AAACAwvX8P////1+4Hv0/AAAA4KNw/T8AAABgj8L9PwAAACCF6/0/AAAAYGZm/j8BAADgUbj+PwEAAKBH4f4/AAAAgD0K/z8AAADgehQAQAAAAEAK1/8/AAAAAAAAAEAAAADA9SgAQAAAAMD1KABAAAAA4FG4AEAAAAAA16MAQAAAAIDC9QBAAAAAANejAEAAAADgUbgAQAAAAKBH4QBAAAAAIFyPAEAAAABguB4BQAAAAMAehQFAAAAA4KNwAUAAAADAHoUBQAAAAEAzMwFAAAAAAClcAUAAAACAFK4BQAAAAOCjcANAAAAA4FG4AkAAAADAzMwCQAAAAMDMzAJAAAAAwMzMAkAAAAAAKVwDQAAAAMAehQNAAAAAwB6FA0AAAAAA16MCQAAAAMDMzAJAAAAAANejAkAAAADgUbgCQAAAAKBH4QJAAAAAoEfhAkAAAACgcD0EQAAAAIDC9QRAAAAAoJmZBUAAAADgehQGQAAAAEAK1wVAAAAAQDMzBUAAAABA4XoGQA==",
          "dtype": "f8"
         },
         "name": "Candlestick",
         "open": {
          "bdata": "////X7ge/T8AAABA4Xr8P//////Wo/w/AAAA4KNw/T////9fuB79PwAAAMDMzPw/////H65H/T8AAADgo3D9PwAAAGCPwv0/AAAAoHA9/j8BAABAMzP/PwAAAOBRuABAAAAAoEfhAEAAAAAAAAAAQAAAAGBmZgBAAAAAgOtRAEAAAABgZmYAQAAAAKBwPQBAAAAA4HoUAEABAAAAKVz/PwAAAOB6FABAAAAAwPUoAEAAAADgehQAQAAAAEAK1/8/AAAAQArX/z8AAACAPQr/PwAAAGBmZgBAAAAAgBSu/z8AAABgZmb+PwAAAKBwPf4/AAAAIFyP/j8AAABgZmb+P////x+uR/0/AAAAoJmZ/T8AAADgehT+PwAAAKBwPf4/AAAAYGZm/j8BAACgR+H+PwAAAIA9Cv8/AQAAQDMz/z8AAACA61EAQAAAACBcjwBAAAAA4HoUAEAAAACA61EAQAAAAMD1KABAAAAAAClcAUAAAACAPQoBQAAAAIDC9QBAAAAAQDMzAUAAAADAzMwAQAAAAIDC9QBAAAAAgD0KAUAAAABAMzMBQAAAAEAK1wFAAAAAAAAAAkAAAAAAAAACQAAAAKCZmQFAAAAAwB6FAUAAAAAghesBQAAAAOB6FARAAAAAgBSuA0AAAACAPQoDQAAAAGC4HgNAAAAAgML1AkAAAABgj8IDQAAAAMAehQNAAAAAAAAABEAAAAAghesDQAAAAKBH4QJAAAAAgML1AkAAAACgR+ECQAAAAKBH4QJAAAAAQDMzA0AAAAAA16MEQAAAAIA9CgVAAAAAgBSuBUAAAACgcD0GQAAAAGC4HgdAAAAAgBSuBUAAAABAMzMHQA==",
          "dtype": "f8"
         },
         "type": "candlestick",
         "x": [
          "2022-05-23T00:00:00.000000000",
          "2022-05-24T00:00:00.000000000",
          "2022-05-25T00:00:00.000000000",
          "2022-05-26T00:00:00.000000000",
          "2022-05-27T00:00:00.000000000",
          "2022-05-30T00:00:00.000000000",
          "2022-05-31T00:00:00.000000000",
          "2022-06-01T00:00:00.000000000",
          "2022-06-02T00:00:00.000000000",
          "2022-06-03T00:00:00.000000000",
          "2022-06-06T00:00:00.000000000",
          "2022-06-07T00:00:00.000000000",
          "2022-06-08T00:00:00.000000000",
          "2022-06-09T00:00:00.000000000",
          "2022-06-10T00:00:00.000000000",
          "2022-06-13T00:00:00.000000000",
          "2022-06-14T00:00:00.000000000",
          "2022-06-15T00:00:00.000000000",
          "2022-06-16T00:00:00.000000000",
          "2022-06-17T00:00:00.000000000",
          "2022-06-20T00:00:00.000000000",
          "2022-06-21T00:00:00.000000000",
          "2022-06-22T00:00:00.000000000",
          "2022-06-23T00:00:00.000000000",
          "2022-06-24T00:00:00.000000000",
          "2022-06-27T00:00:00.000000000",
          "2022-06-28T00:00:00.000000000",
          "2022-06-29T00:00:00.000000000",
          "2022-06-30T00:00:00.000000000",
          "2022-07-01T00:00:00.000000000",
          "2022-07-04T00:00:00.000000000",
          "2022-07-05T00:00:00.000000000",
          "2022-07-06T00:00:00.000000000",
          "2022-07-07T00:00:00.000000000",
          "2022-07-08T00:00:00.000000000",
          "2022-07-13T00:00:00.000000000",
          "2022-07-14T00:00:00.000000000",
          "2022-07-18T00:00:00.000000000",
          "2022-07-19T00:00:00.000000000",
          "2022-07-20T00:00:00.000000000",
          "2022-07-21T00:00:00.000000000",
          "2022-07-22T00:00:00.000000000",
          "2022-07-25T00:00:00.000000000",
          "2022-07-26T00:00:00.000000000",
          "2022-07-27T00:00:00.000000000",
          "2022-07-28T00:00:00.000000000",
          "2022-07-29T00:00:00.000000000",
          "2022-08-01T00:00:00.000000000",
          "2022-08-02T00:00:00.000000000",
          "2022-08-03T00:00:00.000000000",
          "2022-08-04T00:00:00.000000000",
          "2022-08-05T00:00:00.000000000",
          "2022-08-08T00:00:00.000000000",
          "2022-08-09T00:00:00.000000000",
          "2022-08-10T00:00:00.000000000",
          "2022-08-11T00:00:00.000000000",
          "2022-08-12T00:00:00.000000000",
          "2022-08-15T00:00:00.000000000",
          "2022-08-16T00:00:00.000000000",
          "2022-08-17T00:00:00.000000000",
          "2022-08-18T00:00:00.000000000",
          "2022-08-19T00:00:00.000000000",
          "2022-08-22T00:00:00.000000000",
          "2022-08-23T00:00:00.000000000",
          "2022-08-24T00:00:00.000000000",
          "2022-08-25T00:00:00.000000000",
          "2022-08-26T00:00:00.000000000",
          "2022-08-29T00:00:00.000000000",
          "2022-08-31T00:00:00.000000000",
          "2022-09-01T00:00:00.000000000",
          "2022-09-02T00:00:00.000000000",
          "2022-09-05T00:00:00.000000000",
          "2022-09-06T00:00:00.000000000",
          "2022-09-07T00:00:00.000000000",
          "2022-09-08T00:00:00.000000000",
          "2022-09-09T00:00:00.000000000",
          "2022-09-12T00:00:00.000000000",
          "2022-09-13T00:00:00.000000000",
          "2022-09-14T00:00:00.000000000",
          "2022-09-15T00:00:00.000000000"
         ],
         "xaxis": "x",
         "yaxis": "y"
        },
        {
         "marker": {
          "color": "green",
          "size": 14,
          "symbol": "triangle-up"
         },
         "mode": "markers",
         "name": "Alım",
         "type": "scatter",
         "x": [
          "2022-09-14T00:00:00"
         ],
         "xaxis": "x",
         "y": [
          2.6500000953674316
         ],
         "yaxis": "y"
        },
        {
         "marker": {
          "color": "red",
          "size": 14,
          "symbol": "triangle-down"
         },
         "mode": "markers",
         "name": "Satım",
         "type": "scatter",
         "x": [
          "2022-09-15T00:00:00"
         ],
         "xaxis": "x",
         "y": [
          3.1500000953674316
         ],
         "yaxis": "y"
        },
        {
         "line": {
          "color": "#EE553B"
         },
         "mode": "lines",
         "name": "MACD",
         "type": "scatter",
         "x": [
          "2022-05-23T00:00:00.000000000",
          "2022-05-24T00:00:00.000000000",
          "2022-05-25T00:00:00.000000000",
          "2022-05-26T00:00:00.000000000",
          "2022-05-27T00:00:00.000000000",
          "2022-05-30T00:00:00.000000000",
          "2022-05-31T00:00:00.000000000",
          "2022-06-01T00:00:00.000000000",
          "2022-06-02T00:00:00.000000000",
          "2022-06-03T00:00:00.000000000",
          "2022-06-06T00:00:00.000000000",
          "2022-06-07T00:00:00.000000000",
          "2022-06-08T00:00:00.000000000",
          "2022-06-09T00:00:00.000000000",
          "2022-06-10T00:00:00.000000000",
          "2022-06-13T00:00:00.000000000",
          "2022-06-14T00:00:00.000000000",
          "2022-06-15T00:00:00.000000000",
          "2022-06-16T00:00:00.000000000",
          "2022-06-17T00:00:00.000000000",
          "2022-06-20T00:00:00.000000000",
          "2022-06-21T00:00:00.000000000",
          "2022-06-22T00:00:00.000000000",
          "2022-06-23T00:00:00.000000000",
          "2022-06-24T00:00:00.000000000",
          "2022-06-27T00:00:00.000000000",
          "2022-06-28T00:00:00.000000000",
          "2022-06-29T00:00:00.000000000",
          "2022-06-30T00:00:00.000000000",
          "2022-07-01T00:00:00.000000000",
          "2022-07-04T00:00:00.000000000",
          "2022-07-05T00:00:00.000000000",
          "2022-07-06T00:00:00.000000000",
          "2022-07-07T00:00:00.000000000",
          "2022-07-08T00:00:00.000000000",
          "2022-07-13T00:00:00.000000000",
          "2022-07-14T00:00:00.000000000",
          "2022-07-18T00:00:00.000000000",
          "2022-07-19T00:00:00.000000000",
          "2022-07-20T00:00:00.000000000",
          "2022-07-21T00:00:00.000000000",
          "2022-07-22T00:00:00.000000000",
          "2022-07-25T00:00:00.000000000",
          "2022-07-26T00:00:00.000000000",
          "2022-07-27T00:00:00.000000000",
          "2022-07-28T00:00:00.000000000",
          "2022-07-29T00:00:00.000000000",
          "2022-08-01T00:00:00.000000000",
          "2022-08-02T00:00:00.000000000",
          "2022-08-03T00:00:00.000000000",
          "2022-08-04T00:00:00.000000000",
          "2022-08-05T00:00:00.000000000",
          "2022-08-08T00:00:00.000000000",
          "2022-08-09T00:00:00.000000000",
          "2022-08-10T00:00:00.000000000",
          "2022-08-11T00:00:00.000000000",
          "2022-08-12T00:00:00.000000000",
          "2022-08-15T00:00:00.000000000",
          "2022-08-16T00:00:00.000000000",
          "2022-08-17T00:00:00.000000000",
          "2022-08-18T00:00:00.000000000",
          "2022-08-19T00:00:00.000000000",
          "2022-08-22T00:00:00.000000000",
          "2022-08-23T00:00:00.000000000",
          "2022-08-24T00:00:00.000000000",
          "2022-08-25T00:00:00.000000000",
          "2022-08-26T00:00:00.000000000",
          "2022-08-29T00:00:00.000000000",
          "2022-08-31T00:00:00.000000000",
          "2022-09-01T00:00:00.000000000",
          "2022-09-02T00:00:00.000000000",
          "2022-09-05T00:00:00.000000000",
          "2022-09-06T00:00:00.000000000",
          "2022-09-07T00:00:00.000000000",
          "2022-09-08T00:00:00.000000000",
          "2022-09-09T00:00:00.000000000",
          "2022-09-12T00:00:00.000000000",
          "2022-09-13T00:00:00.000000000",
          "2022-09-14T00:00:00.000000000",
          "2022-09-15T00:00:00.000000000"
         ],
         "xaxis": "x2",
         "y": {
          "bdata": "gDBRcXiLh78Am2Iv9niKv4BHhI7+7YW/gGYz6FVjhb8A1tzaxfyHv4CV9Lpv2YS/AKApE37Ffb8ASBBr5RprvwAouXQNOWI/ABdpCcTqgz9AOJ/4fEybPwAPoLnysaQ/IF0g00K2pj9AHbZoUBOqP+Be6yS9mKs/INXFd1V5rD+gn0anq22sP6B8N4h6QKs/4KqXSjT6pz9gCiiO1panP+DhOSu6bKc/IIOUOtaepj+guveuauqkP0BU9SB5V6M/ANhTc8p6oT8AjmgTL2CcP0DPFTyF+po/AIeMfaYKkz+AFBiBpk+EPwAuf3xbKG8/AITrFuvgUL+A73mC26SDvwDvZHoiho+/QFRzQv/3kL+AkAYSaueQvwB2o4z6r4+/gLZsWv0HjL+AivIs8U+CvwAa2kbbPni/AFYglu1Fbj+AtpHpic+LP8BfVl+fl5E/wNozNwXqlT+A6u2QzjuYPyBmHt9tMqI/gBszwimHpT9ghlNIdOSnP0CovSapsqo/wKnzfx0kqj/A9gjIutCpPwAyvA80Fao/AO2FnuDPqj/AVZmQ0u+tP6DhvR9zorA/wMzaVxrAsT+gkgXLAJuxP+AIDIlLFrE/INJ/65ZNsT/AZqpRlMS1P4BlVMLbOLk/QLwAUpLNuT8gV/cWXl+6PyAGvS3R57k/wHIrBu6xuz/gotxzYI67PwDr+3hdxLw/oHKrTYsFvz8ANvezGfG7P6DQhWTbNbk/4FtsajCUtj9giFP7g0K0PwAKH9ge07I/gOBli7Xvsz8gRc8UJjy3PwB2eFQyMLs/oGUEpDD/vj/QI23T2+/BPyDA122rNsI/EBlLwxvBwz9wjO1EuRXHPw==",
          "dtype": "f8"
         },
         "yaxis": "y2"
        },
        {
         "line": {
          "color": "#00CC96"
         },
         "mode": "lines",
         "name": "Signal",
         "type": "scatter",
         "x": [
          "2022-05-23T00:00:00.000000000",
          "2022-05-24T00:00:00.000000000",
          "2022-05-25T00:00:00.000000000",
          "2022-05-26T00:00:00.000000000",
          "2022-05-27T00:00:00.000000000",
          "2022-05-30T00:00:00.000000000",
          "2022-05-31T00:00:00.000000000",
          "2022-06-01T00:00:00.000000000",
          "2022-06-02T00:00:00.000000000",
          "2022-06-03T00:00:00.000000000",
          "2022-06-06T00:00:00.000000000",
          "2022-06-07T00:00:00.000000000",
          "2022-06-08T00:00:00.000000000",
          "2022-06-09T00:00:00.000000000",
          "2022-06-10T00:00:00.000000000",
          "2022-06-13T00:00:00.000000000",
          "2022-06-14T00:00:00.000000000",
          "2022-06-15T00:00:00.000000000",
          "2022-06-16T00:00:00.000000000",
          "2022-06-17T00:00:00.000000000",
          "2022-06-20T00:00:00.000000000",
          "2022-06-21T00:00:00.000000000",
          "2022-06-22T00:00:00.000000000",
          "2022-06-23T00:00:00.000000000",
          "2022-06-24T00:00:00.000000000",
          "2022-06-27T00:00:00.000000000",
          "2022-06-28T00:00:00.000000000",
          "2022-06-29T00:00:00.000000000",
          "2022-06-30T00:00:00.000000000",
          "2022-07-01T00:00:00.000000000",
          "2022-07-04T00:00:00.000000000",
          "2022-07-05T00:00:00.000000000",
          "2022-07-06T00:00:00.000000000",
          "2022-07-07T00:00:00.000000000",
          "2022-07-08T00:00:00.000000000",
          "2022-07-13T00:00:00.000000000",
          "2022-07-14T00:00:00.000000000",
          "2022-07-18T00:00:00.000000000",
          "2022-07-19T00:00:00.000000000",
          "2022-07-20T00:00:00.000000000",
          "2022-07-21T00:00:00.000000000",
          "2022-07-22T00:00:00.000000000",
          "2022-07-25T00:00:00.000000000",
          "2022-07-26T00:00:00.000000000",
          "2022-07-27T00:00:00.000000000",
          "2022-07-28T00:00:00.000000000",
          "2022-07-29T00:00:00.000000000",
          "2022-08-01T00:00:00.000000000",
          "2022-08-02T00:00:00.000000000",
          "2022-08-03T00:00:00.000000000",
          "2022-08-04T00:00:00.000000000",
          "2022-08-05T00:00:00.000000000",
          "2022-08-08T00:00:00.000000000",
          "2022-08-09T00:00:00.000000000",
          "2022-08-10T00:00:00.000000000",
          "2022-08-11T00:00:00.000000000",
          "2022-08-12T00:00:00.000000000",
          "2022-08-15T00:00:00.000000000",
          "2022-08-16T00:00:00.000000000",
          "2022-08-17T00:00:00.000000000",
          "2022-08-18T00:00:00.000000000",
          "2022-08-19T00:00:00.000000000",
          "2022-08-22T00:00:00.000000000",
          "2022-08-23T00:00:00.000000000",
          "2022-08-24T00:00:00.000000000",
          "2022-08-25T00:00:00.000000000",
          "2022-08-26T00:00:00.000000000",
          "2022-08-29T00:00:00.000000000",
          "2022-08-31T00:00:00.000000000",
          "2022-09-01T00:00:00.000000000",
          "2022-09-02T00:00:00.000000000",
          "2022-09-05T00:00:00.000000000",
          "2022-09-06T00:00:00.000000000",
          "2022-09-07T00:00:00.000000000",
          "2022-09-08T00:00:00.000000000",
          "2022-09-09T00:00:00.000000000",
          "2022-09-12T00:00:00.000000000",
          "2022-09-13T00:00:00.000000000",
          "2022-09-14T00:00:00.000000000",
          "2022-09-15T00:00:00.000000000"
         ],
         "xaxis": "x2",
         "y": {
          "bdata": "WAuWtTmtab+9dWMoE9x0v5dHUVmodXm/eZVVpELsfL8xAOjT212Av3SE6s5fQ4G/XWDZDabJgL8vbt2gIJJ9vybU0cGY1XW/cKf7lFcAY791OgJ9G3psP7EXGkdhQIY/7mEXpEH8kT8/jVvgh9GYP/OW2lu45J4/aM1L1loNoj9AxEozniCkP7qC4N1jjaU/j1c4jY0Jpj8fSGiNAlmmP6wzkkYnkKY/XRD5EBeTpj84/yvKJz6mPzoQIXWeqaU/YmteDnTTpD+CyqLAlH+jPyKdt7nqS6I/NYu6OpmKoD8vRxOeUn+cP4AA+ceqk5c/wA6xr4Wmkj+AtM/LdumJP2f0IxV92Xw/cjO06mICYz+xFVv1ga1Xv1cAus8XaXG/ExaN/REkeb9DfGt2CHB7v9CbgQaZzHq/pw3+Qnxpcr9fD+5ayNdMv7ov9B8KYWY/fiiL0qF7ej+ZB8onYEmEP8hXIJ9xyY4/6vq68wrtlD8VmFBGN0yaP5FWjBSjt58/lETPIUfqoT83aHSpxH6jP5OQTyQO0KQ/Q9bAPDgDpj/2Iuyz8JinP2yp1c8hiKk/pAyc/IuGqz8qqxjoCRCtP6+/S72/Fa4/mSDWKDz9rj+XId5Tz7+wP/n7KJ2ecbI/oVWH9Gjqsz+I79BhADW1P9rAmYqQJbY/ohfqPKNBtz98M7QUyR24P/0kXMLmC7k/uGfSd9Q9uj/6kKZQ4pS6P4JqBrutTro//M0a3sePuT9E8/LjU4C4PwQrYq6vXbc/hIL8QBeutj/XD42egMq2P+C9VSmkq7c/oBLfQcAiuT9tUBFWi0i7P8smZAq0HL0/Q1yhiQExvz9lpwl48hfBPw==",
          "dtype": "f8"
         },
         "yaxis": "y2"
        },
        {
         "marker": {
          "color": "#AB62FA"
         },
         "name": "Histogram",
         "type": "bar",
         "x": [
          "2022-05-23T00:00:00.000000000",
          "2022-05-24T00:00:00.000000000",
          "2022-05-25T00:00:00.000000000",
          "2022-05-26T00:00:00.000000000",
          "2022-05-27T00:00:00.000000000",
          "2022-05-30T00:00:00.000000000",
          "2022-05-31T00:00:00.000000000",
          "2022-06-01T00:00:00.000000000",
          "2022-06-02T00:00:00.000000000",
          "2022-06-03T00:00:00.000000000",
          "2022-06-06T00:00:00.000000000",
          "2022-06-07T00:00:00.000000000",
          "2022-06-08T00:00:00.000000000",
          "2022-06-09T00:00:00.000000000",
          "2022-06-10T00:00:00.000000000",
          "2022-06-13T00:00:00.000000000",
          "2022-06-14T00:00:00.000000000",
          "2022-06-15T00:00:00.000000000",
          "2022-06-16T00:00:00.000000000",
          "2022-06-17T00:00:00.000000000",
          "2022-06-20T00:00:00.000000000",
          "2022-06-21T00:00:00.000000000",
          "2022-06-22T00:00:00.000000000",
          "2022-06-23T00:00:00.000000000",
          "2022-06-24T00:00:00.000000000",
          "2022-06-27T00:00:00.000000000",
          "2022-06-28T00:00:00.000000000",
          "2022-06-29T00:00:00.000000000",
          "2022-06-30T00:00:00.000000000",
          "2022-07-01T00:00:00.000000000",
          "2022-07-04T00:00:00.000000000",
          "2022-07-05T00:00:00.000000000",
          "2022-07-06T00:00:00.000000000",
          "2022-07-07T00:00:00.000000000",
          "2022-07-08T00:00:00.000000000",
          "2022-07-13T00:00:00.000000000",
          "2022-07-14T00:00:00.000000000",
          "2022-07-18T00:00:00.000000000",
          "2022-07-19T00:00:00.000000000",
          "2022-07-20T00:00:00.000000000",
          "2022-07-21T00:00:00.000000000",
          "2022-07-22T00:00:00.000000000",
          "2022-07-25T00:00:00.000000000",
          "2022-07-26T00:00:00.000000000",
          "2022-07-27T00:00:00.000000000",
          "2022-07-28T00:00:00.000000000",
          "2022-07-29T00:00:00.000000000",
          "2022-08-01T00:00:00.000000000",
          "2022-08-02T00:00:00.000000000",
          "2022-08-03T00:00:00.000000000",
          "2022-08-04T00:00:00.000000000",
          "2022-08-05T00:00:00.000000000",
          "2022-08-08T00:00:00.000000000",
          "2022-08-09T00:00:00.000000000",
          "2022-08-10T00:00:00.000000000",
          "2022-08-11T00:00:00.000000000",
          "2022-08-12T00:00:00.000000000",
          "2022-08-15T00:00:00.000000000",
          "2022-08-16T00:00:00.000000000",
          "2022-08-17T00:00:00.000000000",
          "2022-08-18T00:00:00.000000000",
          "2022-08-19T00:00:00.000000000",
          "2022-08-22T00:00:00.000000000",
          "2022-08-23T00:00:00.000000000",
          "2022-08-24T00:00:00.000000000",
          "2022-08-25T00:00:00.000000000",
          "2022-08-26T00:00:00.000000000",
          "2022-08-29T00:00:00.000000000",
          "2022-08-31T00:00:00.000000000",
          "2022-09-01T00:00:00.000000000",
          "2022-09-02T00:00:00.000000000",
          "2022-09-05T00:00:00.000000000",
          "2022-09-06T00:00:00.000000000",
          "2022-09-07T00:00:00.000000000",
          "2022-09-08T00:00:00.000000000",
          "2022-09-09T00:00:00.000000000",
          "2022-09-12T00:00:00.000000000",
          "2022-09-13T00:00:00.000000000",
          "2022-09-14T00:00:00.000000000",
          "2022-09-15T00:00:00.000000000"
         ],
         "xaxis": "x2",
         "y": {
          "bdata": "qq3rAyoggb8i4DCb7AqAv2lHt8NUZnK/Dm8iWNK0a788V9MbqHtuv2CIUGB/sFy/0AVJRHBuTj8vSlXrrQRwPyZoLnwf8n4/3ACo7tmqiD/x8P6IOb2XPygSs8+0Q54/UlgpAkRwmz9BrRDxGFWbP80m/O3BTJg/cA/0QvXXlD/AtvfnGpqQP5jnW6lazIY/EDX11WsKbz8QJPwLQN1jP4DG9ZRckls/AIblNlN+Fz+ASUSz0Ttlv9DfXaEqkXK/EJtU2EzFer8IDrrb9D2FvwjWsm6gOoO/1B7R7xcVjL/vPIddf1eSv8AaaVifrpO/AMcfYZS0k78A0iQnKceWv5p0e4Jw+Za/rtrJn0tYk79KvmHlI9mOv9R1xqRu+4a/7VZMt+jrfr96MfPGs19iv4AOPP3tbUQ/VBwHhznGgD92l0BvBp2NP5Kzrzb8lo0/QSEihTmWjj9nzRH6PC6MP1ygrO4iAJU/FjyrkEghlj+rdFZKsXyVP+/57jivrZU/WMpIvKxzkD8kOlJ62EeJP7SFsq2XFIU/9FoUh6Eygz8oy7Ryh1uJP1BnmL4R844/cDNmzKLmjz9Y6Mm33peIP0RIMVNdW4A/OB1McY3vfD+kFDH3ExOUPxymrZT0HJs/fJrldaWMlz9gnpnUdqmUPzAqGhkFEo4/eGwFJSvBkT8ge0P5uoSLPxgw/rS1w40/oCtkV9sekz9gUAo1dsN1PyCeCWgljXG/4JBznbvch7+Qq32iP/eQvxCEDFlDKpK/IBC1rA3zhb9AUo2QXWlcPwDBFVlxJIw/AEyViMFxlz9m7pGhWC6hP9RlLUWLQp0/uqvp+WuioD8slI8zG/enPw==",
          "dtype": "f8"
         },
         "yaxis": "y2"
        },
        {
         "line": {
          "color": "orange"
         },
         "mode": "lines",
         "name": "RSI",
         "type": "scatter",
         "x": [
          "2022-05-23T00:00:00.000000000",
          "2022-05-24T00:00:00.000000000",
          "2022-05-25T00:00:00.000000000",
          "2022-05-26T00:00:00.000000000",
          "2022-05-27T00:00:00.000000000",
          "2022-05-30T00:00:00.000000000",
          "2022-05-31T00:00:00.000000000",
          "2022-06-01T00:00:00.000000000",
          "2022-06-02T00:00:00.000000000",
          "2022-06-03T00:00:00.000000000",
          "2022-06-06T00:00:00.000000000",
          "2022-06-07T00:00:00.000000000",
          "2022-06-08T00:00:00.000000000",
          "2022-06-09T00:00:00.000000000",
          "2022-06-10T00:00:00.000000000",
          "2022-06-13T00:00:00.000000000",
          "2022-06-14T00:00:00.000000000",
          "2022-06-15T00:00:00.000000000",
          "2022-06-16T00:00:00.000000000",
          "2022-06-17T00:00:00.000000000",
          "2022-06-20T00:00:00.000000000",
          "2022-06-21T00:00:00.000000000",
          "2022-06-22T00:00:00.000000000",
          "2022-06-23T00:00:00.000000000",
          "2022-06-24T00:00:00.000000000",
          "2022-06-27T00:00:00.000000000",
          "2022-06-28T00:00:00.000000000",
          "2022-06-29T00:00:00.000000000",
          "2022-06-30T00:00:00.000000000",
          "2022-07-01T00:00:00.000000000",
          "2022-07-04T00:00:00.000000000",
          "2022-07-05T00:00:00.000000000",
          "2022-07-06T00:00:00.000000000",
          "2022-07-07T00:00:00.000000000",
          "2022-07-08T00:00:00.000000000",
          "2022-07-13T00:00:00.000000000",
          "2022-07-14T00:00:00.000000000",
          "2022-07-18T00:00:00.000000000",
          "2022-07-19T00:00:00.000000000",
          "2022-07-20T00:00:00.000000000",
          "2022-07-21T00:00:00.000000000",
          "2022-07-22T00:00:00.000000000",
          "2022-07-25T00:00:00.000000000",
          "2022-07-26T00:00:00.000000000",
          "2022-07-27T00:00:00.000000000",
          "2022-07-28T00:00:00.000000000",
          "2022-07-29T00:00:00.000000000",
          "2022-08-01T00:00:00.000000000",
          "2022-08-02T00:00:00.000000000",
          "2022-08-03T00:00:00.000000000",
          "2022-08-04T00:00:00.000000000",
          "2022-08-05T00:00:00.000000000",
          "2022-08-08T00:00:00.000000000",
          "2022-08-09T00:00:00.000000000",
          "2022-08-10T00:00:00.000000000",
          "2022-08-11T00:00:00.000000000",
          "2022-08-12T00:00:00.000000000",
          "2022-08-15T00:00:00.000000000",
          "2022-08-16T00:00:00.000000000",
          "2022-08-17T00:00:00.000000000",
          "2022-08-18T00:00:00.000000000",
          "2022-08-19T00:00:00.000000000",
          "2022-08-22T00:00:00.000000000",
          "2022-08-23T00:00:00.000000000",
          "2022-08-24T00:00:00.000000000",
          "2022-08-25T00:00:00.000000000",
          "2022-08-26T00:00:00.000000000",
          "2022-08-29T00:00:00.000000000",
          "2022-08-31T00:00:00.000000000",
          "2022-09-01T00:00:00.000000000",
          "2022-09-02T00:00:00.000000000",
          "2022-09-05T00:00:00.000000000",
          "2022-09-06T00:00:00.000000000",
          "2022-09-07T00:00:00.000000000",
          "2022-09-08T00:00:00.000000000",
          "2022-09-09T00:00:00.000000000",
          "2022-09-12T00:00:00.000000000",
          "2022-09-13T00:00:00.000000000",
          "2022-09-14T00:00:00.000000000",
          "2022-09-15T00:00:00.000000000"
         ],
         "xaxis": "x3",
         "y": {
          "bdata": "w/TyO0lMRkCkNfc9S+FGQL27S1iIIUlAbNwhQ04OSECC716fFf9GQEYHnrM7ykhAE1l4svnvSUAWzTGEzg9LQILcuqruq0xARYAI78ufTkAOuhF5J8xRQGngjTbW71FALDIN6k+/TkCR1G9P4zdQQCkN9FVYQU9AKQ30VVhBT0ANU3Z52ptOQNaXwF2rTU1Alm/NzwdJSkAfWK4nKxJNQDuq163MgE1AgozRu4DcTED0qQX50pFLQPSpBfnSkUtAWTYiDEnfSkANdb22TztIQO0l5R31PUtA3j6QAV2tRkArh3wkaT1FQA/0dj8z4UVAD/R2PzPhRUBEiRo0W/JCQPz4DDIirUNARgCqgJl2RkA54qoE0iBHQEBeI7Qsz0dAafdbv1GBSEB5FLaHmx9LQCekRZfIZEpAuhsQusNGT0CkA/FPCElQQE55Oi7S+UxAouPZHBfuTUCJmLOdTzdNQPdkXPWxNVFAeSmbjaEzUEB5KZuNoTNQQIVZ1pXowlBABWENNrV7TUDOS7Vz5upNQKqRFjQZy05ABuo9b6inT0C9v7YKbidRQEbBF4YcpVFARcEXhhylUUAjuC5FmRZQQKKZ9JAVbk9ARhs4zwSPUEDdwNWKHINTQJhKTKHEmlNAklGskpjaUEAL9PRjWB5RQDIdD33UQ1BANDhQETfPUUBmPhkl4UJQQOoF3O0iO1FAOW7MzXIPUkAsbWEvvXFLQCxtYS+9cUtAOdqZzuIZS0A52pnO4hlLQEXHpJdLDkxAEkhPwZ1lT0C0e7wK+xlRQPFu2By90VFAcK/fTbM7UkDitMO42QtTQNjCyXpiWlBAQPZzwOSQUUCS1DobzvZSQA==",
          "dtype": "f8"
         },
         "yaxis": "y3"
        },
        {
         "line": {
          "color": "#1BD3F3"
         },
         "mode": "lines",
         "name": "%D",
         "type": "scatter",
         "x": [
          "2022-05-23T00:00:00.000000000",
          "2022-05-24T00:00:00.000000000",
          "2022-05-25T00:00:00.000000000",
          "2022-05-26T00:00:00.000000000",
          "2022-05-27T00:00:00.000000000",
          "2022-05-30T00:00:00.000000000",
          "2022-05-31T00:00:00.000000000",
          "2022-06-01T00:00:00.000000000",
          "2022-06-02T00:00:00.000000000",
          "2022-06-03T00:00:00.000000000",
          "2022-06-06T00:00:00.000000000",
          "2022-06-07T00:00:00.000000000",
          "2022-06-08T00:00:00.000000000",
          "2022-06-09T00:00:00.000000000",
          "2022-06-10T00:00:00.000000000",
          "2022-06-13T00:00:00.000000000",
          "2022-06-14T00:00:00.000000000",
          "2022-06-15T00:00:00.000000000",
          "2022-06-16T00:00:00.000000000",
          "2022-06-17T00:00:00.000000000",
          "2022-06-20T00:00:00.000000000",
          "2022-06-21T00:00:00.000000000",
          "2022-06-22T00:00:00.000000000",
          "2022-06-23T00:00:00.000000000",
          "2022-06-24T00:00:00.000000000",
          "2022-06-27T00:00:00.000000000",
          "2022-06-28T00:00:00.000000000",
          "2022-06-29T00:00:00.000000000",
          "2022-06-30T00:00:00.000000000",
          "2022-07-01T00:00:00.000000000",
          "2022-07-04T00:00:00.000000000",
          "2022-07-05T00:00:00.000000000",
          "2022-07-06T00:00:00.000000000",
          "2022-07-07T00:00:00.000000000",
          "2022-07-08T00:00:00.000000000",
          "2022-07-13T00:00:00.000000000",
          "2022-07-14T00:00:00.000000000",
          "2022-07-18T00:00:00.000000000",
          "2022-07-19T00:00:00.000000000",
          "2022-07-20T00:00:00.000000000",
          "2022-07-21T00:00:00.000000000",
          "2022-07-22T00:00:00.000000000",
          "2022-07-25T00:00:00.000000000",
          "2022-07-26T00:00:00.000000000",
          "2022-07-27T00:00:00.000000000",
          "2022-07-28T00:00:00.000000000",
          "2022-07-29T00:00:00.000000000",
          "2022-08-01T00:00:00.000000000",
          "2022-08-02T00:00:00.000000000",
          "2022-08-03T00:00:00.000000000",
          "2022-08-04T00:00:00.000000000",
          "2022-08-05T00:00:00.000000000",
          "2022-08-08T00:00:00.000000000",
          "2022-08-09T00:00:00.000000000",
          "2022-08-10T00:00:00.000000000",
          "2022-08-11T00:00:00.000000000",
          "2022-08-12T00:00:00.000000000",
          "2022-08-15T00:00:00.000000000",
          "2022-08-16T00:00:00.000000000",
          "2022-08-17T00:00:00.000000000",
          "2022-08-18T00:00:00.000000000",
          "2022-08-19T00:00:00.000000000",
          "2022-08-22T00:00:00.000000000",
          "2022-08-23T00:00:00.000000000",
          "2022-08-24T00:00:00.000000000",
          "2022-08-25T00:00:00.000000000",
          "2022-08-26T00:00:00.000000000",
          "2022-08-29T00:00:00.000000000",
          "2022-08-31T00:00:00.000000000",
          "2022-09-01T00:00:00.000000000",
          "2022-09-02T00:00:00.000000000",
          "2022-09-05T00:00:00.000000000",
          "2022-09-06T00:00:00.000000000",
          "2022-09-07T00:00:00.000000000",
          "2022-09-08T00:00:00.000000000",
          "2022-09-09T00:00:00.000000000",
          "2022-09-12T00:00:00.000000000",
          "2022-09-13T00:00:00.000000000",
          "2022-09-14T00:00:00.000000000",
          "2022-09-15T00:00:00.000000000"
         ],
         "xaxis": "x4",
         "y": {
          "bdata": "MWkfJAaXQ0C2wpUmMAxDQH9PEIJPKUJAK3AcLxzHQUAFqqqRqipDQAGUT5iS2kNAa0LptWThRECPH8hgtUBIQIjSt1BSp01AwakJNLiaUUDvxlwbUbxTQEEtjkpfsFRAE/1WdvwhVECYsYSYIllSQJA21BoVfFBAAT1jU/41T0BFRzNmgV5OQAGE9T7hqE1Am5K1UzlzS0A7bZHhp1RJQCyfV6Myp0dAi70ckRWRR0A74K2EOuRGQAR5ArcwfURAXfSCGmMfQEDYFlugQ+Y1QNscnoiFEjBAiLKgh+90J0ApkWhWDWgoQG3D2L5JhCVAvaCxjFVHKkBzZNn0S+ErQPgsVvf62i1A4CwYCVyWLUBdQBIlB6wxQP///58BADhAAQAA4KuqPkAfx3E8q6pCQAQAAKA5jkVABQAAEMhxSkD9Zj7rnK1PQPFhVnaWe1JAfyrktrh0U0BjSMd89zRTQF84z3hnDlNAtsj0q0RjU0CT98qRKVBUQGpoPRfhn1RA+K1FxstyVEChyn6pTMFTQDB0HiL6uFJAQK1GGtBdUkDV9K6Uw/xSQHN90CQpVFRAi9+IL8F8VUDb7OZ/kV9VQAtM5csIWFRAogMDMioDU0CPzaAfmhNTQIGf/xN8/FNAzTQ3sO5nVEAHXVids/ZSQBUgYq9XuFBAR1V3AwdpT0CtoVHTbdZPQNuXGLf5VlFAD532r6hHUkAPlGgE3U9SQPPR+toMklBAM8IF0Lb8SkCIMtAz4BVGQLP489qzMUNAd8B+OrFmQ0CUdHc56tFFQKsqedE2xkpAHQOtyq+kUEAhJyBKG5xTQBG+P3ltJ1VA6IewzmPKVUAA4yyOSLJVQA==",
          "dtype": "f8"
         },
         "yaxis": "y4"
        },
        {
         "line": {
          "color": "#FF6692"
         },
         "mode": "lines",
         "name": "%K",
         "type": "scatter",
         "x": [
          "2022-05-23T00:00:00.000000000",
          "2022-05-24T00:00:00.000000000",
          "2022-05-25T00:00:00.000000000",
          "2022-05-26T00:00:00.000000000",
          "2022-05-27T00:00:00.000000000",
          "2022-05-30T00:00:00.000000000",
          "2022-05-31T00:00:00.000000000",
          "2022-06-01T00:00:00.000000000",
          "2022-06-02T00:00:00.000000000",
          "2022-06-03T00:00:00.000000000",
          "2022-06-06T00:00:00.000000000",
          "2022-06-07T00:00:00.000000000",
          "2022-06-08T00:00:00.000000000",
          "2022-06-09T00:00:00.000000000",
          "2022-06-10T00:00:00.000000000",
          "2022-06-13T00:00:00.000000000",
          "2022-06-14T00:00:00.000000000",
          "2022-06-15T00:00:00.000000000",
          "2022-06-16T00:00:00.000000000",
          "2022-06-17T00:00:00.000000000",
          "2022-06-20T00:00:00.000000000",
          "2022-06-21T00:00:00.000000000",
          "2022-06-22T00:00:00.000000000",
          "2022-06-23T00:00:00.000000000",
          "2022-06-24T00:00:00.000000000",
          "2022-06-27T00:00:00.000000000",
          "2022-06-28T00:00:00.000000000",
          "2022-06-29T00:00:00.000000000",
          "2022-06-30T00:00:00.000000000",
          "2022-07-01T00:00:00.000000000",
          "2022-07-04T00:00:00.000000000",
          "2022-07-05T00:00:00.000000000",
          "2022-07-06T00:00:00.000000000",
          "2022-07-07T00:00:00.000000000",
          "2022-07-08T00:00:00.000000000",
          "2022-07-13T00:00:00.000000000",
          "2022-07-14T00:00:00.000000000",
          "2022-07-18T00:00:00.000000000",
          "2022-07-19T00:00:00.000000000",
          "2022-07-20T00:00:00.000000000",
          "2022-07-21T00:00:00.000000000",
          "2022-07-22T00:00:00.000000000",
          "2022-07-25T00:00:00.000000000",
          "2022-07-26T00:00:00.000000000",
          "2022-07-27T00:00:00.000000000",
          "2022-07-28T00:00:00.000000000",
          "2022-07-29T00:00:00.000000000",
          "2022-08-01T00:00:00.000000000",
          "2022-08-02T00:00:00.000000000",
          "2022-08-03T00:00:00.000000000",
          "2022-08-04T00:00:00.000000000",
          "2022-08-05T00:00:00.000000000",
          "2022-08-08T00:00:00.000000000",
          "2022-08-09T00:00:00.000000000",
          "2022-08-10T00:00:00.000000000",
          "2022-08-11T00:00:00.000000000",
          "2022-08-12T00:00:00.000000000",
          "2022-08-15T00:00:00.000000000",
          "2022-08-16T00:00:00.000000000",
          "2022-08-17T00:00:00.000000000",
          "2022-08-18T00:00:00.000000000",
          "2022-08-19T00:00:00.000000000",
          "2022-08-22T00:00:00.000000000",
          "2022-08-23T00:00:00.000000000",
          "2022-08-24T00:00:00.000000000",
          "2022-08-25T00:00:00.000000000",
          "2022-08-26T00:00:00.000000000",
          "2022-08-29T00:00:00.000000000",
          "2022-08-31T00:00:00.000000000",
          "2022-09-01T00:00:00.000000000",
          "2022-09-02T00:00:00.000000000",
          "2022-09-05T00:00:00.000000000",
          "2022-09-06T00:00:00.000000000",
          "2022-09-07T00:00:00.000000000",
          "2022-09-08T00:00:00.000000000",
          "2022-09-09T00:00:00.000000000",
          "2022-09-12T00:00:00.000000000",
          "2022-09-13T00:00:00.000000000",
          "2022-09-14T00:00:00.000000000",
          "2022-09-15T00:00:00.000000000"
         ],
         "xaxis": "x4",
         "y": {
          "bdata": "0keG15kmRUCD+P9tqao/QGqqqvf/f0FA06mq3v//Q0DTqare//9DQF5omQu4j0NAD7V3N3YUR0BAQUff8R1OQKZAtG3H4VFAABzFPmjfU0Ap+Jylw3NVQJ1zSPvxvVRAcosfwj80UkC4FSYMNhlQQA8FbgSTTU5AiIZv3fshT0A7SrxQ9atNQEO7tI6yLExAU7KvGwSBSEAc2k/6QFBHQBdRB9RSJEdAbQ3/5Kw+SEAwQgPVr0lFQOQ2CtZq3j9A7P4AH4hKNkB3HQzYrxMnQNmRph1hxixAUWgvob2EIkBbuWNECe0pQKYo91YWGyRAHwBdhfBmMEB7BNt87LouQDiCbV4jCCpA+///HwIAMEADAACgAQA4QAEAAJAAAEBAAQAAcAAAQkBbVVW1AABGQLCqqrqrqkhAAwAA4FVVUEAjRYijv9lSQLDget+tQ1RArFmpobxAU0DPnjH1expSQKGwktP9z1NAswoaO1Q/VEBlK7SmKuFUQCcD6mMkv1RAXNsySBS4U0BhgV9QrcxSQNX/yM0splFAjIarMJamUkAhWJi/h6lUQK2ZLX5drFVA1azUUF4gVkANgLKw+FFUQD23KGLDlVJAndMtg8IhUkDV3Yt5SINUQBQtRT9pUFVAf5PUVxpkU0CEVu9Aly9QQHjsxOqqKk1AKzPhzp1YUEAdybZ4sdNQQEjLsd2d2FJAyUJ7uaoqU0Acrgx2TuxQQOkJ0cJaPktAeeAmwSzfQ0A4rXgXGSRDQGdcPLjVkUJAxzfH3yR+RECQyWIUxGVKQFe/IMBdt1BAOuW0lc8DVEDV0IqIJBlWQCiEf01UWVVAuUIHlrLsVUAh4v/G0tBVQA==",
          "dtype": "f8"
         },
         "yaxis": "y4"
        },
        {
         "marker": {
          "color": "#B6E880"
         },
         "name": "Volume",
         "type": "bar",
         "x": [
          "2022-05-23T00:00:00.000000000",
          "2022-05-24T00:00:00.000000000",
          "2022-05-25T00:00:00.000000000",
          "2022-05-26T00:00:00.000000000",
          "2022-05-27T00:00:00.000000000",
          "2022-05-30T00:00:00.000000000",
          "2022-05-31T00:00:00.000000000",
          "2022-06-01T00:00:00.000000000",
          "2022-06-02T00:00:00.000000000",
          "2022-06-03T00:00:00.000000000",
          "2022-06-06T00:00:00.000000000",
          "2022-06-07T00:00:00.000000000",
          "2022-06-08T00:00:00.000000000",
          "2022-06-09T00:00:00.000000000",
          "2022-06-10T00:00:00.000000000",
          "2022-06-13T00:00:00.000000000",
          "2022-06-14T00:00:00.000000000",
          "2022-06-15T00:00:00.000000000",
          "2022-06-16T00:00:00.000000000",
          "2022-06-17T00:00:00.000000000",
          "2022-06-20T00:00:00.000000000",
          "2022-06-21T00:00:00.000000000",
          "2022-06-22T00:00:00.000000000",
          "2022-06-23T00:00:00.000000000",
          "2022-06-24T00:00:00.000000000",
          "2022-06-27T00:00:00.000000000",
          "2022-06-28T00:00:00.000000000",
          "2022-06-29T00:00:00.000000000",
          "2022-06-30T00:00:00.000000000",
          "2022-07-01T00:00:00.000000000",
          "2022-07-04T00:00:00.000000000",
          "2022-07-05T00:00:00.000000000",
          "2022-07-06T00:00:00.000000000",
          "2022-07-07T00:00:00.000000000",
          "2022-07-08T00:00:00.000000000",
          "2022-07-13T00:00:00.000000000",
          "2022-07-14T00:00:00.000000000",
          "2022-07-18T00:00:00.000000000",
          "2022-07-19T00:00:00.000000000",
          "2022-07-20T00:00:00.000000000",
          "2022-07-21T00:00:00.000000000",
          "2022-07-22T00:00:00.000000000",
          "2022-07-25T00:00:00.000000000",
          "2022-07-26T00:00:00.000000000",
          "2022-07-27T00:00:00.000000000",
          "2022-07-28T00:00:00.000000000",
          "2022-07-29T00:00:00.000000000",
          "2022-08-01T00:00:00.000000000",
          "2022-08-02T00:00:00.000000000",
          "2022-08-03T00:00:00.000000000",
          "2022-08-04T00:00:00.000000000",
          "2022-08-05T00:00:00.000000000",
          "2022-08-08T00:00:00.000000000",
          "2022-08-09T00:00:00.000000000",
          "2022-08-10T00:00:00.000000000",
          "2022-08-11T00:00:00.000000000",
          "2022-08-12T00:00:00.000000000",
          "2022-08-15T00:00:00.000000000",
          "2022-08-16T00:00:00.000000000",
          "2022-08-17T00:00:00.000000000",
          "2022-08-18T00:00:00.000000000",
          "2022-08-19T00:00:00.000000000",
          "2022-08-22T00:00:00.000000000",
          "2022-08-23T00:00:00.000000000",
          "2022-08-24T00:00:00.000000000",
          "2022-08-25T00:00:00.000000000",
          "2022-08-26T00:00:00.000000000",
          "2022-08-29T00:00:00.000000000",
          "2022-08-31T00:00:00.000000000",
          "2022-09-01T00:00:00.000000000",
          "2022-09-02T00:00:00.000000000",
          "2022-09-05T00:00:00.000000000",
          "2022-09-06T00:00:00.000000000",
          "2022-09-07T00:00:00.000000000",
          "2022-09-08T00:00:00.000000000",
          "2022-09-09T00:00:00.000000000",
          "2022-09-12T00:00:00.000000000",
          "2022-09-13T00:00:00.000000000",
          "2022-09-14T00:00:00.000000000",
          "2022-09-15T00:00:00.000000000"
         ],
         "xaxis": "x5",
         "y": {
          "bdata": "gwBxAEdkmQCkNOoAkuVRAN2WYwCBJ2gAPokMAZZRnwAGuBsB5t/hAI0AawIVS2wDj8VQATKzugG+M9AA4SFuASP6EAGOZQQBXLOmAB7ZvQBfuYcAamF/AES9lgAArYgAffCNAACoAAAxB6MA15XVAHVAnQDPVVgA7l25AMUUewCsuF0AAg9rAKUeUAA/rGEASA9gAJofxwCyRXUASqRvATnaCAFgtsgALwuRABH0nADbVV0Cdu85AYk5pgCKtJYAx9dtAQVK4ACLwM0AoFT5ADNAlAEndx4CXrLVAdrkOAFzz/8AGmAFAcvg4gRrUSUDpddhAvIKEwHsYOQA9Hk1Ai+0LAHL13MBYo8FA0k/MgPnY/QAhT4DARS33AALXSIBGLbGArKZBQUYD2EDaw7oAWm1KwJ4Qd8BdeRLAiOeQgM=",
          "dtype": "i4"
         },
         "yaxis": "y5"
        }
       ],
       "layout": {
        "annotations": [
         {
          "showarrow": false,
          "text": "ATH_max: 2.88",
          "x": 0,
          "xanchor": "left",
          "xref": "x domain",
          "y": 2.880000114440918,
          "yanchor": "bottom",
          "yref": "y"
         },
         {
          "showarrow": false,
          "text": "ATH_min: 1.83",
          "x": 0,
          "xanchor": "left",
          "xref": "x domain",
          "y": 1.830000042915344,
          "yanchor": "top",
          "yref": "y"
         },
         {
          "font": {
           "size": 20
          },
          "showarrow": false,
          "text": "MACD",
          "x": 0.5,
          "xref": "paper",
          "y": 0.57,
          "yref": "paper"
         },
         {
          "font": {
           "size": 20
          },
          "showarrow": false,
          "text": "RSI",
          "x": 0.5,
          "xref": "paper",
          "y": 0.36,
          "yref": "paper"
         },
         {
          "font": {
           "size": 20
          },
          "showarrow": false,
          "text": "Stochastic",
          "x": 0.5,
          "xref": "paper",
          "y": 0.21,
          "yref": "paper"
         },
         {
          "font": {
           "size": 20
          },
          "showarrow": false,
          "text": "Volume",
          "x": 0.5,
          "xref": "paper",
          "y": 0.078,
          "yref": "paper"
         }
        ],
        "height": 1000,
        "shapes": [
         {
          "line": {
           "color": "green",
           "dash": "dash",
           "width": 2
          },
          "type": "line",
          "x0": 0,
          "x1": 1,
          "xref": "x domain",
          "y0": 2.880000114440918,
          "y1": 2.880000114440918,
          "yref": "y"
         },
         {
          "line": {
           "color": "red",
           "dash": "dash",
           "width": 2
          },
          "type": "line",
          "x0": 0,
          "x1": 1,
          "xref": "x domain",
          "y0": 1.830000042915344,
          "y1": 1.830000042915344,
          "yref": "y"
         },
         {
          "line": {
           "color": "green",
           "dash": "dash",
           "width": 2
          },
          "type": "line",
          "x0": 0,
          "x1": 1,
          "xref": "x3 domain",
          "y0": 30,
          "y1": 30,
          "yref": "y3"
         },
         {
          "line": {
           "color": "red",
           "dash": "dash",
           "width": 2
          },
          "type": "line",
          "x0": 0,
          "x1": 1,
          "xref": "x3 domain",
          "y0": 70,
          "y1": 70,
          "yref": "y3"
         },
         {
          "line": {
           "color": "green",
           "dash": "dash",
           "width": 2
          },
          "type": "line",
          "x0": 0,
          "x1": 1,
          "xref": "x4 domain",
          "y0": 20,
          "y1": 20,
          "yref": "y4"
         },
         {
          "line": {
           "color": "red",
           "dash": "dash",
           "width": 2
          },
          "type": "line",
          "x0": 0,
          "x1": 1,
          "xref": "x4 domain",
          "y0": 80,
          "y1": 80,
          "yref": "y4"
         }
        ],
        "template": {
         "data": {
          "bar": [
           {
            "error_x": {
             "color": "#2a3f5f"
            },
            "error_y": {
             "color": "#2a3f5f"
            },
            "marker": {
             "line": {
              "color": "#E5ECF6",
              "width": 0.5
             },
             "pattern": {
              "fillmode": "overlay",
              "size": 10,
              "solidity": 0.2
             }
            },
            "type": "bar"
           }
          ],
          "barpolar": [
           {
            "marker": {
             "line": {
              "color": "#E5ECF6",
              "width": 0.5
             },
             "pattern": {
              "fillmode": "overlay",
              "size": 10,
              "solidity": 0.2
             }
            },
            "type": "barpolar"
           }
          ],
          "carpet": [
           {
            "aaxis": {
             "endlinecolor": "#2a3f5f",
             "gridcolor": "white",
             "linecolor": "white",
             "minorgridcolor": "white",
             "startlinecolor": "#2a3f5f"
            },
            "baxis": {
             "endlinecolor": "#2a3f5f",
             "gridcolor": "white",
             "linecolor": "white",
             "minorgridcolor": "white",
             "startlinecolor": "#2a3f5f"
            },
            "type": "carpet"
           }
          ],
          "choropleth": [
           {
            "colorbar": {
             "outlinewidth": 0,
             "ticks": ""
            },
            "type": "choropleth"
           }
          ],
          "contour": [
           {
            "colorbar": {
             "outlinewidth": 0,
             "ticks": ""
            },
            "colorscale": [
             [
              0,
              "#0d0887"
             ],
             [
              0.1111111111111111,
              "#46039f"
             ],
             [
              0.2222222222222222,
              "#7201a8"
             ],
             [
              0.3333333333333333,
              "#9c179e"
             ],
             [
              0.4444444444444444,
              "#bd3786"
             ],
             [
              0.5555555555555556,
              "#d8576b"
             ],
             [
              0.6666666666666666,
              "#ed7953"
             ],
             [
              0.7777777777777778,
              "#fb9f3a"
             ],
             [
              0.8888888888888888,
              "#fdca26"
             ],
             [
              1,
              "#f0f921"
             ]
            ],
            "type": "contour"
           }
          ],
          "contourcarpet": [
           {
            "colorbar": {
             "outlinewidth": 0,
             "ticks": ""
            },
            "type": "contourcarpet"
           }
          ],
          "heatmap": [
           {
            "colorbar": {
             "outlinewidth": 0,
             "ticks": ""
            },
            "colorscale": [
             [
              0,
              "#0d0887"
             ],
             [
              0.1111111111111111,
              "#46039f"
             ],
             [
              0.2222222222222222,
              "#7201a8"
             ],
             [
              0.3333333333333333,
              "#9c179e"
             ],
             [
              0.4444444444444444,
              "#bd3786"
             ],
             [
              0.5555555555555556,
              "#d8576b"
             ],
             [
              0.6666666666666666,
              "#ed7953"
             ],
             [
              0.7777777777777778,
              "#fb9f3a"
             ],
             [
              0.8888888888888888,
              "#fdca26"
             ],
             [
              1,
              "#f0f921"
             ]
            ],
            "type": "heatmap"
           }
          ],
          "histogram": [
           {
            "marker": {
             "pattern": {
              "fillmode": "overlay",
              "size": 10,
              "solidity": 0.2
             }
            },
            "type": "histogram"
           }
          ],
          "histogram2d": [
           {
            "colorbar": {
             "outlinewidth": 0,
             "ticks": ""
            },
            "colorscale": [
             [
              0,
              "#0d0887"
             ],
             [
              0.1111111111111111,
              "#46039f"
             ],
             [
              0.2222222222222222,
              "#7201a8"
             ],
             [
              0.3333333333333333,
              "#9c179e"
             ],
             [
              0.4444444444444444,
              "#bd3786"
             ],
             [
              0.5555555555555556,
              "#d8576b"
             ],
             [
              0.6666666666666666,
              "#ed7953"
             ],
             [
              0.7777777777777778,
              "#fb9f3a"
             ],
             [
              0.8888888888888888,
              "#fdca26"
             ],
             [
              1,
              "#f0f921"
             ]
            ],
            "type": "histogram2d"
           }
          ],
          "histogram2dcontour": [
           {
            "colorbar": {
             "outlinewidth": 0,
             "ticks": ""
            },
            "colorscale": [
             [
              0,
              "#0d0887"
             ],
             [
              0.1111111111111111,
              "#46039f"
             ],
             [
              0.2222222222222222,
              "#7201a8"
             ],
             [
              0.3333333333333333,
              "#9c179e"
             ],
             [
              0.4444444444444444,
              "#bd3786"
             ],
             [
              0.5555555555555556,
              "#d8576b"
             ],
             [
              0.6666666666666666,
              "#ed7953"
             ],
             [
              0.7777777777777778,
              "#fb9f3a"
             ],
             [
              0.8888888888888888,
              "#fdca26"
             ],
             [
              1,
              "#f0f921"
             ]
            ],
            "type": "histogram2dcontour"
           }
          ],
          "mesh3d": [
           {
            "colorbar": {
             "outlinewidth": 0,
             "ticks": ""
            },
            "type": "mesh3d"
           }
          ],
          "parcoords": [
           {
            "line": {
             "colorbar": {
              "outlinewidth": 0,
              "ticks": ""
             }
            },
            "type": "parcoords"
           }
          ],
          "pie": [
           {
            "automargin": true,
            "type": "pie"
           }
          ],
          "scatter": [
           {
            "fillpattern": {
             "fillmode": "overlay",
             "size": 10,
             "solidity": 0.2
            },
            "type": "scatter"
           }
          ],
          "scatter3d": [
           {
            "line": {
             "colorbar": {
              "outlinewidth": 0,
              "ticks": ""
             }
            },
            "marker": {
             "colorbar": {
              "outlinewidth": 0,
              "ticks": ""
             }
            },
            "type": "scatter3d"
           }
          ],
          "scattercarpet": [
           {
            "marker": {
             "colorbar": {
              "outlinewidth": 0,
              "ticks": ""
             }
            },
            "type": "scattercarpet"
           }
          ],
          "scattergeo": [
           {
            "marker": {
             "colorbar": {
              "outlinewidth": 0,
              "ticks": ""
             }
            },
            "type": "scattergeo"
           }
          ],
          "scattergl": [
           {
            "marker": {
             "colorbar": {
              "outlinewidth": 0,
              "ticks": ""
             }
            },
            "type": "scattergl"
           }
          ],
          "scattermap": [
           {
            "marker": {
             "colorbar": {
              "outlinewidth": 0,
              "ticks": ""
             }
            },
            "type": "scattermap"
           }
          ],
          "scattermapbox": [
           {
            "marker": {
             "colorbar": {
              "outlinewidth": 0,
              "ticks": ""
             }
            },
            "type": "scattermapbox"
           }
          ],
          "scatterpolar": [
           {
            "marker": {
             "colorbar": {
              "outlinewidth": 0,
              "ticks": ""
             }
            },
            "type": "scatterpolar"
           }
          ],
          "scatterpolargl": [
           {
            "marker": {
             "colorbar": {
              "outlinewidth": 0,
              "ticks": ""
             }
            },
            "type": "scatterpolargl"
           }
          ],
          "scatterternary": [
           {
            "marker": {
             "colorbar": {
              "outlinewidth": 0,
              "ticks": ""
             }
            },
            "type": "scatterternary"
           }
          ],
          "surface": [
           {
            "colorbar": {
             "outlinewidth": 0,
             "ticks": ""
            },
            "colorscale": [
             [
              0,
              "#0d0887"
             ],
             [
              0.1111111111111111,
              "#46039f"
             ],
             [
              0.2222222222222222,
              "#7201a8"
             ],
             [
              0.3333333333333333,
              "#9c179e"
             ],
             [
              0.4444444444444444,
              "#bd3786"
             ],
             [
              0.5555555555555556,
              "#d8576b"
             ],
             [
              0.6666666666666666,
              "#ed7953"
             ],
             [
              0.7777777777777778,
              "#fb9f3a"
             ],
             [
              0.8888888888888888,
              "#fdca26"
             ],
             [
              1,
              "#f0f921"
             ]
            ],
            "type": "surface"
           }
          ],
          "table": [
           {
            "cells": {
             "fill": {
              "color": "#EBF0F8"
             },
             "line": {
              "color": "white"
             }
            },
            "header": {
             "fill": {
              "color": "#C8D4E3"
             },
             "line": {
              "color": "white"
             }
            },
            "type": "table"
           }
          ]
         },
         "layout": {
          "annotationdefaults": {
           "arrowcolor": "#2a3f5f",
           "arrowhead": 0,
           "arrowwidth": 1
          },
          "autotypenumbers": "strict",
          "coloraxis": {
           "colorbar": {
            "outlinewidth": 0,
            "ticks": ""
           }
          },
          "colorscale": {
           "diverging": [
            [
             0,
             "#8e0152"
            ],
            [
             0.1,
             "#c51b7d"
            ],
            [
             0.2,
             "#de77ae"
            ],
            [
             0.3,
             "#f1b6da"
            ],
            [
             0.4,
             "#fde0ef"
            ],
            [
             0.5,
             "#f7f7f7"
            ],
            [
             0.6,
             "#e6f5d0"
            ],
            [
             0.7,
             "#b8e186"
            ],
            [
             0.8,
             "#7fbc41"
            ],
            [
             0.9,
             "#4d9221"
            ],
            [
             1,
             "#276419"
            ]
           ],
           "sequential": [
            [
             0,
             "#0d0887"
            ],
            [
             0.1111111111111111,
             "#46039f"
            ],
            [
             0.2222222222222222,
             "#7201a8"
            ],
            [
             0.3333333333333333,
             "#9c179e"
            ],
            [
             0.4444444444444444,
             "#bd3786"
            ],
            [
             0.5555555555555556,
             "#d8576b"
            ],
            [
             0.6666666666666666,
             "#ed7953"
            ],
            [
             0.7777777777777778,
             "#fb9f3a"
            ],
            [
             0.8888888888888888,
             "#fdca26"
            ],
            [
             1,
             "#f0f921"
            ]
           ],
           "sequentialminus": [
            [
             0,
             "#0d0887"
            ],
            [
             0.1111111111111111,
             "#46039f"
            ],
            [
             0.2222222222222222,
             "#7201a8"
            ],
            [
             0.3333333333333333,
             "#9c179e"
            ],
            [
             0.4444444444444444,
             "#bd3786"
            ],
            [
             0.5555555555555556,
             "#d8576b"
            ],
            [
             0.6666666666666666,
             "#ed7953"
            ],
            [
             0.7777777777777778,
             "#fb9f3a"
            ],
            [
             0.8888888888888888,
             "#fdca26"
            ],
            [
             1,
             "#f0f921"
            ]
           ]
          },
          "colorway": [
           "#636efa",
           "#EF553B",
           "#00cc96",
           "#ab63fa",
           "#FFA15A",
           "#19d3f3",
           "#FF6692",
           "#B6E880",
           "#FF97FF",
           "#FECB52"
          ],
          "font": {
           "color": "#2a3f5f"
          },
          "geo": {
           "bgcolor": "white",
           "lakecolor": "white",
           "landcolor": "#E5ECF6",
           "showlakes": true,
           "showland": true,
           "subunitcolor": "white"
          },
          "hoverlabel": {
           "align": "left"
          },
          "hovermode": "closest",
          "mapbox": {
           "style": "light"
          },
          "paper_bgcolor": "white",
          "plot_bgcolor": "#E5ECF6",
          "polar": {
           "angularaxis": {
            "gridcolor": "white",
            "linecolor": "white",
            "ticks": ""
           },
           "bgcolor": "#E5ECF6",
           "radialaxis": {
            "gridcolor": "white",
            "linecolor": "white",
            "ticks": ""
           }
          },
          "scene": {
           "xaxis": {
            "backgroundcolor": "#E5ECF6",
            "gridcolor": "white",
            "gridwidth": 2,
            "linecolor": "white",
            "showbackground": true,
            "ticks": "",
            "zerolinecolor": "white"
           },
           "yaxis": {
            "backgroundcolor": "#E5ECF6",
            "gridcolor": "white",
            "gridwidth": 2,
            "linecolor": "white",
            "showbackground": true,
            "ticks": "",
            "zerolinecolor": "white"
           },
           "zaxis": {
            "backgroundcolor": "#E5ECF6",
            "gridcolor": "white",
            "gridwidth": 2,
            "linecolor": "white",
            "showbackground": true,
            "ticks": "",
            "zerolinecolor": "white"
           }
          },
          "shapedefaults": {
           "line": {
            "color": "#2a3f5f"
           }
          },
          "ternary": {
           "aaxis": {
            "gridcolor": "white",
            "linecolor": "white",
            "ticks": ""
           },
           "baxis": {
            "gridcolor": "white",
            "linecolor": "white",
            "ticks": ""
           },
           "bgcolor": "#E5ECF6",
           "caxis": {
            "gridcolor": "white",
            "linecolor": "white",
            "ticks": ""
           }
          },
          "title": {
           "x": 0.05
          },
          "xaxis": {
           "automargin": true,
           "gridcolor": "white",
           "linecolor": "white",
           "ticks": "",
           "title": {
            "standoff": 15
           },
           "zerolinecolor": "white",
           "zerolinewidth": 2
          },
          "yaxis": {
           "automargin": true,
           "gridcolor": "white",
           "linecolor": "white",
           "ticks": "",
           "title": {
            "standoff": 15
           },
           "zerolinecolor": "white",
           "zerolinewidth": 2
          }
         }
        },
        "title": {
         "font": {
          "size": 20
         },
         "text": "AVOD.IS",
         "x": 0.5,
         "y": 0.93
        },
        "width": 1000,
        "xaxis": {
         "anchor": "y",
         "domain": [
          0,
          1
         ],
         "matches": "x5",
         "rangebreaks": [
          {
           "bounds": [
            "sat",
            "mon"
           ],
           "pattern": "day of week"
          },
          {
           "values": [
            "2022-07-11",
            "2022-07-12",
            "2022-07-15",
            "2022-08-30"
           ]
          }
         ],
         "rangeslider": {
          "visible": false
         },
         "showticklabels": false
        },
        "xaxis2": {
         "anchor": "y2",
         "domain": [
          0,
          1
         ],
         "matches": "x5",
         "rangebreaks": [
          {
           "bounds": [
            "sat",
            "mon"
           ],
           "pattern": "day of week"
          },
          {
           "values": [
            "2022-07-11",
            "2022-07-12",
            "2022-07-15",
            "2022-08-30"
           ]
          }
         ],
         "showticklabels": false
        },
        "xaxis3": {
         "anchor": "y3",
         "domain": [
          0,
          1
         ],
         "matches": "x5",
         "rangebreaks": [
          {
           "bounds": [
            "sat",
            "mon"
           ],
           "pattern": "day of week"
          },
          {
           "values": [
            "2022-07-11",
            "2022-07-12",
            "2022-07-15",
            "2022-08-30"
           ]
          }
         ],
         "showticklabels": false
        },
        "xaxis4": {
         "anchor": "y4",
         "domain": [
          0,
          1
         ],
         "matches": "x5",
         "rangebreaks": [
          {
           "bounds": [
            "sat",
            "mon"
           ],
           "pattern": "day of week"
          },
          {
           "values": [
            "2022-07-11",
            "2022-07-12",
            "2022-07-15",
            "2022-08-30"
           ]
          }
         ],
         "showticklabels": false
        },
        "xaxis5": {
         "anchor": "y5",
         "domain": [
          0,
          1
         ],
         "rangebreaks": [
          {
           "bounds": [
            "sat",
            "mon"
           ],
           "pattern": "day of week"
          },
          {
           "values": [
            "2022-07-11",
            "2022-07-12",
            "2022-07-15",
            "2022-08-30"
           ]
          }
         ]
        },
        "yaxis": {
         "anchor": "x",
         "domain": [
          0.6000000000000001,
          1
         ]
        },
        "yaxis2": {
         "anchor": "x2",
         "domain": [
          0.39000000000000007,
          0.55
         ]
        },
        "yaxis3": {
         "anchor": "x3",
         "domain": [
          0.26,
          0.34
         ]
        },
        "yaxis4": {
         "anchor": "x4",
         "domain": [
          0.13,
          0.21000000000000002
         ]
        },
        "yaxis5": {
         "anchor": "x5",
         "domain": [
          0,
          0.08000000000000002
         ]
        }
       }
      }
     },
     "metadata": {},
     "output_type": "display_data"
    },
    {
     "name": "stdout",
     "output_type": "stream",
     "text": [
      "3 Symbol processing:  A1CAP.IS\n",
      "4 Symbol processing:  ACSEL.IS\n",
      "5 Symbol processing:  ADEL.IS\n",
      "6 Symbol processing:  ADESE.IS\n",
      "7 Symbol processing:  ADGYO.IS\n",
      "8 Symbol processing:  AFYON.IS\n",
      "9 Symbol processing:  AGHOL.IS\n",
      "10 Symbol processing:  AGESA.IS\n",
      "11 Symbol processing:  AGROT.IS\n",
      "12 Symbol processing:  AHSGY.IS\n",
      "13 Symbol processing:  AHGAZ.IS\n",
      "14 Symbol processing:  AKBNK.IS\n",
      "15 Symbol processing:  AKCNS.IS\n",
      "16 Symbol processing:  AKENR.IS\n",
      "17 Symbol processing:  AKFGY.IS\n",
      "18 Symbol processing:  AKFIS.IS\n",
      "19 Symbol processing:  AKFYE.IS\n",
      "20 Symbol processing:  AKSGY.IS\n",
      "21 Symbol processing:  AKSA.IS\n",
      "22 Symbol processing:  AKSEN.IS\n",
      "23 Symbol processing:  AKGRT.IS\n",
      "24 Symbol processing:  ALCAR.IS\n",
      "25 Symbol processing:  ALGYO.IS\n",
      "26 Symbol processing:  ALARK.IS\n",
      "27 Symbol processing:  ALBRK.IS\n",
      "28 Symbol processing:  ALCTL.IS\n",
      "29 Symbol processing:  ALFAS.IS\n",
      "30 Symbol processing:  ALKIM.IS\n",
      "31 Symbol processing:  ALKA.IS\n",
      "32 Symbol processing:  ALTNY.IS\n",
      "33 Symbol processing:  ALKLC.IS\n",
      "34 Symbol processing:  AYCES.IS\n",
      "35 Symbol processing:  ALVES.IS\n",
      "36 Symbol processing:  ANSGR.IS\n",
      "37 Symbol processing:  AEFES.IS\n",
      "38 Symbol processing:  ANHYT.IS\n",
      "39 Symbol processing:  ASUZU.IS\n",
      "40 Symbol processing:  ANGEN.IS\n",
      "41 Symbol processing:  ANELE.IS\n",
      "42 Symbol processing:  ARCLK.IS\n",
      "43 Symbol processing:  ARDYZ.IS\n",
      "44 Symbol processing:  ARENA.IS\n",
      "45 Symbol processing:  ARMGD.IS\n",
      "46 Symbol processing:  ARSAN.IS\n",
      "47 Symbol processing:  ARTMS.IS\n",
      "48 Symbol processing:  ARZUM.IS\n",
      "49 Symbol processing:  ASGYO.IS\n",
      "50 Symbol processing:  ASELS.IS\n",
      "51 Symbol processing:  ASTOR.IS\n",
      "52 Symbol processing:  ATAKP.IS\n",
      "53 Symbol processing:  ATATP.IS\n",
      "54 Symbol processing:  AVPGY.IS\n",
      "55 Symbol processing:  AVHOL.IS\n",
      "56 Symbol processing:  AYDEM.IS\n",
      "57 Symbol processing:  AYEN.IS\n",
      "58 Symbol processing:  AYGAZ.IS\n",
      "59 Symbol processing:  AZTEK.IS\n",
      "60 Symbol processing:  BAGFS.IS\n",
      "61 Symbol processing:  BAHKM.IS\n",
      "62 Symbol processing:  BAKAB.IS\n",
      "63 Symbol processing:  BALSU.IS\n",
      "64 Symbol processing:  BNTAS.IS\n",
      "65 Symbol processing:  BANVT.IS\n",
      "66 Symbol processing:  BARMA.IS\n",
      "67 Symbol processing:  BASGZ.IS\n",
      "68 Symbol processing:  BTCIM.IS\n",
      "69 Symbol processing:  BEGYO.IS\n",
      "70 Symbol processing:  BSOKE.IS\n",
      "71 Symbol processing:  BYDNR.IS\n",
      "72 Symbol processing:  BAYRK.IS\n",
      "73 Symbol processing:  BERA.IS\n",
      "74 Symbol processing:  BJKAS.IS\n",
      "75 Symbol processing:  BEYAZ.IS\n",
      "76 Symbol processing:  BIENY.IS\n",
      "77 Symbol processing:  BLCYT.IS\n",
      "78 Symbol processing:  BIMAS.IS\n",
      "79 Symbol processing:  BINBN.IS\n",
      "80 Symbol processing:  BIOEN.IS\n",
      "81 Symbol processing:  BRKVY.IS\n",
      "82 Symbol processing:  BIGEN.IS\n",
      "83 Symbol processing:  BRLSM.IS\n",
      "84 Symbol processing:  BIZIM.IS\n",
      "85 Symbol processing:  BMSTL.IS\n",
      "86 Symbol processing:  BMSCH.IS\n",
      "87 Symbol processing:  BOBET.IS\n",
      "88 Symbol processing:  BORLS.IS\n",
      "89 Symbol processing:  BORSK.IS\n",
      "90 Symbol processing:  BRSAN.IS\n",
      "91 Symbol processing:  BRYAT.IS\n",
      "92 Symbol processing:  BFREN.IS\n",
      "93 Symbol processing:  BOSSA.IS\n",
      "94 Symbol processing:  BRISA.IS\n",
      "95 Symbol processing:  BULGS.IS\n",
      "96 Symbol processing:  BURCE.IS\n",
      "97 Symbol processing:  BUCIM.IS\n",
      "98 Symbol processing:  BVSAN.IS\n",
      "99 Symbol processing:  BIGCH.IS\n",
      "100 Symbol processing:  CRFSA.IS\n",
      "101 Symbol processing:  CEMZY.IS\n",
      "102 Symbol processing:  CEOEM.IS\n",
      "103 Symbol processing:  CCOLA.IS\n",
      "104 Symbol processing:  CONSE.IS\n",
      "105 Symbol processing:  CVKMD.IS\n",
      "106 Symbol processing:  CWENE.IS\n",
      "107 Symbol processing:  CGCAM.IS\n",
      "108 Symbol processing:  CANTE.IS\n",
      "109 Symbol processing:  CATES.IS\n",
      "110 Symbol processing:  CLEBI.IS\n",
      "111 Symbol processing:  CELHA.IS\n",
      "112 Symbol processing:  CEMAS.IS\n",
      "113 Symbol processing:  CEMTS.IS\n",
      "114 Symbol processing:  CUSAN.IS\n",
      "115 Symbol processing:  DAGI.IS\n",
      "116 Symbol processing:  DAPGM.IS\n",
      "117 Symbol processing:  DARDL.IS\n",
      "118 Symbol processing:  DGATE.IS\n",
      "119 Symbol processing:  DCTTR.IS\n",
      "120 Symbol processing:  DMSAS.IS\n",
      "121 Symbol processing:  DENGE.IS\n",
      "122 Symbol processing:  DZGYO.IS\n",
      "123 Symbol processing:  DERIM.IS\n",
      "124 Symbol processing:  DERHL.IS\n",
      "125 Symbol processing:  DESA.IS\n",
      "126 Symbol processing:  DESPC.IS\n",
      "127 Symbol processing:  DSTKF.IS\n",
      "128 Symbol processing:  DEVA.IS\n",
      "129 Symbol processing:  DNISI.IS\n",
      "130 Symbol processing:  DITAS.IS\n",
      "131 Symbol processing:  DMRGD.IS\n",
      "132 Symbol processing:  DOCO.IS\n",
      "133 Symbol processing:  DOFER.IS\n",
      "134 Symbol processing:  DOBUR.IS\n",
      "135 Symbol processing:  DGNMO.IS\n",
      "136 Symbol processing:  DOHOL.IS\n",
      "137 Symbol processing:  ARASE.IS\n",
      "138 Symbol processing:  DOAS.IS\n",
      "139 Symbol processing:  DOKTA.IS\n",
      "140 Symbol processing:  DURDO.IS\n",
      "141 Symbol processing:  DURKN.IS\n",
      "142 Symbol processing:  DYOBY.IS\n",
      "143 Symbol processing:  EBEBK.IS\n",
      "144 Symbol processing:  ECZYT.IS\n",
      "145 Symbol processing:  EDATA.IS\n",
      "146 Symbol processing:  EDIP.IS\n",
      "147 Symbol processing:  EFORC.IS\n",
      "148 Symbol processing:  EGEEN.IS\n",
      "149 Symbol processing:  EGGUB.IS\n",
      "150 Symbol processing:  EPLAS.IS\n",
      "151 Symbol processing:  EGPRO.IS\n",
      "152 Symbol processing:  EGSER.IS\n",
      "153 Symbol processing:  EGEGY.IS\n",
      "154 Symbol processing:  ECILC.IS\n",
      "155 Symbol processing:  EKOS.IS\n",
      "156 Symbol processing:  EKSUN.IS\n",
      "157 Symbol processing:  ELITE.IS\n",
      "158 Symbol processing:  EMKEL.IS\n",
      "159 Symbol processing:  EKGYO.IS\n",
      "160 Symbol processing:  ENDAE.IS\n",
      "161 Symbol processing:  ENJSA.IS\n",
      "162 Symbol processing:  ENERY.IS\n",
      "163 Symbol processing:  ENKAI.IS\n",
      "164 Symbol processing:  ENSRI.IS\n",
      "165 Symbol processing:  ERBOS.IS\n",
      "166 Symbol processing:  ERCB.IS\n",
      "167 Symbol processing:  EREGL.IS\n",
      "168 Symbol processing:  KIMMR.IS\n",
      "169 Symbol processing:  ESCAR.IS\n",
      "170 Symbol processing:  ESCOM.IS\n",
      "171 Symbol processing:  ESEN.IS\n",
      "172 Symbol processing:  ETILR.IS\n",
      "173 Symbol processing:  TEZOL.IS\n",
      "174 Symbol processing:  EUREN.IS\n",
      "175 Symbol processing:  EUPWR.IS\n",
      "176 Symbol processing:  EYGYO.IS\n",
      "177 Symbol processing:  FADE.IS\n",
      "178 Symbol processing:  FMIZP.IS\n",
      "179 Symbol processing:  FENER.IS\n",
      "180 Symbol processing:  FLAP.IS\n",
      "181 Symbol processing:  FONET.IS\n",
      "182 Symbol processing:  FROTO.IS\n",
      "183 Symbol processing:  FORMT.IS\n",
      "184 Symbol processing:  FORTE.IS\n",
      "185 Symbol processing:  FRIGO.IS\n",
      "186 Symbol processing:  FZLGY.IS\n",
      "187 Symbol processing:  GSRAY.IS\n",
      "188 Symbol processing:  GWIND.IS\n",
      "189 Symbol processing:  GARFA.IS\n",
      "190 Symbol processing:  GEDIK.IS\n",
      "191 Symbol processing:  GEDZA.IS\n",
      "192 Symbol processing:  GLCVY.IS\n",
      "193 Symbol processing:  GENIL.IS\n",
      "194 Symbol processing:  GENTS.IS\n",
      "195 Symbol processing:  GEREL.IS\n",
      "196 Symbol processing:  GZNMI.IS\n",
      "197 Symbol processing:  GIPTA.IS\n",
      "198 Symbol processing:  GMTAS.IS\n",
      "199 Symbol processing:  GESAN.IS\n",
      "200 Symbol processing:  GLYHO.IS\n",
      "201 Symbol processing:  GOODY.IS\n",
      "202 Symbol processing:  GOKNR.IS\n",
      "203 Symbol processing:  GOLTS.IS\n",
      "204 Symbol processing:  GOZDE.IS\n",
      "205 Symbol processing:  GRTHO.IS\n",
      "206 Symbol processing:  GSDDE.IS\n",
      "207 Symbol processing:  GSDHO.IS\n",
      "208 Symbol processing:  GUBRF.IS\n",
      "209 Symbol processing:  GLRMK.IS\n",
      "210 Symbol processing:  GLRYH.IS\n",
      "211 Symbol processing:  GUNDG.IS\n",
      "212 Symbol processing:  GRSEL.IS\n",
      "213 Symbol processing:  SAHOL.IS\n",
      "214 Symbol processing:  HLGYO.IS\n",
      "215 Symbol processing:  HRKET.IS\n",
      "216 Symbol processing:  HATSN.IS\n",
      "217 Symbol processing:  HDFGS.IS\n",
      "218 Symbol processing:  HEDEF.IS\n",
      "219 Symbol processing:  HEKTS.IS\n",
      "220 Symbol processing:  HKTM.IS\n",
      "221 Symbol processing:  HTTBT.IS\n",
      "222 Symbol processing:  HOROZ.IS\n",
      "223 Symbol processing:  HUNER.IS\n",
      "224 Symbol processing:  HURGZ.IS\n",
      "225 Symbol processing:  ICBCT.IS\n",
      "226 Symbol processing:  ENTRA.IS\n",
      "227 Symbol processing:  ICUGS.IS\n",
      "228 Symbol processing:  INGRM.IS\n",
      "229 Symbol processing:  INVEO.IS\n",
      "230 Symbol processing:  INVES.IS\n",
      "231 Symbol processing:  IEYHO.IS\n",
      "232 Symbol processing:  ISKPL.IS\n",
      "233 Symbol processing:  IHEVA.IS\n",
      "234 Symbol processing:  IHLGM.IS\n",
      "235 Symbol processing:  IHGZT.IS\n",
      "236 Symbol processing:  IHAAS.IS\n",
      "237 Symbol processing:  IHLAS.IS\n",
      "238 Symbol processing:  IHYAY.IS\n",
      "239 Symbol processing:  IMASM.IS\n",
      "240 Symbol processing:  INDES.IS\n",
      "241 Symbol processing:  INFO.IS\n",
      "242 Symbol processing:  INTEM.IS\n",
      "243 Symbol processing:  IPEKE.IS\n",
      "244 Symbol processing:  ISDMR.IS\n",
      "245 Symbol processing:  ISSEN.IS\n",
      "246 Symbol processing:  ISFIN.IS\n",
      "247 Symbol processing:  ISGYO.IS\n",
      "248 Symbol processing:  ISGSY.IS\n",
      "249 Symbol processing:  ISMEN.IS\n",
      "250 Symbol processing:  IZENR.IS\n",
      "251 Symbol processing:  IZMDC.IS\n",
      "252 Symbol processing:  IZFAS.IS\n",
      "253 Symbol processing:  JANTS.IS\n",
      "254 Symbol processing:  KFEIN.IS\n",
      "255 Symbol processing:  KLKIM.IS\n",
      "256 Symbol processing:  KLSER.IS\n",
      "257 Symbol processing:  KLYPV.IS\n",
      "258 Symbol processing:  KAPLM.IS\n",
      "259 Symbol processing:  KRDMD.IS\n",
      "260 Symbol processing:  KAREL.IS\n",
      "261 Symbol processing:  KARSN.IS\n",
      "262 Symbol processing:  KRTEK.IS\n",
      "263 Symbol processing:  KARYE.IS\n",
      "264 Symbol processing:  KARTN.IS\n",
      "265 Symbol processing:  KTLEV.IS\n",
      "266 Symbol processing:  KATMR.IS\n",
      "267 Symbol processing:  KAYSE.IS\n",
      "268 Symbol processing:  KERVT.IS\n",
      "269 Symbol processing:  KRVGD.IS\n",
      "270 Symbol processing:  TCKRC.IS\n",
      "271 Symbol processing:  KZBGY.IS\n",
      "272 Symbol processing:  KLGYO.IS\n",
      "273 Symbol processing:  KLRHO.IS\n",
      "274 Symbol processing:  KMPUR.IS\n",
      "275 Symbol processing:  KLMSN.IS\n",
      "276 Symbol processing:  KCAER.IS\n",
      "277 Symbol processing:  KCHOL.IS\n",
      "278 Symbol processing:  KOCMT.IS\n",
      "279 Symbol processing:  KLSYN.IS\n",
      "280 Symbol processing:  KNFRT.IS\n",
      "281 Symbol processing:  KONTR.IS\n",
      "282 Symbol processing:  KONYA.IS\n",
      "283 Symbol processing:  KONKA.IS\n",
      "284 Symbol processing:  KGYO.IS\n",
      "285 Symbol processing:  KORDS.IS\n",
      "286 Symbol processing:  KRPLS.IS\n",
      "287 Symbol processing:  KOTON.IS\n",
      "288 Symbol processing:  KOZAL.IS\n",
      "289 Symbol processing:  KOZAA.IS\n",
      "290 Symbol processing:  KOPOL.IS\n",
      "291 Symbol processing:  KRGYO.IS\n",
      "292 Symbol processing:  KRSTL.IS\n",
      "293 Symbol processing:  KRONT.IS\n",
      "294 Symbol processing:  KUYAS.IS\n",
      "295 Symbol processing:  KBORU.IS\n",
      "296 Symbol processing:  KZGYO.IS\n",
      "297 Symbol processing:  KUTPO.IS\n",
      "298 Symbol processing:  KTSKR.IS\n",
      "299 Symbol processing:  LIDER.IS\n",
      "300 Symbol processing:  LIDFA.IS\n",
      "301 Symbol processing:  LILAK.IS\n",
      "302 Symbol processing:  LMKDC.IS\n",
      "303 Symbol processing:  LINK.IS\n",
      "304 Symbol processing:  LOGO.IS\n",
      "305 Symbol processing:  LKMNH.IS\n",
      "306 Symbol processing:  LRSHO.IS\n",
      "307 Symbol processing:  LUKSK.IS\n",
      "308 Symbol processing:  LYDHO.IS\n",
      "309 Symbol processing:  LYDYE.IS\n",
      "310 Symbol processing:  MACKO.IS\n",
      "311 Symbol processing:  MAKIM.IS\n",
      "312 Symbol processing:  MAKTK.IS\n",
      "313 Symbol processing:  MANAS.IS\n",
      "314 Symbol processing:  MAGEN.IS\n",
      "315 Symbol processing:  MARKA.IS\n",
      "316 Symbol processing:  MAALT.IS\n",
      "317 Symbol processing:  MRSHL.IS\n",
      "318 Symbol processing:  MRGYO.IS\n",
      "319 Symbol processing:  MARTI.IS\n",
      "320 Symbol processing:  MTRKS.IS\n",
      "321 Symbol processing:  MAVI.IS\n",
      "322 Symbol processing:  MEDTR.IS\n",
      "323 Symbol processing:  MEGMT.IS\n",
      "324 Symbol processing:  MEKAG.IS\n",
      "325 Symbol processing:  MNDRS.IS\n",
      "326 Symbol processing:  MERCN.IS\n",
      "327 Symbol processing:  MERIT.IS\n",
      "328 Symbol processing:  MERKO.IS\n",
      "329 Symbol processing:  METUR.IS\n",
      "330 Symbol processing:  METRO.IS\n",
      "331 Symbol processing:  MHRGY.IS\n",
      "332 Symbol processing:  MIATK.IS\n",
      "333 Symbol processing:  MGROS.IS\n",
      "334 Symbol processing:  MSGYO.IS\n",
      "335 Symbol processing:  MPARK.IS\n",
      "336 Symbol processing:  MOBTL.IS\n",
      "337 Symbol processing:  MOGAN.IS\n",
      "338 Symbol processing:  MNDTR.IS\n",
      "339 Symbol processing:  MOPAS.IS\n",
      "340 Symbol processing:  EGEPO.IS\n",
      "341 Symbol processing:  NTGAZ.IS\n",
      "342 Symbol processing:  NATEN.IS\n",
      "343 Symbol processing:  NETAS.IS\n",
      "344 Symbol processing:  NTHOL.IS\n",
      "345 Symbol processing:  NIBAS.IS\n",
      "346 Symbol processing:  NUHCM.IS\n",
      "347 Symbol processing:  NUGYO.IS\n",
      "348 Symbol processing:  OBAMS.IS\n",
      "349 Symbol processing:  OBASE.IS\n",
      "350 Symbol processing:  ODAS.IS\n",
      "351 Symbol processing:  ODINE.IS\n",
      "352 Symbol processing:  OFSYM.IS\n",
      "353 Symbol processing:  ONCSM.IS\n",
      "354 Symbol processing:  ONRYT.IS\n",
      "355 Symbol processing:  ORGE.IS\n",
      "356 Symbol processing:  OSMEN.IS\n",
      "357 Symbol processing:  OSTIM.IS\n",
      "358 Symbol processing:  OTKAR.IS\n",
      "359 Symbol processing:  OYAKC.IS\n",
      "360 Symbol processing:  OYYAT.IS\n",
      "361 Symbol processing:  OZKGY.IS\n",
      "362 Symbol processing:  OZATD.IS\n",
      "363 Symbol processing:  OZGYO.IS\n",
      "364 Symbol processing:  OZSUB.IS\n",
      "365 Symbol processing:  OZYSR.IS\n",
      "366 Symbol processing:  PAMEL.IS\n",
      "367 Symbol processing:  PNLSN.IS\n",
      "368 Symbol processing:  PAGYO.IS\n",
      "369 Symbol processing:  PAPIL.IS\n",
      "370 Symbol processing:  PRDGS.IS\n",
      "371 Symbol processing:  PRKME.IS\n",
      "372 Symbol processing:  PARSN.IS\n",
      "373 Symbol processing:  PASEU.IS\n",
      "374 Symbol processing:  PSGYO.IS\n",
      "375 Symbol processing:  PATEK.IS\n",
      "376 Symbol processing:  PCILT.IS\n",
      "377 Symbol processing:  PGSUS.IS\n",
      "378 Symbol processing:  PEKGY.IS\n",
      "379 Symbol processing:  PENGD.IS\n",
      "380 Symbol processing:  PENTA.IS\n",
      "381 Symbol processing:  PEHOL.IS\n",
      "382 Symbol processing:  PETKM.IS\n",
      "383 Symbol processing:  PKENT.IS\n",
      "384 Symbol processing:  PETUN.IS\n",
      "385 Symbol processing:  PINSU.IS\n",
      "386 Symbol processing:  PNSUT.IS\n",
      "387 Symbol processing:  PKART.IS\n",
      "388 Symbol processing:  PLTUR.IS\n",
      "389 Symbol processing:  POLHO.IS\n",
      "390 Symbol processing:  POLTK.IS\n",
      "391 Symbol processing:  QUAGR.IS\n",
      "392 Symbol processing:  RALYH.IS\n",
      "393 Symbol processing:  RAYSG.IS\n",
      "394 Symbol processing:  REEDR.IS\n",
      "395 Symbol processing:  RYGYO.IS\n",
      "396 Symbol processing:  RYSAS.IS\n",
      "397 Symbol processing:  RGYAS.IS\n",
      "398 Symbol processing:  RTALB.IS\n",
      "399 Symbol processing:  RUBNS.IS\n",
      "400 Symbol processing:  RUZYE.IS\n",
      "401 Symbol processing:  SAFKR.IS\n",
      "402 Symbol processing:  SNICA.IS\n",
      "403 Symbol processing:  SANFM.IS\n",
      "404 Symbol processing:  SANKO.IS\n",
      "405 Symbol processing:  SAMAT.IS\n",
      "406 Symbol processing:  SARKY.IS\n",
      "407 Symbol processing:  SASA.IS\n",
      "408 Symbol processing:  SAYAS.IS\n",
      "409 Symbol processing:  SDTTR.IS\n",
      "410 Symbol processing:  SEGMN.IS\n",
      "411 Symbol processing:  SELEC.IS\n",
      "412 Symbol processing:  SERNT.IS\n",
      "413 Symbol processing:  SRVGY.IS\n",
      "414 Symbol processing:  SEYKM.IS\n",
      "415 Symbol processing:  SNGYO.IS\n",
      "416 Symbol processing:  SKYLP.IS\n",
      "417 Symbol processing:  SMRTG.IS\n",
      "418 Symbol processing:  SMART.IS\n",
      "419 Symbol processing:  SOKE.IS\n",
      "420 Symbol processing:  SKTAS.IS\n",
      "421 Symbol processing:  SUNTK.IS\n",
      "422 Symbol processing:  SURGY.IS\n",
      "423 Symbol processing:  SUWEN.IS\n",
      "424 Symbol processing:  SMRVA.IS\n",
      "425 Symbol processing:  SKBNK.IS\n",
      "426 Symbol processing:  SEGYO.IS\n",
      "427 Symbol processing:  SKYMD.IS\n",
      "428 Symbol processing:  SOKM.IS\n",
      "429 Symbol processing:  TABGD.IS\n",
      "430 Symbol processing:  TNZTP.IS\n",
      "431 Symbol processing:  TATGD.IS\n",
      "432 Symbol processing:  TATEN.IS\n",
      "433 Symbol processing:  TAVHL.IS\n",
      "434 Symbol processing:  TEKTU.IS\n",
      "435 Symbol processing:  TKFEN.IS\n",
      "436 Symbol processing:  TKNSA.IS\n",
      "437 Symbol processing:  TMPOL.IS\n",
      "438 Symbol processing:  TERA.IS\n",
      "439 Symbol processing:  TOASO.IS\n",
      "440 Symbol processing:  TRGYO.IS\n",
      "441 Symbol processing:  TLMAN.IS\n",
      "442 Symbol processing:  TSPOR.IS\n",
      "443 Symbol processing:  TSGYO.IS\n",
      "444 Symbol processing:  TUCLK.IS\n",
      "445 Symbol processing:  TUKAS.IS\n",
      "446 Symbol processing:  TRCAS.IS\n",
      "447 Symbol processing:  TUREX.IS\n",
      "448 Symbol processing:  MARBL.IS\n",
      "449 Symbol processing:  TCELL.IS\n",
      "450 Symbol processing:  TRILC.IS\n",
      "451 Symbol processing:  TMSN.IS\n",
      "452 Symbol processing:  TUPRS.IS\n",
      "453 Symbol processing:  TURGG.IS\n",
      "454 Symbol processing:  THYAO.IS\n",
      "455 Symbol processing:  GARAN.IS\n",
      "456 Symbol processing:  HALKB.IS\n",
      "457 Symbol processing:  ISCTR.IS\n",
      "458 Symbol processing:  TSKB.IS\n",
      "459 Symbol processing:  TURSG.IS\n",
      "460 Symbol processing:  SISE.IS\n",
      "461 Symbol processing:  VAKBN.IS\n",
      "462 Symbol processing:  PRKAB.IS\n",
      "463 Symbol processing:  TTKOM.IS\n",
      "464 Symbol processing:  TTRAK.IS\n",
      "465 Symbol processing:  TBORG.IS\n",
      "466 Symbol processing:  UFUK.IS\n",
      "467 Symbol processing:  ULUFA.IS\n",
      "468 Symbol processing:  ULUSE.IS\n",
      "469 Symbol processing:  ULUUN.IS\n",
      "470 Symbol processing:  USAK.IS\n",
      "471 Symbol processing:  ULKER.IS\n",
      "472 Symbol processing:  UNLU.IS\n",
      "473 Symbol processing:  VAKFN.IS\n",
      "474 Symbol processing:  VKGYO.IS\n",
      "475 Symbol processing:  VAKKO.IS\n",
      "476 Symbol processing:  VBTYZ.IS\n",
      "477 Symbol processing:  VRGYO.IS\n",
      "478 Symbol processing:  VERUS.IS\n",
      "479 Symbol processing:  VERTU.IS\n",
      "480 Symbol processing:  VESBE.IS\n",
      "481 Symbol processing:  VESTL.IS\n",
      "482 Symbol processing:  VSNMD.IS\n",
      "483 Symbol processing:  YKBNK.IS\n",
      "484 Symbol processing:  YAPRK.IS\n",
      "485 Symbol processing:  YATAS.IS\n",
      "486 Symbol processing:  YYLGD.IS\n",
      "487 Symbol processing:  YAYLA.IS\n",
      "488 Symbol processing:  YGGYO.IS\n",
      "489 Symbol processing:  YEOTK.IS\n",
      "490 Symbol processing:  YYAPI.IS\n",
      "491 Symbol processing:  YESIL.IS\n",
      "492 Symbol processing:  YIGIT.IS\n",
      "493 Symbol processing:  YKSLN.IS\n",
      "494 Symbol processing:  ZEDUR.IS\n",
      "495 Symbol processing:  ZRGYO.IS\n",
      "496 Symbol processing:  ZOREN.IS\n"
     ]
    }
   ],
   "source": [
    "z = 0\n",
    "num =1\n",
    "for sym , df in data.items():   \n",
    "\n",
    "    prev_ath_break = False\n",
    "    print(f'{num} Symbol processing: ', sym)\n",
    "    num+=1\n",
    "    for i in range(len(df)):\n",
    "        df_future = df.iloc[:i+1].dropna()\n",
    "        df_slice = df.iloc[:i].dropna()\n",
    "        if len(df_slice) > 80:\n",
    "            df_slice = df_slice.iloc[-80:]\n",
    "            df_future = df_future.iloc[-80:]\n",
    "        \n",
    "        if len(df_slice)<30:\n",
    "            continue  \n",
    "\n",
    "        maximum = ath_max(df_slice)\n",
    "        cond_1 = df_slice['High'].iloc[-1]*0.99 < df_slice['Close'].iloc[-1] \n",
    "        cond_2 = ((df_slice['Ema_5']  > df_slice['Ema_8']) & (df_slice['Ema_8']  > df_slice['Ema_13']) & (df_slice['Ema_13'] > df_slice['Ema_34']));cond_2 = cond_2.iloc[-1] \n",
    "        cond_3 = ((df_slice['Hist'] > 0) & (df_slice['Signal']< df_slice['MACD'])); cond_3 = cond_3.iloc[-1]  \n",
    "        cond_4 = df_slice['Rsi'].iloc[-1]>65\n",
    "        cond_5 = ((maximum<df_slice['Close'].iloc[-1]) & (maximum>df_slice['Close'].iloc[-2]))\n",
    "        cond_6 = upperlimit(df_future)\n",
    "        if cond_1 and cond_2 and cond_3 and cond_4 and cond_5 and not cond_6:\n",
    "            cond_6 = True\n",
    "            high = (((df_future['High'].iloc[-1] - df_future['Close'].iloc[-2])*100)/ df_future['Close'].iloc[-2])\n",
    "            low = (((df_future['Low'].iloc[-1] - df_future['Close'].iloc[-2])*100)/ df_future['Close'].iloc[-2])\n",
    "            close = (((df_future['Close'].iloc[-1] - df_future['Close'].iloc[-2])*100)/ df_future['Close'].iloc[-2])\n",
    "            open = (((df_future['Open'].iloc[-1] - df_future['Close'].iloc[-2])*100)/ df_future['Close'].iloc[-2])\n",
    "            ret = df_future['Pct_Change'].iloc[-1]\n",
    "            row = pd.DataFrame([{'Ticker':sym,'Date':df_future.index[-1],'Open': open,'High':high, 'Low': low, 'Close': close, 'Return':ret}])\n",
    "            trades = pd.concat([trades,row],ignore_index=True)\n",
    "            #print(sym,df_slice.index[-1])\n",
    "            if z<5:  \n",
    "                draw(df_future,sym) \n",
    "            z+=1\n",
    "        prev_ath_break = cond_5"
   ]
  },
  {
   "cell_type": "code",
   "execution_count": 14,
   "id": "7c16a6ae",
   "metadata": {},
   "outputs": [
    {
     "data": {
      "text/html": [
       "<div>\n",
       "<style scoped>\n",
       "    .dataframe tbody tr th:only-of-type {\n",
       "        vertical-align: middle;\n",
       "    }\n",
       "\n",
       "    .dataframe tbody tr th {\n",
       "        vertical-align: top;\n",
       "    }\n",
       "\n",
       "    .dataframe thead th {\n",
       "        text-align: right;\n",
       "    }\n",
       "</style>\n",
       "<table border=\"1\" class=\"dataframe\">\n",
       "  <thead>\n",
       "    <tr style=\"text-align: right;\">\n",
       "      <th></th>\n",
       "      <th>Ticker</th>\n",
       "      <th>Date</th>\n",
       "      <th>Open</th>\n",
       "      <th>High</th>\n",
       "      <th>Low</th>\n",
       "      <th>Close</th>\n",
       "      <th>Return</th>\n",
       "    </tr>\n",
       "  </thead>\n",
       "  <tbody>\n",
       "    <tr>\n",
       "      <th>0</th>\n",
       "      <td>SEYKM.IS</td>\n",
       "      <td>2020-04-01</td>\n",
       "      <td>0.102551</td>\n",
       "      <td>1.025678</td>\n",
       "      <td>0.102551</td>\n",
       "      <td>1.025678</td>\n",
       "      <td>1.03</td>\n",
       "    </tr>\n",
       "    <tr>\n",
       "      <th>1</th>\n",
       "      <td>DARDL.IS</td>\n",
       "      <td>2020-04-10</td>\n",
       "      <td>-0.602395</td>\n",
       "      <td>-0.602395</td>\n",
       "      <td>-0.752940</td>\n",
       "      <td>-0.752940</td>\n",
       "      <td>-0.75</td>\n",
       "    </tr>\n",
       "    <tr>\n",
       "      <th>2</th>\n",
       "      <td>ANELE.IS</td>\n",
       "      <td>2020-04-13</td>\n",
       "      <td>-1.587366</td>\n",
       "      <td>0.634892</td>\n",
       "      <td>-1.587366</td>\n",
       "      <td>0.634892</td>\n",
       "      <td>0.63</td>\n",
       "    </tr>\n",
       "    <tr>\n",
       "      <th>3</th>\n",
       "      <td>ULUUN.IS</td>\n",
       "      <td>2020-04-14</td>\n",
       "      <td>4.779531</td>\n",
       "      <td>9.926486</td>\n",
       "      <td>2.941238</td>\n",
       "      <td>9.926486</td>\n",
       "      <td>9.93</td>\n",
       "    </tr>\n",
       "    <tr>\n",
       "      <th>4</th>\n",
       "      <td>FRIGO.IS</td>\n",
       "      <td>2020-04-15</td>\n",
       "      <td>3.190749</td>\n",
       "      <td>3.190749</td>\n",
       "      <td>0.389178</td>\n",
       "      <td>0.389178</td>\n",
       "      <td>0.39</td>\n",
       "    </tr>\n",
       "    <tr>\n",
       "      <th>...</th>\n",
       "      <td>...</td>\n",
       "      <td>...</td>\n",
       "      <td>...</td>\n",
       "      <td>...</td>\n",
       "      <td>...</td>\n",
       "      <td>...</td>\n",
       "      <td>...</td>\n",
       "    </tr>\n",
       "    <tr>\n",
       "      <th>5610</th>\n",
       "      <td>SNGYO.IS</td>\n",
       "      <td>2025-07-07</td>\n",
       "      <td>-1.805867</td>\n",
       "      <td>-0.451467</td>\n",
       "      <td>-2.708801</td>\n",
       "      <td>-1.805867</td>\n",
       "      <td>-1.81</td>\n",
       "    </tr>\n",
       "    <tr>\n",
       "      <th>5611</th>\n",
       "      <td>DEVA.IS</td>\n",
       "      <td>2025-07-07</td>\n",
       "      <td>-0.806452</td>\n",
       "      <td>-0.806452</td>\n",
       "      <td>-4.193546</td>\n",
       "      <td>-3.548388</td>\n",
       "      <td>-3.55</td>\n",
       "    </tr>\n",
       "    <tr>\n",
       "      <th>5612</th>\n",
       "      <td>EREGL.IS</td>\n",
       "      <td>2025-07-07</td>\n",
       "      <td>-1.601160</td>\n",
       "      <td>-0.727798</td>\n",
       "      <td>-2.620085</td>\n",
       "      <td>-1.673941</td>\n",
       "      <td>-1.67</td>\n",
       "    </tr>\n",
       "    <tr>\n",
       "      <th>5613</th>\n",
       "      <td>GIPTA.IS</td>\n",
       "      <td>2025-07-07</td>\n",
       "      <td>0.000000</td>\n",
       "      <td>0.000000</td>\n",
       "      <td>-4.890384</td>\n",
       "      <td>-1.686341</td>\n",
       "      <td>-1.69</td>\n",
       "    </tr>\n",
       "    <tr>\n",
       "      <th>5614</th>\n",
       "      <td>AKBNK.IS</td>\n",
       "      <td>2025-07-07</td>\n",
       "      <td>-2.080340</td>\n",
       "      <td>-0.430410</td>\n",
       "      <td>-2.654230</td>\n",
       "      <td>-2.510761</td>\n",
       "      <td>-2.51</td>\n",
       "    </tr>\n",
       "  </tbody>\n",
       "</table>\n",
       "<p>5615 rows × 7 columns</p>\n",
       "</div>"
      ],
      "text/plain": [
       "        Ticker       Date      Open      High       Low     Close  Return\n",
       "0     SEYKM.IS 2020-04-01  0.102551  1.025678  0.102551  1.025678    1.03\n",
       "1     DARDL.IS 2020-04-10 -0.602395 -0.602395 -0.752940 -0.752940   -0.75\n",
       "2     ANELE.IS 2020-04-13 -1.587366  0.634892 -1.587366  0.634892    0.63\n",
       "3     ULUUN.IS 2020-04-14  4.779531  9.926486  2.941238  9.926486    9.93\n",
       "4     FRIGO.IS 2020-04-15  3.190749  3.190749  0.389178  0.389178    0.39\n",
       "...        ...        ...       ...       ...       ...       ...     ...\n",
       "5610  SNGYO.IS 2025-07-07 -1.805867 -0.451467 -2.708801 -1.805867   -1.81\n",
       "5611   DEVA.IS 2025-07-07 -0.806452 -0.806452 -4.193546 -3.548388   -3.55\n",
       "5612  EREGL.IS 2025-07-07 -1.601160 -0.727798 -2.620085 -1.673941   -1.67\n",
       "5613  GIPTA.IS 2025-07-07  0.000000  0.000000 -4.890384 -1.686341   -1.69\n",
       "5614  AKBNK.IS 2025-07-07 -2.080340 -0.430410 -2.654230 -2.510761   -2.51\n",
       "\n",
       "[5615 rows x 7 columns]"
      ]
     },
     "execution_count": 14,
     "metadata": {},
     "output_type": "execute_result"
    }
   ],
   "source": [
    "trades.sort_values(by='Date').reset_index(drop=True)"
   ]
  },
  {
   "cell_type": "code",
   "execution_count": 15,
   "id": "639a0ceb",
   "metadata": {},
   "outputs": [],
   "source": [
    "trades.to_csv('res.csv',index=False)"
   ]
  }
 ],
 "metadata": {
  "kernelspec": {
   "display_name": "finance",
   "language": "python",
   "name": "python3"
  },
  "language_info": {
   "codemirror_mode": {
    "name": "ipython",
    "version": 3
   },
   "file_extension": ".py",
   "mimetype": "text/x-python",
   "name": "python",
   "nbconvert_exporter": "python",
   "pygments_lexer": "ipython3",
   "version": "3.10.6"
  }
 },
 "nbformat": 4,
 "nbformat_minor": 5
}
