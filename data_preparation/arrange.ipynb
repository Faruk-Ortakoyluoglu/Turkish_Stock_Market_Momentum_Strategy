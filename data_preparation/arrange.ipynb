{
 "cells": [
  {
   "cell_type": "code",
   "execution_count": 1,
   "id": "b9cb62b3",
   "metadata": {},
   "outputs": [
    {
     "name": "stdout",
     "output_type": "stream",
     "text": [
      "Skipped KARYE.IS\n"
     ]
    }
   ],
   "source": [
    "import pandas as pd\n",
    "\n",
    "bist500 = [\n",
    "\"BINHO.IS\",\n",
    "\"AVOD.IS\",\"A1CAP.IS\",\"ACSEL.IS\",\"ADEL.IS\",\"ADESE.IS\",\"ADGYO.IS\",\"AFYON.IS\",\"AGHOL.IS\",\"AGESA.IS\",\"AGROT.IS\",\"AHSGY.IS\",\"AHGAZ.IS\",\"AKBNK.IS\",\n",
    "\"AKCNS.IS\",\"AKENR.IS\",\"AKFGY.IS\",\"AKFIS.IS\",\"AKFYE.IS\",\"AKSGY.IS\",\"AKSA.IS\",\"AKSEN.IS\",\"AKGRT.IS\",\"ALCAR.IS\",\"ALGYO.IS\",\"ALARK.IS\",\"ALBRK.IS\",\n",
    "\"ALCTL.IS\",\"ALFAS.IS\",\"ALKIM.IS\",\"ALKA.IS\",\"ALTNY.IS\",\"ALKLC.IS\",\"AYCES.IS\",\"ALVES.IS\",\"ANSGR.IS\",\"AEFES.IS\",\"ANHYT.IS\",\"ASUZU.IS\",\"ANGEN.IS\",\n",
    "\"ANELE.IS\",\"ARCLK.IS\",\"ARDYZ.IS\",\"ARENA.IS\",\"ARMGD.IS\",\"ARSAN.IS\",\"ARTMS.IS\",\"ARZUM.IS\",\"ASGYO.IS\",\"ASELS.IS\",\"ASTOR.IS\",\"ATAKP.IS\",\"ATATP.IS\",\n",
    "\"AVPGY.IS\",\"AVHOL.IS\",\"AYDEM.IS\",\"AYEN.IS\",\"AYGAZ.IS\",\"AZTEK.IS\",\"BAGFS.IS\",\"BAHKM.IS\",\"BAKAB.IS\",\"BALSU.IS\",\"BNTAS.IS\",\"BANVT.IS\",\"BARMA.IS\",\n",
    "\"BASGZ.IS\",\"BTCIM.IS\",\"BEGYO.IS\",\"BSOKE.IS\",\"BYDNR.IS\",\"BAYRK.IS\",\"BERA.IS\",\"BJKAS.IS\",\"BEYAZ.IS\",\"BIENY.IS\",\"BLCYT.IS\",\"BIMAS.IS\",\"BINBN.IS\",\n",
    "\"BIOEN.IS\",\"BRKVY.IS\",\"BIGEN.IS\",\"BRLSM.IS\",\"BIZIM.IS\",\"BMSTL.IS\",\"BMSCH.IS\",\"BOBET.IS\",\"BORLS.IS\",\"BORSK.IS\",\"BRSAN.IS\",\"BRYAT.IS\",\"BFREN.IS\",\n",
    "\"BOSSA.IS\",\"BRISA.IS\",\"BULGS.IS\",\"BURCE.IS\",\"BUCIM.IS\",\"BVSAN.IS\",\"BIGCH.IS\",\"CRFSA.IS\",\"CEMZY.IS\",\"CEOEM.IS\",\"CCOLA.IS\",\"CONSE.IS\",\"CVKMD.IS\",\n",
    "\"CWENE.IS\",\"CGCAM.IS\",\"CANTE.IS\",\"CATES.IS\",\"CLEBI.IS\",\"CELHA.IS\",\"CEMAS.IS\",\"CEMTS.IS\",\"CMBTN.IS\",\"CIMSA.IS\",\"CUSAN.IS\",\"DAGI.IS\",\"DAPGM.IS\",\n",
    "\"DARDL.IS\",\"DGATE.IS\",\"DCTTR.IS\",\"DMSAS.IS\",\"DENGE.IS\",\"DZGYO.IS\",\"DERIM.IS\",\"DERHL.IS\",\"DESA.IS\",\"DESPC.IS\",\"DSTKF.IS\",\"DEVA.IS\",\"DNISI.IS\",\n",
    "\"DITAS.IS\",\"DMRGD.IS\",\"DOCO.IS\",\"DOFER.IS\",\"DOBUR.IS\",\"DGNMO.IS\",\"DOHOL.IS\",\"ARASE.IS\",\"DOAS.IS\",\"DOKTA.IS\",\"DURDO.IS\",\"DURKN.IS\",\"DYOBY.IS\",\n",
    "\"EBEBK.IS\",\"ECZYT.IS\",\"EDATA.IS\",\"EDIP.IS\",\"EFORC.IS\",\"EGEEN.IS\",\"EGGUB.IS\",\"EPLAS.IS\",\"EGPRO.IS\",\"EGSER.IS\",\"EGEGY.IS\",\"ECILC.IS\",\"EKOS.IS\",\n",
    "\"EKSUN.IS\",\"ELITE.IS\",\"EMKEL.IS\",\"EKGYO.IS\",\"ENDAE.IS\",\"ENJSA.IS\",\"ENERY.IS\",\"ENKAI.IS\",\"ENSRI.IS\",\"ERBOS.IS\",\"ERCB.IS\",\"EREGL.IS\",\"KIMMR.IS\",\n",
    "\"ESCAR.IS\",\"ESCOM.IS\",\"ESEN.IS\",\"ETILR.IS\",\"TEZOL.IS\",\"EUREN.IS\",\"EUPWR.IS\",\"EYGYO.IS\",\"FADE.IS\",\"FMIZP.IS\",\"FENER.IS\",\"FLAP.IS\",\"FONET.IS\",\n",
    "\"FROTO.IS\",\"FORMT.IS\",\"FORTE.IS\",\"FRIGO.IS\",\"FZLGY.IS\",\"GSRAY.IS\",\"GWIND.IS\",\"GARFA.IS\",\"GEDIK.IS\",\"GEDZA.IS\",\"GLCVY.IS\",\"GENIL.IS\",\"GENTS.IS\",\n",
    "\"GEREL.IS\",\"GZNMI.IS\",\"GIPTA.IS\",\"GMTAS.IS\",\"GESAN.IS\",\"GLYHO.IS\",\"GOODY.IS\",\"GOKNR.IS\",\"GOLTS.IS\",\"GOZDE.IS\",\"GRTHO.IS\",\"GSDDE.IS\",\"GSDHO.IS\",\n",
    "\"GUBRF.IS\",\"GLRMK.IS\",\"GLRYH.IS\",\"GUNDG.IS\",\"GRSEL.IS\",\"SAHOL.IS\",\"HLGYO.IS\",\"HRKET.IS\",\"HATSN.IS\",\"HDFGS.IS\",\"HEDEF.IS\",\"HEKTS.IS\",\"HKTM.IS\",\n",
    "\"HTTBT.IS\",\"HOROZ.IS\",\"HUNER.IS\",\"HURGZ.IS\",\"ICBCT.IS\",\"ENTRA.IS\",\"ICUGS.IS\",\"INGRM.IS\",\"INVEO.IS\",\"INVES.IS\",\"IEYHO.IS\",\"ISKPL.IS\",\"IHEVA.IS\",\n",
    "\"IHLGM.IS\",\"IHGZT.IS\",\"IHAAS.IS\",\"IHLAS.IS\",\"IHYAY.IS\",\"IMASM.IS\",\"INDES.IS\",\"INFO.IS\",\"INTEM.IS\",\"IPEKE.IS\",\"ISDMR.IS\",\"ISSEN.IS\",\"ISFIN.IS\",\n",
    "\"ISGYO.IS\",\"ISGSY.IS\",\"ISMEN.IS\",\"IZENR.IS\",\"IZMDC.IS\",\"IZFAS.IS\",\"JANTS.IS\",\"KFEIN.IS\",\"KLKIM.IS\",\"KLSER.IS\",\"KLYPV.IS\",\"KAPLM.IS\",\"KRDMD.IS\",\n",
    "\"KAREL.IS\",\"KARSN.IS\",\"KRTEK.IS\",\"KARYE.IS\",\"KARTN.IS\",\"KTLEV.IS\",\"KATMR.IS\",\"KAYSE.IS\",\"KERVT.IS\",\"KRVGD.IS\",\"TCKRC.IS\",\"KZBGY.IS\",\"KLGYO.IS\",\n",
    "\"KLRHO.IS\",\"KMPUR.IS\",\"KLMSN.IS\",\"KCAER.IS\",\"KCHOL.IS\",\"KOCMT.IS\",\"KLSYN.IS\",\"KNFRT.IS\",\"KONTR.IS\",\"KONYA.IS\",\"KONKA.IS\",\"KGYO.IS\",\"KORDS.IS\",\n",
    "\"KRPLS.IS\",\"KOTON.IS\",\"KOZAL.IS\",\"KOZAA.IS\",\"KOPOL.IS\",\"KRGYO.IS\",\"KRSTL.IS\",\"KRONT.IS\",\"KUYAS.IS\",\"KBORU.IS\",\"KZGYO.IS\",\"KUTPO.IS\",\"KTSKR.IS\",\n",
    "\"LIDER.IS\",\"LIDFA.IS\",\"LILAK.IS\",\"LMKDC.IS\",\"LINK.IS\",\"LOGO.IS\",\"LKMNH.IS\",\"LRSHO.IS\",\"LUKSK.IS\",\"LYDHO.IS\",\"LYDYE.IS\",\"MACKO.IS\",\"MAKIM.IS\",\n",
    "\"MAKTK.IS\",\"MANAS.IS\",\"MAGEN.IS\",\"MARKA.IS\",\"MAALT.IS\",\"MRSHL.IS\",\"MRGYO.IS\",\"MARTI.IS\",\"MTRKS.IS\",\"MAVI.IS\",\"MEDTR.IS\",\"MEGMT.IS\",\"MEKAG.IS\",\n",
    "\"MNDRS.IS\",\"MERCN.IS\",\"MERIT.IS\",\"MERKO.IS\",\"METUR.IS\",\"METRO.IS\",\"MHRGY.IS\",\"MIATK.IS\",\"MGROS.IS\",\"MSGYO.IS\",\"MPARK.IS\",\"MOBTL.IS\",\"MOGAN.IS\",\n",
    "\"MNDTR.IS\",\"MOPAS.IS\",\"EGEPO.IS\",\"NTGAZ.IS\",\"NATEN.IS\",\"NETAS.IS\",\"NTHOL.IS\",\"NIBAS.IS\",\"NUHCM.IS\",\"NUGYO.IS\",\"OBAMS.IS\",\"OBASE.IS\",\"ODAS.IS\",\n",
    "\"ODINE.IS\",\"OFSYM.IS\",\"ONCSM.IS\",\"ONRYT.IS\",\"ORGE.IS\",\"OSMEN.IS\",\"OSTIM.IS\",\"OTKAR.IS\",\"OYAKC.IS\",\"OYYAT.IS\",\"OZKGY.IS\",\"OZATD.IS\",\"OZGYO.IS\",\n",
    "\"OZSUB.IS\",\"OZYSR.IS\",\"PAMEL.IS\",\"PNLSN.IS\",\"PAGYO.IS\",\"PAPIL.IS\",\"PRDGS.IS\",\"PRKME.IS\",\"PARSN.IS\",\"PASEU.IS\",\"PSGYO.IS\",\"PATEK.IS\",\"PCILT.IS\",\n",
    "\"PGSUS.IS\",\"PEKGY.IS\",\"PENGD.IS\",\"PENTA.IS\",\"PEHOL.IS\",\"PETKM.IS\",\"PKENT.IS\",\"PETUN.IS\",\"PINSU.IS\",\"PNSUT.IS\",\"PKART.IS\",\"PLTUR.IS\",\"POLHO.IS\",\n",
    "\"POLTK.IS\",\"QUAGR.IS\",\"RALYH.IS\",\"RAYSG.IS\",\"REEDR.IS\",\"RYGYO.IS\",\"RYSAS.IS\",\"RGYAS.IS\",\"RTALB.IS\",\"RUBNS.IS\",\"RUZYE.IS\",\"SAFKR.IS\",\"SNICA.IS\",\n",
    "\"SANFM.IS\",\"SANKO.IS\",\"SAMAT.IS\",\"SARKY.IS\",\"SASA.IS\",\"SAYAS.IS\",\"SDTTR.IS\",\"SEGMN.IS\",\"SELEC.IS\",\"SERNT.IS\",\"SRVGY.IS\",\"SEYKM.IS\",\"SNGYO.IS\",\n",
    "\"SKYLP.IS\",\"SMRTG.IS\",\"SMART.IS\",\"SOKE.IS\",\"SKTAS.IS\",\"SUNTK.IS\",\"SURGY.IS\",\"SUWEN.IS\",\"SMRVA.IS\",\"SKBNK.IS\",\"SEGYO.IS\",\"SKYMD.IS\",\"SOKM.IS\",\n",
    "\"TABGD.IS\",\"TNZTP.IS\",\"TATGD.IS\",\"TATEN.IS\",\"TAVHL.IS\",\"TEKTU.IS\",\"TKFEN.IS\",\"TKNSA.IS\",\"TMPOL.IS\",\"TERA.IS\",\"TOASO.IS\",\"TRGYO.IS\",\n",
    "\"TLMAN.IS\",\"TSPOR.IS\",\"TSGYO.IS\",\"TUCLK.IS\",\"TUKAS.IS\",\"TRCAS.IS\",\"TUREX.IS\",\"MARBL.IS\",\"TCELL.IS\",\"TRILC.IS\",\"TMSN.IS\",\"TUPRS.IS\",\"TURGG.IS\",\n",
    "\"THYAO.IS\",\"GARAN.IS\",\"HALKB.IS\",\"ISCTR.IS\",\"TSKB.IS\",\"TURSG.IS\",\"SISE.IS\",\"VAKBN.IS\",\"PRKAB.IS\",\"TTKOM.IS\",\"TTRAK.IS\",\"TBORG.IS\",\"UFUK.IS\",\n",
    "\"ULUFA.IS\",\"ULUSE.IS\",\"ULUUN.IS\",\"USAK.IS\",\"ULKER.IS\",\"UNLU.IS\",\"VAKFN.IS\",\"VKGYO.IS\",\"VAKKO.IS\",\"VBTYZ.IS\",\"VRGYO.IS\",\"VERUS.IS\",\"VERTU.IS\",\n",
    "\"VESBE.IS\",\"VESTL.IS\",\"VSNMD.IS\",\"YKBNK.IS\",\"YAPRK.IS\",\"YATAS.IS\",\"YYLGD.IS\",\"YAYLA.IS\",\"YGGYO.IS\",\"YEOTK.IS\",\"YYAPI.IS\",\"YESIL.IS\",\"YIGIT.IS\",\n",
    "\"YKSLN.IS\",\"YUNSA.IS\",\"ZEDUR.IS\",\"ZRGYO.IS\",\"ZOREN.IS\",\n",
    "]\n",
    "\n",
    "for ticker in bist500:\n",
    "    try:\n",
    "        df = pd.read_csv(f'../data/{ticker}.csv', skiprows=2)\n",
    "        if len(df.columns) == 6:\n",
    "            df.rename(columns={df.columns[0]: 'Date'}, inplace=True)\n",
    "            df.columns = ['Date', 'Close', 'High', 'Low', 'Open', 'Volume']\n",
    "            df.to_csv(f'../data/{ticker}.csv', index=False)\n",
    "        else:\n",
    "            print(f\"Skipped\",ticker)\n",
    "    except Exception as e:\n",
    "        print(f\"Hata: {ticker} -> {e}\")"
   ]
  }
 ],
 "metadata": {
  "kernelspec": {
   "display_name": "finance",
   "language": "python",
   "name": "python3"
  },
  "language_info": {
   "codemirror_mode": {
    "name": "ipython",
    "version": 3
   },
   "file_extension": ".py",
   "mimetype": "text/x-python",
   "name": "python",
   "nbconvert_exporter": "python",
   "pygments_lexer": "ipython3",
   "version": "3.10.6"
  }
 },
 "nbformat": 4,
 "nbformat_minor": 5
}
